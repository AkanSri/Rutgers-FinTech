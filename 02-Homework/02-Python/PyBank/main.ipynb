{
 "cells": [
  {
   "cell_type": "markdown",
   "metadata": {},
   "source": [
    "# Unit 2 | Homework Assignment: Automate Your Day Job with Python"
   ]
  },
  {
   "cell_type": "markdown",
   "metadata": {},
   "source": [
    "## PyBank:"
   ]
  },
  {
   "cell_type": "code",
   "execution_count": 39,
   "metadata": {},
   "outputs": [],
   "source": [
    "'''\n",
    "Analyze the records to calculate each of the following:\n",
    "    * The total number of months included in the dataset.\n",
    "    * The net total amount of Profit/Losses over the entire period.\n",
    "    * The average of the changes in Profit/Losses over the entire period.\n",
    "    * The greatest increase in profits (date and amount) over the entire period.\n",
    "    * The greatest decrease in losses (date and amount) over the entire period.\n",
    "Output:\n",
    "Financial Analysis\n",
    "  ----------------------------\n",
    "  Total Months: 86\n",
    "  Total: $38382578\n",
    "  Average  Change: $-2315.12\n",
    "  Greatest Increase in Profits: Feb-2012 ($1926159)\n",
    "  Greatest Decrease in Profits: Sep-2013 ($-2196167)\n",
    "'''\n",
    "\n",
    "# Import the pathlib and csv library\n",
    "from pathlib import Path\n",
    "import csv\n",
    "# Initialize variables\n",
    "months = []\n",
    "date = \"\"\n",
    "total = 0.0\n",
    "amount = 0.0\n",
    "max_profit = 0\n",
    "max_profit_month = \"\"\n",
    "max_loss = 0\n",
    "max_loss_month = \"\"\n",
    "avg_change = 0"
   ]
  },
  {
   "cell_type": "code",
   "execution_count": 40,
   "metadata": {},
   "outputs": [],
   "source": [
    "# Set the input file path\n",
    "csvpath = '../Instructions/PyBank/Resources/budget_data.csv'\n",
    "\n",
    "# Open the input path as a file object\n",
    "with open(csvpath, 'r') as csvfile:\n",
    "    # Pass in the csv file to the csv.reader() function\n",
    "    # (with ',' as the delmiter/separator) and return the csvread object\n",
    "    csvread = csv.reader(csvfile, delimiter=',')\n",
    "    \n",
    "    # Go to the next row from the header\n",
    "    header = next(csvread)\n",
    "    \n",
    "    # Loop through the file \n",
    "    for row in csvread:\n",
    "        # If the date is not in the list of months, add it \n",
    "        date = row[0]\n",
    "        if date not in months:\n",
    "            months.append(date)\n",
    "        \n",
    "        #Get the amount in the row and add to total\n",
    "        amount = int(row[1])\n",
    "        total += amount\n",
    "\n",
    "        #Determine max profits and losses \n",
    "        if amount > 0: \n",
    "            # Its a profit, check to see if max and populate the corresponding month\n",
    "            if amount > max_profit:\n",
    "                max_profit = amount\n",
    "                max_profit_month = date\n",
    "        elif amount < 0: \n",
    "            # Its a loss, check to see if max and populate the corresponding month\n",
    "            if amount < max_loss:\n",
    "                max_loss = amount\n",
    "                max_loss_month = date\n",
    "\n",
    "    #calculate avg_change: dividing the total by the number of months  \n",
    "    avg_change = round(total / (len(months)), 2)           "
   ]
  },
  {
   "cell_type": "code",
   "execution_count": 41,
   "metadata": {},
   "outputs": [
    {
     "name": "stdout",
     "output_type": "stream",
     "text": [
      "Financial Analysis\n",
      "---------------------------- \n",
      "Total Months: 86 \n",
      "Total: $38382578.0 \n",
      "Average  Change: $446309.05 \n",
      "Greatest Increase in Profits: Feb-2012 ($1170593) \n",
      "Greatest Decrease in Profits: Sep-2013 ($-1196225)\n"
     ]
    }
   ],
   "source": [
    "               \n",
    "# Format output text into one variable \\n means new line  \n",
    "output_text = f\"Financial Analysis\\n---------------------------- \\nTotal Months: {len(months)} \\nTotal: ${total} \\nAverage  Change: ${avg_change} \\nGreatest Increase in Profits: {max_profit_month} (${max_profit}) \\nGreatest Decrease in Profits: {max_loss_month} (${max_loss})\"\n",
    "# Print output text\n",
    "print(output_text)"
   ]
  },
  {
   "cell_type": "code",
   "execution_count": 42,
   "metadata": {},
   "outputs": [],
   "source": [
    "# Set the output file path\n",
    "output_path = Path('output.txt')\n",
    "\n",
    "# Open the output path as a file object\n",
    "with open(output_path, 'w') as txtfile:\n",
    "    #Write output text to file \n",
    "    txtfile.write(output_text)"
   ]
  }
 ],
 "metadata": {
  "interpreter": {
   "hash": "9fb7947217439b1dc1ff9712ff753ee392157952fd18f233f421b4097771f25f"
  },
  "kernelspec": {
   "display_name": "Python 3.7.11 ('dev')",
   "language": "python",
   "name": "python3"
  },
  "language_info": {
   "codemirror_mode": {
    "name": "ipython",
    "version": 3
   },
   "file_extension": ".py",
   "mimetype": "text/x-python",
   "name": "python",
   "nbconvert_exporter": "python",
   "pygments_lexer": "ipython3",
   "version": "3.7.11"
  },
  "orig_nbformat": 4
 },
 "nbformat": 4,
 "nbformat_minor": 2
}
