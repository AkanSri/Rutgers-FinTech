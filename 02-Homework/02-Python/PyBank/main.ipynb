{
 "cells": [
  {
   "cell_type": "code",
   "execution_count": null,
   "metadata": {},
   "outputs": [],
   "source": [
    "'''\n",
    "# Unit 2 | Homework Assignment: Automate Your Day Job with Python\n",
    "Analyze the records to calculate each of the following:\n",
    "    * The total number of months included in the dataset.\n",
    "    * The net total amount of Profit/Losses over the entire period.\n",
    "    * The average of the changes in Profit/Losses over the entire period.\n",
    "    * The greatest increase in profits (date and amount) over the entire period.\n",
    "    * The greatest decrease in losses (date and amount) over the entire period.\n",
    "Output:\n",
    "Financial Analysis\n",
    "  ----------------------------\n",
    "  Total Months: 86\n",
    "  Total: $38382578\n",
    "  Average  Change: $-2315.12\n",
    "  Greatest Increase in Profits: Feb-2012 ($1926159)\n",
    "  Greatest Decrease in Profits: Sep-2013 ($-2196167)\n",
    "'''"
   ]
  },
  {
   "cell_type": "code",
   "execution_count": 12,
   "metadata": {},
   "outputs": [
    {
     "name": "stdout",
     "output_type": "stream",
     "text": [
      "Financial Analysis\n",
      "----------------------------\n",
      "Total Months: 86\n",
      "Total: $38382578.0\n"
     ]
    }
   ],
   "source": [
    "# Import the pathlib and csv library\n",
    "from pathlib import Path\n",
    "import csv\n",
    "# Initialize variables\n",
    "months = []\n",
    "month = \"\"\n",
    "total = 0.0\n",
    "amount = 0.0\n",
    "# Set the file path\n",
    "csvpath = '/Users/akanksha/Rutgers/Rutgers-FinTech/02-Homework/02-Python/Instructions/PyBank/Resources/budget_data.csv'\n",
    "# Open the input path as a file object\n",
    "with open(csvpath, 'r') as csvfile:\n",
    "    # Pass in the csv file to the csv.reader() function\n",
    "    # (with ',' as the delmiter/separator) and return the csvreader object\n",
    "    csvreader = csv.reader(csvfile, delimiter=',')\n",
    "    \n",
    "    # Go to the next row from the header\n",
    "    header = next(csvreader)\n",
    "    for row in csvreader:\n",
    "        month = row[0]\n",
    "        if month not in months:\n",
    "            months.append(month)\n",
    "\n",
    "        amount = int(row[1])\n",
    "        total += amount\n",
    "print(\"Financial Analysis\")\n",
    "print(\"----------------------------\")\n",
    "print(f\"Total Months: {len(months)}\")\n",
    "print(f\"Total: ${total}\")\n",
    "            "
   ]
  }
 ],
 "metadata": {
  "interpreter": {
   "hash": "9fb7947217439b1dc1ff9712ff753ee392157952fd18f233f421b4097771f25f"
  },
  "kernelspec": {
   "display_name": "Python 3.7.11 ('dev')",
   "language": "python",
   "name": "python3"
  },
  "language_info": {
   "codemirror_mode": {
    "name": "ipython",
    "version": 3
   },
   "file_extension": ".py",
   "mimetype": "text/x-python",
   "name": "python",
   "nbconvert_exporter": "python",
   "pygments_lexer": "ipython3",
   "version": "3.7.11"
  },
  "orig_nbformat": 4
 },
 "nbformat": 4,
 "nbformat_minor": 2
}
