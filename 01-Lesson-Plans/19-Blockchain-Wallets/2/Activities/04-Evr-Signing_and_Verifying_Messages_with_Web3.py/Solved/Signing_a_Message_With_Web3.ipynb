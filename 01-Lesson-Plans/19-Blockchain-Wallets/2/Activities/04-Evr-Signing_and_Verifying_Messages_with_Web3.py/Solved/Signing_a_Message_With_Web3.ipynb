{
 "cells": [
  {
   "cell_type": "code",
   "execution_count": 11,
   "metadata": {},
   "outputs": [],
   "source": [
    "# Imports\n",
    "import os\n",
    "from dotenv import load_dotenv\n",
    "load_dotenv()\n",
    "from bip44 import Wallet\n",
    "from eth_account import Account\n"
   ]
  },
  {
   "cell_type": "code",
   "execution_count": 12,
   "metadata": {},
   "outputs": [
    {
     "data": {
      "text/plain": [
       "str"
      ]
     },
     "execution_count": 12,
     "metadata": {},
     "output_type": "execute_result"
    }
   ],
   "source": [
    "# Load the value of the MNEMONIC variable from the .env file\n",
    "mnemonic = os.getenv(\"MNEMONIC\")\n",
    "\n",
    "type(mnemonic)"
   ]
  },
  {
   "cell_type": "code",
   "execution_count": 13,
   "metadata": {},
   "outputs": [
    {
     "data": {
      "text/plain": [
       "<bip44.wallet.Wallet at 0x7fbe5b7d2910>"
      ]
     },
     "execution_count": 13,
     "metadata": {},
     "output_type": "execute_result"
    }
   ],
   "source": [
    "# Instantiate a new instance of Wallet and pass it the mnemonic variable\n",
    "wallet = Wallet(mnemonic)\n",
    "# Review your wallet instance\n",
    "wallet"
   ]
  },
  {
   "cell_type": "code",
   "execution_count": 14,
   "metadata": {},
   "outputs": [
    {
     "data": {
      "text/plain": [
       "b'\\x9c\\x89\\x9a\\x0e\\x9fJ\\r\\\\\\xa2\\xac\\xf0\\x9a\\xecI\\xa8,\\x80\\xff\\xdb\\xbc\\xe2\\xc2\\xcb\\x9a\\xc2\\xcd;\\x92\\xa1`-z'"
      ]
     },
     "execution_count": 14,
     "metadata": {},
     "output_type": "execute_result"
    }
   ],
   "source": [
    "# Calling the derive_account method on your wallet instance\n",
    "# Pass the string eth to the method and the account to get the keys\n",
    "private, public = wallet.derive_account(\"eth\", account=0)\n",
    "# Review the byte string of your private key\n",
    "private"
   ]
  },
  {
   "cell_type": "code",
   "execution_count": 15,
   "metadata": {},
   "outputs": [
    {
     "name": "stdout",
     "output_type": "stream",
     "text": [
      "0xC5613623CAAc48B7702E35C820BC7C775138a4B7\n"
     ]
    }
   ],
   "source": [
    "# Construct the Ethereum account by calling Account.privateKeyToAccount\n",
    "# Pass it your private key variable\n",
    "account = Account.privateKeyToAccount(private)\n",
    "# Print account.address to access the address associated with your new Ethereum account\n",
    "print(account.address)"
   ]
  },
  {
   "cell_type": "code",
   "execution_count": 16,
   "metadata": {},
   "outputs": [],
   "source": [
    "# Imports\n",
    "from web3.auto import w3\n",
    "from eth_account.messages import encode_defunct"
   ]
  },
  {
   "cell_type": "code",
   "execution_count": 17,
   "metadata": {},
   "outputs": [
    {
     "data": {
      "text/plain": [
       "SignedMessage(messageHash=HexBytes('0xb4aac7e826ed228d4aca4c19e090daf7744dcab152eb82450b3493e6d8b1e9e2'), r=25446200273825312634211216863048222730639345610245292122826001424849614019672, s=50472528338490894714695787207243107273174527121611891538046806713400658573875, v=27, signature=HexBytes('0x384209f9ac47a0cf42cad3cbcc67eeafd5fb8ae5c280111c7799dbc704021c586f96704d89ebea6a4c176bf519a877b8a821897a3431037d220cc0c995053a331b'))"
      ]
     },
     "execution_count": 17,
     "metadata": {},
     "output_type": "execute_result"
    }
   ],
   "source": [
    "# Create a string message \n",
    "msg = \"Zach owes David $20\"\n",
    "\n",
    "# Use the encode_defunct message to encode your message string\n",
    "message = encode_defunct(text=msg)\n",
    "# Use w3.eth.account.sign_message to create a signed message\n",
    "# Pass the method your encoded message and private key\n",
    "signed_message = w3.eth.account.sign_message(message, private_key=private)\n",
    "# Review your signed message\n",
    "signed_message"
   ]
  },
  {
   "cell_type": "code",
   "execution_count": 18,
   "metadata": {},
   "outputs": [
    {
     "data": {
      "text/plain": [
       "'0xC5613623CAAc48B7702E35C820BC7C775138a4B7'"
      ]
     },
     "execution_count": 18,
     "metadata": {},
     "output_type": "execute_result"
    }
   ],
   "source": [
    "# Call the `w3.eth.account.recover_message` method\n",
    "# Pass your encoded message variable and the message’s signature \n",
    "w3.eth.account.recover_message(message, signature=signed_message.signature)"
   ]
  },
  {
   "cell_type": "code",
   "execution_count": null,
   "metadata": {},
   "outputs": [],
   "source": []
  }
 ],
 "metadata": {
  "kernelspec": {
   "display_name": "Python 3",
   "language": "python",
   "name": "python3"
  },
  "language_info": {
   "codemirror_mode": {
    "name": "ipython",
    "version": 3
   },
   "file_extension": ".py",
   "mimetype": "text/x-python",
   "name": "python",
   "nbconvert_exporter": "python",
   "pygments_lexer": "ipython3",
   "version": "3.7.12"
  }
 },
 "nbformat": 4,
 "nbformat_minor": 4
}
