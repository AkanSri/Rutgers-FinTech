{
 "cells": [
  {
   "cell_type": "markdown",
   "metadata": {},
   "source": [
    "# From Mnemonic to Ethereum Account \n",
    "\n",
    "In this activity, you will use the mnemonic, bip44, and Web3.py libraries to generate a wallet instance and a new, secure public-private key phrase from a mnemonic seed phrase.\n",
    "\n",
    "## Instructions\n",
    "\n",
    "Complete each of the following steps:\n",
    "\n",
    "1. Import the following dependencies:\n",
    "\n",
    "   * Import `os`.\n",
    "   \n",
    "   * From `dotenv` import `load_dotenv` and then call `load_dotenv`.\n",
    "\n",
    "   * From `bip44` import `Wallet`.\n",
    "\n",
    "   * From `mnemonic` import `Mnemonic`.\n",
    "\n",
    "   * From `web3` import `Account`.\n",
    "\n",
    "2. Remember that you don't want to generate a new mnemonic every time you run the program, because then you'll lose access to your previous mnemonic and subsequently your private key. If you have not already generated a mnemonic seed phrase and saved it to a `.env` file associated with this activity, you will need to generate one now.  \n",
    "\n",
    "If you already have a mnemonic phrase that you would like to use for this activity, complete the following step:\n",
    "   * Create a `.env` file in the same folder as the Jupyter notebook, and set the mnemonic phrase equal to an environment variable named `MNEMONIC`. \n",
    "\n",
    "If you do not already have a mnemonic seed phrase that you would like to use for this activity, create one by completing the following steps:\n",
    "\n",
    "   * Call `os.getenv(\"MNEMONIC\")`, and save its value as a variable named `mnemonic`.\n",
    "\n",
    "   * Use an `if` statement to check if the mnemonic variable is `None`.\n",
    "\n",
    "   * If the mnemonic variable is `None`, initialize a new `Mnemonic()` instance and pass it a string value of “english” so that it will use the English word list. Save the instance as a variable named `mnemo`. Next, generate your mnemonic seed phrase by creating a variable named `mnemonic` and calling `mnemo.generate(strength=128)`. Finally, print out the mnemonic phrase.\n",
    "\n",
    "   * Create a `.env` file in the same folder as the Jupyter notebook, and create an environment variable named `MNEMONIC`. Copy the new mnemonic seed phrase that you just generated and set it equal to the `MNEMONIC` variable.\n",
    "\n",
    "3. Generate a `Wallet` instance using your `mnemonic` variable and the bip44 package.\n",
    "\n",
    "   * Instantiate a new instance of the `Wallet()` class from the bip44 package, and pass it your `mnemonic` variable to create a universal wallet instance. Save the wallet instance to a variable named `wallet`.\n",
    "\n",
    "4. Derive public and private keys from your `wallet` instance. To do so, complete the following steps:\n",
    "\n",
    "   * Create two variables, `public` and `private`, and set their values by calling the `derive_account` method on your wallet instance. In order to associate the account with Ethereum, pass the string “eth” to the `derive_account` method.\n",
    "\n",
    "   * Create a new variable named `account`, and construct the Ethereum account by calling `Account.privateKeyToAccount` and passing it your private key variable.\n",
    "\n",
    "   * Call `account.address` to access the address associated with your new Ethereum account. By using this address, other participants can send you ether on the Ethereum blockchain.\n",
    "\n",
    "## References\n",
    "\n",
    "[Web3.py](https://web3py.readthedocs.io/en/stable/)\n",
    "\n",
    "[mnemonic](https://pypi.org/project/mnemonic/)\n",
    "\n",
    "[bip44](https://pypi.org/project/bip44/)\n",
    "\n",
    "[Ethereum](https://ethereum.org/en/developers/docs/)"
   ]
  },
  {
   "cell_type": "markdown",
   "metadata": {},
   "source": [
    "## Step 1: Import the following dependencies:\n",
    "\n",
    "   * Import `os`.\n",
    "   \n",
    "   * From `dotenv` import `load_dotenv` and call `load_dotenv`.\n",
    "\n",
    "   * From `bip44` import `Wallet`.\n",
    "\n",
    "   * From `mnemonic` import `Mnemonic`.\n",
    "\n",
    "   * From `web3` import `Account`.\n"
   ]
  },
  {
   "cell_type": "code",
   "execution_count": 16,
   "metadata": {},
   "outputs": [],
   "source": [
    "# Imports\n",
    "import os\n",
    "from dotenv import load_dotenv\n",
    "#load_dotenv(\"SAMPLE.env\")\n",
    "from mnemonic import Mnemonic\n",
    "from bip44 import Wallet\n",
    "from web3 import Account"
   ]
  },
  {
   "cell_type": "markdown",
   "metadata": {},
   "source": [
    "## Step 2: If you do not already have a mnemonic seed phrase that you would like to use for this activity, create one by completing the following steps:\n",
    "\n",
    "   * Call `os.getenv(\"MNEMONIC\")`, and save its value as a variable named `mnemonic`.\n",
    "\n",
    "   * Use an `if` statement to check if the mnemonic variable is `None`.\n",
    "\n",
    "   * If the mnemonic variable is `None`, initialize a new `Mnemonic()` instance and pass it a string value of “english” so that it will use the English word list. Save the instance as a variable named `mnemo`. Next, generate your mnemonic seed phrase by creating a variable named `mnemonic` and calling `mnemo.generate(strength=128)`. Finally, print out the mnemonic phrase.\n",
    "\n",
    "   * Create a `.env` file in the same folder as the Jupyter notebook, and create an environment variable named `MNEMONIC`. Copy the new mnemonic seed phrase that you just generated and set it equal to the `MNEMONIC` variable.\n"
   ]
  },
  {
   "cell_type": "code",
   "execution_count": 17,
   "metadata": {},
   "outputs": [
    {
     "data": {
      "text/plain": [
       "'journey pottery title muffin wet object pig basket sell churn point until'"
      ]
     },
     "metadata": {},
     "output_type": "display_data"
    }
   ],
   "source": [
    "# Call os.getenv(\"MNEMONIC\") and save it's value as a variable named mnemonic\n",
    "# Load the value of the MNEMONIC variable from the .env file\n",
    "mnemonic = os.getenv(\"MNEMONIC\")\n",
    "\n",
    "# Evaluate the contents of the mnemonic variable\n",
    "# Create a new mnemonic seed phrase if the value of mnemonic equals None\n",
    "if mnemonic is None:\n",
    "  mnemo = Mnemonic(\"english\")   \n",
    "  mnemonic = mnemo.generate(strength=128)\n",
    "\n",
    "# Display the value of the mnemonic variable\n",
    "display(mnemonic)"
   ]
  },
  {
   "cell_type": "markdown",
   "metadata": {},
   "source": [
    "### Create a `.env` file in the same folder as the Jupyter notebook, and create an environment variable named `MNEMONIC`. Copy the new mnemonic seed phrase that you just generated and set it equal to the `MNEMONIC` variable."
   ]
  },
  {
   "cell_type": "markdown",
   "metadata": {},
   "source": [
    "## Generate a `Wallet` instance using your `mnemonic` variable and the bip44 package.\n",
    "\n",
    "   * Instantiate a new instance of the `Wallet` class from the bip44 package, and pass it your `mnemonic` variable to create a universal wallet instance. Save the wallet instance to a variable named `wallet`.\n"
   ]
  },
  {
   "cell_type": "code",
   "execution_count": 18,
   "metadata": {},
   "outputs": [
    {
     "data": {
      "text/plain": [
       "<bip44.wallet.Wallet at 0x7fd02f3a4ed0>"
      ]
     },
     "execution_count": 18,
     "metadata": {},
     "output_type": "execute_result"
    }
   ],
   "source": [
    "# Instantiate a new instance of Wallet and pass it the mnemonic variable\n",
    "wallet = Wallet(mnemonic)\n",
    "\n",
    "# Review your wallet instance\n",
    "wallet"
   ]
  },
  {
   "cell_type": "markdown",
   "metadata": {},
   "source": [
    "## Step 4: Derive public and private keys from your `wallet` instance. To do so, complete the following steps:\n",
    "\n",
    "   * Create two variables, `public` and `private`, and set their values by calling the `derive_account` method on your wallet instance. In order to associate the account with Ethereum, pass the string “eth” to the `derive_account` method.\n",
    "\n",
    "   * Create a new variable named `account`, and construct the Ethereum account by calling `Account.privateKeyToAccount` and passing it your private key variable.\n",
    "\n",
    "   * Call `account.address` to access the address associated with your new Ethereum account. By using this address, other participants can send you ether on the Ethereum blockchain.\n"
   ]
  },
  {
   "cell_type": "code",
   "execution_count": 19,
   "metadata": {},
   "outputs": [
    {
     "name": "stdout",
     "output_type": "stream",
     "text": [
      "b'\\x02\\x0f0\\x84\\x10\\xe2\\xd5\\x88\\x82\\x19\\\\\\x8e|;\\x00\\x1c&ut\\xb2\\xd2Y\\x01\".\\x1f\\x9f\\xbfhl\\x16\\xe1'\n"
     ]
    }
   ],
   "source": [
    "# Calling the derive_account method on your wallet instance\n",
    "# Pass the string eth to the method\n",
    "private, public = wallet.derive_account(\"eth\")\n",
    "\n",
    "# Review the byte string of your private key\n",
    "print (private)"
   ]
  },
  {
   "cell_type": "code",
   "execution_count": 20,
   "metadata": {},
   "outputs": [],
   "source": [
    "# Construct the Ethereum account by calling Account.privateKeyToAccount\n",
    "# Pass it your private key variable\n",
    "account = Account.privateKeyToAccount(private)"
   ]
  },
  {
   "cell_type": "code",
   "execution_count": 21,
   "metadata": {},
   "outputs": [
    {
     "name": "stdout",
     "output_type": "stream",
     "text": [
      "0x3f7429f850260307A22cbcB0F6B950B05d166F9D\n"
     ]
    }
   ],
   "source": [
    "# Call account.address to access the address associated with your new Ethereum account\n",
    "print(account.address)\n"
   ]
  },
  {
   "cell_type": "code",
   "execution_count": 22,
   "metadata": {},
   "outputs": [
    {
     "data": {
      "text/plain": [
       "HexBytes('0x020f308410e2d58882195c8e7c3b001c267574b2d25901222e1f9fbf686c16e1')"
      ]
     },
     "execution_count": 22,
     "metadata": {},
     "output_type": "execute_result"
    }
   ],
   "source": [
    "## Bonus:\n",
    "\n",
    "# Call account.privateKey to access the private key associated with your new Ethereum account\n",
    "account.privateKey\n"
   ]
  },
  {
   "cell_type": "code",
   "execution_count": null,
   "metadata": {},
   "outputs": [],
   "source": []
  }
 ],
 "metadata": {
  "kernelspec": {
   "display_name": "Python 3",
   "language": "python",
   "name": "python3"
  },
  "language_info": {
   "codemirror_mode": {
    "name": "ipython",
    "version": 3
   },
   "file_extension": ".py",
   "mimetype": "text/x-python",
   "name": "python",
   "nbconvert_exporter": "python",
   "pygments_lexer": "ipython3",
   "version": "3.7.12"
  }
 },
 "nbformat": 4,
 "nbformat_minor": 4
}
