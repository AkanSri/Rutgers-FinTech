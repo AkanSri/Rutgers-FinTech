{
 "cells": [
  {
   "cell_type": "markdown",
   "metadata": {},
   "source": [
    "# Transactions with Web3.py\n",
    "\n",
    "In this activity, you will use Web3.py to connect to a local mock development blockchain instance. Then, you will send and receive various financial transactions.\n",
    "\n",
    "## Instructions\n",
    "\n",
    "Complete each of the following steps:\n",
    "\n",
    "1. From the Web3.py library, import `Web3` and the `EthereumTesterProvider`.\n",
    "\n",
    "\n",
    "2. Define a variable named `w3`, and set it equal to a new `Web3` instance.\n",
    "\n",
    "\n",
    "3. Define a variable named `provider`, set it equal to `EthereumTesterProvider`, and then pass it to the `Web3` instance.\n",
    "\n",
    "\n",
    "4. Call `w3.eth.accounts` and print the result. Next,  define two new string variables named `sender` and `receiver`. Copy two of the account addresses from the list of accounts. Set one account address as the string for the `sender` variable, and set the other account address as the string for the `receiver` variable.\n",
    "\n",
    "5. Set the units of `gas` to 21,000 to ensure that your transaction will be mined and added to the blockchain.\n",
    "\n",
    "6. Use the `w3.toWei` function to convert 333 ether into the equivalent denomination of wei. Save the amount in wei as a variable named `value`.\n",
    "\n",
    "\n",
    "7. Call `w3.eth.send_transaction` and pass it `receiver` as the `to` parameter, `sender` as the `from` parameter, `gas` as the `gas` parameter, and the `value` variable as the `value` parameter.\n",
    "\n",
    "8. Call the [`eth.getTransactionReceipt`](https://web3js.readthedocs.io/en/v1.2.0/web3-eth.html#gettransaction) function and pass hash code that is returned from sending the transaction as the parameter to review the transaction receipt.\n",
    "\n",
    "9. Call the `eth.get_block` function and pass it the parameter `latest`. Confirm that you can see the HexBytes code from your transaction in the information provided.\n",
    "\n",
    "\n",
    "## References\n",
    "\n",
    "[Web3.py](https://web3py.readthedocs.io/en/stable/)\n",
    "\n",
    "[EthereumTestProvider](https://web3py.readthedocs.io/en/stable/providers.html#ethereumtesterprovider)\n",
    "\n",
    "[Ethereum](https://ethereum.org/en/developers/docs/)"
   ]
  },
  {
   "cell_type": "markdown",
   "metadata": {},
   "source": [
    "## Step 1: From the Web3.py library, import `Web3` and the `EthereumTesterProvider`."
   ]
  },
  {
   "cell_type": "code",
   "execution_count": 23,
   "metadata": {
    "scrolled": true
   },
   "outputs": [],
   "source": [
    "# Imports\n",
    "# Import the Web3 library\n",
    "from web3 import Web3\n",
    "\n",
    "# Import the RPC Provider\n",
    "from web3 import EthereumTesterProvider\n"
   ]
  },
  {
   "cell_type": "markdown",
   "metadata": {},
   "source": [
    "## Step 2: Define a new variable named `w3`, and set it equal to a new `Web3()` instance."
   ]
  },
  {
   "cell_type": "code",
   "execution_count": 24,
   "metadata": {},
   "outputs": [],
   "source": [
    "# Create an instance of Web3\n",
    "w3 = Web3()"
   ]
  },
  {
   "cell_type": "markdown",
   "metadata": {},
   "source": [
    "## Step 3: Define a variable named `provider`. Set this variable equal to `EthereumTesterProvider()`, and then pass it to the `Web3` instance."
   ]
  },
  {
   "cell_type": "code",
   "execution_count": 25,
   "metadata": {},
   "outputs": [
    {
     "name": "stderr",
     "output_type": "stream",
     "text": [
      "/Users/akanksha/opt/anaconda3/envs/dev/lib/python3.7/site-packages/eth_tester/backends/__init__.py:31: UserWarning: Ethereum Tester: No backend was explicitly set, and no *full* backends were available.  Falling back to the `MockBackend` which does not support all EVM functionality.  Please refer to the `eth-tester` documentation for information on what backends are available and how to set them.  Your py-evm package may need to be updated.\n",
      "  \"Ethereum Tester: No backend was explicitly set, and no *full* \"\n"
     ]
    }
   ],
   "source": [
    "# Create an instance of the EthereumTesterProvider\n",
    "provider = EthereumTesterProvider()\n",
    "\n",
    "# Pass the provider as a parameter to the Web3 instance\n",
    "w3 =  Web3(provider)"
   ]
  },
  {
   "cell_type": "markdown",
   "metadata": {},
   "source": [
    "## Step 4: Call `w3.eth.accounts` and print the result. Next, define two new string variables named `sender` and `receiver`. Copy two of the account addresses from the list of accounts. Set one account address as the string for the `sender` variable, and set the other account address as the string for the `receiver` variable."
   ]
  },
  {
   "cell_type": "code",
   "execution_count": 26,
   "metadata": {},
   "outputs": [
    {
     "data": {
      "text/plain": [
       "['0xaBbACadABa000000000000000000000000000000',\n",
       " '0xaBbACaDaBA000000000000000000000000000001',\n",
       " '0xAbbAcaDaBA000000000000000000000000000002',\n",
       " '0xabBACadaBA000000000000000000000000000003',\n",
       " '0xabbAcADABa000000000000000000000000000004',\n",
       " '0xaBBACADABA000000000000000000000000000005',\n",
       " '0xaBbaCadaBA000000000000000000000000000006',\n",
       " '0xAbbAcAdaBA000000000000000000000000000007',\n",
       " '0xaBBAcadabA000000000000000000000000000008',\n",
       " '0xABbacaDabA000000000000000000000000000009']"
      ]
     },
     "execution_count": 26,
     "metadata": {},
     "output_type": "execute_result"
    }
   ],
   "source": [
    "# Print a list of accounts on the blockchain\n",
    "w3.eth.accounts"
   ]
  },
  {
   "cell_type": "code",
   "execution_count": 27,
   "metadata": {},
   "outputs": [],
   "source": [
    "# Set the sender address\n",
    "sender = '0xabbAcADABa000000000000000000000000000004'\n",
    "\n",
    "# Set the receiver address\n",
    "receiver = '0xaBBAcadabA000000000000000000000000000008'\n"
   ]
  },
  {
   "cell_type": "markdown",
   "metadata": {},
   "source": [
    "## Step 5: Set the units of `gas` to 21,000 to ensure that your transaction will be mined and added to the blockchain."
   ]
  },
  {
   "cell_type": "code",
   "execution_count": 28,
   "metadata": {},
   "outputs": [],
   "source": [
    "# Set the variable gas equal to 21000 units\n",
    "gas = 21000\n"
   ]
  },
  {
   "cell_type": "markdown",
   "metadata": {},
   "source": [
    "## Step 6: Use the `w3.toWei` function to convert 333 ether into the equivalent denomination of wei. Save the amount in wei as a variable named `value`."
   ]
  },
  {
   "cell_type": "code",
   "execution_count": 29,
   "metadata": {},
   "outputs": [
    {
     "name": "stdout",
     "output_type": "stream",
     "text": [
      "21000000000000000000000\n"
     ]
    }
   ],
   "source": [
    "# Convert balance from ether to wei\n",
    "value = w3.toWei(gas, 'ether')\n",
    "\n",
    "# Review the value in wei\n",
    "print(value)"
   ]
  },
  {
   "cell_type": "markdown",
   "metadata": {},
   "source": [
    "## Step 7: Call `w3.eth.send_transaction` and pass it `receiver` as the `to` parameter, `sender` as the `from` parameter, `gas` as the `gas` parameter, and the `value` variable as the `value` parameter."
   ]
  },
  {
   "cell_type": "code",
   "execution_count": 30,
   "metadata": {},
   "outputs": [
    {
     "data": {
      "text/plain": [
       "HexBytes('0x5fae990f7d664568027b8663a8b1aa75bec5e5409c9af36efab4e1a40d46e9e3')"
      ]
     },
     "execution_count": 30,
     "metadata": {},
     "output_type": "execute_result"
    }
   ],
   "source": [
    "# Send the transaction to the blockchain\n",
    "transaction_hash_code = w3.eth.send_transaction({'to': receiver , 'from': sender , 'gas': gas, 'value': value})\n",
    "\n",
    "\n",
    "# Review the tranaction hash code\n",
    "transaction_hash_code"
   ]
  },
  {
   "cell_type": "markdown",
   "metadata": {},
   "source": [
    "## Step 8: Call the `eth.getTransactionReceipt` function and pass hash code that is returned from sending the transaction as the parameter to review the transaction receipt."
   ]
  },
  {
   "cell_type": "code",
   "execution_count": 31,
   "metadata": {},
   "outputs": [
    {
     "name": "stderr",
     "output_type": "stream",
     "text": [
      "/Users/akanksha/opt/anaconda3/envs/dev/lib/python3.7/site-packages/web3/method.py:217: DeprecationWarning: getTransactionReceipt is deprecated in favor of get_transaction_receipt\n",
      "  category=DeprecationWarning,\n"
     ]
    },
    {
     "data": {
      "text/plain": [
       "AttributeDict({'gasUsed': 21000,\n",
       " 'logs': [],\n",
       " 'transactionHash': HexBytes('0x5fae990f7d664568027b8663a8b1aa75bec5e5409c9af36efab4e1a40d46e9e3'),\n",
       " 'cumulativeGasUsed': 21000,\n",
       " 'effectiveGasPrice': 1000000000,\n",
       " 'type': '0x2',\n",
       " 'contractAddress': '0x36467a78472D2eEDf5dE3765fcAfc08eCe364f36',\n",
       " 'blockNumber': 1,\n",
       " 'blockHash': HexBytes('0xb749e8b33f621eba9f053fc66b5a5cc83d791b2c524f1f7954b70dccad073bc2'),\n",
       " 'from': '0xabbAcADABa000000000000000000000000000004',\n",
       " 'state_root': b'\\x00',\n",
       " 'status': 0,\n",
       " 'to': '0xaBBAcadabA000000000000000000000000000008',\n",
       " 'transactionIndex': 0})"
      ]
     },
     "execution_count": 31,
     "metadata": {},
     "output_type": "execute_result"
    }
   ],
   "source": [
    "# Review the transaction receipt using the HexBytes hash code returned from sending the tranaction\n",
    "transaction_receipt = w3.eth.getTransactionReceipt(transaction_hash_code)\n",
    "transaction_receipt\n"
   ]
  },
  {
   "cell_type": "markdown",
   "metadata": {},
   "source": [
    "## Step 9: Call the `eth.get_block` function and pass it the parameter `latest`. Confirm that you can see the HexBytes code from your transaction in the information provided."
   ]
  },
  {
   "cell_type": "code",
   "execution_count": 32,
   "metadata": {},
   "outputs": [
    {
     "data": {
      "text/plain": [
       "AttributeDict({'number': 1,\n",
       " 'parentHash': HexBytes('0x2d62fe4a10102e9521f7ba5c17c0e81184b272d8a53ec11798644d326718aa73'),\n",
       " 'nonce': HexBytes('0x000000000000002a'),\n",
       " 'sha3Uncles': HexBytes('0x1dcc4de8dec75d7aab85b567b6ccd41ad312451b948a7413f0a142fd40d49347'),\n",
       " 'logs_bloom': 0,\n",
       " 'transactionsRoot': HexBytes('0x56e81f171bcc55a6ff8345e692c0f86e5b48e01b996cadc001622fb5e363b421'),\n",
       " 'receipts_root': '0x56e81f171bcc55a6ff8345e692c0f86e5b48e01b996cadc001622fb5e363b421',\n",
       " 'stateRoot': HexBytes('0x56e81f171bcc55a6ff8345e692c0f86e5b48e01b996cadc001622fb5e363b421'),\n",
       " 'miner': '0x0000000000000000000000000000000000000000',\n",
       " 'difficulty': 131072,\n",
       " 'totalDifficulty': 262144,\n",
       " 'size': 0,\n",
       " 'extraData': HexBytes('0x0000000000000000000000000000000000000000000000000000000000000000'),\n",
       " 'gasLimit': 30029122,\n",
       " 'gasUsed': 21000,\n",
       " 'timestamp': 1658589675,\n",
       " 'transactions': [HexBytes('0x5fae990f7d664568027b8663a8b1aa75bec5e5409c9af36efab4e1a40d46e9e3')],\n",
       " 'uncles': [],\n",
       " 'baseFeePerGas': 875000000,\n",
       " 'hash': HexBytes('0xb749e8b33f621eba9f053fc66b5a5cc83d791b2c524f1f7954b70dccad073bc2')})"
      ]
     },
     "execution_count": 32,
     "metadata": {},
     "output_type": "execute_result"
    }
   ],
   "source": [
    "# Review the information from the latest block to confirm your transaction's inclusion\n",
    "latest = w3.eth.get_block('latest')\n",
    "\n",
    "# Review the latest block\n",
    "latest"
   ]
  },
  {
   "cell_type": "code",
   "execution_count": 33,
   "metadata": {},
   "outputs": [
    {
     "name": "stdout",
     "output_type": "stream",
     "text": [
      "MATCH\n"
     ]
    }
   ],
   "source": [
    "if (latest['transactions'][0] == transaction_receipt['transactionHash']):\n",
    "    print('MATCH')"
   ]
  },
  {
   "cell_type": "code",
   "execution_count": null,
   "metadata": {},
   "outputs": [],
   "source": []
  }
 ],
 "metadata": {
  "interpreter": {
   "hash": "9fb7947217439b1dc1ff9712ff753ee392157952fd18f233f421b4097771f25f"
  },
  "kernelspec": {
   "display_name": "Python (dev)",
   "language": "python",
   "name": "python3"
  },
  "language_info": {
   "codemirror_mode": {
    "name": "ipython",
    "version": 3
   },
   "file_extension": ".py",
   "mimetype": "text/x-python",
   "name": "python",
   "nbconvert_exporter": "python",
   "pygments_lexer": "ipython3",
   "version": "3.7.12"
  }
 },
 "nbformat": 4,
 "nbformat_minor": 4
}
