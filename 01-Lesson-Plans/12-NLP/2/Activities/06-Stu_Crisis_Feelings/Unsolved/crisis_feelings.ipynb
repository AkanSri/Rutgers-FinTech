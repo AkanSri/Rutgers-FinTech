{
 "cells": [
  {
   "cell_type": "markdown",
   "metadata": {},
   "source": [
    "# The Feelings of the Crisis\n",
    "\n",
    "When you read a news article, normally the headline is the hook to continue reading. However, a negative title could lead you to skip reading an article if you don't want to be in a bad mood. But is this accurate?\n",
    "\n",
    "On this activity you are tasked to corroborate if a news title with a negative sentiment leads or not to a negative content. You will use VADER sentiment to accomplish this work using the news articles that you previously download on _The Voice of the Crisis_ activity."
   ]
  },
  {
   "cell_type": "code",
   "execution_count": 1,
   "metadata": {},
   "outputs": [],
   "source": [
    "# Initial imports\n",
    "import os\n",
    "from pathlib import Path\n",
    "import pandas as pd\n",
    "from newsapi import NewsApiClient\n",
    "import nltk\n",
    "from nltk.sentiment.vader import SentimentIntensityAnalyzer\n",
    "\n",
    "get_ipython().run_line_magic(\"matplotlib\", \"inline\")\n"
   ]
  },
  {
   "cell_type": "markdown",
   "metadata": {},
   "source": [
    "## Instructions\n",
    "\n",
    "Just for convenience download the `vader_lexicon` in order to initialize the VADER sentiment analyzer"
   ]
  },
  {
   "cell_type": "code",
   "execution_count": 2,
   "metadata": {},
   "outputs": [
    {
     "name": "stderr",
     "output_type": "stream",
     "text": [
      "[nltk_data] Downloading package vader_lexicon to\n",
      "[nltk_data]     /Users/akanksha/nltk_data...\n",
      "[nltk_data]   Package vader_lexicon is already up-to-date!\n"
     ]
    }
   ],
   "source": [
    "# Download/Update the VADER Lexicon\n",
    "nltk.download(\"vader_lexicon\")\n",
    "\n",
    "# Initialize the VADER sentiment analyzer\n",
    "analyzer = SentimentIntensityAnalyzer()\n"
   ]
  },
  {
   "cell_type": "markdown",
   "metadata": {},
   "source": [
    "### Load the News Articles from the CSV File as a DataFrame\n",
    "\n",
    "Pick the CSV file you created on _The Voice of the Crisis_ activity and load it as a DataFrame, remember to specify the `encoding='utf-8-sig'` parameter."
   ]
  },
  {
   "cell_type": "code",
   "execution_count": 5,
   "metadata": {},
   "outputs": [],
   "source": [
    "# Load news from CSV file\n",
    "news_df = pd.read_csv('../../04-Stu_Crisis_Voice/crisis.csv', encoding='utf-8-sig')\n"
   ]
  },
  {
   "cell_type": "markdown",
   "metadata": {},
   "source": [
    "The VADER sentiment module is only trained to score sentiment on English language, so create a new DataFrame only with news in English. You will learn how to score sentiment in multiple languages later."
   ]
  },
  {
   "cell_type": "code",
   "execution_count": 6,
   "metadata": {},
   "outputs": [
    {
     "data": {
      "text/html": [
       "<div>\n",
       "<style scoped>\n",
       "    .dataframe tbody tr th:only-of-type {\n",
       "        vertical-align: middle;\n",
       "    }\n",
       "\n",
       "    .dataframe tbody tr th {\n",
       "        vertical-align: top;\n",
       "    }\n",
       "\n",
       "    .dataframe thead th {\n",
       "        text-align: right;\n",
       "    }\n",
       "</style>\n",
       "<table border=\"1\" class=\"dataframe\">\n",
       "  <thead>\n",
       "    <tr style=\"text-align: right;\">\n",
       "      <th></th>\n",
       "      <th>title</th>\n",
       "      <th>description</th>\n",
       "      <th>text</th>\n",
       "      <th>date</th>\n",
       "      <th>language</th>\n",
       "    </tr>\n",
       "  </thead>\n",
       "  <tbody>\n",
       "    <tr>\n",
       "      <th>15</th>\n",
       "      <td>Breakingviews - How to stop margin calls from ...</td>\n",
       "      <td>Margin makes the financial system safer, but m...</td>\n",
       "      <td>LONDON, May 23 (Reuters Breakingviews) - Margi...</td>\n",
       "      <td>2022-05-23</td>\n",
       "      <td>en</td>\n",
       "    </tr>\n",
       "    <tr>\n",
       "      <th>16</th>\n",
       "      <td>Fed nominee Barr says he's committed to bringi...</td>\n",
       "      <td>U.S. Federal Reserve nominee Michael Barr, nom...</td>\n",
       "      <td>May 18 (Reuters) - U.S. Federal Reserve nomine...</td>\n",
       "      <td>2022-05-18</td>\n",
       "      <td>en</td>\n",
       "    </tr>\n",
       "    <tr>\n",
       "      <th>17</th>\n",
       "      <td>Bitcoin, cryptocurrency shed $200 billion in o...</td>\n",
       "      <td>&lt;ol&gt;&lt;li&gt;Bitcoin, cryptocurrency shed $200 bill...</td>\n",
       "      <td>Contagion spreading to stock markets as invest...</td>\n",
       "      <td>2022-05-12</td>\n",
       "      <td>en</td>\n",
       "    </tr>\n",
       "    <tr>\n",
       "      <th>18</th>\n",
       "      <td>How uncompetitive markets are driving up the c...</td>\n",
       "      <td>Competition is weaker than ever. Without press...</td>\n",
       "      <td>At a time when household budgets are already b...</td>\n",
       "      <td>2022-04-29</td>\n",
       "      <td>en</td>\n",
       "    </tr>\n",
       "    <tr>\n",
       "      <th>19</th>\n",
       "      <td>Twitter deal leaves Elon Musk with no easy way...</td>\n",
       "      <td>Strength of $44B agreement comes into focus as...</td>\n",
       "      <td>18 with 17 posters participating\\r\\nSince the ...</td>\n",
       "      <td>2022-05-19</td>\n",
       "      <td>en</td>\n",
       "    </tr>\n",
       "  </tbody>\n",
       "</table>\n",
       "</div>"
      ],
      "text/plain": [
       "                                                title  \\\n",
       "15  Breakingviews - How to stop margin calls from ...   \n",
       "16  Fed nominee Barr says he's committed to bringi...   \n",
       "17  Bitcoin, cryptocurrency shed $200 billion in o...   \n",
       "18  How uncompetitive markets are driving up the c...   \n",
       "19  Twitter deal leaves Elon Musk with no easy way...   \n",
       "\n",
       "                                          description  \\\n",
       "15  Margin makes the financial system safer, but m...   \n",
       "16  U.S. Federal Reserve nominee Michael Barr, nom...   \n",
       "17  <ol><li>Bitcoin, cryptocurrency shed $200 bill...   \n",
       "18  Competition is weaker than ever. Without press...   \n",
       "19  Strength of $44B agreement comes into focus as...   \n",
       "\n",
       "                                                 text        date language  \n",
       "15  LONDON, May 23 (Reuters Breakingviews) - Margi...  2022-05-23       en  \n",
       "16  May 18 (Reuters) - U.S. Federal Reserve nomine...  2022-05-18       en  \n",
       "17  Contagion spreading to stock markets as invest...  2022-05-12       en  \n",
       "18  At a time when household budgets are already b...  2022-04-29       en  \n",
       "19  18 with 17 posters participating\\r\\nSince the ...  2022-05-19       en  "
      ]
     },
     "execution_count": 6,
     "metadata": {},
     "output_type": "execute_result"
    }
   ],
   "source": [
    "# Fetch only English news\n",
    "news_df = news_df.loc[news_df['language']=='en']\n",
    "news_df.tail()"
   ]
  },
  {
   "cell_type": "markdown",
   "metadata": {},
   "source": [
    "### Calculating VADER Sentiment Score for News Titles and Text\n",
    "\n",
    "As you know the `compound` score could be used to get a normalized score for a sentiment, in this section you have to create a function called `get_sentiment(score)` that will return a normalized value of sentiment for the `score` parameter based on the rules you learn. This function should return `1` for positive sentiment, `-1` for negative sentiment, and `0` for neutral sentiment."
   ]
  },
  {
   "cell_type": "code",
   "execution_count": 8,
   "metadata": {},
   "outputs": [],
   "source": [
    "# Sentiment calculation based on compound score\n",
    "def get_sentiment(score):\n",
    "    \"\"\"\n",
    "    Calculates the sentiment based on the compound score.\n",
    "    \"\"\"\n",
    "    if score >= 0.05:\n",
    "        return 1\n",
    "    elif (score > -0.05) & (score < 0.05):\n",
    "        return 0\n",
    "    else:\n",
    "        return -1\n",
    "\n"
   ]
  },
  {
   "cell_type": "markdown",
   "metadata": {},
   "source": [
    "Use the the VADER sentiment module from `NLTK` to score the sentiment of every news article title and text in english; you should append ten new columns to the English news DataFrame to store the results as follows.\n",
    "\n",
    "* Title's compound score\n",
    "* Title's positive score\n",
    "* Title's neutral score\n",
    "* Title's negative score\n",
    "* Title's normalized score (using the `get_sentiment()` function)\n",
    "* Text's compound score\n",
    "* Text's positive score\n",
    "* Text's neutral score\n",
    "* Text's negative score\n",
    "* Text's normalized score (using the `get_sentiment()` function)"
   ]
  },
  {
   "cell_type": "code",
   "execution_count": null,
   "metadata": {},
   "outputs": [],
   "source": [
    "\n"
   ]
  },
  {
   "cell_type": "markdown",
   "metadata": {},
   "source": [
    "### Analyzing Sentiments Results\n",
    "\n",
    "How the sentiment of the title and the text differs on news articles?\n",
    "\n",
    "To answer this question, on this section you will create a bar chart contrasting the normalized sentiment for the title and the text of each news article. Use the build-in `plot()` method of the Pandas DataFrame to create a bar chart like the one bellow. Be aware that you chart might differ from this one due to is made from a different news DataFrame."
   ]
  },
  {
   "cell_type": "code",
   "execution_count": null,
   "metadata": {},
   "outputs": [],
   "source": [
    "\n"
   ]
  },
  {
   "cell_type": "markdown",
   "metadata": {},
   "source": [
    "Finally get the descriptive statistics from the English news DataFrame and discuss the analysis results with your partners."
   ]
  },
  {
   "cell_type": "code",
   "execution_count": null,
   "metadata": {},
   "outputs": [],
   "source": [
    "\n"
   ]
  }
 ],
 "metadata": {
  "file_extension": ".py",
  "kernelspec": {
   "display_name": "Python 3",
   "language": "python",
   "name": "python3"
  },
  "language_info": {
   "codemirror_mode": {
    "name": "ipython",
    "version": 3
   },
   "file_extension": ".py",
   "mimetype": "text/x-python",
   "name": "python",
   "nbconvert_exporter": "python",
   "pygments_lexer": "ipython3",
   "version": "3.7.12"
  },
  "mimetype": "text/x-python",
  "name": "python",
  "npconvert_exporter": "python",
  "pygments_lexer": "ipython3",
  "version": 3
 },
 "nbformat": 4,
 "nbformat_minor": 2
}
