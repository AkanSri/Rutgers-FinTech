{
 "cells": [
  {
   "cell_type": "markdown",
   "metadata": {},
   "source": [
    "# Instructor Do: Getting Data for Sentiment Analysis"
   ]
  },
  {
   "cell_type": "code",
   "execution_count": 8,
   "metadata": {},
   "outputs": [
    {
     "data": {
      "text/plain": [
       "True"
      ]
     },
     "execution_count": 8,
     "metadata": {},
     "output_type": "execute_result"
    }
   ],
   "source": [
    "# Initial imports\n",
    "import os\n",
    "import pandas as pd\n",
    "from newsapi import NewsApiClient\n",
    "from dotenv import load_dotenv\n",
    "load_dotenv()\n"
   ]
  },
  {
   "cell_type": "code",
   "execution_count": 9,
   "metadata": {},
   "outputs": [],
   "source": [
    "# Reading the News API key enviroment variable\n",
    "api_key = os.getenv(\"news_api\")\n",
    "if (api_key is None):\n",
    "    print ('oh no')"
   ]
  },
  {
   "cell_type": "code",
   "execution_count": 10,
   "metadata": {},
   "outputs": [],
   "source": [
    "# Create a newsapi client\n",
    "newsapi = NewsApiClient(api_key=api_key)\n",
    "\n"
   ]
  },
  {
   "cell_type": "markdown",
   "metadata": {},
   "source": [
    "**NOTE:** The news changes constantly and the api is frequently refreshing. As such, the parameters in the next step might not return as many results as the example in the lesson plan.  If **no** results are returned, try setting the `q=` parameter to another news-worthy term, or removing the `country=` parameter to broaden the search."
   ]
  },
  {
   "cell_type": "code",
   "execution_count": 13,
   "metadata": {},
   "outputs": [
    {
     "data": {
      "text/plain": [
       "{'status': 'ok',\n",
       " 'totalResults': 1,\n",
       " 'articles': [{'source': {'id': 'the-verge', 'name': 'The Verge'},\n",
       "   'author': 'Russell Brandom',\n",
       "   'title': 'Elon Musk will put up $6 billion to drop Tesla loans from his Twitter deal - The Verge',\n",
       "   'description': 'The Tesla CEO had initially financed his bid to take Twitter private with $12.5 billion in loans against his ownership stake in Tesla, the popular manufacturer of electric cars.',\n",
       "   'url': 'https://www.theverge.com/2022/5/25/23141940/elon-musk-tesla-twitter-margin-loan-buyout-deal',\n",
       "   'urlToImage': 'https://cdn.vox-cdn.com/thumbor/VIKNVP6VyW2qm7f37Du9y35bHkk=/0x146:2040x1214/fit-in/1200x630/cdn.vox-cdn.com/uploads/chorus_asset/file/23382324/VRG_Illo_STK022_K_Radtke_Musk_Down_arrow.jpg',\n",
       "   'publishedAt': '2022-05-25T21:41:28Z',\n",
       "   'content': 'The Tesla CEO will no longer finance his Twitter buyout by borrowing against Tesla shares\\r\\nIllustration by Kristen Radtke / The Verge; Getty Images\\r\\nAfter a brutal month for Tesla stock, Elon Musk wi… [+1806 chars]'}]}"
      ]
     },
     "execution_count": 13,
     "metadata": {},
     "output_type": "execute_result"
    }
   ],
   "source": [
    "# Fetch top news articles about oil\n",
    "oil_headlines = newsapi.get_top_headlines(q=\"elon\", language=\"en\", country=\"us\")\n",
    "oil_headlines\n",
    "\n"
   ]
  },
  {
   "cell_type": "code",
   "execution_count": 14,
   "metadata": {},
   "outputs": [
    {
     "name": "stdout",
     "output_type": "stream",
     "text": [
      "Total articles about oil: 1\n"
     ]
    },
    {
     "data": {
      "text/plain": [
       "{'source': {'id': 'the-verge', 'name': 'The Verge'},\n",
       " 'author': 'Russell Brandom',\n",
       " 'title': 'Elon Musk will put up $6 billion to drop Tesla loans from his Twitter deal - The Verge',\n",
       " 'description': 'The Tesla CEO had initially financed his bid to take Twitter private with $12.5 billion in loans against his ownership stake in Tesla, the popular manufacturer of electric cars.',\n",
       " 'url': 'https://www.theverge.com/2022/5/25/23141940/elon-musk-tesla-twitter-margin-loan-buyout-deal',\n",
       " 'urlToImage': 'https://cdn.vox-cdn.com/thumbor/VIKNVP6VyW2qm7f37Du9y35bHkk=/0x146:2040x1214/fit-in/1200x630/cdn.vox-cdn.com/uploads/chorus_asset/file/23382324/VRG_Illo_STK022_K_Radtke_Musk_Down_arrow.jpg',\n",
       " 'publishedAt': '2022-05-25T21:41:28Z',\n",
       " 'content': 'The Tesla CEO will no longer finance his Twitter buyout by borrowing against Tesla shares\\r\\nIllustration by Kristen Radtke / The Verge; Getty Images\\r\\nAfter a brutal month for Tesla stock, Elon Musk wi… [+1806 chars]'}"
      ]
     },
     "execution_count": 14,
     "metadata": {},
     "output_type": "execute_result"
    }
   ],
   "source": [
    "# Print total articles\n",
    "print(f\"Total articles about oil: {oil_headlines['totalResults']}\")\n",
    "\n",
    "# Show sample article\n",
    "oil_headlines[\"articles\"][0]\n",
    "\n"
   ]
  },
  {
   "cell_type": "code",
   "execution_count": 6,
   "metadata": {},
   "outputs": [
    {
     "data": {
      "text/html": [
       "<div>\n",
       "<style scoped>\n",
       "    .dataframe tbody tr th:only-of-type {\n",
       "        vertical-align: middle;\n",
       "    }\n",
       "\n",
       "    .dataframe tbody tr th {\n",
       "        vertical-align: top;\n",
       "    }\n",
       "\n",
       "    .dataframe thead th {\n",
       "        text-align: right;\n",
       "    }\n",
       "</style>\n",
       "<table border=\"1\" class=\"dataframe\">\n",
       "  <thead>\n",
       "    <tr style=\"text-align: right;\">\n",
       "      <th></th>\n",
       "      <th>author</th>\n",
       "      <th>content</th>\n",
       "      <th>description</th>\n",
       "      <th>publishedAt</th>\n",
       "      <th>source</th>\n",
       "      <th>title</th>\n",
       "      <th>url</th>\n",
       "      <th>urlToImage</th>\n",
       "    </tr>\n",
       "  </thead>\n",
       "  <tbody>\n",
       "    <tr>\n",
       "      <th>0</th>\n",
       "      <td>Lucia Suarez Sang</td>\n",
       "      <td>An oil tanker traveling through the tiny strip...</td>\n",
       "      <td>An oil tanker traveling through the tiny strip...</td>\n",
       "      <td>2019-07-16T11:54:35Z</td>\n",
       "      <td>{'id': 'fox-news', 'name': 'Fox News'}</td>\n",
       "      <td>UAE oil tanker missing in Strait of Hormuz aft...</td>\n",
       "      <td>https://www.foxnews.com/world/uae-oil-tanker-s...</td>\n",
       "      <td>https://media2.foxnews.com/BrightCove/69494009...</td>\n",
       "    </tr>\n",
       "    <tr>\n",
       "      <th>1</th>\n",
       "      <td>None</td>\n",
       "      <td>LORETTO, Tenn. \"Folks... please dont flush you...</td>\n",
       "      <td>Loretto PD typed up a special note in the post...</td>\n",
       "      <td>2019-07-15T20:46:00Z</td>\n",
       "      <td>{'id': None, 'name': 'Wbir.com'}</td>\n",
       "      <td>Middle TN police department warns about 'meth-...</td>\n",
       "      <td>https://www.wbir.com/article/news/middle-tn-po...</td>\n",
       "      <td>https://media.wbir.com/assets/WBIR/images/5fb9...</td>\n",
       "    </tr>\n",
       "  </tbody>\n",
       "</table>\n",
       "</div>"
      ],
      "text/plain": [
       "              author                                            content  \\\n",
       "0  Lucia Suarez Sang  An oil tanker traveling through the tiny strip...   \n",
       "1               None  LORETTO, Tenn. \"Folks... please dont flush you...   \n",
       "\n",
       "                                         description           publishedAt  \\\n",
       "0  An oil tanker traveling through the tiny strip...  2019-07-16T11:54:35Z   \n",
       "1  Loretto PD typed up a special note in the post...  2019-07-15T20:46:00Z   \n",
       "\n",
       "                                   source  \\\n",
       "0  {'id': 'fox-news', 'name': 'Fox News'}   \n",
       "1        {'id': None, 'name': 'Wbir.com'}   \n",
       "\n",
       "                                               title  \\\n",
       "0  UAE oil tanker missing in Strait of Hormuz aft...   \n",
       "1  Middle TN police department warns about 'meth-...   \n",
       "\n",
       "                                                 url  \\\n",
       "0  https://www.foxnews.com/world/uae-oil-tanker-s...   \n",
       "1  https://www.wbir.com/article/news/middle-tn-po...   \n",
       "\n",
       "                                          urlToImage  \n",
       "0  https://media2.foxnews.com/BrightCove/69494009...  \n",
       "1  https://media.wbir.com/assets/WBIR/images/5fb9...  "
      ]
     },
     "execution_count": 6,
     "metadata": {},
     "output_type": "execute_result"
    }
   ],
   "source": [
    "# Transform the response dictionary to a DataFrame\n",
    "oil_df = pd.DataFrame.from_dict(oil_headlines[\"articles\"])\n",
    "\n",
    "oil_df.head()\n",
    "\n"
   ]
  },
  {
   "cell_type": "code",
   "execution_count": 15,
   "metadata": {},
   "outputs": [
    {
     "name": "stdout",
     "output_type": "stream",
     "text": [
      "Total articles about Facebook Libra: 40\n"
     ]
    },
    {
     "data": {
      "text/plain": [
       "{'source': {'id': 'axios', 'name': 'Axios'},\n",
       " 'author': 'Scott Rosenberg',\n",
       " 'title': 'Facebook keeps pivoting to new projects — and then abandoning them',\n",
       " 'description': 'Facebook\\'s plan to wind down its podcast platform is the latest in a long line of projects the social network has launched with fanfare and then unceremoniously scuttled.Why it matters: \"Launch, test, shut down\" is a common pattern in tech\\'s \"fail fast\" cultu…',\n",
       " 'url': 'https://www.axios.com/2022/05/04/facebooks-endless-pivot-metaverse-podcasts',\n",
       " 'urlToImage': 'https://images.axios.com/9wnl4CnD6xg67vSiqYA-yvPKwbs=/0x0:2545x1432/1366x768/2022/05/04/1651665611715.jpg',\n",
       " 'publishedAt': '2022-05-04T10:00:32Z',\n",
       " 'content': 'Facebook\\'s plan to wind down its podcast platform is the latest in a long line of projects the social network has launched with fanfare and then unceremoniously scuttled.\\r\\nWhy it matters: \"Launch, te… [+3317 chars]'}"
      ]
     },
     "execution_count": 15,
     "metadata": {},
     "output_type": "execute_result"
    }
   ],
   "source": [
    "# Fetch all the news about Facebook Libra\n",
    "libra_headlines = newsapi.get_everything(\n",
    "    q=\"facebook libra\", language=\"en\", sort_by=\"relevancy\"\n",
    ")\n",
    "\n",
    "# Print total articles\n",
    "print(f\"Total articles about Facebook Libra: {libra_headlines['totalResults']}\")\n",
    "\n",
    "# Show sample article\n",
    "libra_headlines[\"articles\"][0]\n",
    "\n"
   ]
  },
  {
   "cell_type": "code",
   "execution_count": 16,
   "metadata": {},
   "outputs": [
    {
     "data": {
      "text/html": [
       "<div>\n",
       "<style scoped>\n",
       "    .dataframe tbody tr th:only-of-type {\n",
       "        vertical-align: middle;\n",
       "    }\n",
       "\n",
       "    .dataframe tbody tr th {\n",
       "        vertical-align: top;\n",
       "    }\n",
       "\n",
       "    .dataframe thead th {\n",
       "        text-align: right;\n",
       "    }\n",
       "</style>\n",
       "<table border=\"1\" class=\"dataframe\">\n",
       "  <thead>\n",
       "    <tr style=\"text-align: right;\">\n",
       "      <th></th>\n",
       "      <th>source</th>\n",
       "      <th>author</th>\n",
       "      <th>title</th>\n",
       "      <th>description</th>\n",
       "      <th>url</th>\n",
       "      <th>urlToImage</th>\n",
       "      <th>publishedAt</th>\n",
       "      <th>content</th>\n",
       "    </tr>\n",
       "  </thead>\n",
       "  <tbody>\n",
       "    <tr>\n",
       "      <th>0</th>\n",
       "      <td>{'id': 'axios', 'name': 'Axios'}</td>\n",
       "      <td>Scott Rosenberg</td>\n",
       "      <td>Facebook keeps pivoting to new projects — and ...</td>\n",
       "      <td>Facebook's plan to wind down its podcast platf...</td>\n",
       "      <td>https://www.axios.com/2022/05/04/facebooks-end...</td>\n",
       "      <td>https://images.axios.com/9wnl4CnD6xg67vSiqYA-y...</td>\n",
       "      <td>2022-05-04T10:00:32Z</td>\n",
       "      <td>Facebook's plan to wind down its podcast platf...</td>\n",
       "    </tr>\n",
       "    <tr>\n",
       "      <th>1</th>\n",
       "      <td>{'id': None, 'name': 'CoinDesk'}</td>\n",
       "      <td>Jack Schickler</td>\n",
       "      <td>EU Commission Favors Ban on Large-Scale Stable...</td>\n",
       "      <td>The tough approach, originally targeting Faceb...</td>\n",
       "      <td>https://www.coindesk.com/policy/2022/05/11/eu-...</td>\n",
       "      <td>https://www.coindesk.com/resizer/3GvY4wGFVk_81...</td>\n",
       "      <td>2022-05-11T18:42:43Z</td>\n",
       "      <td>The European Commission is considering hard cu...</td>\n",
       "    </tr>\n",
       "    <tr>\n",
       "      <th>2</th>\n",
       "      <td>{'id': 'axios', 'name': 'Axios'}</td>\n",
       "      <td>Scott Rosenberg</td>\n",
       "      <td>Facebook's endless pivot</td>\n",
       "      <td>Facebook's plan to wind down its podcast platf...</td>\n",
       "      <td>https://www.axios.com/facebooks-endless-pivot-...</td>\n",
       "      <td>https://images.axios.com/_ZQ2b7p48cQ5i6mKzQGzl...</td>\n",
       "      <td>2022-05-04T10:00:32Z</td>\n",
       "      <td>Facebook's plan to wind down its podcast platf...</td>\n",
       "    </tr>\n",
       "    <tr>\n",
       "      <th>3</th>\n",
       "      <td>{'id': None, 'name': 'MarketWatch'}</td>\n",
       "      <td>Jurica Dujmovic</td>\n",
       "      <td>Your Digital Self: The metaverse is inevitable...</td>\n",
       "      <td>Progress or escapism? It depends on who you are.</td>\n",
       "      <td>https://www.marketwatch.com/story/the-metavers...</td>\n",
       "      <td>https://images.mktw.net/im-515637/social</td>\n",
       "      <td>2022-05-10T12:27:00Z</td>\n",
       "      <td>Thanks to Meta Platforms CEO Mark Zuckerberg, ...</td>\n",
       "    </tr>\n",
       "    <tr>\n",
       "      <th>4</th>\n",
       "      <td>{'id': None, 'name': 'Yahoo Entertainment'}</td>\n",
       "      <td>Brandy Betz</td>\n",
       "      <td>Libra Creator David Marcus Begins New Lightnin...</td>\n",
       "      <td>Details are vague, but Lightspark has raised a...</td>\n",
       "      <td>https://finance.yahoo.com/news/libra-creator-d...</td>\n",
       "      <td>https://s.yimg.com/uu/api/res/1.2/Qye7cXqAPdCo...</td>\n",
       "      <td>2022-05-12T21:15:51Z</td>\n",
       "      <td>Don't miss CoinDesk's Consensus 2022, the must...</td>\n",
       "    </tr>\n",
       "  </tbody>\n",
       "</table>\n",
       "</div>"
      ],
      "text/plain": [
       "                                        source           author  \\\n",
       "0             {'id': 'axios', 'name': 'Axios'}  Scott Rosenberg   \n",
       "1             {'id': None, 'name': 'CoinDesk'}   Jack Schickler   \n",
       "2             {'id': 'axios', 'name': 'Axios'}  Scott Rosenberg   \n",
       "3          {'id': None, 'name': 'MarketWatch'}  Jurica Dujmovic   \n",
       "4  {'id': None, 'name': 'Yahoo Entertainment'}      Brandy Betz   \n",
       "\n",
       "                                               title  \\\n",
       "0  Facebook keeps pivoting to new projects — and ...   \n",
       "1  EU Commission Favors Ban on Large-Scale Stable...   \n",
       "2                           Facebook's endless pivot   \n",
       "3  Your Digital Self: The metaverse is inevitable...   \n",
       "4  Libra Creator David Marcus Begins New Lightnin...   \n",
       "\n",
       "                                         description  \\\n",
       "0  Facebook's plan to wind down its podcast platf...   \n",
       "1  The tough approach, originally targeting Faceb...   \n",
       "2  Facebook's plan to wind down its podcast platf...   \n",
       "3   Progress or escapism? It depends on who you are.   \n",
       "4  Details are vague, but Lightspark has raised a...   \n",
       "\n",
       "                                                 url  \\\n",
       "0  https://www.axios.com/2022/05/04/facebooks-end...   \n",
       "1  https://www.coindesk.com/policy/2022/05/11/eu-...   \n",
       "2  https://www.axios.com/facebooks-endless-pivot-...   \n",
       "3  https://www.marketwatch.com/story/the-metavers...   \n",
       "4  https://finance.yahoo.com/news/libra-creator-d...   \n",
       "\n",
       "                                          urlToImage           publishedAt  \\\n",
       "0  https://images.axios.com/9wnl4CnD6xg67vSiqYA-y...  2022-05-04T10:00:32Z   \n",
       "1  https://www.coindesk.com/resizer/3GvY4wGFVk_81...  2022-05-11T18:42:43Z   \n",
       "2  https://images.axios.com/_ZQ2b7p48cQ5i6mKzQGzl...  2022-05-04T10:00:32Z   \n",
       "3           https://images.mktw.net/im-515637/social  2022-05-10T12:27:00Z   \n",
       "4  https://s.yimg.com/uu/api/res/1.2/Qye7cXqAPdCo...  2022-05-12T21:15:51Z   \n",
       "\n",
       "                                             content  \n",
       "0  Facebook's plan to wind down its podcast platf...  \n",
       "1  The European Commission is considering hard cu...  \n",
       "2  Facebook's plan to wind down its podcast platf...  \n",
       "3  Thanks to Meta Platforms CEO Mark Zuckerberg, ...  \n",
       "4  Don't miss CoinDesk's Consensus 2022, the must...  "
      ]
     },
     "execution_count": 16,
     "metadata": {},
     "output_type": "execute_result"
    }
   ],
   "source": [
    "# Transform the response dictionary to a DataFrame\n",
    "libra_df = pd.DataFrame.from_dict(libra_headlines[\"articles\"])\n",
    "\n",
    "libra_df.head()\n"
   ]
  }
 ],
 "metadata": {
  "file_extension": ".py",
  "kernelspec": {
   "display_name": "Python 3",
   "language": "python",
   "name": "python3"
  },
  "language_info": {
   "codemirror_mode": {
    "name": "ipython",
    "version": 3
   },
   "file_extension": ".py",
   "mimetype": "text/x-python",
   "name": "python",
   "nbconvert_exporter": "python",
   "pygments_lexer": "ipython3",
   "version": "3.7.7"
  },
  "mimetype": "text/x-python",
  "name": "python",
  "npconvert_exporter": "python",
  "pygments_lexer": "ipython3",
  "version": 3
 },
 "nbformat": 4,
 "nbformat_minor": 4
}
