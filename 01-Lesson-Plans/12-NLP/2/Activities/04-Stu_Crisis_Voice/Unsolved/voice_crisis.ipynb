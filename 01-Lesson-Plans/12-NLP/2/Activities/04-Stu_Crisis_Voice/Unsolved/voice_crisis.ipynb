{
 "cells": [
  {
   "cell_type": "markdown",
   "metadata": {},
   "source": [
    "# The Voice of the Crisis\n",
    "\n",
    "Despite it happening over a decade ago, the financial crisis of 2008 is still on the news due to its effects in global economy. On this activity you will retrieve news articles about this historical economic fact in English and French to capture the voice of the crisis in two different languages."
   ]
  },
  {
   "cell_type": "code",
   "execution_count": 25,
   "metadata": {},
   "outputs": [
    {
     "data": {
      "text/plain": [
       "True"
      ]
     },
     "execution_count": 25,
     "metadata": {},
     "output_type": "execute_result"
    }
   ],
   "source": [
    "# Initial imports\n",
    "import os\n",
    "import pandas as pd\n",
    "from pathlib import Path\n",
    "from newsapi import NewsApiClient\n",
    "from dotenv import load_dotenv\n",
    "load_dotenv()\n"
   ]
  },
  {
   "cell_type": "code",
   "execution_count": 26,
   "metadata": {},
   "outputs": [],
   "source": [
    "# Retrieve the News API key\n",
    "api_key = os.getenv(\"news_api\")\n",
    "if (api_key is None):\n",
    "    print ('oh no')"
   ]
  },
  {
   "cell_type": "code",
   "execution_count": 27,
   "metadata": {},
   "outputs": [],
   "source": [
    "# Create the newsapi client\n",
    "newsapi = NewsApiClient(api_key=api_key)\n",
    "\n"
   ]
  },
  {
   "cell_type": "markdown",
   "metadata": {},
   "source": [
    "## Getting News Articles in English\n",
    "\n",
    "In this section you have to fetch all the news articles using the News API with the keywords `financial`, `crisis`, and `2008` in English.\n",
    "\n"
   ]
  },
  {
   "cell_type": "code",
   "execution_count": 28,
   "metadata": {},
   "outputs": [
    {
     "data": {
      "text/plain": [
       "1707"
      ]
     },
     "execution_count": 28,
     "metadata": {},
     "output_type": "execute_result"
    }
   ],
   "source": [
    "# Fetch news about the financial crisis on 2008 in English\n",
    "all_articles = newsapi.get_everything(q='financial AND crisis AND 2008', language='en')\n",
    "# Show the total number of news\n",
    "all_articles['totalResults']"
   ]
  },
  {
   "cell_type": "markdown",
   "metadata": {},
   "source": [
    "## Getting News Articles in French\n",
    "\n",
    "Fetching news on French will require keywords on this language, so retrieve all the news articles using the News API using the keywords `crise`, `financière`, and `2008`."
   ]
  },
  {
   "cell_type": "code",
   "execution_count": 29,
   "metadata": {},
   "outputs": [
    {
     "data": {
      "text/plain": [
       "107"
      ]
     },
     "execution_count": 29,
     "metadata": {},
     "output_type": "execute_result"
    }
   ],
   "source": [
    "# Fetch news about the financial crisis on 2008 in French\n",
    "all_articles_fr = newsapi.get_everything(q='financière AND crise AND 2008', language='fr')\n",
    "# Show the total number of news\n",
    "all_articles_fr['totalResults']"
   ]
  },
  {
   "cell_type": "markdown",
   "metadata": {},
   "source": [
    "## Create a DataFrame with All the Results\n",
    "\n",
    "The first task on this section is to create a function called `create_df(news, language)` that will transform the `articles` list in a DataFrame. This function will receive two parameters: `news` is the articles list and `language` is a string to specify the language of the news articles.\n",
    "\n",
    "The resulting DataFrame should have the following columns:\n",
    "\n",
    "* Title: The article's title\n",
    "* Description: The article's description\n",
    "* Text: The article's content\n",
    "* Date: The date when the article was published on the format `YYY-MM-DD` (eg. 2019-07-11)\n",
    "* Language: A string specifying the news language (`en` for English, `fr` for French)"
   ]
  },
  {
   "cell_type": "code",
   "execution_count": 30,
   "metadata": {},
   "outputs": [],
   "source": [
    "def create_df(news, language):\n",
    "    articles = []\n",
    "    for article in news:\n",
    "        try:\n",
    "            title = article['title']\n",
    "            desc = article['description']\n",
    "            text = article['content']\n",
    "            date = article['publishedAt'][:10]\n",
    "\n",
    "            articles.append(\n",
    "                {\n",
    "                    'title' : title,\n",
    "                    'description' : desc,\n",
    "                    'text': text,\n",
    "                    'date': date,\n",
    "                    'language': language\n",
    "                }    \n",
    "            )\n",
    "        except AttributeError:\n",
    "            pass\n",
    "    return pd.DataFrame(articles)"
   ]
  },
  {
   "cell_type": "markdown",
   "metadata": {},
   "source": [
    "Use the create_df() function to create a DataFrame for the English news and another for the French news."
   ]
  },
  {
   "cell_type": "code",
   "execution_count": 31,
   "metadata": {},
   "outputs": [],
   "source": [
    "# Create a DataFrame with the news in English\n",
    "all_articles_en_df = create_df(all_articles['articles'],'en')\n",
    "# Create a DataFrame with the news in French\n",
    "all_articles_fr_df = create_df(all_articles_fr['articles'],'fr')\n"
   ]
  },
  {
   "cell_type": "markdown",
   "metadata": {},
   "source": [
    "Concatenate both DataFrames having the English news at the top and the French news at the bottom."
   ]
  },
  {
   "cell_type": "code",
   "execution_count": 32,
   "metadata": {},
   "outputs": [],
   "source": [
    "all_df = pd.concat([all_articles_en_df, all_articles_fr_df])"
   ]
  },
  {
   "cell_type": "code",
   "execution_count": 33,
   "metadata": {},
   "outputs": [
    {
     "data": {
      "text/html": [
       "<div>\n",
       "<style scoped>\n",
       "    .dataframe tbody tr th:only-of-type {\n",
       "        vertical-align: middle;\n",
       "    }\n",
       "\n",
       "    .dataframe tbody tr th {\n",
       "        vertical-align: top;\n",
       "    }\n",
       "\n",
       "    .dataframe thead th {\n",
       "        text-align: right;\n",
       "    }\n",
       "</style>\n",
       "<table border=\"1\" class=\"dataframe\">\n",
       "  <thead>\n",
       "    <tr style=\"text-align: right;\">\n",
       "      <th></th>\n",
       "      <th>title</th>\n",
       "      <th>description</th>\n",
       "      <th>text</th>\n",
       "      <th>date</th>\n",
       "      <th>language</th>\n",
       "    </tr>\n",
       "  </thead>\n",
       "  <tbody>\n",
       "    <tr>\n",
       "      <th>0</th>\n",
       "      <td>Column: U.S. gas prices soar as Europe and Asi...</td>\n",
       "      <td>U.S. gas prices have surged to the highest lev...</td>\n",
       "      <td>LONDON, May 6 (Reuters) - U.S. gas prices have...</td>\n",
       "      <td>2022-05-06</td>\n",
       "      <td>en</td>\n",
       "    </tr>\n",
       "    <tr>\n",
       "      <th>1</th>\n",
       "      <td>‘Stardew Valley’ has sold more than 20 million...</td>\n",
       "      <td>Six years after its initial release, Stardew V...</td>\n",
       "      <td>Six years after its initial release, Stardew V...</td>\n",
       "      <td>2022-05-14</td>\n",
       "      <td>en</td>\n",
       "    </tr>\n",
       "    <tr>\n",
       "      <th>2</th>\n",
       "      <td>Column: Crypto warnings invoke U.S. subprime b...</td>\n",
       "      <td>Regulators comparing the crypto craze to the U...</td>\n",
       "      <td>ORLANDO, Fla., May 5 (Reuters) - Regulators co...</td>\n",
       "      <td>2022-05-05</td>\n",
       "      <td>en</td>\n",
       "    </tr>\n",
       "    <tr>\n",
       "      <th>3</th>\n",
       "      <td>The banks collapsed in 2008 – and our food sys...</td>\n",
       "      <td>Massive food producers hold too much power – a...</td>\n",
       "      <td>For the past few years, scientists have been f...</td>\n",
       "      <td>2022-05-19</td>\n",
       "      <td>en</td>\n",
       "    </tr>\n",
       "    <tr>\n",
       "      <th>4</th>\n",
       "      <td>Breakingviews - The elusive value of past inve...</td>\n",
       "      <td>Last week, a new business and finance library ...</td>\n",
       "      <td>LONDON, May 5 (Reuters Breakingviews) - Last w...</td>\n",
       "      <td>2022-05-05</td>\n",
       "      <td>en</td>\n",
       "    </tr>\n",
       "  </tbody>\n",
       "</table>\n",
       "</div>"
      ],
      "text/plain": [
       "                                               title  \\\n",
       "0  Column: U.S. gas prices soar as Europe and Asi...   \n",
       "1  ‘Stardew Valley’ has sold more than 20 million...   \n",
       "2  Column: Crypto warnings invoke U.S. subprime b...   \n",
       "3  The banks collapsed in 2008 – and our food sys...   \n",
       "4  Breakingviews - The elusive value of past inve...   \n",
       "\n",
       "                                         description  \\\n",
       "0  U.S. gas prices have surged to the highest lev...   \n",
       "1  Six years after its initial release, Stardew V...   \n",
       "2  Regulators comparing the crypto craze to the U...   \n",
       "3  Massive food producers hold too much power – a...   \n",
       "4  Last week, a new business and finance library ...   \n",
       "\n",
       "                                                text        date language  \n",
       "0  LONDON, May 6 (Reuters) - U.S. gas prices have...  2022-05-06       en  \n",
       "1  Six years after its initial release, Stardew V...  2022-05-14       en  \n",
       "2  ORLANDO, Fla., May 5 (Reuters) - Regulators co...  2022-05-05       en  \n",
       "3  For the past few years, scientists have been f...  2022-05-19       en  \n",
       "4  LONDON, May 5 (Reuters Breakingviews) - Last w...  2022-05-05       en  "
      ]
     },
     "execution_count": 33,
     "metadata": {},
     "output_type": "execute_result"
    }
   ],
   "source": [
    "# Show the head articles (they are in English)\n",
    "all_df.head()\n"
   ]
  },
  {
   "cell_type": "code",
   "execution_count": 34,
   "metadata": {},
   "outputs": [
    {
     "data": {
      "text/html": [
       "<div>\n",
       "<style scoped>\n",
       "    .dataframe tbody tr th:only-of-type {\n",
       "        vertical-align: middle;\n",
       "    }\n",
       "\n",
       "    .dataframe tbody tr th {\n",
       "        vertical-align: top;\n",
       "    }\n",
       "\n",
       "    .dataframe thead th {\n",
       "        text-align: right;\n",
       "    }\n",
       "</style>\n",
       "<table border=\"1\" class=\"dataframe\">\n",
       "  <thead>\n",
       "    <tr style=\"text-align: right;\">\n",
       "      <th></th>\n",
       "      <th>title</th>\n",
       "      <th>description</th>\n",
       "      <th>text</th>\n",
       "      <th>date</th>\n",
       "      <th>language</th>\n",
       "    </tr>\n",
       "  </thead>\n",
       "  <tbody>\n",
       "    <tr>\n",
       "      <th>15</th>\n",
       "      <td>La BNB prévoit un ralentissement de la croissa...</td>\n",
       "      <td>C'est actuellement l'hypothèse de la Banque na...</td>\n",
       "      <td>La hausse des taux d'intérêt hypothécaires ent...</td>\n",
       "      <td>2022-05-13</td>\n",
       "      <td>fr</td>\n",
       "    </tr>\n",
       "    <tr>\n",
       "      <th>16</th>\n",
       "      <td>L’Allemagne est en partie responsable de la dé...</td>\n",
       "      <td>Sans coordination, une relance de la demande e...</td>\n",
       "      <td>Entre le « quoi quil en coûte » et les mesures...</td>\n",
       "      <td>2022-05-13</td>\n",
       "      <td>fr</td>\n",
       "    </tr>\n",
       "    <tr>\n",
       "      <th>17</th>\n",
       "      <td>Dr. Strangelove aux commandes</td>\n",
       "      <td>« It's the economy stupid », un truisme à mill...</td>\n",
       "      <td>« It’s the economy stupid », un truisme à mill...</td>\n",
       "      <td>2022-04-30</td>\n",
       "      <td>fr</td>\n",
       "    </tr>\n",
       "    <tr>\n",
       "      <th>18</th>\n",
       "      <td>L’avenir de la maternité de Nevers mise à mal ...</td>\n",
       "      <td>Faute de sages-femmes, la dernière maternité d...</td>\n",
       "      <td>Le département de la Nièvre, en Bourgogne-Fran...</td>\n",
       "      <td>2022-05-03</td>\n",
       "      <td>fr</td>\n",
       "    </tr>\n",
       "    <tr>\n",
       "      <th>19</th>\n",
       "      <td>Le nouveau visage de la mondialisation</td>\n",
       "      <td>Avec la pandémie de Covid-19 et l'invasion de ...</td>\n",
       "      <td>Temps de lecture: 7 min\\r\\nEn publiant, en 199...</td>\n",
       "      <td>2022-05-17</td>\n",
       "      <td>fr</td>\n",
       "    </tr>\n",
       "  </tbody>\n",
       "</table>\n",
       "</div>"
      ],
      "text/plain": [
       "                                                title  \\\n",
       "15  La BNB prévoit un ralentissement de la croissa...   \n",
       "16  L’Allemagne est en partie responsable de la dé...   \n",
       "17                      Dr. Strangelove aux commandes   \n",
       "18  L’avenir de la maternité de Nevers mise à mal ...   \n",
       "19             Le nouveau visage de la mondialisation   \n",
       "\n",
       "                                          description  \\\n",
       "15  C'est actuellement l'hypothèse de la Banque na...   \n",
       "16  Sans coordination, une relance de la demande e...   \n",
       "17  « It's the economy stupid », un truisme à mill...   \n",
       "18  Faute de sages-femmes, la dernière maternité d...   \n",
       "19  Avec la pandémie de Covid-19 et l'invasion de ...   \n",
       "\n",
       "                                                 text        date language  \n",
       "15  La hausse des taux d'intérêt hypothécaires ent...  2022-05-13       fr  \n",
       "16  Entre le « quoi quil en coûte » et les mesures...  2022-05-13       fr  \n",
       "17  « It’s the economy stupid », un truisme à mill...  2022-04-30       fr  \n",
       "18  Le département de la Nièvre, en Bourgogne-Fran...  2022-05-03       fr  \n",
       "19  Temps de lecture: 7 min\\r\\nEn publiant, en 199...  2022-05-17       fr  "
      ]
     },
     "execution_count": 34,
     "metadata": {},
     "output_type": "execute_result"
    }
   ],
   "source": [
    "# Show the tail articles (they are in French)\n",
    "all_df.tail()"
   ]
  },
  {
   "cell_type": "markdown",
   "metadata": {},
   "source": [
    "Save tha final DataFrame as a CSV file for further analysis in the forthcoming activities."
   ]
  },
  {
   "cell_type": "code",
   "execution_count": 38,
   "metadata": {},
   "outputs": [],
   "source": [
    "all_df.to_csv('../crisis.csv', index= False)"
   ]
  }
 ],
 "metadata": {
  "file_extension": ".py",
  "kernelspec": {
   "display_name": "Python 3",
   "language": "python",
   "name": "python3"
  },
  "language_info": {
   "codemirror_mode": {
    "name": "ipython",
    "version": 3
   },
   "file_extension": ".py",
   "mimetype": "text/x-python",
   "name": "python",
   "nbconvert_exporter": "python",
   "pygments_lexer": "ipython3",
   "version": "3.7.7"
  },
  "mimetype": "text/x-python",
  "name": "python",
  "npconvert_exporter": "python",
  "pygments_lexer": "ipython3",
  "version": 3
 },
 "nbformat": 4,
 "nbformat_minor": 2
}
