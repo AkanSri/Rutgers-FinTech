{
 "cells": [
  {
   "cell_type": "code",
   "execution_count": 12,
   "metadata": {},
   "outputs": [
    {
     "name": "stdout",
     "output_type": "stream",
     "text": [
      "True\n"
     ]
    }
   ],
   "source": [
    "def two_lists(one,two):\n",
    "    output = False\n",
    "    if (len(one) == 0 and len(two)== 0):\n",
    "        output = True\n",
    "    if (len(one) != len(two)):\n",
    "        output = False\n",
    "    else:\n",
    "        for element in one:\n",
    "            if element not in two:\n",
    "                output = False\n",
    "            else:\n",
    "                output = True\n",
    "    print(output)\n",
    "\n",
    "first = []\n",
    "second = []\n",
    "two_lists(first,second)"
   ]
  }
 ],
 "metadata": {
  "interpreter": {
   "hash": "9fb7947217439b1dc1ff9712ff753ee392157952fd18f233f421b4097771f25f"
  },
  "kernelspec": {
   "display_name": "Python 3.7.11 ('dev')",
   "language": "python",
   "name": "python3"
  },
  "language_info": {
   "codemirror_mode": {
    "name": "ipython",
    "version": 3
   },
   "file_extension": ".py",
   "mimetype": "text/x-python",
   "name": "python",
   "nbconvert_exporter": "python",
   "pygments_lexer": "ipython3",
   "version": "3.7.11"
  },
  "orig_nbformat": 4
 },
 "nbformat": 4,
 "nbformat_minor": 2
}
