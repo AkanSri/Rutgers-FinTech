{
 "cells": [
  {
   "cell_type": "code",
   "execution_count": 2,
   "metadata": {},
   "outputs": [
    {
     "name": "stdout",
     "output_type": "stream",
     "text": [
      "{'E': 1, 'x': 1, 'a': 1, 'm': 1, 'p': 1, 'l': 1, 'e': 4, 's': 1, 'n': 2, 't': 1, 'c': 1}\n"
     ]
    }
   ],
   "source": [
    "test = \"Example sentence\"\n",
    "\n",
    "def count_letters(input_text):\n",
    "    counts = {}\n",
    "    for letter in input_text:\n",
    "        if letter.isalpha():\n",
    "            if letter not in counts:\n",
    "                counts[letter] = 1\n",
    "            else:\n",
    "                counts[letter] += 1\n",
    "            \n",
    "    print(f\"{counts}\")\n",
    "\n",
    "count_letters(test)"
   ]
  }
 ],
 "metadata": {
  "interpreter": {
   "hash": "9fb7947217439b1dc1ff9712ff753ee392157952fd18f233f421b4097771f25f"
  },
  "kernelspec": {
   "display_name": "Python 3.7.11 ('dev')",
   "language": "python",
   "name": "python3"
  },
  "language_info": {
   "codemirror_mode": {
    "name": "ipython",
    "version": 3
   },
   "file_extension": ".py",
   "mimetype": "text/x-python",
   "name": "python",
   "nbconvert_exporter": "python",
   "pygments_lexer": "ipython3",
   "version": "3.7.11"
  },
  "orig_nbformat": 4
 },
 "nbformat": 4,
 "nbformat_minor": 2
}
