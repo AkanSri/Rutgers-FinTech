{
 "cells": [
  {
   "cell_type": "code",
   "execution_count": 13,
   "metadata": {},
   "outputs": [
    {
     "name": "stdout",
     "output_type": "stream",
     "text": [
      "799.9999999999998\n"
     ]
    }
   ],
   "source": [
    "def best_trade(stocks):\n",
    "    min_price = 0\n",
    "    max_price = 0\n",
    "    num_shares = 1000\n",
    "    if(len(stocks)<2):\n",
    "        return \"Less than 2 stocks\"\n",
    "    for stock in stocks:\n",
    "        if (min_price==0 and max_price==0):\n",
    "            min_price = stock\n",
    "            max_price = stock\n",
    "        elif (min_price>stock):\n",
    "            min_price = stock\n",
    "        if(max_price<stock):\n",
    "            max_price = stock\n",
    "    profit = (max_price-min_price) * num_shares\n",
    "    return profit\n",
    "print(f\"{best_trade([1.42, 1.32, 1.45, 1.20, 1.34, 1.74, 1.10, 1.89, 1.42, 1.90, 1.80, 1.85])}\")"
   ]
  }
 ],
 "metadata": {
  "interpreter": {
   "hash": "9fb7947217439b1dc1ff9712ff753ee392157952fd18f233f421b4097771f25f"
  },
  "kernelspec": {
   "display_name": "Python 3.7.11 ('dev')",
   "language": "python",
   "name": "python3"
  },
  "language_info": {
   "codemirror_mode": {
    "name": "ipython",
    "version": 3
   },
   "file_extension": ".py",
   "mimetype": "text/x-python",
   "name": "python",
   "nbconvert_exporter": "python",
   "pygments_lexer": "ipython3",
   "version": "3.7.11"
  },
  "orig_nbformat": 4
 },
 "nbformat": 4,
 "nbformat_minor": 2
}
