{
 "cells": [
  {
   "cell_type": "code",
   "execution_count": null,
   "metadata": {},
   "outputs": [],
   "source": [
    "stocks = { #dict {}\n",
    "    \"APPL\" : 22.99,\n",
    "    \"GOOG\" : 44.09,\n",
    "    \"SPY\" : 397.87,\n",
    "    \"LAND\" : \"REIT Lacked by land\"\n",
    "}\n",
    "\n",
    "stocks = { #dict {} with nested lists\n",
    "    \"APPL\" : [22.99,34.87,88.43,199.46],\n",
    "    \"GOOG\" : [22.99,34.87,88.43,199.46,44.09],\n",
    "    \"SPY\" : [397.87,22.99,88.43,199.46],\n",
    "    \"LAND\" : \"REIT Lacked by land\"\n",
    "}\n"
   ]
  },
  {
   "cell_type": "code",
   "execution_count": 3,
   "metadata": {},
   "outputs": [
    {
     "name": "stdout",
     "output_type": "stream",
     "text": [
      "34.87\n"
     ]
    },
    {
     "data": {
      "text/plain": [
       "34.87"
      ]
     },
     "execution_count": 3,
     "metadata": {},
     "output_type": "execute_result"
    }
   ],
   "source": [
    "stocks = { #dict {} with nested dicts\n",
    "    \"APPL\" : [{\"close\":22.99,\"open\":22}, {\"close\":34.87,\"open\":88}],\n",
    "    \"FB\" : [{\"close\":22.99,\"open\":22}, {\"close\":34.87,\"open\":88}]\n",
    "}\n",
    "\n",
    "fb = stocks[\"FB\"]\n",
    "fbDay2 = fb[1]\n",
    "fbClose = fbDay2['close']\n",
    "print(fbClose)\n",
    "stocks[\"FB\"][1][\"close\"]"
   ]
  },
  {
   "cell_type": "code",
   "execution_count": null,
   "metadata": {},
   "outputs": [],
   "source": [
    "def getAPIData(stock):\n",
    "    stocks = {\n",
    "        \"APPL\" : [{\"close\":22.99,\"open\":22}, {\"close\":34.87,\"open\":88}],\n",
    "        \"FB\" : [{\"close\":22.99,\"open\":22}, {\"close\":34.87,\"open\":88}]\n",
    "    }\n",
    "    return stocks[stock]     \n",
    "\n",
    "getAPIData(\"AAPL\")\n"
   ]
  }
 ],
 "metadata": {
  "interpreter": {
   "hash": "9fb7947217439b1dc1ff9712ff753ee392157952fd18f233f421b4097771f25f"
  },
  "kernelspec": {
   "display_name": "Python 3.7.11 ('dev')",
   "language": "python",
   "name": "python3"
  },
  "language_info": {
   "codemirror_mode": {
    "name": "ipython",
    "version": 3
   },
   "file_extension": ".py",
   "mimetype": "text/x-python",
   "name": "python",
   "nbconvert_exporter": "python",
   "pygments_lexer": "ipython3",
   "version": "3.7.11"
  },
  "orig_nbformat": 4
 },
 "nbformat": 4,
 "nbformat_minor": 2
}
