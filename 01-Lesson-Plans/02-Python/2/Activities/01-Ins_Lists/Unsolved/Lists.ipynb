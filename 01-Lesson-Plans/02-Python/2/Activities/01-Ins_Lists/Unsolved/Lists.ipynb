{
 "cells": [
  {
   "cell_type": "code",
   "execution_count": 10,
   "metadata": {},
   "outputs": [],
   "source": [
    "num1 = 11\n",
    "num2 = 11\n",
    "num3 = 15\n",
    "\n",
    "num4 = 10.09\n",
    "\n",
    "userName = \"Dan\"\n",
    "\n",
    "passedClass = False\n"
   ]
  },
  {
   "cell_type": "code",
   "execution_count": 11,
   "metadata": {},
   "outputs": [
    {
     "name": "stdout",
     "output_type": "stream",
     "text": [
      "Num1 != 10\n"
     ]
    }
   ],
   "source": [
    "if(num1 != 10):\n",
    "    print(\"Num1 != 10\")\n",
    "elif(num1 == 5):\n",
    "    print(\"Num1 is 5\")\n",
    "else:\n",
    "    print(\"Num1 is neither 5 or 10\")\n",
    "    \n",
    "    "
   ]
  },
  {
   "cell_type": "code",
   "execution_count": 12,
   "metadata": {},
   "outputs": [
    {
     "name": "stdout",
     "output_type": "stream",
     "text": [
      "['AAPL', 'SPY', 'GLD', 'LAND', 'NTFX', 'FB']\n"
     ]
    }
   ],
   "source": [
    "stocks = [\"AAPL\",\"SPY\",\"GLD\",\"LAND\",\"NTFX\",\"FB\"]\n",
    "print(stocks)"
   ]
  },
  {
   "cell_type": "code",
   "execution_count": 13,
   "metadata": {},
   "outputs": [
    {
     "name": "stdout",
     "output_type": "stream",
     "text": [
      "First stock is AAPL\n",
      "Second item is SPY\n"
     ]
    }
   ],
   "source": [
    "# Give me the first item in the list\n",
    "print(f\"First stock is {stocks[0]}\")\n",
    "print(f\"Second item is {stocks[1]}\")\n"
   ]
  },
  {
   "cell_type": "markdown",
   "metadata": {},
   "source": [
    "## List Slicing\n",
    "## list[start:end]\n",
    "- list slicing is when you select certain part of a list \n",
    "- Start is inclusive end is exclusive"
   ]
  },
  {
   "cell_type": "code",
   "execution_count": 14,
   "metadata": {},
   "outputs": [
    {
     "data": {
      "text/plain": [
       "['GLD', 'LAND', 'NTFX', 'FB']"
      ]
     },
     "execution_count": 14,
     "metadata": {},
     "output_type": "execute_result"
    }
   ],
   "source": [
    "stocks[2:] #selects everything from index 2\n"
   ]
  },
  {
   "cell_type": "code",
   "execution_count": 15,
   "metadata": {},
   "outputs": [
    {
     "data": {
      "text/plain": [
       "['SPY', 'GLD']"
      ]
     },
     "execution_count": 15,
     "metadata": {},
     "output_type": "execute_result"
    }
   ],
   "source": [
    "stocks[1:3] #selects starting at second item, all the way until 3rd item \n"
   ]
  },
  {
   "cell_type": "code",
   "execution_count": 16,
   "metadata": {},
   "outputs": [
    {
     "data": {
      "text/plain": [
       "['AAPL', 'GLD', 'NTFX']"
      ]
     },
     "execution_count": 16,
     "metadata": {},
     "output_type": "execute_result"
    }
   ],
   "source": [
    "stocks[::2] # Selects every other item \n"
   ]
  },
  {
   "cell_type": "code",
   "execution_count": 17,
   "metadata": {},
   "outputs": [
    {
     "data": {
      "text/plain": [
       "'FB'"
      ]
     },
     "execution_count": 17,
     "metadata": {},
     "output_type": "execute_result"
    }
   ],
   "source": [
    "stocks[-1] #selects last"
   ]
  },
  {
   "cell_type": "code",
   "execution_count": 18,
   "metadata": {},
   "outputs": [
    {
     "data": {
      "text/plain": [
       "['TLT', 'SPY', 'GLD', 'LAND', 'NTFX', 'FB']"
      ]
     },
     "execution_count": 18,
     "metadata": {},
     "output_type": "execute_result"
    }
   ],
   "source": [
    "stocks[0] = \"TLT\"\n",
    "stocks"
   ]
  },
  {
   "cell_type": "code",
   "execution_count": 19,
   "metadata": {},
   "outputs": [
    {
     "data": {
      "text/plain": [
       "['TLT', 'SPY', 'GLD', 'LAND', 'NTFX', 'FB', 'DIS']"
      ]
     },
     "execution_count": 19,
     "metadata": {},
     "output_type": "execute_result"
    }
   ],
   "source": [
    "#Put DIS in stocks list\n",
    "stocks.append(\"DIS\")\n",
    "stocks"
   ]
  },
  {
   "cell_type": "code",
   "execution_count": 20,
   "metadata": {},
   "outputs": [],
   "source": [
    "stocks.remove(\"SPY\")"
   ]
  },
  {
   "cell_type": "code",
   "execution_count": 21,
   "metadata": {},
   "outputs": [
    {
     "data": {
      "text/plain": [
       "['TLT', 'GLD', 'LAND', 'NTFX', 'FB', 'DIS']"
      ]
     },
     "execution_count": 21,
     "metadata": {},
     "output_type": "execute_result"
    }
   ],
   "source": [
    "stocks"
   ]
  },
  {
   "cell_type": "code",
   "execution_count": 26,
   "metadata": {},
   "outputs": [
    {
     "data": {
      "text/plain": [
       "3"
      ]
     },
     "execution_count": 26,
     "metadata": {},
     "output_type": "execute_result"
    }
   ],
   "source": [
    "nfindex = stocks.index(\"NTFX\")\n",
    "nfindex"
   ]
  },
  {
   "cell_type": "code",
   "execution_count": 27,
   "metadata": {},
   "outputs": [
    {
     "data": {
      "text/plain": [
       "['TLT', 'GLD', 'LAND', 'FB', 'DIS']"
      ]
     },
     "execution_count": 27,
     "metadata": {},
     "output_type": "execute_result"
    }
   ],
   "source": [
    "stocks.pop(nfindex)\n",
    "stocks"
   ]
  },
  {
   "cell_type": "code",
   "execution_count": 29,
   "metadata": {},
   "outputs": [
    {
     "data": {
      "text/plain": [
       "5"
      ]
     },
     "execution_count": 29,
     "metadata": {},
     "output_type": "execute_result"
    }
   ],
   "source": [
    "len(stocks)"
   ]
  },
  {
   "cell_type": "code",
   "execution_count": 32,
   "metadata": {},
   "outputs": [
    {
     "name": "stdout",
     "output_type": "stream",
     "text": [
      "Obtaining API dta for stock: TLT\n",
      "Obtaining API dta for stock: GLD\n",
      "Obtaining API dta for stock: LAND\n",
      "Obtaining API dta for stock: FB\n",
      "Obtaining API dta for stock: DIS\n"
     ]
    }
   ],
   "source": [
    "for stock in stocks:\n",
    "    print(f\"Obtaining API dta for stock: {stock}\")"
   ]
  },
  {
   "cell_type": "code",
   "execution_count": 35,
   "metadata": {},
   "outputs": [
    {
     "name": "stdout",
     "output_type": "stream",
     "text": [
      "Obtaining API dta for stock: TLT\n",
      "Obtaining API dta for stock: GLD\n",
      "Obtaining API dta for stock: LAND\n",
      "Obtaining API dta for stock: FB\n",
      "Obtaining API dta for stock: DIS\n"
     ]
    }
   ],
   "source": [
    "for i in range(len(stocks)):\n",
    "    print(f\"Obtaining API dta for stock: {stocks[i]}\")"
   ]
  },
  {
   "cell_type": "code",
   "execution_count": 37,
   "metadata": {},
   "outputs": [
    {
     "name": "stdout",
     "output_type": "stream",
     "text": [
      "Curr: 5 Prev: 4\n",
      "Curr: 8 Prev: 5\n",
      "Curr: 2 Prev: 8\n",
      "Curr: 5 Prev: 2\n"
     ]
    }
   ],
   "source": [
    "nums = [4,5,8,2,5]\n",
    "for i in range(len(nums)):\n",
    "    if i !=0:\n",
    "        prev = nums[i-1]\n",
    "        curr = nums[i]\n",
    "        print(f\"Curr: {curr} Prev: {prev}\")"
   ]
  }
 ],
 "metadata": {
  "interpreter": {
   "hash": "9fb7947217439b1dc1ff9712ff753ee392157952fd18f233f421b4097771f25f"
  },
  "kernelspec": {
   "display_name": "Python 3.7.11 ('dev')",
   "language": "python",
   "name": "python3"
  },
  "language_info": {
   "codemirror_mode": {
    "name": "ipython",
    "version": 3
   },
   "file_extension": ".py",
   "mimetype": "text/x-python",
   "name": "python",
   "nbconvert_exporter": "python",
   "pygments_lexer": "ipython3",
   "version": "3.7.11"
  },
  "orig_nbformat": 4
 },
 "nbformat": 4,
 "nbformat_minor": 2
}
