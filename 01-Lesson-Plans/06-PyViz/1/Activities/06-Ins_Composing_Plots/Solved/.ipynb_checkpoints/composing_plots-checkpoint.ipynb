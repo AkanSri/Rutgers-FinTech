{
 "cells": [
  {
   "cell_type": "code",
   "execution_count": 2,
   "metadata": {},
   "outputs": [],
   "source": [
    "# Import the required libraries and dependencies\n",
    "import pandas as pd\n",
    "import hvplot.pandas\n",
    "from pathlib import Path"
   ]
  },
  {
   "cell_type": "markdown",
   "metadata": {},
   "source": [
    "## Prepare the Hospital Claims DataFrame"
   ]
  },
  {
   "cell_type": "code",
   "execution_count": 3,
   "metadata": {},
   "outputs": [
    {
     "data": {
      "text/html": [
       "<div>\n",
       "<style scoped>\n",
       "    .dataframe tbody tr th:only-of-type {\n",
       "        vertical-align: middle;\n",
       "    }\n",
       "\n",
       "    .dataframe tbody tr th {\n",
       "        vertical-align: top;\n",
       "    }\n",
       "\n",
       "    .dataframe thead th {\n",
       "        text-align: right;\n",
       "    }\n",
       "</style>\n",
       "<table border=\"1\" class=\"dataframe\">\n",
       "  <thead>\n",
       "    <tr style=\"text-align: right;\">\n",
       "      <th></th>\n",
       "      <th>DRG Definition</th>\n",
       "      <th>Provider Id</th>\n",
       "      <th>Provider Name</th>\n",
       "      <th>Provider Street Address</th>\n",
       "      <th>Provider City</th>\n",
       "      <th>Provider State</th>\n",
       "      <th>Provider Zip Code</th>\n",
       "      <th>Hospital Referral Region Description</th>\n",
       "      <th>Total Discharges</th>\n",
       "      <th>Average Covered Charges</th>\n",
       "      <th>Average Total Payments</th>\n",
       "      <th>Average Medicare Payments</th>\n",
       "    </tr>\n",
       "  </thead>\n",
       "  <tbody>\n",
       "    <tr>\n",
       "      <th>0</th>\n",
       "      <td>039 - EXTRACRANIAL PROCEDURES W/O CC/MCC</td>\n",
       "      <td>10001</td>\n",
       "      <td>SOUTHEAST ALABAMA MEDICAL CENTER</td>\n",
       "      <td>1108 ROSS CLARK CIRCLE</td>\n",
       "      <td>DOTHAN</td>\n",
       "      <td>AL</td>\n",
       "      <td>36301</td>\n",
       "      <td>AL - Dothan</td>\n",
       "      <td>91</td>\n",
       "      <td>32963.07</td>\n",
       "      <td>5777.24</td>\n",
       "      <td>4763.73</td>\n",
       "    </tr>\n",
       "    <tr>\n",
       "      <th>1</th>\n",
       "      <td>039 - EXTRACRANIAL PROCEDURES W/O CC/MCC</td>\n",
       "      <td>10005</td>\n",
       "      <td>MARSHALL MEDICAL CENTER SOUTH</td>\n",
       "      <td>2505 U S HIGHWAY 431 NORTH</td>\n",
       "      <td>BOAZ</td>\n",
       "      <td>AL</td>\n",
       "      <td>35957</td>\n",
       "      <td>AL - Birmingham</td>\n",
       "      <td>14</td>\n",
       "      <td>15131.85</td>\n",
       "      <td>5787.57</td>\n",
       "      <td>4976.71</td>\n",
       "    </tr>\n",
       "    <tr>\n",
       "      <th>2</th>\n",
       "      <td>039 - EXTRACRANIAL PROCEDURES W/O CC/MCC</td>\n",
       "      <td>10006</td>\n",
       "      <td>ELIZA COFFEE MEMORIAL HOSPITAL</td>\n",
       "      <td>205 MARENGO STREET</td>\n",
       "      <td>FLORENCE</td>\n",
       "      <td>AL</td>\n",
       "      <td>35631</td>\n",
       "      <td>AL - Birmingham</td>\n",
       "      <td>24</td>\n",
       "      <td>37560.37</td>\n",
       "      <td>5434.95</td>\n",
       "      <td>4453.79</td>\n",
       "    </tr>\n",
       "    <tr>\n",
       "      <th>3</th>\n",
       "      <td>039 - EXTRACRANIAL PROCEDURES W/O CC/MCC</td>\n",
       "      <td>10011</td>\n",
       "      <td>ST VINCENT'S EAST</td>\n",
       "      <td>50 MEDICAL PARK EAST DRIVE</td>\n",
       "      <td>BIRMINGHAM</td>\n",
       "      <td>AL</td>\n",
       "      <td>35235</td>\n",
       "      <td>AL - Birmingham</td>\n",
       "      <td>25</td>\n",
       "      <td>13998.28</td>\n",
       "      <td>5417.56</td>\n",
       "      <td>4129.16</td>\n",
       "    </tr>\n",
       "    <tr>\n",
       "      <th>4</th>\n",
       "      <td>039 - EXTRACRANIAL PROCEDURES W/O CC/MCC</td>\n",
       "      <td>10016</td>\n",
       "      <td>SHELBY BAPTIST MEDICAL CENTER</td>\n",
       "      <td>1000 FIRST STREET NORTH</td>\n",
       "      <td>ALABASTER</td>\n",
       "      <td>AL</td>\n",
       "      <td>35007</td>\n",
       "      <td>AL - Birmingham</td>\n",
       "      <td>18</td>\n",
       "      <td>31633.27</td>\n",
       "      <td>5658.33</td>\n",
       "      <td>4851.44</td>\n",
       "    </tr>\n",
       "  </tbody>\n",
       "</table>\n",
       "</div>"
      ],
      "text/plain": [
       "                             DRG Definition  Provider Id  \\\n",
       "0  039 - EXTRACRANIAL PROCEDURES W/O CC/MCC        10001   \n",
       "1  039 - EXTRACRANIAL PROCEDURES W/O CC/MCC        10005   \n",
       "2  039 - EXTRACRANIAL PROCEDURES W/O CC/MCC        10006   \n",
       "3  039 - EXTRACRANIAL PROCEDURES W/O CC/MCC        10011   \n",
       "4  039 - EXTRACRANIAL PROCEDURES W/O CC/MCC        10016   \n",
       "\n",
       "                      Provider Name     Provider Street Address Provider City  \\\n",
       "0  SOUTHEAST ALABAMA MEDICAL CENTER      1108 ROSS CLARK CIRCLE        DOTHAN   \n",
       "1     MARSHALL MEDICAL CENTER SOUTH  2505 U S HIGHWAY 431 NORTH          BOAZ   \n",
       "2    ELIZA COFFEE MEMORIAL HOSPITAL          205 MARENGO STREET      FLORENCE   \n",
       "3                 ST VINCENT'S EAST  50 MEDICAL PARK EAST DRIVE    BIRMINGHAM   \n",
       "4     SHELBY BAPTIST MEDICAL CENTER     1000 FIRST STREET NORTH     ALABASTER   \n",
       "\n",
       "  Provider State  Provider Zip Code Hospital Referral Region Description  \\\n",
       "0             AL              36301                          AL - Dothan   \n",
       "1             AL              35957                      AL - Birmingham   \n",
       "2             AL              35631                      AL - Birmingham   \n",
       "3             AL              35235                      AL - Birmingham   \n",
       "4             AL              35007                      AL - Birmingham   \n",
       "\n",
       "   Total Discharges  Average Covered Charges  Average Total Payments  \\\n",
       "0                91                 32963.07                 5777.24   \n",
       "1                14                 15131.85                 5787.57   \n",
       "2                24                 37560.37                 5434.95   \n",
       "3                25                 13998.28                 5417.56   \n",
       "4                18                 31633.27                 5658.33   \n",
       "\n",
       "   Average Medicare Payments  \n",
       "0                    4763.73  \n",
       "1                    4976.71  \n",
       "2                    4453.79  \n",
       "3                    4129.16  \n",
       "4                    4851.44  "
      ]
     },
     "execution_count": 3,
     "metadata": {},
     "output_type": "execute_result"
    }
   ],
   "source": [
    "# Read in hospital_claims.csv file as a Pandas DataFrame\n",
    "hospital_data = pd.read_csv(Path(\"../Resources/hospital_claims.csv\"))\n",
    "\n",
    "# Review the DataFrame\n",
    "hospital_data.head()"
   ]
  },
  {
   "cell_type": "code",
   "execution_count": 4,
   "metadata": {},
   "outputs": [
    {
     "data": {
      "text/html": [
       "<div>\n",
       "<style scoped>\n",
       "    .dataframe tbody tr th:only-of-type {\n",
       "        vertical-align: middle;\n",
       "    }\n",
       "\n",
       "    .dataframe tbody tr th {\n",
       "        vertical-align: top;\n",
       "    }\n",
       "\n",
       "    .dataframe thead th {\n",
       "        text-align: right;\n",
       "    }\n",
       "</style>\n",
       "<table border=\"1\" class=\"dataframe\">\n",
       "  <thead>\n",
       "    <tr style=\"text-align: right;\">\n",
       "      <th></th>\n",
       "      <th>DRG Definition</th>\n",
       "      <th>Provider Id</th>\n",
       "      <th>Provider Name</th>\n",
       "      <th>Provider Street Address</th>\n",
       "      <th>Provider City</th>\n",
       "      <th>Provider State</th>\n",
       "      <th>Provider Zip Code</th>\n",
       "      <th>Hospital Referral Region Description</th>\n",
       "      <th>Total Discharges</th>\n",
       "      <th>Average Covered Charges</th>\n",
       "      <th>Average Total Payments</th>\n",
       "      <th>Average Medicare Payments</th>\n",
       "    </tr>\n",
       "  </thead>\n",
       "  <tbody>\n",
       "    <tr>\n",
       "      <th>118109</th>\n",
       "      <td>552 - MEDICAL BACK PROBLEMS W/O MCC</td>\n",
       "      <td>50128</td>\n",
       "      <td>TRI-CITY MEDICAL CENTER</td>\n",
       "      <td>4002 VISTA WAY</td>\n",
       "      <td>OCEANSIDE</td>\n",
       "      <td>CA</td>\n",
       "      <td>92056</td>\n",
       "      <td>CA - San Diego</td>\n",
       "      <td>14</td>\n",
       "      <td>26610.85</td>\n",
       "      <td>5970.57</td>\n",
       "      <td>5007.14</td>\n",
       "    </tr>\n",
       "    <tr>\n",
       "      <th>118137</th>\n",
       "      <td>552 - MEDICAL BACK PROBLEMS W/O MCC</td>\n",
       "      <td>50764</td>\n",
       "      <td>SHASTA REGIONAL MEDICAL CENTER</td>\n",
       "      <td>1100 BUTTE ST</td>\n",
       "      <td>REDDING</td>\n",
       "      <td>CA</td>\n",
       "      <td>96001</td>\n",
       "      <td>CA - Redding</td>\n",
       "      <td>29</td>\n",
       "      <td>36127.31</td>\n",
       "      <td>6305.17</td>\n",
       "      <td>5219.93</td>\n",
       "    </tr>\n",
       "    <tr>\n",
       "      <th>118355</th>\n",
       "      <td>552 - MEDICAL BACK PROBLEMS W/O MCC</td>\n",
       "      <td>60001</td>\n",
       "      <td>NORTH COLORADO MEDICAL CENTER</td>\n",
       "      <td>1801 16TH STREET</td>\n",
       "      <td>GREELEY</td>\n",
       "      <td>CO</td>\n",
       "      <td>80631</td>\n",
       "      <td>CO - Greeley</td>\n",
       "      <td>48</td>\n",
       "      <td>20543.02</td>\n",
       "      <td>5454.12</td>\n",
       "      <td>4252.91</td>\n",
       "    </tr>\n",
       "    <tr>\n",
       "      <th>118383</th>\n",
       "      <td>552 - MEDICAL BACK PROBLEMS W/O MCC</td>\n",
       "      <td>100009</td>\n",
       "      <td>UNIVERSITY OF MIAMI HOSPITAL</td>\n",
       "      <td>1400 NW 12TH AVE</td>\n",
       "      <td>MIAMI</td>\n",
       "      <td>FL</td>\n",
       "      <td>33136</td>\n",
       "      <td>FL - Miami</td>\n",
       "      <td>37</td>\n",
       "      <td>40265.86</td>\n",
       "      <td>6362.72</td>\n",
       "      <td>5466.67</td>\n",
       "    </tr>\n",
       "    <tr>\n",
       "      <th>120657</th>\n",
       "      <td>552 - MEDICAL BACK PROBLEMS W/O MCC</td>\n",
       "      <td>100012</td>\n",
       "      <td>LEE MEMORIAL HOSPITAL</td>\n",
       "      <td>2776 CLEVELAND AVE</td>\n",
       "      <td>FORT MYERS</td>\n",
       "      <td>FL</td>\n",
       "      <td>33901</td>\n",
       "      <td>FL - Fort Myers</td>\n",
       "      <td>83</td>\n",
       "      <td>20712.84</td>\n",
       "      <td>4889.45</td>\n",
       "      <td>3755.37</td>\n",
       "    </tr>\n",
       "  </tbody>\n",
       "</table>\n",
       "</div>"
      ],
      "text/plain": [
       "                             DRG Definition  Provider Id  \\\n",
       "118109  552 - MEDICAL BACK PROBLEMS W/O MCC        50128   \n",
       "118137  552 - MEDICAL BACK PROBLEMS W/O MCC        50764   \n",
       "118355  552 - MEDICAL BACK PROBLEMS W/O MCC        60001   \n",
       "118383  552 - MEDICAL BACK PROBLEMS W/O MCC       100009   \n",
       "120657  552 - MEDICAL BACK PROBLEMS W/O MCC       100012   \n",
       "\n",
       "                         Provider Name Provider Street Address Provider City  \\\n",
       "118109         TRI-CITY MEDICAL CENTER          4002 VISTA WAY     OCEANSIDE   \n",
       "118137  SHASTA REGIONAL MEDICAL CENTER           1100 BUTTE ST       REDDING   \n",
       "118355   NORTH COLORADO MEDICAL CENTER        1801 16TH STREET       GREELEY   \n",
       "118383    UNIVERSITY OF MIAMI HOSPITAL        1400 NW 12TH AVE         MIAMI   \n",
       "120657           LEE MEMORIAL HOSPITAL      2776 CLEVELAND AVE    FORT MYERS   \n",
       "\n",
       "       Provider State  Provider Zip Code Hospital Referral Region Description  \\\n",
       "118109             CA              92056                       CA - San Diego   \n",
       "118137             CA              96001                         CA - Redding   \n",
       "118355             CO              80631                         CO - Greeley   \n",
       "118383             FL              33136                           FL - Miami   \n",
       "120657             FL              33901                      FL - Fort Myers   \n",
       "\n",
       "        Total Discharges  Average Covered Charges  Average Total Payments  \\\n",
       "118109                14                 26610.85                 5970.57   \n",
       "118137                29                 36127.31                 6305.17   \n",
       "118355                48                 20543.02                 5454.12   \n",
       "118383                37                 40265.86                 6362.72   \n",
       "120657                83                 20712.84                 4889.45   \n",
       "\n",
       "        Average Medicare Payments  \n",
       "118109                    5007.14  \n",
       "118137                    5219.93  \n",
       "118355                    4252.91  \n",
       "118383                    5466.67  \n",
       "120657                    3755.37  "
      ]
     },
     "execution_count": 4,
     "metadata": {},
     "output_type": "execute_result"
    }
   ],
   "source": [
    "# Slice the DataFrame to consist of only \"552 - MEDICAL BACK PROBLEMS W/O MCC\" information\n",
    "procedure_552_charges = hospital_data[\n",
    "    hospital_data[\"DRG Definition\"] == \"552 - MEDICAL BACK PROBLEMS W/O MCC\"\n",
    "]\n",
    "\n",
    "# Review the DataFrame\n",
    "procedure_552_charges.head()"
   ]
  },
  {
   "cell_type": "markdown",
   "metadata": {},
   "source": [
    "## Slice data for Average Total Payments by State"
   ]
  },
  {
   "cell_type": "code",
   "execution_count": 5,
   "metadata": {},
   "outputs": [
    {
     "data": {
      "text/html": [
       "<div>\n",
       "<style scoped>\n",
       "    .dataframe tbody tr th:only-of-type {\n",
       "        vertical-align: middle;\n",
       "    }\n",
       "\n",
       "    .dataframe tbody tr th {\n",
       "        vertical-align: top;\n",
       "    }\n",
       "\n",
       "    .dataframe thead th {\n",
       "        text-align: right;\n",
       "    }\n",
       "</style>\n",
       "<table border=\"1\" class=\"dataframe\">\n",
       "  <thead>\n",
       "    <tr style=\"text-align: right;\">\n",
       "      <th></th>\n",
       "      <th>Average Total Payments</th>\n",
       "    </tr>\n",
       "    <tr>\n",
       "      <th>Provider State</th>\n",
       "      <th></th>\n",
       "    </tr>\n",
       "  </thead>\n",
       "  <tbody>\n",
       "    <tr>\n",
       "      <th>AK</th>\n",
       "      <td>7134.40</td>\n",
       "    </tr>\n",
       "    <tr>\n",
       "      <th>AL</th>\n",
       "      <td>149613.29</td>\n",
       "    </tr>\n",
       "    <tr>\n",
       "      <th>AR</th>\n",
       "      <td>116147.95</td>\n",
       "    </tr>\n",
       "    <tr>\n",
       "      <th>AZ</th>\n",
       "      <td>151868.43</td>\n",
       "    </tr>\n",
       "    <tr>\n",
       "      <th>CA</th>\n",
       "      <td>1068146.26</td>\n",
       "    </tr>\n",
       "  </tbody>\n",
       "</table>\n",
       "</div>"
      ],
      "text/plain": [
       "                Average Total Payments\n",
       "Provider State                        \n",
       "AK                             7134.40\n",
       "AL                           149613.29\n",
       "AR                           116147.95\n",
       "AZ                           151868.43\n",
       "CA                          1068146.26"
      ]
     },
     "execution_count": 5,
     "metadata": {},
     "output_type": "execute_result"
    }
   ],
   "source": [
    "# Group data by state and average total payments, and then sum the values\n",
    "payments_by_state = procedure_552_charges[[\"Average Total Payments\", \"Provider State\"]]\n",
    "\n",
    "# Sum the average total payments by state\n",
    "total_payments_by_state = payments_by_state.groupby(\"Provider State\").sum()\n",
    "\n",
    "# Review the DataFrame\n",
    "total_payments_by_state.head()"
   ]
  },
  {
   "cell_type": "markdown",
   "metadata": {},
   "source": [
    "### Create the plot objects"
   ]
  },
  {
   "cell_type": "code",
   "execution_count": 8,
   "metadata": {},
   "outputs": [
    {
     "data": {},
     "metadata": {},
     "output_type": "display_data"
    },
    {
     "data": {
      "application/vnd.holoviews_exec.v0+json": "",
      "text/html": [
       "<div id='1244'>\n",
       "\n",
       "\n",
       "\n",
       "\n",
       "\n",
       "  <div class=\"bk-root\" id=\"c842fc1b-ee2b-4569-94ce-35e6c3c767ed\" data-root-id=\"1244\"></div>\n",
       "</div>\n",
       "<script type=\"application/javascript\">(function(root) {\n",
       "  function embed_document(root) {\n",
       "    var docs_json = {\"89e01ccb-0693-4a9a-b595-9e548dee1643\":{\"defs\":[{\"extends\":null,\"module\":null,\"name\":\"ReactiveHTML1\",\"overrides\":[],\"properties\":[]},{\"extends\":null,\"module\":null,\"name\":\"FlexBox1\",\"overrides\":[],\"properties\":[{\"default\":\"flex-start\",\"kind\":null,\"name\":\"align_content\"},{\"default\":\"flex-start\",\"kind\":null,\"name\":\"align_items\"},{\"default\":\"row\",\"kind\":null,\"name\":\"flex_direction\"},{\"default\":\"wrap\",\"kind\":null,\"name\":\"flex_wrap\"},{\"default\":\"flex-start\",\"kind\":null,\"name\":\"justify_content\"}]},{\"extends\":null,\"module\":null,\"name\":\"TemplateActions1\",\"overrides\":[],\"properties\":[{\"default\":0,\"kind\":null,\"name\":\"open_modal\"},{\"default\":0,\"kind\":null,\"name\":\"close_modal\"}]},{\"extends\":null,\"module\":null,\"name\":\"MaterialTemplateActions1\",\"overrides\":[],\"properties\":[{\"default\":0,\"kind\":null,\"name\":\"open_modal\"},{\"default\":0,\"kind\":null,\"name\":\"close_modal\"}]}],\"roots\":{\"references\":[{\"attributes\":{\"margin\":[5,5,5,5],\"name\":\"HSpacer01960\",\"sizing_mode\":\"stretch_width\"},\"id\":\"1245\",\"type\":\"Spacer\"},{\"attributes\":{},\"id\":\"1279\",\"type\":\"Selection\"},{\"attributes\":{},\"id\":\"1269\",\"type\":\"ResetTool\"},{\"attributes\":{},\"id\":\"1300\",\"type\":\"UnionRenderers\"},{\"attributes\":{\"axis\":{\"id\":\"1261\"},\"coordinates\":null,\"dimension\":1,\"grid_line_color\":null,\"group\":null,\"ticker\":null},\"id\":\"1264\",\"type\":\"Grid\"},{\"attributes\":{\"bottom_units\":\"screen\",\"coordinates\":null,\"fill_alpha\":0.5,\"fill_color\":\"lightgrey\",\"group\":null,\"left_units\":\"screen\",\"level\":\"overlay\",\"line_alpha\":1.0,\"line_color\":\"black\",\"line_dash\":[4,4],\"line_width\":2,\"right_units\":\"screen\",\"syncable\":false,\"top_units\":\"screen\"},\"id\":\"1270\",\"type\":\"BoxAnnotation\"},{\"attributes\":{\"axis_label\":\"Provider State\",\"coordinates\":null,\"formatter\":{\"id\":\"1288\"},\"group\":null,\"major_label_policy\":{\"id\":\"1289\"},\"ticker\":{\"id\":\"1259\"}},\"id\":\"1258\",\"type\":\"CategoricalAxis\"},{\"attributes\":{},\"id\":\"1292\",\"type\":\"AllLabels\"},{\"attributes\":{},\"id\":\"1256\",\"type\":\"LinearScale\"},{\"attributes\":{\"coordinates\":null,\"group\":null,\"text_color\":\"black\",\"text_font_size\":\"12pt\"},\"id\":\"1250\",\"type\":\"Title\"},{\"attributes\":{\"callback\":null,\"renderers\":[{\"id\":\"1284\"}],\"tags\":[\"hv_created\"],\"tooltips\":[[\"Provider State\",\"@{Provider_State}\"],[\"Average Total Payments\",\"@{Average_Total_Payments}\"]]},\"id\":\"1248\",\"type\":\"HoverTool\"},{\"attributes\":{},\"id\":\"1291\",\"type\":\"BasicTickFormatter\"},{\"attributes\":{},\"id\":\"1259\",\"type\":\"CategoricalTicker\"},{\"attributes\":{},\"id\":\"1289\",\"type\":\"AllLabels\"},{\"attributes\":{\"children\":[{\"id\":\"1245\"},{\"id\":\"1249\"},{\"id\":\"1313\"}],\"margin\":[0,0,0,0],\"name\":\"Row01956\",\"tags\":[\"embedded\"]},\"id\":\"1244\",\"type\":\"Row\"},{\"attributes\":{},\"id\":\"1254\",\"type\":\"CategoricalScale\"},{\"attributes\":{\"axis\":{\"id\":\"1258\"},\"coordinates\":null,\"grid_line_color\":null,\"group\":null,\"ticker\":null},\"id\":\"1260\",\"type\":\"Grid\"},{\"attributes\":{},\"id\":\"1262\",\"type\":\"BasicTicker\"},{\"attributes\":{\"margin\":[5,5,5,5],\"name\":\"HSpacer01961\",\"sizing_mode\":\"stretch_width\"},\"id\":\"1313\",\"type\":\"Spacer\"},{\"attributes\":{\"fill_alpha\":{\"value\":0.2},\"fill_color\":{\"value\":\"#30a2da\"},\"hatch_alpha\":{\"value\":0.2},\"hatch_color\":{\"value\":\"#30a2da\"},\"line_alpha\":{\"value\":0.2},\"top\":{\"field\":\"Average_Total_Payments\"},\"width\":{\"value\":0.8},\"x\":{\"field\":\"Provider_State\"}},\"id\":\"1283\",\"type\":\"VBar\"},{\"attributes\":{\"coordinates\":null,\"data_source\":{\"id\":\"1278\"},\"glyph\":{\"id\":\"1281\"},\"group\":null,\"hover_glyph\":null,\"muted_glyph\":{\"id\":\"1283\"},\"nonselection_glyph\":{\"id\":\"1282\"},\"selection_glyph\":{\"id\":\"1286\"},\"view\":{\"id\":\"1285\"}},\"id\":\"1284\",\"type\":\"GlyphRenderer\"},{\"attributes\":{\"axis_label\":\"Average Total Payments\",\"coordinates\":null,\"formatter\":{\"id\":\"1291\"},\"group\":null,\"major_label_policy\":{\"id\":\"1292\"},\"ticker\":{\"id\":\"1262\"}},\"id\":\"1261\",\"type\":\"LinearAxis\"},{\"attributes\":{\"bottom\":{\"value\":0},\"fill_alpha\":{\"value\":1.0},\"fill_color\":{\"value\":\"#30a2da\"},\"hatch_alpha\":{\"value\":1.0},\"hatch_color\":{\"value\":\"#30a2da\"},\"hatch_scale\":{\"value\":12.0},\"hatch_weight\":{\"value\":1.0},\"line_alpha\":{\"value\":1.0},\"line_cap\":{\"value\":\"butt\"},\"line_color\":{\"value\":\"black\"},\"line_dash\":{\"value\":[]},\"line_dash_offset\":{\"value\":0},\"line_join\":{\"value\":\"bevel\"},\"line_width\":{\"value\":1},\"top\":{\"field\":\"Average_Total_Payments\"},\"width\":{\"value\":0.8},\"x\":{\"field\":\"Provider_State\"}},\"id\":\"1286\",\"type\":\"VBar\"},{\"attributes\":{\"factors\":[\"AK\",\"AL\",\"AR\",\"AZ\",\"CA\",\"CO\",\"CT\",\"DC\",\"DE\",\"FL\",\"GA\",\"HI\",\"IA\",\"ID\",\"IL\",\"IN\",\"KS\",\"KY\",\"LA\",\"MA\",\"MD\",\"ME\",\"MI\",\"MN\",\"MO\",\"MS\",\"MT\",\"NC\",\"ND\",\"NE\",\"NH\",\"NJ\",\"NM\",\"NV\",\"NY\",\"OH\",\"OK\",\"OR\",\"PA\",\"RI\",\"SC\",\"SD\",\"TN\",\"TX\",\"UT\",\"VA\",\"VT\",\"WA\",\"WI\",\"WV\",\"WY\"],\"tags\":[[[\"Provider State\",\"Provider State\",null]]]},\"id\":\"1246\",\"type\":\"FactorRange\"},{\"attributes\":{\"source\":{\"id\":\"1278\"}},\"id\":\"1285\",\"type\":\"CDSView\"},{\"attributes\":{},\"id\":\"1288\",\"type\":\"CategoricalTickFormatter\"},{\"attributes\":{},\"id\":\"1265\",\"type\":\"SaveTool\"},{\"attributes\":{\"overlay\":{\"id\":\"1270\"}},\"id\":\"1268\",\"type\":\"BoxZoomTool\"},{\"attributes\":{\"end\":1174247.446,\"reset_end\":1174247.446,\"reset_start\":0.0,\"tags\":[[[\"Average Total Payments\",\"Average Total Payments\",null]]]},\"id\":\"1247\",\"type\":\"Range1d\"},{\"attributes\":{\"fill_color\":{\"value\":\"#30a2da\"},\"hatch_color\":{\"value\":\"#30a2da\"},\"top\":{\"field\":\"Average_Total_Payments\"},\"width\":{\"value\":0.8},\"x\":{\"field\":\"Provider_State\"}},\"id\":\"1281\",\"type\":\"VBar\"},{\"attributes\":{},\"id\":\"1266\",\"type\":\"PanTool\"},{\"attributes\":{\"fill_alpha\":{\"value\":0.1},\"fill_color\":{\"value\":\"#30a2da\"},\"hatch_alpha\":{\"value\":0.1},\"hatch_color\":{\"value\":\"#30a2da\"},\"line_alpha\":{\"value\":0.1},\"top\":{\"field\":\"Average_Total_Payments\"},\"width\":{\"value\":0.8},\"x\":{\"field\":\"Provider_State\"}},\"id\":\"1282\",\"type\":\"VBar\"},{\"attributes\":{},\"id\":\"1267\",\"type\":\"WheelZoomTool\"},{\"attributes\":{\"tools\":[{\"id\":\"1248\"},{\"id\":\"1265\"},{\"id\":\"1266\"},{\"id\":\"1267\"},{\"id\":\"1268\"},{\"id\":\"1269\"}]},\"id\":\"1271\",\"type\":\"Toolbar\"},{\"attributes\":{\"below\":[{\"id\":\"1258\"}],\"center\":[{\"id\":\"1260\"},{\"id\":\"1264\"}],\"height\":300,\"left\":[{\"id\":\"1261\"}],\"margin\":[5,5,5,5],\"min_border_bottom\":10,\"min_border_left\":10,\"min_border_right\":10,\"min_border_top\":10,\"renderers\":[{\"id\":\"1284\"}],\"sizing_mode\":\"fixed\",\"title\":{\"id\":\"1250\"},\"toolbar\":{\"id\":\"1271\"},\"width\":700,\"x_range\":{\"id\":\"1246\"},\"x_scale\":{\"id\":\"1254\"},\"y_range\":{\"id\":\"1247\"},\"y_scale\":{\"id\":\"1256\"}},\"id\":\"1249\",\"subtype\":\"Figure\",\"type\":\"Plot\"},{\"attributes\":{\"data\":{\"Average_Total_Payments\":{\"__ndarray__\":\"ZmZmZmbeu0AfhetRakMCQTMzMzM/W/xACtejcOOJAkEpXI9CckwwQa5H4Xqk7ABBAAAAAPKxAEEK16Nw1eTlQFK4HoVLatZA4XoULmPMJUF7FK5H4yoLQfYoXI8SB+NAmpmZmcEA+0CZmZmZGd/eQDMzMzPleyFBcT0K12G/DEFcj8L1lFP0QMP1KFxZYQNBpHA9Cv9S/EAVrkfhllcSQT0K16MoiBFBrkfheqAZ8kDD9ShcI3UUQR+F61GKAgRBj8L1KDStDEGkcD0KP3z5QHsUrkfhR99AexSuRwyXEEFxPQrX4xTVQClcj8J1dPRASOF6FIYC7EDsUbge57sXQc3MzMzMrOpArkfherRI9EApXI/CW24nQVyPwvVHthtBhetRuPo5+0CamZmZ2YPyQJqZmZk8Fx9BPgrXo2iM4EApXI/CxQMCQeF6FK737+JACtejcBm2A0EAAAAAvHsiQT4K16OwiOZAZmZmZiiGDEHsUbgeRbrSQAAAAAA+FAdBFa5H4Z4LB0H2KFyP3v71QKRwPQp3m9hA\",\"dtype\":\"float64\",\"order\":\"little\",\"shape\":[51]},\"Provider_State\":[\"AK\",\"AL\",\"AR\",\"AZ\",\"CA\",\"CO\",\"CT\",\"DC\",\"DE\",\"FL\",\"GA\",\"HI\",\"IA\",\"ID\",\"IL\",\"IN\",\"KS\",\"KY\",\"LA\",\"MA\",\"MD\",\"ME\",\"MI\",\"MN\",\"MO\",\"MS\",\"MT\",\"NC\",\"ND\",\"NE\",\"NH\",\"NJ\",\"NM\",\"NV\",\"NY\",\"OH\",\"OK\",\"OR\",\"PA\",\"RI\",\"SC\",\"SD\",\"TN\",\"TX\",\"UT\",\"VA\",\"VT\",\"WA\",\"WI\",\"WV\",\"WY\"]},\"selected\":{\"id\":\"1279\"},\"selection_policy\":{\"id\":\"1300\"}},\"id\":\"1278\",\"type\":\"ColumnDataSource\"}],\"root_ids\":[\"1244\"]},\"title\":\"Bokeh Application\",\"version\":\"2.4.2\"}};\n",
       "    var render_items = [{\"docid\":\"89e01ccb-0693-4a9a-b595-9e548dee1643\",\"root_ids\":[\"1244\"],\"roots\":{\"1244\":\"c842fc1b-ee2b-4569-94ce-35e6c3c767ed\"}}];\n",
       "    root.Bokeh.embed.embed_items_notebook(docs_json, render_items);\n",
       "  }\n",
       "  if (root.Bokeh !== undefined && root.Bokeh.Panel !== undefined) {\n",
       "    embed_document(root);\n",
       "  } else {\n",
       "    var attempts = 0;\n",
       "    var timer = setInterval(function(root) {\n",
       "      if (root.Bokeh !== undefined && root.Bokeh.Panel !== undefined) {\n",
       "        clearInterval(timer);\n",
       "        embed_document(root);\n",
       "      } else if (document.readyState == \"complete\") {\n",
       "        attempts++;\n",
       "        if (attempts > 200) {\n",
       "          clearInterval(timer);\n",
       "          console.log(\"Bokeh: ERROR: Unable to run BokehJS code because BokehJS library is missing\");\n",
       "        }\n",
       "      }\n",
       "    }, 25, root)\n",
       "  }\n",
       "})(window);</script>"
      ],
      "text/plain": [
       ":Bars   [Provider State]   (Average Total Payments)"
      ]
     },
     "execution_count": 8,
     "metadata": {
      "application/vnd.holoviews_exec.v0+json": {
       "id": "1244"
      }
     },
     "output_type": "execute_result"
    }
   ],
   "source": [
    "# Plot data using hvplot.bar\n",
    "total_payments_by_state.hvplot.bar()"
   ]
  },
  {
   "cell_type": "code",
   "execution_count": 9,
   "metadata": {},
   "outputs": [
    {
     "data": {},
     "metadata": {},
     "output_type": "display_data"
    },
    {
     "data": {
      "application/vnd.holoviews_exec.v0+json": "",
      "text/html": [
       "<div id='1365'>\n",
       "\n",
       "\n",
       "\n",
       "\n",
       "\n",
       "  <div class=\"bk-root\" id=\"c638a215-8c77-4e2b-87b9-489907607475\" data-root-id=\"1365\"></div>\n",
       "</div>\n",
       "<script type=\"application/javascript\">(function(root) {\n",
       "  function embed_document(root) {\n",
       "    var docs_json = {\"13d5e5b5-6ff6-4d66-acfb-6c0ab6d2aa8e\":{\"defs\":[{\"extends\":null,\"module\":null,\"name\":\"ReactiveHTML1\",\"overrides\":[],\"properties\":[]},{\"extends\":null,\"module\":null,\"name\":\"FlexBox1\",\"overrides\":[],\"properties\":[{\"default\":\"flex-start\",\"kind\":null,\"name\":\"align_content\"},{\"default\":\"flex-start\",\"kind\":null,\"name\":\"align_items\"},{\"default\":\"row\",\"kind\":null,\"name\":\"flex_direction\"},{\"default\":\"wrap\",\"kind\":null,\"name\":\"flex_wrap\"},{\"default\":\"flex-start\",\"kind\":null,\"name\":\"justify_content\"}]},{\"extends\":null,\"module\":null,\"name\":\"TemplateActions1\",\"overrides\":[],\"properties\":[{\"default\":0,\"kind\":null,\"name\":\"open_modal\"},{\"default\":0,\"kind\":null,\"name\":\"close_modal\"}]},{\"extends\":null,\"module\":null,\"name\":\"MaterialTemplateActions1\",\"overrides\":[],\"properties\":[{\"default\":0,\"kind\":null,\"name\":\"open_modal\"},{\"default\":0,\"kind\":null,\"name\":\"close_modal\"}]}],\"roots\":{\"references\":[{\"attributes\":{\"margin\":[5,5,5,5],\"name\":\"HSpacer02110\",\"sizing_mode\":\"stretch_width\"},\"id\":\"1434\",\"type\":\"Spacer\"},{\"attributes\":{},\"id\":\"1388\",\"type\":\"WheelZoomTool\"},{\"attributes\":{\"overlay\":{\"id\":\"1391\"}},\"id\":\"1389\",\"type\":\"BoxZoomTool\"},{\"attributes\":{\"line_color\":\"#30a2da\",\"line_width\":2,\"x\":{\"field\":\"Provider State\"},\"y\":{\"field\":\"Average Total Payments\"}},\"id\":\"1407\",\"type\":\"Line\"},{\"attributes\":{\"coordinates\":null,\"group\":null,\"text_color\":\"black\",\"text_font_size\":\"12pt\"},\"id\":\"1371\",\"type\":\"Title\"},{\"attributes\":{},\"id\":\"1412\",\"type\":\"BasicTickFormatter\"},{\"attributes\":{},\"id\":\"1413\",\"type\":\"AllLabels\"},{\"attributes\":{},\"id\":\"1375\",\"type\":\"CategoricalScale\"},{\"attributes\":{\"line_color\":\"#30a2da\",\"line_width\":2,\"x\":{\"field\":\"Provider State\"},\"y\":{\"field\":\"Average Total Payments\"}},\"id\":\"1402\",\"type\":\"Line\"},{\"attributes\":{},\"id\":\"1390\",\"type\":\"ResetTool\"},{\"attributes\":{\"axis_label\":\"Provider State\",\"coordinates\":null,\"formatter\":{\"id\":\"1409\"},\"group\":null,\"major_label_policy\":{\"id\":\"1410\"},\"ticker\":{\"id\":\"1380\"}},\"id\":\"1379\",\"type\":\"CategoricalAxis\"},{\"attributes\":{},\"id\":\"1387\",\"type\":\"PanTool\"},{\"attributes\":{\"data\":{\"Average Total Payments\":{\"__ndarray__\":\"ZmZmZmbeu0DsUbgeRbrSQHE9CtfjFNVAUrgehUtq1kCkcD0Kd5vYQJmZmZkZ395AexSuR+FH30A+CtejaIzgQOF6FK737+JA9ihcjxIH40AK16Nw1eTlQD4K16OwiOZAzczMzMys6kBI4XoUhgLsQK5H4XqgGfJAmpmZmdmD8kCuR+F6tEj0QFyPwvWUU/RAKVyPwnV09ED2KFyP3v71QKRwPQo/fPlAmpmZmcEA+0CF61G4+jn7QKRwPQr/UvxAMzMzMz9b/EAAAAAA8rEAQa5H4Xqk7ABBKVyPwsUDAkEfhetRakMCQQrXo3DjiQJBw/UoXFlhA0EK16NwGbYDQR+F61GKAgRBFa5H4Z4LB0EAAAAAPhQHQXsUrkfjKgtBZmZmZiiGDEGPwvUoNK0MQXE9CtdhvwxBexSuRwyXEEE9CtejKIgRQRWuR+GWVxJBw/UoXCN1FEHsUbge57sXQVyPwvVHthtBmpmZmTwXH0EzMzMz5XshQQAAAAC8eyJB4XoULmPMJUEpXI/CW24nQSlcj0JyTDBB\",\"dtype\":\"float64\",\"order\":\"little\",\"shape\":[51]},\"Average_Total_Payments\":{\"__ndarray__\":\"ZmZmZmbeu0DsUbgeRbrSQHE9CtfjFNVAUrgehUtq1kCkcD0Kd5vYQJmZmZkZ395AexSuR+FH30A+CtejaIzgQOF6FK737+JA9ihcjxIH40AK16Nw1eTlQD4K16OwiOZAzczMzMys6kBI4XoUhgLsQK5H4XqgGfJAmpmZmdmD8kCuR+F6tEj0QFyPwvWUU/RAKVyPwnV09ED2KFyP3v71QKRwPQo/fPlAmpmZmcEA+0CF61G4+jn7QKRwPQr/UvxAMzMzMz9b/EAAAAAA8rEAQa5H4Xqk7ABBKVyPwsUDAkEfhetRakMCQQrXo3DjiQJBw/UoXFlhA0EK16NwGbYDQR+F61GKAgRBFa5H4Z4LB0EAAAAAPhQHQXsUrkfjKgtBZmZmZiiGDEGPwvUoNK0MQXE9CtdhvwxBexSuRwyXEEE9CtejKIgRQRWuR+GWVxJBw/UoXCN1FEHsUbge57sXQVyPwvVHthtBmpmZmTwXH0EzMzMz5XshQQAAAAC8eyJB4XoULmPMJUEpXI/CW24nQSlcj0JyTDBB\",\"dtype\":\"float64\",\"order\":\"little\",\"shape\":[51]},\"Provider State\":[\"AK\",\"VT\",\"ND\",\"DE\",\"WY\",\"ID\",\"MT\",\"RI\",\"SD\",\"HI\",\"DC\",\"UT\",\"NM\",\"NH\",\"ME\",\"OR\",\"NV\",\"KS\",\"NE\",\"WV\",\"MS\",\"IA\",\"OK\",\"LA\",\"AR\",\"CT\",\"CO\",\"SC\",\"AL\",\"AZ\",\"KY\",\"TN\",\"MN\",\"WI\",\"WA\",\"GA\",\"VA\",\"MO\",\"IN\",\"NC\",\"MD\",\"MA\",\"MI\",\"NJ\",\"OH\",\"PA\",\"IL\",\"TX\",\"FL\",\"NY\",\"CA\"],\"Provider_State\":[\"AK\",\"VT\",\"ND\",\"DE\",\"WY\",\"ID\",\"MT\",\"RI\",\"SD\",\"HI\",\"DC\",\"UT\",\"NM\",\"NH\",\"ME\",\"OR\",\"NV\",\"KS\",\"NE\",\"WV\",\"MS\",\"IA\",\"OK\",\"LA\",\"AR\",\"CT\",\"CO\",\"SC\",\"AL\",\"AZ\",\"KY\",\"TN\",\"MN\",\"WI\",\"WA\",\"GA\",\"VA\",\"MO\",\"IN\",\"NC\",\"MD\",\"MA\",\"MI\",\"NJ\",\"OH\",\"PA\",\"IL\",\"TX\",\"FL\",\"NY\",\"CA\"]},\"selected\":{\"id\":\"1400\"},\"selection_policy\":{\"id\":\"1421\"}},\"id\":\"1399\",\"type\":\"ColumnDataSource\"},{\"attributes\":{\"bottom_units\":\"screen\",\"coordinates\":null,\"fill_alpha\":0.5,\"fill_color\":\"lightgrey\",\"group\":null,\"left_units\":\"screen\",\"level\":\"overlay\",\"line_alpha\":1.0,\"line_color\":\"black\",\"line_dash\":[4,4],\"line_width\":2,\"right_units\":\"screen\",\"syncable\":false,\"top_units\":\"screen\"},\"id\":\"1391\",\"type\":\"BoxAnnotation\"},{\"attributes\":{\"factors\":[\"AK\",\"VT\",\"ND\",\"DE\",\"WY\",\"ID\",\"MT\",\"RI\",\"SD\",\"HI\",\"DC\",\"UT\",\"NM\",\"NH\",\"ME\",\"OR\",\"NV\",\"KS\",\"NE\",\"WV\",\"MS\",\"IA\",\"OK\",\"LA\",\"AR\",\"CT\",\"CO\",\"SC\",\"AL\",\"AZ\",\"KY\",\"TN\",\"MN\",\"WI\",\"WA\",\"GA\",\"VA\",\"MO\",\"IN\",\"NC\",\"MD\",\"MA\",\"MI\",\"NJ\",\"OH\",\"PA\",\"IL\",\"TX\",\"FL\",\"NY\",\"CA\"],\"tags\":[[[\"Provider State\",\"Provider State\",null]]]},\"id\":\"1367\",\"type\":\"FactorRange\"},{\"attributes\":{},\"id\":\"1377\",\"type\":\"LinearScale\"},{\"attributes\":{\"margin\":[5,5,5,5],\"name\":\"HSpacer02109\",\"sizing_mode\":\"stretch_width\"},\"id\":\"1366\",\"type\":\"Spacer\"},{\"attributes\":{},\"id\":\"1380\",\"type\":\"CategoricalTicker\"},{\"attributes\":{\"axis\":{\"id\":\"1382\"},\"coordinates\":null,\"dimension\":1,\"grid_line_color\":null,\"group\":null,\"ticker\":null},\"id\":\"1385\",\"type\":\"Grid\"},{\"attributes\":{\"axis\":{\"id\":\"1379\"},\"coordinates\":null,\"grid_line_color\":null,\"group\":null,\"ticker\":null},\"id\":\"1381\",\"type\":\"Grid\"},{\"attributes\":{},\"id\":\"1421\",\"type\":\"UnionRenderers\"},{\"attributes\":{},\"id\":\"1383\",\"type\":\"BasicTicker\"},{\"attributes\":{},\"id\":\"1400\",\"type\":\"Selection\"},{\"attributes\":{\"axis_label\":\"Average Total Payments\",\"coordinates\":null,\"formatter\":{\"id\":\"1412\"},\"group\":null,\"major_label_policy\":{\"id\":\"1413\"},\"ticker\":{\"id\":\"1383\"}},\"id\":\"1382\",\"type\":\"LinearAxis\"},{\"attributes\":{\"callback\":null,\"renderers\":[{\"id\":\"1405\"}],\"tags\":[\"hv_created\"],\"tooltips\":[[\"Provider State\",\"@{Provider_State}\"],[\"Average Total Payments\",\"@{Average_Total_Payments}\"]]},\"id\":\"1369\",\"type\":\"HoverTool\"},{\"attributes\":{\"below\":[{\"id\":\"1379\"}],\"center\":[{\"id\":\"1381\"},{\"id\":\"1385\"}],\"height\":300,\"left\":[{\"id\":\"1382\"}],\"margin\":[5,5,5,5],\"min_border_bottom\":10,\"min_border_left\":10,\"min_border_right\":10,\"min_border_top\":10,\"renderers\":[{\"id\":\"1405\"}],\"sizing_mode\":\"fixed\",\"title\":{\"id\":\"1371\"},\"toolbar\":{\"id\":\"1392\"},\"width\":700,\"x_range\":{\"id\":\"1367\"},\"x_scale\":{\"id\":\"1375\"},\"y_range\":{\"id\":\"1368\"},\"y_scale\":{\"id\":\"1377\"}},\"id\":\"1370\",\"subtype\":\"Figure\",\"type\":\"Plot\"},{\"attributes\":{\"line_alpha\":0.1,\"line_color\":\"#30a2da\",\"line_width\":2,\"x\":{\"field\":\"Provider State\"},\"y\":{\"field\":\"Average Total Payments\"}},\"id\":\"1403\",\"type\":\"Line\"},{\"attributes\":{\"coordinates\":null,\"data_source\":{\"id\":\"1399\"},\"glyph\":{\"id\":\"1402\"},\"group\":null,\"hover_glyph\":null,\"muted_glyph\":{\"id\":\"1404\"},\"nonselection_glyph\":{\"id\":\"1403\"},\"selection_glyph\":{\"id\":\"1407\"},\"view\":{\"id\":\"1406\"}},\"id\":\"1405\",\"type\":\"GlyphRenderer\"},{\"attributes\":{\"children\":[{\"id\":\"1366\"},{\"id\":\"1370\"},{\"id\":\"1434\"}],\"margin\":[0,0,0,0],\"name\":\"Row02105\",\"tags\":[\"embedded\"]},\"id\":\"1365\",\"type\":\"Row\"},{\"attributes\":{},\"id\":\"1410\",\"type\":\"AllLabels\"},{\"attributes\":{\"line_alpha\":0.2,\"line_color\":\"#30a2da\",\"line_width\":2,\"x\":{\"field\":\"Provider State\"},\"y\":{\"field\":\"Average Total Payments\"}},\"id\":\"1404\",\"type\":\"Line\"},{\"attributes\":{\"tools\":[{\"id\":\"1369\"},{\"id\":\"1386\"},{\"id\":\"1387\"},{\"id\":\"1388\"},{\"id\":\"1389\"},{\"id\":\"1390\"}]},\"id\":\"1392\",\"type\":\"Toolbar\"},{\"attributes\":{},\"id\":\"1409\",\"type\":\"CategoricalTickFormatter\"},{\"attributes\":{},\"id\":\"1386\",\"type\":\"SaveTool\"},{\"attributes\":{\"source\":{\"id\":\"1399\"}},\"id\":\"1406\",\"type\":\"CDSView\"},{\"attributes\":{\"end\":1174247.446,\"reset_end\":1174247.446,\"reset_start\":-98966.78600000002,\"start\":-98966.78600000002,\"tags\":[[[\"Average Total Payments\",\"Average Total Payments\",null]]]},\"id\":\"1368\",\"type\":\"Range1d\"}],\"root_ids\":[\"1365\"]},\"title\":\"Bokeh Application\",\"version\":\"2.4.2\"}};\n",
       "    var render_items = [{\"docid\":\"13d5e5b5-6ff6-4d66-acfb-6c0ab6d2aa8e\",\"root_ids\":[\"1365\"],\"roots\":{\"1365\":\"c638a215-8c77-4e2b-87b9-489907607475\"}}];\n",
       "    root.Bokeh.embed.embed_items_notebook(docs_json, render_items);\n",
       "  }\n",
       "  if (root.Bokeh !== undefined && root.Bokeh.Panel !== undefined) {\n",
       "    embed_document(root);\n",
       "  } else {\n",
       "    var attempts = 0;\n",
       "    var timer = setInterval(function(root) {\n",
       "      if (root.Bokeh !== undefined && root.Bokeh.Panel !== undefined) {\n",
       "        clearInterval(timer);\n",
       "        embed_document(root);\n",
       "      } else if (document.readyState == \"complete\") {\n",
       "        attempts++;\n",
       "        if (attempts > 200) {\n",
       "          clearInterval(timer);\n",
       "          console.log(\"Bokeh: ERROR: Unable to run BokehJS code because BokehJS library is missing\");\n",
       "        }\n",
       "      }\n",
       "    }, 25, root)\n",
       "  }\n",
       "})(window);</script>"
      ],
      "text/plain": [
       ":Curve   [Provider State]   (Average Total Payments)"
      ]
     },
     "execution_count": 9,
     "metadata": {
      "application/vnd.holoviews_exec.v0+json": {
       "id": "1365"
      }
     },
     "output_type": "execute_result"
    }
   ],
   "source": [
    "# Sort the state data values by Average Total Paymnts\n",
    "sorted_total_payments_by_state = total_payments_by_state.sort_values(\"Average Total Payments\")\n",
    "\n",
    "# Plot the sorted data\n",
    "sorted_total_payments_by_state.hvplot()"
   ]
  },
  {
   "cell_type": "markdown",
   "metadata": {},
   "source": [
    "## Compose side-by-side plots using the + operator"
   ]
  },
  {
   "cell_type": "code",
   "execution_count": 11,
   "metadata": {},
   "outputs": [
    {
     "data": {},
     "metadata": {},
     "output_type": "display_data"
    },
    {
     "data": {
      "application/vnd.holoviews_exec.v0+json": "",
      "text/html": [
       "<div id='1889'>\n",
       "\n",
       "\n",
       "\n",
       "\n",
       "\n",
       "  <div class=\"bk-root\" id=\"e65c3fb7-8b69-4b97-8cce-ab64854a286c\" data-root-id=\"1889\"></div>\n",
       "</div>\n",
       "<script type=\"application/javascript\">(function(root) {\n",
       "  function embed_document(root) {\n",
       "    var docs_json = {\"6642cd6e-30b9-4100-99e4-1e3e3b44c91c\":{\"defs\":[{\"extends\":null,\"module\":null,\"name\":\"ReactiveHTML1\",\"overrides\":[],\"properties\":[]},{\"extends\":null,\"module\":null,\"name\":\"FlexBox1\",\"overrides\":[],\"properties\":[{\"default\":\"flex-start\",\"kind\":null,\"name\":\"align_content\"},{\"default\":\"flex-start\",\"kind\":null,\"name\":\"align_items\"},{\"default\":\"row\",\"kind\":null,\"name\":\"flex_direction\"},{\"default\":\"wrap\",\"kind\":null,\"name\":\"flex_wrap\"},{\"default\":\"flex-start\",\"kind\":null,\"name\":\"justify_content\"}]},{\"extends\":null,\"module\":null,\"name\":\"TemplateActions1\",\"overrides\":[],\"properties\":[{\"default\":0,\"kind\":null,\"name\":\"open_modal\"},{\"default\":0,\"kind\":null,\"name\":\"close_modal\"}]},{\"extends\":null,\"module\":null,\"name\":\"MaterialTemplateActions1\",\"overrides\":[],\"properties\":[{\"default\":0,\"kind\":null,\"name\":\"open_modal\"},{\"default\":0,\"kind\":null,\"name\":\"close_modal\"}]}],\"roots\":{\"references\":[{\"attributes\":{\"tools\":[{\"id\":\"1939\"},{\"id\":\"1956\"},{\"id\":\"1957\"},{\"id\":\"1958\"},{\"id\":\"1959\"},{\"id\":\"1960\"}]},\"id\":\"1962\",\"type\":\"Toolbar\"},{\"attributes\":{\"fill_alpha\":{\"value\":0.2},\"fill_color\":{\"value\":\"#30a2da\"},\"hatch_alpha\":{\"value\":0.2},\"hatch_color\":{\"value\":\"#30a2da\"},\"line_alpha\":{\"value\":0.2},\"top\":{\"field\":\"Average_Total_Payments\"},\"width\":{\"value\":0.8},\"x\":{\"field\":\"Provider_State\"}},\"id\":\"1928\",\"type\":\"VBar\"},{\"attributes\":{\"end\":1174247.446,\"reset_end\":1174247.446,\"reset_start\":-98966.78600000002,\"start\":-98966.78600000002,\"tags\":[[[\"Average Total Payments\",\"Average Total Payments\",null]]]},\"id\":\"1892\",\"type\":\"Range1d\"},{\"attributes\":{\"line_color\":\"#30a2da\",\"line_width\":2,\"x\":{\"field\":\"Provider State\"},\"y\":{\"field\":\"Average Total Payments\"}},\"id\":\"1977\",\"type\":\"Line\"},{\"attributes\":{},\"id\":\"1960\",\"type\":\"ResetTool\"},{\"attributes\":{\"bottom_units\":\"screen\",\"coordinates\":null,\"fill_alpha\":0.5,\"fill_color\":\"lightgrey\",\"group\":null,\"left_units\":\"screen\",\"level\":\"overlay\",\"line_alpha\":1.0,\"line_color\":\"black\",\"line_dash\":[4,4],\"line_width\":2,\"right_units\":\"screen\",\"syncable\":false,\"top_units\":\"screen\"},\"id\":\"1915\",\"type\":\"BoxAnnotation\"},{\"attributes\":{},\"id\":\"1933\",\"type\":\"CategoricalTickFormatter\"},{\"attributes\":{},\"id\":\"1947\",\"type\":\"LinearScale\"},{\"attributes\":{\"bottom_units\":\"screen\",\"coordinates\":null,\"fill_alpha\":0.5,\"fill_color\":\"lightgrey\",\"group\":null,\"left_units\":\"screen\",\"level\":\"overlay\",\"line_alpha\":1.0,\"line_color\":\"black\",\"line_dash\":[4,4],\"line_width\":2,\"right_units\":\"screen\",\"syncable\":false,\"top_units\":\"screen\"},\"id\":\"1961\",\"type\":\"BoxAnnotation\"},{\"attributes\":{\"coordinates\":null,\"group\":null,\"text_color\":\"black\",\"text_font_size\":\"12pt\"},\"id\":\"1895\",\"type\":\"Title\"},{\"attributes\":{\"toolbars\":[{\"id\":\"1916\"},{\"id\":\"1962\"}],\"tools\":[{\"id\":\"1893\"},{\"id\":\"1910\"},{\"id\":\"1911\"},{\"id\":\"1912\"},{\"id\":\"1913\"},{\"id\":\"1914\"},{\"id\":\"1939\"},{\"id\":\"1956\"},{\"id\":\"1957\"},{\"id\":\"1958\"},{\"id\":\"1959\"},{\"id\":\"1960\"}]},\"id\":\"2007\",\"type\":\"ProxyToolbar\"},{\"attributes\":{},\"id\":\"1934\",\"type\":\"AllLabels\"},{\"attributes\":{},\"id\":\"1983\",\"type\":\"AllLabels\"},{\"attributes\":{},\"id\":\"1970\",\"type\":\"Selection\"},{\"attributes\":{\"callback\":null,\"renderers\":[{\"id\":\"1929\"}],\"tags\":[\"hv_created\"],\"tooltips\":[[\"Provider State\",\"@{Provider_State}\"],[\"Average Total Payments\",\"@{Average_Total_Payments}\"]]},\"id\":\"1893\",\"type\":\"HoverTool\"},{\"attributes\":{},\"id\":\"1937\",\"type\":\"AllLabels\"},{\"attributes\":{\"children\":[{\"id\":\"2008\"},{\"id\":\"2006\"}]},\"id\":\"2009\",\"type\":\"Column\"},{\"attributes\":{\"data\":{\"Average_Total_Payments\":{\"__ndarray__\":\"ZmZmZmbeu0AfhetRakMCQTMzMzM/W/xACtejcOOJAkEpXI9CckwwQa5H4Xqk7ABBAAAAAPKxAEEK16Nw1eTlQFK4HoVLatZA4XoULmPMJUF7FK5H4yoLQfYoXI8SB+NAmpmZmcEA+0CZmZmZGd/eQDMzMzPleyFBcT0K12G/DEFcj8L1lFP0QMP1KFxZYQNBpHA9Cv9S/EAVrkfhllcSQT0K16MoiBFBrkfheqAZ8kDD9ShcI3UUQR+F61GKAgRBj8L1KDStDEGkcD0KP3z5QHsUrkfhR99AexSuRwyXEEFxPQrX4xTVQClcj8J1dPRASOF6FIYC7EDsUbge57sXQc3MzMzMrOpArkfherRI9EApXI/CW24nQVyPwvVHthtBhetRuPo5+0CamZmZ2YPyQJqZmZk8Fx9BPgrXo2iM4EApXI/CxQMCQeF6FK737+JACtejcBm2A0EAAAAAvHsiQT4K16OwiOZAZmZmZiiGDEHsUbgeRbrSQAAAAAA+FAdBFa5H4Z4LB0H2KFyP3v71QKRwPQp3m9hA\",\"dtype\":\"float64\",\"order\":\"little\",\"shape\":[51]},\"Provider_State\":[\"AK\",\"AL\",\"AR\",\"AZ\",\"CA\",\"CO\",\"CT\",\"DC\",\"DE\",\"FL\",\"GA\",\"HI\",\"IA\",\"ID\",\"IL\",\"IN\",\"KS\",\"KY\",\"LA\",\"MA\",\"MD\",\"ME\",\"MI\",\"MN\",\"MO\",\"MS\",\"MT\",\"NC\",\"ND\",\"NE\",\"NH\",\"NJ\",\"NM\",\"NV\",\"NY\",\"OH\",\"OK\",\"OR\",\"PA\",\"RI\",\"SC\",\"SD\",\"TN\",\"TX\",\"UT\",\"VA\",\"VT\",\"WA\",\"WI\",\"WV\",\"WY\"]},\"selected\":{\"id\":\"1924\"},\"selection_policy\":{\"id\":\"1991\"}},\"id\":\"1923\",\"type\":\"ColumnDataSource\"},{\"attributes\":{\"bottom\":{\"value\":0},\"fill_alpha\":{\"value\":1.0},\"fill_color\":{\"value\":\"#30a2da\"},\"hatch_alpha\":{\"value\":1.0},\"hatch_color\":{\"value\":\"#30a2da\"},\"hatch_scale\":{\"value\":12.0},\"hatch_weight\":{\"value\":1.0},\"line_alpha\":{\"value\":1.0},\"line_cap\":{\"value\":\"butt\"},\"line_color\":{\"value\":\"black\"},\"line_dash\":{\"value\":[]},\"line_dash_offset\":{\"value\":0},\"line_join\":{\"value\":\"bevel\"},\"line_width\":{\"value\":1},\"top\":{\"field\":\"Average_Total_Payments\"},\"width\":{\"value\":0.8},\"x\":{\"field\":\"Provider_State\"}},\"id\":\"1931\",\"type\":\"VBar\"},{\"attributes\":{\"toolbar\":{\"id\":\"2007\"},\"toolbar_location\":\"above\"},\"id\":\"2008\",\"type\":\"ToolbarBox\"},{\"attributes\":{\"below\":[{\"id\":\"1903\"}],\"center\":[{\"id\":\"1905\"},{\"id\":\"1909\"}],\"height\":300,\"left\":[{\"id\":\"1906\"}],\"margin\":null,\"min_border_bottom\":10,\"min_border_left\":10,\"min_border_right\":10,\"min_border_top\":10,\"renderers\":[{\"id\":\"1929\"}],\"sizing_mode\":\"fixed\",\"title\":{\"id\":\"1895\"},\"toolbar\":{\"id\":\"1916\"},\"toolbar_location\":null,\"width\":700,\"x_range\":{\"id\":\"1891\"},\"x_scale\":{\"id\":\"1899\"},\"y_range\":{\"id\":\"1892\"},\"y_scale\":{\"id\":\"1901\"}},\"id\":\"1894\",\"subtype\":\"Figure\",\"type\":\"Plot\"},{\"attributes\":{\"factors\":[\"AK\",\"AL\",\"AR\",\"AZ\",\"CA\",\"CO\",\"CT\",\"DC\",\"DE\",\"FL\",\"GA\",\"HI\",\"IA\",\"ID\",\"IL\",\"IN\",\"KS\",\"KY\",\"LA\",\"MA\",\"MD\",\"ME\",\"MI\",\"MN\",\"MO\",\"MS\",\"MT\",\"NC\",\"ND\",\"NE\",\"NH\",\"NJ\",\"NM\",\"NV\",\"NY\",\"OH\",\"OK\",\"OR\",\"PA\",\"RI\",\"SC\",\"SD\",\"TN\",\"TX\",\"UT\",\"VA\",\"VT\",\"WA\",\"WI\",\"WV\",\"WY\"],\"tags\":[[[\"Provider State\",\"Provider State\",null]]]},\"id\":\"1891\",\"type\":\"FactorRange\"},{\"attributes\":{},\"id\":\"1980\",\"type\":\"AllLabels\"},{\"attributes\":{\"below\":[{\"id\":\"1949\"}],\"center\":[{\"id\":\"1951\"},{\"id\":\"1955\"}],\"height\":300,\"left\":[{\"id\":\"1952\"}],\"margin\":null,\"min_border_bottom\":10,\"min_border_left\":10,\"min_border_right\":10,\"min_border_top\":10,\"renderers\":[{\"id\":\"1975\"}],\"sizing_mode\":\"fixed\",\"title\":{\"id\":\"1941\"},\"toolbar\":{\"id\":\"1962\"},\"toolbar_location\":null,\"width\":700,\"x_range\":{\"id\":\"1891\"},\"x_scale\":{\"id\":\"1945\"},\"y_range\":{\"id\":\"1892\"},\"y_scale\":{\"id\":\"1947\"}},\"id\":\"1940\",\"subtype\":\"Figure\",\"type\":\"Plot\"},{\"attributes\":{\"callback\":null,\"renderers\":[{\"id\":\"1975\"}],\"tags\":[\"hv_created\"],\"tooltips\":[[\"Provider State\",\"@{Provider_State}\"],[\"Average Total Payments\",\"@{Average_Total_Payments}\"]]},\"id\":\"1939\",\"type\":\"HoverTool\"},{\"attributes\":{},\"id\":\"1924\",\"type\":\"Selection\"},{\"attributes\":{},\"id\":\"1979\",\"type\":\"CategoricalTickFormatter\"},{\"attributes\":{},\"id\":\"1991\",\"type\":\"UnionRenderers\"},{\"attributes\":{\"margin\":[5,5,5,5],\"name\":\"HSpacer02783\",\"sizing_mode\":\"stretch_width\"},\"id\":\"1890\",\"type\":\"Spacer\"},{\"attributes\":{\"coordinates\":null,\"group\":null,\"text_color\":\"black\",\"text_font_size\":\"12pt\"},\"id\":\"1941\",\"type\":\"Title\"},{\"attributes\":{},\"id\":\"1901\",\"type\":\"LinearScale\"},{\"attributes\":{\"coordinates\":null,\"data_source\":{\"id\":\"1923\"},\"glyph\":{\"id\":\"1926\"},\"group\":null,\"hover_glyph\":null,\"muted_glyph\":{\"id\":\"1928\"},\"nonselection_glyph\":{\"id\":\"1927\"},\"selection_glyph\":{\"id\":\"1931\"},\"view\":{\"id\":\"1930\"}},\"id\":\"1929\",\"type\":\"GlyphRenderer\"},{\"attributes\":{\"axis\":{\"id\":\"1906\"},\"coordinates\":null,\"dimension\":1,\"grid_line_color\":null,\"group\":null,\"ticker\":null},\"id\":\"1909\",\"type\":\"Grid\"},{\"attributes\":{},\"id\":\"2002\",\"type\":\"UnionRenderers\"},{\"attributes\":{\"axis_label\":\"Provider State\",\"coordinates\":null,\"formatter\":{\"id\":\"1933\"},\"group\":null,\"major_label_orientation\":1.5707963267948966,\"major_label_policy\":{\"id\":\"1934\"},\"ticker\":{\"id\":\"1904\"}},\"id\":\"1903\",\"type\":\"CategoricalAxis\"},{\"attributes\":{\"line_color\":\"#30a2da\",\"line_width\":2,\"x\":{\"field\":\"Provider State\"},\"y\":{\"field\":\"Average Total Payments\"}},\"id\":\"1972\",\"type\":\"Line\"},{\"attributes\":{\"margin\":[5,5,5,5],\"name\":\"HSpacer02784\",\"sizing_mode\":\"stretch_width\"},\"id\":\"2190\",\"type\":\"Spacer\"},{\"attributes\":{},\"id\":\"1899\",\"type\":\"CategoricalScale\"},{\"attributes\":{\"axis_label\":\"Provider State\",\"coordinates\":null,\"formatter\":{\"id\":\"1979\"},\"group\":null,\"major_label_orientation\":1.5707963267948966,\"major_label_policy\":{\"id\":\"1980\"},\"ticker\":{\"id\":\"1950\"}},\"id\":\"1949\",\"type\":\"CategoricalAxis\"},{\"attributes\":{},\"id\":\"1936\",\"type\":\"BasicTickFormatter\"},{\"attributes\":{},\"id\":\"1982\",\"type\":\"BasicTickFormatter\"},{\"attributes\":{},\"id\":\"1904\",\"type\":\"CategoricalTicker\"},{\"attributes\":{\"axis\":{\"id\":\"1952\"},\"coordinates\":null,\"dimension\":1,\"grid_line_color\":null,\"group\":null,\"ticker\":null},\"id\":\"1955\",\"type\":\"Grid\"},{\"attributes\":{\"axis\":{\"id\":\"1903\"},\"coordinates\":null,\"grid_line_color\":null,\"group\":null,\"ticker\":null},\"id\":\"1905\",\"type\":\"Grid\"},{\"attributes\":{},\"id\":\"1945\",\"type\":\"CategoricalScale\"},{\"attributes\":{},\"id\":\"1907\",\"type\":\"BasicTicker\"},{\"attributes\":{},\"id\":\"1950\",\"type\":\"CategoricalTicker\"},{\"attributes\":{\"axis_label\":\"Average Total Payments\",\"coordinates\":null,\"formatter\":{\"id\":\"1936\"},\"group\":null,\"major_label_policy\":{\"id\":\"1937\"},\"ticker\":{\"id\":\"1907\"}},\"id\":\"1906\",\"type\":\"LinearAxis\"},{\"attributes\":{\"axis\":{\"id\":\"1949\"},\"coordinates\":null,\"grid_line_color\":null,\"group\":null,\"ticker\":null},\"id\":\"1951\",\"type\":\"Grid\"},{\"attributes\":{\"children\":[[{\"id\":\"1894\"},0,0],[{\"id\":\"1940\"},0,1]]},\"id\":\"2006\",\"type\":\"GridBox\"},{\"attributes\":{\"data\":{\"Average Total Payments\":{\"__ndarray__\":\"ZmZmZmbeu0DsUbgeRbrSQHE9CtfjFNVAUrgehUtq1kCkcD0Kd5vYQJmZmZkZ395AexSuR+FH30A+CtejaIzgQOF6FK737+JA9ihcjxIH40AK16Nw1eTlQD4K16OwiOZAzczMzMys6kBI4XoUhgLsQK5H4XqgGfJAmpmZmdmD8kCuR+F6tEj0QFyPwvWUU/RAKVyPwnV09ED2KFyP3v71QKRwPQo/fPlAmpmZmcEA+0CF61G4+jn7QKRwPQr/UvxAMzMzMz9b/EAAAAAA8rEAQa5H4Xqk7ABBKVyPwsUDAkEfhetRakMCQQrXo3DjiQJBw/UoXFlhA0EK16NwGbYDQR+F61GKAgRBFa5H4Z4LB0EAAAAAPhQHQXsUrkfjKgtBZmZmZiiGDEGPwvUoNK0MQXE9CtdhvwxBexSuRwyXEEE9CtejKIgRQRWuR+GWVxJBw/UoXCN1FEHsUbge57sXQVyPwvVHthtBmpmZmTwXH0EzMzMz5XshQQAAAAC8eyJB4XoULmPMJUEpXI/CW24nQSlcj0JyTDBB\",\"dtype\":\"float64\",\"order\":\"little\",\"shape\":[51]},\"Average_Total_Payments\":{\"__ndarray__\":\"ZmZmZmbeu0DsUbgeRbrSQHE9CtfjFNVAUrgehUtq1kCkcD0Kd5vYQJmZmZkZ395AexSuR+FH30A+CtejaIzgQOF6FK737+JA9ihcjxIH40AK16Nw1eTlQD4K16OwiOZAzczMzMys6kBI4XoUhgLsQK5H4XqgGfJAmpmZmdmD8kCuR+F6tEj0QFyPwvWUU/RAKVyPwnV09ED2KFyP3v71QKRwPQo/fPlAmpmZmcEA+0CF61G4+jn7QKRwPQr/UvxAMzMzMz9b/EAAAAAA8rEAQa5H4Xqk7ABBKVyPwsUDAkEfhetRakMCQQrXo3DjiQJBw/UoXFlhA0EK16NwGbYDQR+F61GKAgRBFa5H4Z4LB0EAAAAAPhQHQXsUrkfjKgtBZmZmZiiGDEGPwvUoNK0MQXE9CtdhvwxBexSuRwyXEEE9CtejKIgRQRWuR+GWVxJBw/UoXCN1FEHsUbge57sXQVyPwvVHthtBmpmZmTwXH0EzMzMz5XshQQAAAAC8eyJB4XoULmPMJUEpXI/CW24nQSlcj0JyTDBB\",\"dtype\":\"float64\",\"order\":\"little\",\"shape\":[51]},\"Provider State\":[\"AK\",\"VT\",\"ND\",\"DE\",\"WY\",\"ID\",\"MT\",\"RI\",\"SD\",\"HI\",\"DC\",\"UT\",\"NM\",\"NH\",\"ME\",\"OR\",\"NV\",\"KS\",\"NE\",\"WV\",\"MS\",\"IA\",\"OK\",\"LA\",\"AR\",\"CT\",\"CO\",\"SC\",\"AL\",\"AZ\",\"KY\",\"TN\",\"MN\",\"WI\",\"WA\",\"GA\",\"VA\",\"MO\",\"IN\",\"NC\",\"MD\",\"MA\",\"MI\",\"NJ\",\"OH\",\"PA\",\"IL\",\"TX\",\"FL\",\"NY\",\"CA\"],\"Provider_State\":[\"AK\",\"VT\",\"ND\",\"DE\",\"WY\",\"ID\",\"MT\",\"RI\",\"SD\",\"HI\",\"DC\",\"UT\",\"NM\",\"NH\",\"ME\",\"OR\",\"NV\",\"KS\",\"NE\",\"WV\",\"MS\",\"IA\",\"OK\",\"LA\",\"AR\",\"CT\",\"CO\",\"SC\",\"AL\",\"AZ\",\"KY\",\"TN\",\"MN\",\"WI\",\"WA\",\"GA\",\"VA\",\"MO\",\"IN\",\"NC\",\"MD\",\"MA\",\"MI\",\"NJ\",\"OH\",\"PA\",\"IL\",\"TX\",\"FL\",\"NY\",\"CA\"]},\"selected\":{\"id\":\"1970\"},\"selection_policy\":{\"id\":\"2002\"}},\"id\":\"1969\",\"type\":\"ColumnDataSource\"},{\"attributes\":{},\"id\":\"1953\",\"type\":\"BasicTicker\"},{\"attributes\":{\"axis_label\":\"Average Total Payments\",\"coordinates\":null,\"formatter\":{\"id\":\"1982\"},\"group\":null,\"major_label_policy\":{\"id\":\"1983\"},\"ticker\":{\"id\":\"1953\"}},\"id\":\"1952\",\"type\":\"LinearAxis\"},{\"attributes\":{\"source\":{\"id\":\"1923\"}},\"id\":\"1930\",\"type\":\"CDSView\"},{\"attributes\":{\"fill_alpha\":{\"value\":0.1},\"fill_color\":{\"value\":\"#30a2da\"},\"hatch_alpha\":{\"value\":0.1},\"hatch_color\":{\"value\":\"#30a2da\"},\"line_alpha\":{\"value\":0.1},\"top\":{\"field\":\"Average_Total_Payments\"},\"width\":{\"value\":0.8},\"x\":{\"field\":\"Provider_State\"}},\"id\":\"1927\",\"type\":\"VBar\"},{\"attributes\":{\"line_alpha\":0.1,\"line_color\":\"#30a2da\",\"line_width\":2,\"x\":{\"field\":\"Provider State\"},\"y\":{\"field\":\"Average Total Payments\"}},\"id\":\"1973\",\"type\":\"Line\"},{\"attributes\":{\"line_alpha\":0.2,\"line_color\":\"#30a2da\",\"line_width\":2,\"x\":{\"field\":\"Provider State\"},\"y\":{\"field\":\"Average Total Payments\"}},\"id\":\"1974\",\"type\":\"Line\"},{\"attributes\":{\"coordinates\":null,\"data_source\":{\"id\":\"1969\"},\"glyph\":{\"id\":\"1972\"},\"group\":null,\"hover_glyph\":null,\"muted_glyph\":{\"id\":\"1974\"},\"nonselection_glyph\":{\"id\":\"1973\"},\"selection_glyph\":{\"id\":\"1977\"},\"view\":{\"id\":\"1976\"}},\"id\":\"1975\",\"type\":\"GlyphRenderer\"},{\"attributes\":{\"fill_color\":{\"value\":\"#30a2da\"},\"hatch_color\":{\"value\":\"#30a2da\"},\"top\":{\"field\":\"Average_Total_Payments\"},\"width\":{\"value\":0.8},\"x\":{\"field\":\"Provider_State\"}},\"id\":\"1926\",\"type\":\"VBar\"},{\"attributes\":{},\"id\":\"1910\",\"type\":\"SaveTool\"},{\"attributes\":{},\"id\":\"1911\",\"type\":\"PanTool\"},{\"attributes\":{\"source\":{\"id\":\"1969\"}},\"id\":\"1976\",\"type\":\"CDSView\"},{\"attributes\":{},\"id\":\"1912\",\"type\":\"WheelZoomTool\"},{\"attributes\":{},\"id\":\"1956\",\"type\":\"SaveTool\"},{\"attributes\":{\"tools\":[{\"id\":\"1893\"},{\"id\":\"1910\"},{\"id\":\"1911\"},{\"id\":\"1912\"},{\"id\":\"1913\"},{\"id\":\"1914\"}]},\"id\":\"1916\",\"type\":\"Toolbar\"},{\"attributes\":{\"overlay\":{\"id\":\"1915\"}},\"id\":\"1913\",\"type\":\"BoxZoomTool\"},{\"attributes\":{},\"id\":\"1957\",\"type\":\"PanTool\"},{\"attributes\":{},\"id\":\"1958\",\"type\":\"WheelZoomTool\"},{\"attributes\":{\"children\":[{\"id\":\"1890\"},{\"id\":\"2009\"},{\"id\":\"2190\"}],\"margin\":[0,0,0,0],\"name\":\"Row02779\",\"tags\":[\"embedded\"]},\"id\":\"1889\",\"type\":\"Row\"},{\"attributes\":{\"overlay\":{\"id\":\"1961\"}},\"id\":\"1959\",\"type\":\"BoxZoomTool\"},{\"attributes\":{},\"id\":\"1914\",\"type\":\"ResetTool\"}],\"root_ids\":[\"1889\"]},\"title\":\"Bokeh Application\",\"version\":\"2.4.2\"}};\n",
       "    var render_items = [{\"docid\":\"6642cd6e-30b9-4100-99e4-1e3e3b44c91c\",\"root_ids\":[\"1889\"],\"roots\":{\"1889\":\"e65c3fb7-8b69-4b97-8cce-ab64854a286c\"}}];\n",
       "    root.Bokeh.embed.embed_items_notebook(docs_json, render_items);\n",
       "  }\n",
       "  if (root.Bokeh !== undefined && root.Bokeh.Panel !== undefined) {\n",
       "    embed_document(root);\n",
       "  } else {\n",
       "    var attempts = 0;\n",
       "    var timer = setInterval(function(root) {\n",
       "      if (root.Bokeh !== undefined && root.Bokeh.Panel !== undefined) {\n",
       "        clearInterval(timer);\n",
       "        embed_document(root);\n",
       "      } else if (document.readyState == \"complete\") {\n",
       "        attempts++;\n",
       "        if (attempts > 200) {\n",
       "          clearInterval(timer);\n",
       "          console.log(\"Bokeh: ERROR: Unable to run BokehJS code because BokehJS library is missing\");\n",
       "        }\n",
       "      }\n",
       "    }, 25, root)\n",
       "  }\n",
       "})(window);</script>"
      ],
      "text/plain": [
       ":Layout\n",
       "   .Bars.I  :Bars   [Provider State]   (Average Total Payments)\n",
       "   .Curve.I :Curve   [Provider State]   (Average Total Payments)"
      ]
     },
     "execution_count": 11,
     "metadata": {
      "application/vnd.holoviews_exec.v0+json": {
       "id": "1889"
      }
     },
     "output_type": "execute_result"
    }
   ],
   "source": [
    "# Compose plots using + operator.  \n",
    "total_payments_by_state.hvplot.bar(rot = 90) + sorted_total_payments_by_state.hvplot(rot = 90)"
   ]
  },
  {
   "cell_type": "code",
   "execution_count": 8,
   "metadata": {},
   "outputs": [
    {
     "data": {},
     "metadata": {},
     "output_type": "display_data"
    },
    {
     "data": {
      "application/vnd.holoviews_exec.v0+json": "",
      "text/html": [
       "<div id='1647'>\n",
       "\n",
       "\n",
       "\n",
       "\n",
       "\n",
       "  <div class=\"bk-root\" id=\"0488aa10-792d-4c19-9c28-d6f8fe36c0d9\" data-root-id=\"1647\"></div>\n",
       "</div>\n",
       "<script type=\"application/javascript\">(function(root) {\n",
       "  function embed_document(root) {\n",
       "    var docs_json = {\"7a418c0d-0031-4128-a330-f775c93a39b9\":{\"defs\":[],\"roots\":{\"references\":[{\"attributes\":{\"fill_color\":{\"value\":\"#30a2da\"},\"top\":{\"field\":\"Average_Total_Payments\"},\"width\":{\"value\":0.8},\"x\":{\"field\":\"Provider_State\"}},\"id\":\"1684\",\"type\":\"VBar\"},{\"attributes\":{},\"id\":\"1711\",\"type\":\"BasicTicker\"},{\"attributes\":{\"children\":[{\"id\":\"1648\"},{\"id\":\"1767\"},{\"id\":\"1948\"}],\"margin\":[0,0,0,0],\"name\":\"Row02447\",\"tags\":[\"embedded\"]},\"id\":\"1647\",\"type\":\"Row\"},{\"attributes\":{\"callback\":null,\"renderers\":[{\"id\":\"1687\"}],\"tags\":[\"hv_created\"],\"tooltips\":[[\"Provider State\",\"@{Provider_State}\"],[\"Average Total Payments\",\"@{Average_Total_Payments}\"]]},\"id\":\"1651\",\"type\":\"HoverTool\"},{\"attributes\":{\"line_color\":\"#30a2da\",\"line_width\":2,\"x\":{\"field\":\"Provider State Sorted\"},\"y\":{\"field\":\"Average Total Payments\"}},\"id\":\"1735\",\"type\":\"Line\"},{\"attributes\":{\"source\":{\"id\":\"1681\"}},\"id\":\"1688\",\"type\":\"CDSView\"},{\"attributes\":{\"source\":{\"id\":\"1727\"}},\"id\":\"1734\",\"type\":\"CDSView\"},{\"attributes\":{\"margin\":[5,5,5,5],\"name\":\"HSpacer02451\",\"sizing_mode\":\"stretch_width\"},\"id\":\"1648\",\"type\":\"Spacer\"},{\"attributes\":{},\"id\":\"1657\",\"type\":\"CategoricalScale\"},{\"attributes\":{},\"id\":\"1694\",\"type\":\"BasicTickFormatter\"},{\"attributes\":{\"bottom\":{\"value\":0},\"fill_alpha\":{\"value\":1.0},\"fill_color\":{\"value\":\"#30a2da\"},\"hatch_alpha\":{\"value\":1.0},\"hatch_color\":{\"value\":\"black\"},\"hatch_scale\":{\"value\":12.0},\"hatch_weight\":{\"value\":1.0},\"line_alpha\":{\"value\":1.0},\"line_cap\":{\"value\":\"butt\"},\"line_color\":{\"value\":\"black\"},\"line_dash\":{\"value\":[]},\"line_dash_offset\":{\"value\":0},\"line_join\":{\"value\":\"bevel\"},\"line_width\":{\"value\":1},\"top\":{\"field\":\"Average_Total_Payments\"},\"width\":{\"value\":0.8},\"x\":{\"field\":\"Provider_State\"}},\"id\":\"1689\",\"type\":\"VBar\"},{\"attributes\":{\"fill_alpha\":{\"value\":0.2},\"fill_color\":{\"value\":\"#30a2da\"},\"line_alpha\":{\"value\":0.2},\"top\":{\"field\":\"Average_Total_Payments\"},\"width\":{\"value\":0.8},\"x\":{\"field\":\"Provider_State\"}},\"id\":\"1686\",\"type\":\"VBar\"},{\"attributes\":{},\"id\":\"1693\",\"type\":\"AllLabels\"},{\"attributes\":{\"toolbars\":[{\"id\":\"1674\"},{\"id\":\"1720\"}],\"tools\":[{\"id\":\"1651\"},{\"id\":\"1668\"},{\"id\":\"1669\"},{\"id\":\"1670\"},{\"id\":\"1671\"},{\"id\":\"1672\"},{\"id\":\"1697\"},{\"id\":\"1714\"},{\"id\":\"1715\"},{\"id\":\"1716\"},{\"id\":\"1717\"},{\"id\":\"1718\"}]},\"id\":\"1765\",\"type\":\"ProxyToolbar\"},{\"attributes\":{\"below\":[{\"id\":\"1661\"}],\"center\":[{\"id\":\"1663\"},{\"id\":\"1667\"}],\"height\":300,\"left\":[{\"id\":\"1664\"}],\"margin\":null,\"min_border_bottom\":10,\"min_border_left\":10,\"min_border_right\":10,\"min_border_top\":10,\"renderers\":[{\"id\":\"1687\"}],\"sizing_mode\":\"fixed\",\"title\":{\"id\":\"1653\"},\"toolbar\":{\"id\":\"1674\"},\"toolbar_location\":null,\"width\":700,\"x_range\":{\"id\":\"1649\"},\"x_scale\":{\"id\":\"1657\"},\"y_range\":{\"id\":\"1650\"},\"y_scale\":{\"id\":\"1659\"}},\"id\":\"1652\",\"subtype\":\"Figure\",\"type\":\"Plot\"},{\"attributes\":{\"factors\":[\"AK\",\"VT\",\"ND\",\"DE\",\"WY\",\"ID\",\"MT\",\"RI\",\"SD\",\"HI\",\"DC\",\"UT\",\"NM\",\"NH\",\"ME\",\"OR\",\"NV\",\"KS\",\"NE\",\"WV\",\"MS\",\"IA\",\"OK\",\"LA\",\"AR\",\"CT\",\"CO\",\"SC\",\"AL\",\"AZ\",\"KY\",\"TN\",\"MN\",\"WI\",\"WA\",\"GA\",\"VA\",\"MO\",\"IN\",\"NC\",\"MD\",\"MA\",\"MI\",\"NJ\",\"OH\",\"PA\",\"IL\",\"TX\",\"FL\",\"NY\",\"CA\"],\"tags\":[[[\"Provider State Sorted\",\"Provider State Sorted\",null]]]},\"id\":\"1696\",\"type\":\"FactorRange\"},{\"attributes\":{\"children\":[[{\"id\":\"1652\"},0,0],[{\"id\":\"1698\"},0,1]]},\"id\":\"1764\",\"type\":\"GridBox\"},{\"attributes\":{},\"id\":\"1690\",\"type\":\"AllLabels\"},{\"attributes\":{},\"id\":\"1736\",\"type\":\"AllLabels\"},{\"attributes\":{},\"id\":\"1750\",\"type\":\"UnionRenderers\"},{\"attributes\":{},\"id\":\"1659\",\"type\":\"LinearScale\"},{\"attributes\":{},\"id\":\"1737\",\"type\":\"CategoricalTickFormatter\"},{\"attributes\":{},\"id\":\"1739\",\"type\":\"AllLabels\"},{\"attributes\":{\"axis\":{\"id\":\"1664\"},\"dimension\":1,\"grid_line_color\":null,\"ticker\":null},\"id\":\"1667\",\"type\":\"Grid\"},{\"attributes\":{\"axis\":{\"id\":\"1710\"},\"dimension\":1,\"grid_line_color\":null,\"ticker\":null},\"id\":\"1713\",\"type\":\"Grid\"},{\"attributes\":{\"axis_label\":\"Provider State\",\"formatter\":{\"id\":\"1691\"},\"major_label_policy\":{\"id\":\"1690\"},\"ticker\":{\"id\":\"1662\"}},\"id\":\"1661\",\"type\":\"CategoricalAxis\"},{\"attributes\":{\"axis\":{\"id\":\"1707\"},\"grid_line_color\":null,\"ticker\":null},\"id\":\"1709\",\"type\":\"Grid\"},{\"attributes\":{\"text_color\":\"black\",\"text_font_size\":\"12pt\"},\"id\":\"1653\",\"type\":\"Title\"},{\"attributes\":{},\"id\":\"1662\",\"type\":\"CategoricalTicker\"},{\"attributes\":{},\"id\":\"1740\",\"type\":\"BasicTickFormatter\"},{\"attributes\":{\"axis\":{\"id\":\"1661\"},\"grid_line_color\":null,\"ticker\":null},\"id\":\"1663\",\"type\":\"Grid\"},{\"attributes\":{},\"id\":\"1691\",\"type\":\"CategoricalTickFormatter\"},{\"attributes\":{},\"id\":\"1708\",\"type\":\"CategoricalTicker\"},{\"attributes\":{\"axis_label\":\"Average Total Payments\",\"formatter\":{\"id\":\"1740\"},\"major_label_policy\":{\"id\":\"1739\"},\"ticker\":{\"id\":\"1711\"}},\"id\":\"1710\",\"type\":\"LinearAxis\"},{\"attributes\":{},\"id\":\"1665\",\"type\":\"BasicTicker\"},{\"attributes\":{\"axis_label\":\"Average Total Payments\",\"formatter\":{\"id\":\"1694\"},\"major_label_policy\":{\"id\":\"1693\"},\"ticker\":{\"id\":\"1665\"}},\"id\":\"1664\",\"type\":\"LinearAxis\"},{\"attributes\":{\"data\":{\"Average_Total_Payments\":{\"__ndarray__\":\"ZmZmZmbeu0AehetRakMCQTQzMzM/W/xACtejcOOJAkEoXI9CckwwQa5H4Xqk7ABBAAAAAPKxAEEK16Nw1eTlQFK4HoVLatZA43oULmPMJUF8FK5H4yoLQfYoXI8SB+NAm5mZmcEA+0CamZmZGd/eQDQzMzPleyFBcT0K12G/DEFdj8L1lFP0QML1KFxZYQNBpHA9Cv9S/EAUrkfhllcSQT4K16MoiBFBrkfheqAZ8kDC9ShcI3UUQR6F61GKAgRBkML1KDStDEGlcD0KP3z5QHoUrkfhR99AexSuRwyXEEFxPQrX4xTVQChcj8J1dPRASOF6FIYC7EDsUbge57sXQc7MzMzMrOpAr0fherRI9EApXI/CW24nQV+PwvVHthtBhetRuPo5+0CamZmZ2YPyQKCZmZk8Fx9BPgrXo2iM4EApXI/CxQMCQeF6FK737+JADNejcBm2A0ECAAAAvHsiQT0K16OwiOZAaWZmZiiGDEHsUbgeRbrSQAEAAAA+FAdBFK5H4Z4LB0H1KFyP3v71QKRwPQp3m9hA\",\"dtype\":\"float64\",\"order\":\"little\",\"shape\":[51]},\"Provider_State\":[\"AK\",\"AL\",\"AR\",\"AZ\",\"CA\",\"CO\",\"CT\",\"DC\",\"DE\",\"FL\",\"GA\",\"HI\",\"IA\",\"ID\",\"IL\",\"IN\",\"KS\",\"KY\",\"LA\",\"MA\",\"MD\",\"ME\",\"MI\",\"MN\",\"MO\",\"MS\",\"MT\",\"NC\",\"ND\",\"NE\",\"NH\",\"NJ\",\"NM\",\"NV\",\"NY\",\"OH\",\"OK\",\"OR\",\"PA\",\"RI\",\"SC\",\"SD\",\"TN\",\"TX\",\"UT\",\"VA\",\"VT\",\"WA\",\"WI\",\"WV\",\"WY\"]},\"selected\":{\"id\":\"1682\"},\"selection_policy\":{\"id\":\"1750\"}},\"id\":\"1681\",\"type\":\"ColumnDataSource\"},{\"attributes\":{},\"id\":\"1714\",\"type\":\"SaveTool\"},{\"attributes\":{},\"id\":\"1715\",\"type\":\"PanTool\"},{\"attributes\":{\"data_source\":{\"id\":\"1681\"},\"glyph\":{\"id\":\"1684\"},\"hover_glyph\":null,\"muted_glyph\":{\"id\":\"1686\"},\"nonselection_glyph\":{\"id\":\"1685\"},\"selection_glyph\":{\"id\":\"1689\"},\"view\":{\"id\":\"1688\"}},\"id\":\"1687\",\"type\":\"GlyphRenderer\"},{\"attributes\":{\"factors\":[\"AK\",\"AL\",\"AR\",\"AZ\",\"CA\",\"CO\",\"CT\",\"DC\",\"DE\",\"FL\",\"GA\",\"HI\",\"IA\",\"ID\",\"IL\",\"IN\",\"KS\",\"KY\",\"LA\",\"MA\",\"MD\",\"ME\",\"MI\",\"MN\",\"MO\",\"MS\",\"MT\",\"NC\",\"ND\",\"NE\",\"NH\",\"NJ\",\"NM\",\"NV\",\"NY\",\"OH\",\"OK\",\"OR\",\"PA\",\"RI\",\"SC\",\"SD\",\"TN\",\"TX\",\"UT\",\"VA\",\"VT\",\"WA\",\"WI\",\"WV\",\"WY\"],\"tags\":[[[\"Provider State\",\"Provider State\",null]]]},\"id\":\"1649\",\"type\":\"FactorRange\"},{\"attributes\":{\"active_multi\":null,\"tools\":[{\"id\":\"1651\"},{\"id\":\"1668\"},{\"id\":\"1669\"},{\"id\":\"1670\"},{\"id\":\"1671\"},{\"id\":\"1672\"}]},\"id\":\"1674\",\"type\":\"Toolbar\"},{\"attributes\":{\"data_source\":{\"id\":\"1727\"},\"glyph\":{\"id\":\"1730\"},\"hover_glyph\":null,\"muted_glyph\":{\"id\":\"1732\"},\"nonselection_glyph\":{\"id\":\"1731\"},\"selection_glyph\":{\"id\":\"1735\"},\"view\":{\"id\":\"1734\"}},\"id\":\"1733\",\"type\":\"GlyphRenderer\"},{\"attributes\":{\"line_alpha\":0.1,\"line_color\":\"#30a2da\",\"line_width\":2,\"x\":{\"field\":\"Provider State Sorted\"},\"y\":{\"field\":\"Average Total Payments\"}},\"id\":\"1731\",\"type\":\"Line\"},{\"attributes\":{},\"id\":\"1668\",\"type\":\"SaveTool\"},{\"attributes\":{},\"id\":\"1716\",\"type\":\"WheelZoomTool\"},{\"attributes\":{},\"id\":\"1669\",\"type\":\"PanTool\"},{\"attributes\":{\"line_alpha\":0.2,\"line_color\":\"#30a2da\",\"line_width\":2,\"x\":{\"field\":\"Provider State Sorted\"},\"y\":{\"field\":\"Average Total Payments\"}},\"id\":\"1732\",\"type\":\"Line\"},{\"attributes\":{\"active_multi\":null,\"tools\":[{\"id\":\"1697\"},{\"id\":\"1714\"},{\"id\":\"1715\"},{\"id\":\"1716\"},{\"id\":\"1717\"},{\"id\":\"1718\"}]},\"id\":\"1720\",\"type\":\"Toolbar\"},{\"attributes\":{},\"id\":\"1670\",\"type\":\"WheelZoomTool\"},{\"attributes\":{\"overlay\":{\"id\":\"1673\"}},\"id\":\"1671\",\"type\":\"BoxZoomTool\"},{\"attributes\":{\"overlay\":{\"id\":\"1719\"}},\"id\":\"1717\",\"type\":\"BoxZoomTool\"},{\"attributes\":{\"fill_alpha\":{\"value\":0.1},\"fill_color\":{\"value\":\"#30a2da\"},\"line_alpha\":{\"value\":0.1},\"top\":{\"field\":\"Average_Total_Payments\"},\"width\":{\"value\":0.8},\"x\":{\"field\":\"Provider_State\"}},\"id\":\"1685\",\"type\":\"VBar\"},{\"attributes\":{\"end\":1174247.4459999998,\"reset_end\":1174247.4459999998,\"reset_start\":-98966.786,\"start\":-98966.786,\"tags\":[[[\"Average Total Payments\",\"Average Total Payments\",null]]]},\"id\":\"1650\",\"type\":\"Range1d\"},{\"attributes\":{\"bottom_units\":\"screen\",\"fill_alpha\":0.5,\"fill_color\":\"lightgrey\",\"left_units\":\"screen\",\"level\":\"overlay\",\"line_alpha\":1.0,\"line_color\":\"black\",\"line_dash\":[4,4],\"line_width\":2,\"right_units\":\"screen\",\"syncable\":false,\"top_units\":\"screen\"},\"id\":\"1673\",\"type\":\"BoxAnnotation\"},{\"attributes\":{},\"id\":\"1718\",\"type\":\"ResetTool\"},{\"attributes\":{},\"id\":\"1672\",\"type\":\"ResetTool\"},{\"attributes\":{\"axis_label\":\"Provider State Sorted\",\"formatter\":{\"id\":\"1737\"},\"major_label_policy\":{\"id\":\"1736\"},\"ticker\":{\"id\":\"1708\"}},\"id\":\"1707\",\"type\":\"CategoricalAxis\"},{\"attributes\":{},\"id\":\"1761\",\"type\":\"UnionRenderers\"},{\"attributes\":{},\"id\":\"1705\",\"type\":\"LinearScale\"},{\"attributes\":{},\"id\":\"1728\",\"type\":\"Selection\"},{\"attributes\":{\"text_color\":\"black\",\"text_font_size\":\"12pt\"},\"id\":\"1699\",\"type\":\"Title\"},{\"attributes\":{\"below\":[{\"id\":\"1707\"}],\"center\":[{\"id\":\"1709\"},{\"id\":\"1713\"}],\"height\":300,\"left\":[{\"id\":\"1710\"}],\"margin\":null,\"min_border_bottom\":10,\"min_border_left\":10,\"min_border_right\":10,\"min_border_top\":10,\"renderers\":[{\"id\":\"1733\"}],\"sizing_mode\":\"fixed\",\"title\":{\"id\":\"1699\"},\"toolbar\":{\"id\":\"1720\"},\"toolbar_location\":null,\"width\":700,\"x_range\":{\"id\":\"1696\"},\"x_scale\":{\"id\":\"1703\"},\"y_range\":{\"id\":\"1650\"},\"y_scale\":{\"id\":\"1705\"}},\"id\":\"1698\",\"subtype\":\"Figure\",\"type\":\"Plot\"},{\"attributes\":{\"margin\":[5,5,5,5],\"name\":\"HSpacer02452\",\"sizing_mode\":\"stretch_width\"},\"id\":\"1948\",\"type\":\"Spacer\"},{\"attributes\":{},\"id\":\"1703\",\"type\":\"CategoricalScale\"},{\"attributes\":{\"line_color\":\"#30a2da\",\"line_width\":2,\"x\":{\"field\":\"Provider State Sorted\"},\"y\":{\"field\":\"Average Total Payments\"}},\"id\":\"1730\",\"type\":\"Line\"},{\"attributes\":{\"data\":{\"Average Total Payments\":{\"__ndarray__\":\"ZmZmZmbeu0DsUbgeRbrSQHE9CtfjFNVAUrgehUtq1kCkcD0Kd5vYQJqZmZkZ395AehSuR+FH30A+CtejaIzgQOF6FK737+JA9ihcjxIH40AK16Nw1eTlQD0K16OwiOZAzszMzMys6kBI4XoUhgLsQK5H4XqgGfJAmpmZmdmD8kCvR+F6tEj0QF2PwvWUU/RAKFyPwnV09ED1KFyP3v71QKVwPQo/fPlAm5mZmcEA+0CF61G4+jn7QKRwPQr/UvxANDMzMz9b/EAAAAAA8rEAQa5H4Xqk7ABBKVyPwsUDAkEehetRakMCQQrXo3DjiQJBwvUoXFlhA0EM16NwGbYDQR6F61GKAgRBFK5H4Z4LB0EBAAAAPhQHQXwUrkfjKgtBaWZmZiiGDEGQwvUoNK0MQXE9CtdhvwxBexSuRwyXEEE+CtejKIgRQRSuR+GWVxJBwvUoXCN1FEHsUbge57sXQV+PwvVHthtBoJmZmTwXH0E0MzMz5XshQQIAAAC8eyJB43oULmPMJUEpXI/CW24nQShcj0JyTDBB\",\"dtype\":\"float64\",\"order\":\"little\",\"shape\":[51]},\"Average_Total_Payments\":{\"__ndarray__\":\"ZmZmZmbeu0DsUbgeRbrSQHE9CtfjFNVAUrgehUtq1kCkcD0Kd5vYQJqZmZkZ395AehSuR+FH30A+CtejaIzgQOF6FK737+JA9ihcjxIH40AK16Nw1eTlQD0K16OwiOZAzszMzMys6kBI4XoUhgLsQK5H4XqgGfJAmpmZmdmD8kCvR+F6tEj0QF2PwvWUU/RAKFyPwnV09ED1KFyP3v71QKVwPQo/fPlAm5mZmcEA+0CF61G4+jn7QKRwPQr/UvxANDMzMz9b/EAAAAAA8rEAQa5H4Xqk7ABBKVyPwsUDAkEehetRakMCQQrXo3DjiQJBwvUoXFlhA0EM16NwGbYDQR6F61GKAgRBFK5H4Z4LB0EBAAAAPhQHQXwUrkfjKgtBaWZmZiiGDEGQwvUoNK0MQXE9CtdhvwxBexSuRwyXEEE+CtejKIgRQRSuR+GWVxJBwvUoXCN1FEHsUbge57sXQV+PwvVHthtBoJmZmTwXH0E0MzMz5XshQQIAAAC8eyJB43oULmPMJUEpXI/CW24nQShcj0JyTDBB\",\"dtype\":\"float64\",\"order\":\"little\",\"shape\":[51]},\"Provider State Sorted\":[\"AK\",\"VT\",\"ND\",\"DE\",\"WY\",\"ID\",\"MT\",\"RI\",\"SD\",\"HI\",\"DC\",\"UT\",\"NM\",\"NH\",\"ME\",\"OR\",\"NV\",\"KS\",\"NE\",\"WV\",\"MS\",\"IA\",\"OK\",\"LA\",\"AR\",\"CT\",\"CO\",\"SC\",\"AL\",\"AZ\",\"KY\",\"TN\",\"MN\",\"WI\",\"WA\",\"GA\",\"VA\",\"MO\",\"IN\",\"NC\",\"MD\",\"MA\",\"MI\",\"NJ\",\"OH\",\"PA\",\"IL\",\"TX\",\"FL\",\"NY\",\"CA\"],\"Provider_State_Sorted\":[\"AK\",\"VT\",\"ND\",\"DE\",\"WY\",\"ID\",\"MT\",\"RI\",\"SD\",\"HI\",\"DC\",\"UT\",\"NM\",\"NH\",\"ME\",\"OR\",\"NV\",\"KS\",\"NE\",\"WV\",\"MS\",\"IA\",\"OK\",\"LA\",\"AR\",\"CT\",\"CO\",\"SC\",\"AL\",\"AZ\",\"KY\",\"TN\",\"MN\",\"WI\",\"WA\",\"GA\",\"VA\",\"MO\",\"IN\",\"NC\",\"MD\",\"MA\",\"MI\",\"NJ\",\"OH\",\"PA\",\"IL\",\"TX\",\"FL\",\"NY\",\"CA\"]},\"selected\":{\"id\":\"1728\"},\"selection_policy\":{\"id\":\"1761\"}},\"id\":\"1727\",\"type\":\"ColumnDataSource\"},{\"attributes\":{\"toolbar\":{\"id\":\"1765\"},\"toolbar_location\":\"above\"},\"id\":\"1766\",\"type\":\"ToolbarBox\"},{\"attributes\":{\"callback\":null,\"renderers\":[{\"id\":\"1733\"}],\"tags\":[\"hv_created\"],\"tooltips\":[[\"Provider State Sorted\",\"@{Provider_State_Sorted}\"],[\"Average Total Payments\",\"@{Average_Total_Payments}\"]]},\"id\":\"1697\",\"type\":\"HoverTool\"},{\"attributes\":{\"bottom_units\":\"screen\",\"fill_alpha\":0.5,\"fill_color\":\"lightgrey\",\"left_units\":\"screen\",\"level\":\"overlay\",\"line_alpha\":1.0,\"line_color\":\"black\",\"line_dash\":[4,4],\"line_width\":2,\"right_units\":\"screen\",\"syncable\":false,\"top_units\":\"screen\"},\"id\":\"1719\",\"type\":\"BoxAnnotation\"},{\"attributes\":{},\"id\":\"1682\",\"type\":\"Selection\"},{\"attributes\":{\"children\":[{\"id\":\"1766\"},{\"id\":\"1764\"}]},\"id\":\"1767\",\"type\":\"Column\"}],\"root_ids\":[\"1647\"]},\"title\":\"Bokeh Application\",\"version\":\"2.3.2\"}};\n",
       "    var render_items = [{\"docid\":\"7a418c0d-0031-4128-a330-f775c93a39b9\",\"root_ids\":[\"1647\"],\"roots\":{\"1647\":\"0488aa10-792d-4c19-9c28-d6f8fe36c0d9\"}}];\n",
       "    root.Bokeh.embed.embed_items_notebook(docs_json, render_items);\n",
       "  }\n",
       "  if (root.Bokeh !== undefined && root.Bokeh.Panel !== undefined) {\n",
       "    embed_document(root);\n",
       "  } else {\n",
       "    var attempts = 0;\n",
       "    var timer = setInterval(function(root) {\n",
       "      if (root.Bokeh !== undefined && root.Bokeh.Panel !== undefined) {\n",
       "        clearInterval(timer);\n",
       "        embed_document(root);\n",
       "      } else if (document.readyState == \"complete\") {\n",
       "        attempts++;\n",
       "        if (attempts > 100) {\n",
       "          clearInterval(timer);\n",
       "          console.log(\"Bokeh: ERROR: Unable to run BokehJS code because BokehJS library is missing\");\n",
       "        }\n",
       "      }\n",
       "    }, 10, root)\n",
       "  }\n",
       "})(window);</script>"
      ],
      "text/plain": [
       ":Layout\n",
       "   .Bars.I  :Bars   [Provider State]   (Average Total Payments)\n",
       "   .Curve.I :Curve   [Provider State Sorted]   (Average Total Payments)"
      ]
     },
     "execution_count": 8,
     "metadata": {
      "application/vnd.holoviews_exec.v0+json": {
       "id": "1647"
      }
     },
     "output_type": "execute_result"
    }
   ],
   "source": [
    "# We prevent this by renaming the index in one of the dataframes before plotting them.\n",
    "sorted_total_payments_by_state.index.names = ['Provider State Sorted']\n",
    "\n",
    "total_payments_by_state.hvplot.bar() + sorted_total_payments_by_state.hvplot()"
   ]
  },
  {
   "cell_type": "markdown",
   "metadata": {},
   "source": [
    "## Slice data for Average Medicare Payments by State"
   ]
  },
  {
   "cell_type": "code",
   "execution_count": 9,
   "metadata": {},
   "outputs": [
    {
     "data": {
      "text/html": [
       "<div>\n",
       "<style scoped>\n",
       "    .dataframe tbody tr th:only-of-type {\n",
       "        vertical-align: middle;\n",
       "    }\n",
       "\n",
       "    .dataframe tbody tr th {\n",
       "        vertical-align: top;\n",
       "    }\n",
       "\n",
       "    .dataframe thead th {\n",
       "        text-align: right;\n",
       "    }\n",
       "</style>\n",
       "<table border=\"1\" class=\"dataframe\">\n",
       "  <thead>\n",
       "    <tr style=\"text-align: right;\">\n",
       "      <th></th>\n",
       "      <th>Average Medicare Payments</th>\n",
       "    </tr>\n",
       "    <tr>\n",
       "      <th>Provider State</th>\n",
       "      <th></th>\n",
       "    </tr>\n",
       "  </thead>\n",
       "  <tbody>\n",
       "    <tr>\n",
       "      <th>AK</th>\n",
       "      <td>6008.80</td>\n",
       "    </tr>\n",
       "    <tr>\n",
       "      <th>AL</th>\n",
       "      <td>112154.39</td>\n",
       "    </tr>\n",
       "    <tr>\n",
       "      <th>AR</th>\n",
       "      <td>90176.26</td>\n",
       "    </tr>\n",
       "    <tr>\n",
       "      <th>AZ</th>\n",
       "      <td>120926.12</td>\n",
       "    </tr>\n",
       "    <tr>\n",
       "      <th>CA</th>\n",
       "      <td>901778.32</td>\n",
       "    </tr>\n",
       "  </tbody>\n",
       "</table>\n",
       "</div>"
      ],
      "text/plain": [
       "                Average Medicare Payments\n",
       "Provider State                           \n",
       "AK                                6008.80\n",
       "AL                              112154.39\n",
       "AR                               90176.26\n",
       "AZ                              120926.12\n",
       "CA                              901778.32"
      ]
     },
     "execution_count": 9,
     "metadata": {},
     "output_type": "execute_result"
    }
   ],
   "source": [
    "# Group data by state and average medicare payments, and then sum the values\n",
    "medicare_payment_by_state = procedure_552_charges[[\"Average Medicare Payments\", \"Provider State\"]]\n",
    "\n",
    "total_medicare_by_state = medicare_payment_by_state.groupby(\"Provider State\").sum()\n",
    "\n",
    "total_medicare_by_state.head()"
   ]
  },
  {
   "cell_type": "code",
   "execution_count": 10,
   "metadata": {},
   "outputs": [
    {
     "data": {},
     "metadata": {},
     "output_type": "display_data"
    },
    {
     "data": {
      "application/vnd.holoviews_exec.v0+json": "",
      "text/html": [
       "<div id='2050'>\n",
       "\n",
       "\n",
       "\n",
       "\n",
       "\n",
       "  <div class=\"bk-root\" id=\"c553884f-d4d7-4075-ace2-2b8a0f4d8a85\" data-root-id=\"2050\"></div>\n",
       "</div>\n",
       "<script type=\"application/javascript\">(function(root) {\n",
       "  function embed_document(root) {\n",
       "    var docs_json = {\"a278c23d-fd7c-4e15-bcf3-dffc8c0bc1f1\":{\"defs\":[],\"roots\":{\"references\":[{\"attributes\":{},\"id\":\"2060\",\"type\":\"CategoricalScale\"},{\"attributes\":{\"axis\":{\"id\":\"2067\"},\"dimension\":1,\"grid_line_color\":null,\"ticker\":null},\"id\":\"2070\",\"type\":\"Grid\"},{\"attributes\":{\"callback\":null,\"renderers\":[{\"id\":\"2090\"}],\"tags\":[\"hv_created\"],\"tooltips\":[[\"Provider State\",\"@{Provider_State}\"],[\"Average Medicare Payments\",\"@{Average_Medicare_Payments}\"]]},\"id\":\"2054\",\"type\":\"HoverTool\"},{\"attributes\":{\"factors\":[\"AK\",\"DE\",\"VT\",\"ND\",\"WY\",\"ID\",\"MT\",\"RI\",\"SD\",\"HI\",\"UT\",\"DC\",\"NM\",\"NH\",\"OR\",\"ME\",\"NE\",\"KS\",\"NV\",\"WV\",\"MS\",\"IA\",\"LA\",\"OK\",\"AR\",\"CO\",\"AL\",\"CT\",\"SC\",\"TN\",\"AZ\",\"KY\",\"MN\",\"WI\",\"WA\",\"GA\",\"VA\",\"IN\",\"MO\",\"NC\",\"MD\",\"MA\",\"MI\",\"NJ\",\"OH\",\"PA\",\"IL\",\"TX\",\"FL\",\"NY\",\"CA\"],\"tags\":[[[\"Provider State\",\"Provider State\",null]]]},\"id\":\"2052\",\"type\":\"FactorRange\"},{\"attributes\":{},\"id\":\"2068\",\"type\":\"BasicTicker\"},{\"attributes\":{\"axis_label\":\"Average Medicare Payments\",\"formatter\":{\"id\":\"2097\"},\"major_label_policy\":{\"id\":\"2096\"},\"ticker\":{\"id\":\"2068\"}},\"id\":\"2067\",\"type\":\"LinearAxis\"},{\"attributes\":{\"data\":{\"Average_Medicare_Payments\":{\"__ndarray__\":\"zczMzMx4t0A9CtejICXQQHA9CtcjLNBAHoXrUVji0EAUrkfhGmLVQAAAAACgwddAmZmZmemr2EA9CtejkNTaQB+F61EoaN5AuB6F66ES30DsUbge5VPhQEjhehQOvOJAxPUoXG895EApXI/CFYXmQEjhehRmyetAcT0K16vM7EBcj8L1iGnuQIXrUbhO+u9AUrgehXcj8EDhehSu9x/xQHA9Ctdnt/NAfBSuR63z9ECtR+F6aKb1QD0K16OcwvVAkML1KAQE9kApXI/CaRb6QNajcD2mYftAH4XrUZz4+0AqXI/Ckdr8QLgehetVaP1AuB6F6+GF/UDMzMzM2Oz9QMP1KFzTf/9AFa5H4T5PAUGkcD0KL7UBQdijcD3IbgVBZ2ZmZnzgBUEUrkfhEA4GQdijcD2KvwZBehSuRynkCkFTuB6Fx/kNQZmZmZnLnA5B16NwPbx/EEFTuB6FbnkSQf////9oFxZB9Shcj9TfGEGbmZmZZFYbQbkehesh1RxBpnA9iirGIEG4HoXrt8IjQT8K16MkhStB\",\"dtype\":\"float64\",\"order\":\"little\",\"shape\":[51]},\"Provider_State\":[\"AK\",\"DE\",\"VT\",\"ND\",\"WY\",\"ID\",\"MT\",\"RI\",\"SD\",\"HI\",\"UT\",\"DC\",\"NM\",\"NH\",\"OR\",\"ME\",\"NE\",\"KS\",\"NV\",\"WV\",\"MS\",\"IA\",\"LA\",\"OK\",\"AR\",\"CO\",\"AL\",\"CT\",\"SC\",\"TN\",\"AZ\",\"KY\",\"MN\",\"WI\",\"WA\",\"GA\",\"VA\",\"IN\",\"MO\",\"NC\",\"MD\",\"MA\",\"MI\",\"NJ\",\"OH\",\"PA\",\"IL\",\"TX\",\"FL\",\"NY\",\"CA\"]},\"selected\":{\"id\":\"2085\"},\"selection_policy\":{\"id\":\"2107\"}},\"id\":\"2084\",\"type\":\"ColumnDataSource\"},{\"attributes\":{\"axis\":{\"id\":\"2064\"},\"grid_line_color\":null,\"ticker\":null},\"id\":\"2066\",\"type\":\"Grid\"},{\"attributes\":{\"source\":{\"id\":\"2084\"}},\"id\":\"2091\",\"type\":\"CDSView\"},{\"attributes\":{\"margin\":[5,5,5,5],\"name\":\"HSpacer02790\",\"sizing_mode\":\"stretch_width\"},\"id\":\"2051\",\"type\":\"Spacer\"},{\"attributes\":{\"below\":[{\"id\":\"2064\"}],\"center\":[{\"id\":\"2066\"},{\"id\":\"2070\"}],\"height\":300,\"left\":[{\"id\":\"2067\"}],\"margin\":[5,5,5,5],\"min_border_bottom\":10,\"min_border_left\":10,\"min_border_right\":10,\"min_border_top\":10,\"renderers\":[{\"id\":\"2090\"}],\"sizing_mode\":\"fixed\",\"title\":{\"id\":\"2056\"},\"toolbar\":{\"id\":\"2077\"},\"width\":700,\"x_range\":{\"id\":\"2052\"},\"x_scale\":{\"id\":\"2060\"},\"y_range\":{\"id\":\"2053\"},\"y_scale\":{\"id\":\"2062\"}},\"id\":\"2055\",\"subtype\":\"Figure\",\"type\":\"Plot\"},{\"attributes\":{\"fill_alpha\":{\"value\":0.2},\"fill_color\":{\"value\":\"#30a2da\"},\"line_alpha\":{\"value\":0.2},\"top\":{\"field\":\"Average_Medicare_Payments\"},\"width\":{\"value\":0.8},\"x\":{\"field\":\"Provider_State\"}},\"id\":\"2089\",\"type\":\"VBar\"},{\"attributes\":{\"bottom_units\":\"screen\",\"fill_alpha\":0.5,\"fill_color\":\"lightgrey\",\"left_units\":\"screen\",\"level\":\"overlay\",\"line_alpha\":1.0,\"line_color\":\"black\",\"line_dash\":[4,4],\"line_width\":2,\"right_units\":\"screen\",\"syncable\":false,\"top_units\":\"screen\"},\"id\":\"2076\",\"type\":\"BoxAnnotation\"},{\"attributes\":{},\"id\":\"2094\",\"type\":\"CategoricalTickFormatter\"},{\"attributes\":{},\"id\":\"2107\",\"type\":\"UnionRenderers\"},{\"attributes\":{},\"id\":\"2085\",\"type\":\"Selection\"},{\"attributes\":{\"margin\":[5,5,5,5],\"name\":\"HSpacer02791\",\"sizing_mode\":\"stretch_width\"},\"id\":\"2119\",\"type\":\"Spacer\"},{\"attributes\":{\"active_multi\":null,\"tools\":[{\"id\":\"2054\"},{\"id\":\"2071\"},{\"id\":\"2072\"},{\"id\":\"2073\"},{\"id\":\"2074\"},{\"id\":\"2075\"}]},\"id\":\"2077\",\"type\":\"Toolbar\"},{\"attributes\":{\"children\":[{\"id\":\"2051\"},{\"id\":\"2055\"},{\"id\":\"2119\"}],\"margin\":[0,0,0,0],\"name\":\"Row02786\",\"tags\":[\"embedded\"]},\"id\":\"2050\",\"type\":\"Row\"},{\"attributes\":{\"bottom\":{\"value\":0},\"fill_alpha\":{\"value\":1.0},\"fill_color\":{\"value\":\"#30a2da\"},\"hatch_alpha\":{\"value\":1.0},\"hatch_color\":{\"value\":\"black\"},\"hatch_scale\":{\"value\":12.0},\"hatch_weight\":{\"value\":1.0},\"line_alpha\":{\"value\":1.0},\"line_cap\":{\"value\":\"butt\"},\"line_color\":{\"value\":\"black\"},\"line_dash\":{\"value\":[]},\"line_dash_offset\":{\"value\":0},\"line_join\":{\"value\":\"bevel\"},\"line_width\":{\"value\":1},\"top\":{\"field\":\"Average_Medicare_Payments\"},\"width\":{\"value\":0.8},\"x\":{\"field\":\"Provider_State\"}},\"id\":\"2092\",\"type\":\"VBar\"},{\"attributes\":{},\"id\":\"2071\",\"type\":\"SaveTool\"},{\"attributes\":{},\"id\":\"2072\",\"type\":\"PanTool\"},{\"attributes\":{\"fill_alpha\":{\"value\":0.1},\"fill_color\":{\"value\":\"#30a2da\"},\"line_alpha\":{\"value\":0.1},\"top\":{\"field\":\"Average_Medicare_Payments\"},\"width\":{\"value\":0.8},\"x\":{\"field\":\"Provider_State\"}},\"id\":\"2088\",\"type\":\"VBar\"},{\"attributes\":{},\"id\":\"2096\",\"type\":\"AllLabels\"},{\"attributes\":{},\"id\":\"2073\",\"type\":\"WheelZoomTool\"},{\"attributes\":{},\"id\":\"2093\",\"type\":\"AllLabels\"},{\"attributes\":{\"overlay\":{\"id\":\"2076\"}},\"id\":\"2074\",\"type\":\"BoxZoomTool\"},{\"attributes\":{\"fill_color\":{\"value\":\"#30a2da\"},\"top\":{\"field\":\"Average_Medicare_Payments\"},\"width\":{\"value\":0.8},\"x\":{\"field\":\"Provider_State\"}},\"id\":\"2087\",\"type\":\"VBar\"},{\"attributes\":{},\"id\":\"2097\",\"type\":\"BasicTickFormatter\"},{\"attributes\":{\"data_source\":{\"id\":\"2084\"},\"glyph\":{\"id\":\"2087\"},\"hover_glyph\":null,\"muted_glyph\":{\"id\":\"2089\"},\"nonselection_glyph\":{\"id\":\"2088\"},\"selection_glyph\":{\"id\":\"2092\"},\"view\":{\"id\":\"2091\"}},\"id\":\"2090\",\"type\":\"GlyphRenderer\"},{\"attributes\":{\"end\":991355.2720000002,\"reset_end\":991355.2720000002,\"reset_start\":0.0,\"tags\":[[[\"Average Medicare Payments\",\"Average Medicare Payments\",null]]]},\"id\":\"2053\",\"type\":\"Range1d\"},{\"attributes\":{\"text_color\":\"black\",\"text_font_size\":\"12pt\"},\"id\":\"2056\",\"type\":\"Title\"},{\"attributes\":{},\"id\":\"2062\",\"type\":\"LinearScale\"},{\"attributes\":{},\"id\":\"2075\",\"type\":\"ResetTool\"},{\"attributes\":{},\"id\":\"2065\",\"type\":\"CategoricalTicker\"},{\"attributes\":{\"axis_label\":\"Provider State\",\"formatter\":{\"id\":\"2094\"},\"major_label_policy\":{\"id\":\"2093\"},\"ticker\":{\"id\":\"2065\"}},\"id\":\"2064\",\"type\":\"CategoricalAxis\"}],\"root_ids\":[\"2050\"]},\"title\":\"Bokeh Application\",\"version\":\"2.3.2\"}};\n",
       "    var render_items = [{\"docid\":\"a278c23d-fd7c-4e15-bcf3-dffc8c0bc1f1\",\"root_ids\":[\"2050\"],\"roots\":{\"2050\":\"c553884f-d4d7-4075-ace2-2b8a0f4d8a85\"}}];\n",
       "    root.Bokeh.embed.embed_items_notebook(docs_json, render_items);\n",
       "  }\n",
       "  if (root.Bokeh !== undefined && root.Bokeh.Panel !== undefined) {\n",
       "    embed_document(root);\n",
       "  } else {\n",
       "    var attempts = 0;\n",
       "    var timer = setInterval(function(root) {\n",
       "      if (root.Bokeh !== undefined && root.Bokeh.Panel !== undefined) {\n",
       "        clearInterval(timer);\n",
       "        embed_document(root);\n",
       "      } else if (document.readyState == \"complete\") {\n",
       "        attempts++;\n",
       "        if (attempts > 100) {\n",
       "          clearInterval(timer);\n",
       "          console.log(\"Bokeh: ERROR: Unable to run BokehJS code because BokehJS library is missing\");\n",
       "        }\n",
       "      }\n",
       "    }, 10, root)\n",
       "  }\n",
       "})(window);</script>"
      ],
      "text/plain": [
       ":Bars   [Provider State]   (Average Medicare Payments)"
      ]
     },
     "execution_count": 10,
     "metadata": {
      "application/vnd.holoviews_exec.v0+json": {
       "id": "2050"
      }
     },
     "output_type": "execute_result"
    }
   ],
   "source": [
    "# Sort data values\n",
    "sorted_total_medicare_by_state = total_medicare_by_state.sort_values(\"Average Medicare Payments\")\n",
    "\n",
    "sorted_total_medicare_by_state.hvplot.bar()"
   ]
  },
  {
   "cell_type": "markdown",
   "metadata": {},
   "source": [
    "## Compose overlay plots using the + operator"
   ]
  },
  {
   "cell_type": "code",
   "execution_count": 11,
   "metadata": {},
   "outputs": [
    {
     "data": {},
     "metadata": {},
     "output_type": "display_data"
    },
    {
     "data": {
      "application/vnd.holoviews_exec.v0+json": "",
      "text/html": [
       "<div id='2171'>\n",
       "\n",
       "\n",
       "\n",
       "\n",
       "\n",
       "  <div class=\"bk-root\" id=\"8bc6e0a4-a3f4-49ad-a3f7-65a53b9fdb43\" data-root-id=\"2171\"></div>\n",
       "</div>\n",
       "<script type=\"application/javascript\">(function(root) {\n",
       "  function embed_document(root) {\n",
       "    var docs_json = {\"38b30692-8da3-4ed0-99a6-16b1ceefeaa8\":{\"defs\":[],\"roots\":{\"references\":[{\"attributes\":{\"click_policy\":\"mute\",\"items\":[{\"id\":\"2232\"},{\"id\":\"2254\"}],\"location\":[0,0]},\"id\":\"2231\",\"type\":\"Legend\"},{\"attributes\":{},\"id\":\"2184\",\"type\":\"LinearScale\"},{\"attributes\":{},\"id\":\"2182\",\"type\":\"CategoricalScale\"},{\"attributes\":{\"data\":{\"Average Total Payments\":{\"__ndarray__\":\"ZmZmZmbeu0DsUbgeRbrSQHE9CtfjFNVAUrgehUtq1kCkcD0Kd5vYQJqZmZkZ395AehSuR+FH30A+CtejaIzgQOF6FK737+JA9ihcjxIH40AK16Nw1eTlQD0K16OwiOZAzszMzMys6kBI4XoUhgLsQK5H4XqgGfJAmpmZmdmD8kCvR+F6tEj0QF2PwvWUU/RAKFyPwnV09ED1KFyP3v71QKVwPQo/fPlAm5mZmcEA+0CF61G4+jn7QKRwPQr/UvxANDMzMz9b/EAAAAAA8rEAQa5H4Xqk7ABBKVyPwsUDAkEehetRakMCQQrXo3DjiQJBwvUoXFlhA0EM16NwGbYDQR6F61GKAgRBFK5H4Z4LB0EBAAAAPhQHQXwUrkfjKgtBaWZmZiiGDEGQwvUoNK0MQXE9CtdhvwxBexSuRwyXEEE+CtejKIgRQRSuR+GWVxJBwvUoXCN1FEHsUbge57sXQV+PwvVHthtBoJmZmTwXH0E0MzMz5XshQQIAAAC8eyJB43oULmPMJUEpXI/CW24nQShcj0JyTDBB\",\"dtype\":\"float64\",\"order\":\"little\",\"shape\":[51]},\"Average_Total_Payments\":{\"__ndarray__\":\"ZmZmZmbeu0DsUbgeRbrSQHE9CtfjFNVAUrgehUtq1kCkcD0Kd5vYQJqZmZkZ395AehSuR+FH30A+CtejaIzgQOF6FK737+JA9ihcjxIH40AK16Nw1eTlQD0K16OwiOZAzszMzMys6kBI4XoUhgLsQK5H4XqgGfJAmpmZmdmD8kCvR+F6tEj0QF2PwvWUU/RAKFyPwnV09ED1KFyP3v71QKVwPQo/fPlAm5mZmcEA+0CF61G4+jn7QKRwPQr/UvxANDMzMz9b/EAAAAAA8rEAQa5H4Xqk7ABBKVyPwsUDAkEehetRakMCQQrXo3DjiQJBwvUoXFlhA0EM16NwGbYDQR6F61GKAgRBFK5H4Z4LB0EBAAAAPhQHQXwUrkfjKgtBaWZmZiiGDEGQwvUoNK0MQXE9CtdhvwxBexSuRwyXEEE+CtejKIgRQRSuR+GWVxJBwvUoXCN1FEHsUbge57sXQV+PwvVHthtBoJmZmTwXH0E0MzMz5XshQQIAAAC8eyJB43oULmPMJUEpXI/CW24nQShcj0JyTDBB\",\"dtype\":\"float64\",\"order\":\"little\",\"shape\":[51]},\"Provider State Sorted\":[\"AK\",\"VT\",\"ND\",\"DE\",\"WY\",\"ID\",\"MT\",\"RI\",\"SD\",\"HI\",\"DC\",\"UT\",\"NM\",\"NH\",\"ME\",\"OR\",\"NV\",\"KS\",\"NE\",\"WV\",\"MS\",\"IA\",\"OK\",\"LA\",\"AR\",\"CT\",\"CO\",\"SC\",\"AL\",\"AZ\",\"KY\",\"TN\",\"MN\",\"WI\",\"WA\",\"GA\",\"VA\",\"MO\",\"IN\",\"NC\",\"MD\",\"MA\",\"MI\",\"NJ\",\"OH\",\"PA\",\"IL\",\"TX\",\"FL\",\"NY\",\"CA\"],\"Provider_State_Sorted\":[\"AK\",\"VT\",\"ND\",\"DE\",\"WY\",\"ID\",\"MT\",\"RI\",\"SD\",\"HI\",\"DC\",\"UT\",\"NM\",\"NH\",\"ME\",\"OR\",\"NV\",\"KS\",\"NE\",\"WV\",\"MS\",\"IA\",\"OK\",\"LA\",\"AR\",\"CT\",\"CO\",\"SC\",\"AL\",\"AZ\",\"KY\",\"TN\",\"MN\",\"WI\",\"WA\",\"GA\",\"VA\",\"MO\",\"IN\",\"NC\",\"MD\",\"MA\",\"MI\",\"NJ\",\"OH\",\"PA\",\"IL\",\"TX\",\"FL\",\"NY\",\"CA\"]},\"selected\":{\"id\":\"2214\"},\"selection_policy\":{\"id\":\"2229\"}},\"id\":\"2213\",\"type\":\"ColumnDataSource\"},{\"attributes\":{\"text_color\":\"black\",\"text_font_size\":\"12pt\"},\"id\":\"2178\",\"type\":\"Title\"},{\"attributes\":{\"source\":{\"id\":\"2234\"}},\"id\":\"2241\",\"type\":\"CDSView\"},{\"attributes\":{\"children\":[{\"id\":\"2172\"},{\"id\":\"2177\"},{\"id\":\"2364\"}],\"margin\":[0,0,0,0],\"name\":\"Row03011\",\"tags\":[\"embedded\"]},\"id\":\"2171\",\"type\":\"Row\"},{\"attributes\":{\"axis\":{\"id\":\"2189\"},\"dimension\":1,\"grid_line_color\":null,\"ticker\":null},\"id\":\"2192\",\"type\":\"Grid\"},{\"attributes\":{\"data\":{\"Average_Medicare_Payments\":{\"__ndarray__\":\"zczMzMx4t0A9CtejICXQQHA9CtcjLNBAHoXrUVji0EAUrkfhGmLVQAAAAACgwddAmZmZmemr2EA9CtejkNTaQB+F61EoaN5AuB6F66ES30DsUbge5VPhQEjhehQOvOJAxPUoXG895EApXI/CFYXmQEjhehRmyetAcT0K16vM7EBcj8L1iGnuQIXrUbhO+u9AUrgehXcj8EDhehSu9x/xQHA9Ctdnt/NAfBSuR63z9ECtR+F6aKb1QD0K16OcwvVAkML1KAQE9kApXI/CaRb6QNajcD2mYftAH4XrUZz4+0AqXI/Ckdr8QLgehetVaP1AuB6F6+GF/UDMzMzM2Oz9QMP1KFzTf/9AFa5H4T5PAUGkcD0KL7UBQdijcD3IbgVBZ2ZmZnzgBUEUrkfhEA4GQdijcD2KvwZBehSuRynkCkFTuB6Fx/kNQZmZmZnLnA5B16NwPbx/EEFTuB6FbnkSQf////9oFxZB9Shcj9TfGEGbmZmZZFYbQbkehesh1RxBpnA9iirGIEG4HoXrt8IjQT8K16MkhStB\",\"dtype\":\"float64\",\"order\":\"little\",\"shape\":[51]},\"Provider_State\":[\"AK\",\"DE\",\"VT\",\"ND\",\"WY\",\"ID\",\"MT\",\"RI\",\"SD\",\"HI\",\"UT\",\"DC\",\"NM\",\"NH\",\"OR\",\"ME\",\"NE\",\"KS\",\"NV\",\"WV\",\"MS\",\"IA\",\"LA\",\"OK\",\"AR\",\"CO\",\"AL\",\"CT\",\"SC\",\"TN\",\"AZ\",\"KY\",\"MN\",\"WI\",\"WA\",\"GA\",\"VA\",\"IN\",\"MO\",\"NC\",\"MD\",\"MA\",\"MI\",\"NJ\",\"OH\",\"PA\",\"IL\",\"TX\",\"FL\",\"NY\",\"CA\"]},\"selected\":{\"id\":\"2235\"},\"selection_policy\":{\"id\":\"2252\"}},\"id\":\"2234\",\"type\":\"ColumnDataSource\"},{\"attributes\":{\"margin\":[5,5,5,5],\"name\":\"HSpacer03015\",\"sizing_mode\":\"stretch_width\"},\"id\":\"2172\",\"type\":\"Spacer\"},{\"attributes\":{},\"id\":\"2187\",\"type\":\"CategoricalTicker\"},{\"attributes\":{\"fill_alpha\":{\"value\":0.2},\"fill_color\":{\"value\":\"#30a2da\"},\"line_alpha\":{\"value\":0.2},\"top\":{\"field\":\"Average_Medicare_Payments\"},\"width\":{\"value\":0.8},\"x\":{\"field\":\"Provider_State\"}},\"id\":\"2239\",\"type\":\"VBar\"},{\"attributes\":{\"bottom\":{\"value\":0},\"fill_alpha\":{\"value\":1.0},\"fill_color\":{\"value\":\"#30a2da\"},\"hatch_alpha\":{\"value\":1.0},\"hatch_color\":{\"value\":\"black\"},\"hatch_scale\":{\"value\":12.0},\"hatch_weight\":{\"value\":1.0},\"line_alpha\":{\"value\":1.0},\"line_cap\":{\"value\":\"butt\"},\"line_color\":{\"value\":\"black\"},\"line_dash\":{\"value\":[]},\"line_dash_offset\":{\"value\":0},\"line_join\":{\"value\":\"bevel\"},\"line_width\":{\"value\":1},\"top\":{\"field\":\"Average_Medicare_Payments\"},\"width\":{\"value\":0.8},\"x\":{\"field\":\"Provider_State\"}},\"id\":\"2255\",\"type\":\"VBar\"},{\"attributes\":{\"axis\":{\"id\":\"2186\"},\"grid_line_color\":null,\"ticker\":null},\"id\":\"2188\",\"type\":\"Grid\"},{\"attributes\":{\"source\":{\"id\":\"2213\"}},\"id\":\"2220\",\"type\":\"CDSView\"},{\"attributes\":{\"fill_alpha\":{\"value\":0.1},\"fill_color\":{\"value\":\"#30a2da\"},\"line_alpha\":{\"value\":0.1},\"top\":{\"field\":\"Average_Medicare_Payments\"},\"width\":{\"value\":0.8},\"x\":{\"field\":\"Provider_State\"}},\"id\":\"2238\",\"type\":\"VBar\"},{\"attributes\":{\"factors\":[\"AK\",\"VT\",\"ND\",\"DE\",\"WY\",\"ID\",\"MT\",\"RI\",\"SD\",\"HI\",\"DC\",\"UT\",\"NM\",\"NH\",\"ME\",\"OR\",\"NV\",\"KS\",\"NE\",\"WV\",\"MS\",\"IA\",\"OK\",\"LA\",\"AR\",\"CT\",\"CO\",\"SC\",\"AL\",\"AZ\",\"KY\",\"TN\",\"MN\",\"WI\",\"WA\",\"GA\",\"VA\",\"MO\",\"IN\",\"NC\",\"MD\",\"MA\",\"MI\",\"NJ\",\"OH\",\"PA\",\"IL\",\"TX\",\"FL\",\"NY\",\"CA\"],\"tags\":[[[\"Provider State Sorted\",\"Provider State Sorted\",null]]]},\"id\":\"2173\",\"type\":\"FactorRange\"},{\"attributes\":{},\"id\":\"2208\",\"type\":\"CategoricalTickFormatter\"},{\"attributes\":{},\"id\":\"2252\",\"type\":\"UnionRenderers\"},{\"attributes\":{\"label\":{\"value\":\"Average Medicare Payments\"},\"renderers\":[{\"id\":\"2240\"}]},\"id\":\"2254\",\"type\":\"LegendItem\"},{\"attributes\":{},\"id\":\"2190\",\"type\":\"BasicTicker\"},{\"attributes\":{\"axis_label\":\"Average Total Payments\",\"formatter\":{\"id\":\"2211\"},\"major_label_policy\":{\"id\":\"2210\"},\"ticker\":{\"id\":\"2190\"}},\"id\":\"2189\",\"type\":\"LinearAxis\"},{\"attributes\":{\"label\":{\"value\":\"Average Total Payments\"},\"renderers\":[{\"id\":\"2219\"}]},\"id\":\"2232\",\"type\":\"LegendItem\"},{\"attributes\":{\"overlay\":{\"id\":\"2198\"}},\"id\":\"2196\",\"type\":\"BoxZoomTool\"},{\"attributes\":{\"end\":1174360.0059999998,\"reset_end\":1174360.0059999998,\"reset_start\":0.0,\"tags\":[[[\"Average Total Payments\",\"Average Total Payments\",null]]]},\"id\":\"2174\",\"type\":\"Range1d\"},{\"attributes\":{\"fill_color\":{\"value\":\"#30a2da\"},\"top\":{\"field\":\"Average_Medicare_Payments\"},\"width\":{\"value\":0.8},\"x\":{\"field\":\"Provider_State\"}},\"id\":\"2237\",\"type\":\"VBar\"},{\"attributes\":{\"data_source\":{\"id\":\"2213\"},\"glyph\":{\"id\":\"2216\"},\"hover_glyph\":null,\"muted_glyph\":{\"id\":\"2218\"},\"nonselection_glyph\":{\"id\":\"2217\"},\"selection_glyph\":{\"id\":\"2233\"},\"view\":{\"id\":\"2220\"}},\"id\":\"2219\",\"type\":\"GlyphRenderer\"},{\"attributes\":{},\"id\":\"2235\",\"type\":\"Selection\"},{\"attributes\":{},\"id\":\"2214\",\"type\":\"Selection\"},{\"attributes\":{\"bottom_units\":\"screen\",\"fill_alpha\":0.5,\"fill_color\":\"lightgrey\",\"left_units\":\"screen\",\"level\":\"overlay\",\"line_alpha\":1.0,\"line_color\":\"black\",\"line_dash\":[4,4],\"line_width\":2,\"right_units\":\"screen\",\"syncable\":false,\"top_units\":\"screen\"},\"id\":\"2198\",\"type\":\"BoxAnnotation\"},{\"attributes\":{\"line_color\":\"#30a2da\",\"line_width\":2,\"x\":{\"field\":\"Provider State Sorted\"},\"y\":{\"field\":\"Average Total Payments\"}},\"id\":\"2233\",\"type\":\"Line\"},{\"attributes\":{\"callback\":null,\"renderers\":[{\"id\":\"2240\"}],\"tags\":[\"hv_created\"],\"tooltips\":[[\"Provider State\",\"@{Provider_State}\"],[\"Average Medicare Payments\",\"@{Average_Medicare_Payments}\"]]},\"id\":\"2176\",\"type\":\"HoverTool\"},{\"attributes\":{\"axis_label\":\"Provider State Sorted\",\"formatter\":{\"id\":\"2208\"},\"major_label_policy\":{\"id\":\"2207\"},\"ticker\":{\"id\":\"2187\"}},\"id\":\"2186\",\"type\":\"CategoricalAxis\"},{\"attributes\":{\"data_source\":{\"id\":\"2234\"},\"glyph\":{\"id\":\"2237\"},\"hover_glyph\":null,\"muted_glyph\":{\"id\":\"2239\"},\"nonselection_glyph\":{\"id\":\"2238\"},\"selection_glyph\":{\"id\":\"2255\"},\"view\":{\"id\":\"2241\"}},\"id\":\"2240\",\"type\":\"GlyphRenderer\"},{\"attributes\":{\"active_multi\":null,\"tools\":[{\"id\":\"2175\"},{\"id\":\"2176\"},{\"id\":\"2193\"},{\"id\":\"2194\"},{\"id\":\"2195\"},{\"id\":\"2196\"},{\"id\":\"2197\"}]},\"id\":\"2199\",\"type\":\"Toolbar\"},{\"attributes\":{},\"id\":\"2211\",\"type\":\"BasicTickFormatter\"},{\"attributes\":{},\"id\":\"2229\",\"type\":\"UnionRenderers\"},{\"attributes\":{},\"id\":\"2193\",\"type\":\"SaveTool\"},{\"attributes\":{\"margin\":[5,5,5,5],\"name\":\"HSpacer03016\",\"sizing_mode\":\"stretch_width\"},\"id\":\"2364\",\"type\":\"Spacer\"},{\"attributes\":{\"line_alpha\":0.2,\"line_color\":\"#30a2da\",\"line_width\":2,\"x\":{\"field\":\"Provider State Sorted\"},\"y\":{\"field\":\"Average Total Payments\"}},\"id\":\"2218\",\"type\":\"Line\"},{\"attributes\":{},\"id\":\"2194\",\"type\":\"PanTool\"},{\"attributes\":{\"line_alpha\":0.1,\"line_color\":\"#30a2da\",\"line_width\":2,\"x\":{\"field\":\"Provider State Sorted\"},\"y\":{\"field\":\"Average Total Payments\"}},\"id\":\"2217\",\"type\":\"Line\"},{\"attributes\":{\"callback\":null,\"renderers\":[{\"id\":\"2219\"}],\"tags\":[\"hv_created\"],\"tooltips\":[[\"Provider State Sorted\",\"@{Provider_State_Sorted}\"],[\"Average Total Payments\",\"@{Average_Total_Payments}\"]]},\"id\":\"2175\",\"type\":\"HoverTool\"},{\"attributes\":{},\"id\":\"2195\",\"type\":\"WheelZoomTool\"},{\"attributes\":{},\"id\":\"2197\",\"type\":\"ResetTool\"},{\"attributes\":{},\"id\":\"2210\",\"type\":\"AllLabels\"},{\"attributes\":{},\"id\":\"2207\",\"type\":\"AllLabels\"},{\"attributes\":{\"below\":[{\"id\":\"2186\"}],\"center\":[{\"id\":\"2188\"},{\"id\":\"2192\"}],\"height\":300,\"left\":[{\"id\":\"2189\"}],\"margin\":[5,5,5,5],\"min_border_bottom\":10,\"min_border_left\":10,\"min_border_right\":10,\"min_border_top\":10,\"renderers\":[{\"id\":\"2219\"},{\"id\":\"2240\"}],\"right\":[{\"id\":\"2231\"}],\"sizing_mode\":\"fixed\",\"title\":{\"id\":\"2178\"},\"toolbar\":{\"id\":\"2199\"},\"width\":700,\"x_range\":{\"id\":\"2173\"},\"x_scale\":{\"id\":\"2182\"},\"y_range\":{\"id\":\"2174\"},\"y_scale\":{\"id\":\"2184\"}},\"id\":\"2177\",\"subtype\":\"Figure\",\"type\":\"Plot\"},{\"attributes\":{\"line_color\":\"#30a2da\",\"line_width\":2,\"x\":{\"field\":\"Provider State Sorted\"},\"y\":{\"field\":\"Average Total Payments\"}},\"id\":\"2216\",\"type\":\"Line\"}],\"root_ids\":[\"2171\"]},\"title\":\"Bokeh Application\",\"version\":\"2.3.2\"}};\n",
       "    var render_items = [{\"docid\":\"38b30692-8da3-4ed0-99a6-16b1ceefeaa8\",\"root_ids\":[\"2171\"],\"roots\":{\"2171\":\"8bc6e0a4-a3f4-49ad-a3f7-65a53b9fdb43\"}}];\n",
       "    root.Bokeh.embed.embed_items_notebook(docs_json, render_items);\n",
       "  }\n",
       "  if (root.Bokeh !== undefined && root.Bokeh.Panel !== undefined) {\n",
       "    embed_document(root);\n",
       "  } else {\n",
       "    var attempts = 0;\n",
       "    var timer = setInterval(function(root) {\n",
       "      if (root.Bokeh !== undefined && root.Bokeh.Panel !== undefined) {\n",
       "        clearInterval(timer);\n",
       "        embed_document(root);\n",
       "      } else if (document.readyState == \"complete\") {\n",
       "        attempts++;\n",
       "        if (attempts > 100) {\n",
       "          clearInterval(timer);\n",
       "          console.log(\"Bokeh: ERROR: Unable to run BokehJS code because BokehJS library is missing\");\n",
       "        }\n",
       "      }\n",
       "    }, 10, root)\n",
       "  }\n",
       "})(window);</script>"
      ],
      "text/plain": [
       ":Overlay\n",
       "   .Curve.Average_Total_Payments   :Curve   [Provider State Sorted]   (Average Total Payments)\n",
       "   .Bars.Average_Medicare_Payments :Bars   [Provider State]   (Average Medicare Payments)"
      ]
     },
     "execution_count": 11,
     "metadata": {
      "application/vnd.holoviews_exec.v0+json": {
       "id": "2171"
      }
     },
     "output_type": "execute_result"
    }
   ],
   "source": [
    "# Overlay plots of different type using * operator\n",
    "sorted_total_payments_by_state.hvplot.line(label=\"Average Total Payments\") * sorted_total_medicare_by_state.hvplot.bar(label=\"Average Medicare Payments\")"
   ]
  },
  {
   "cell_type": "code",
   "execution_count": 12,
   "metadata": {},
   "outputs": [
    {
     "data": {},
     "metadata": {},
     "output_type": "display_data"
    },
    {
     "data": {
      "application/vnd.holoviews_exec.v0+json": "",
      "text/html": [
       "<div id='2426'>\n",
       "\n",
       "\n",
       "\n",
       "\n",
       "\n",
       "  <div class=\"bk-root\" id=\"ebf0b604-52a6-402f-a699-93175f9ba77b\" data-root-id=\"2426\"></div>\n",
       "</div>\n",
       "<script type=\"application/javascript\">(function(root) {\n",
       "  function embed_document(root) {\n",
       "    var docs_json = {\"dae61c85-a95b-442c-a44c-c0cf68a867e7\":{\"defs\":[],\"roots\":{\"references\":[{\"attributes\":{\"axis\":{\"id\":\"2441\"},\"grid_line_color\":null,\"ticker\":null},\"id\":\"2443\",\"type\":\"Grid\"},{\"attributes\":{\"axis_label\":\"Average Total Payments\",\"formatter\":{\"id\":\"2466\"},\"major_label_policy\":{\"id\":\"2465\"},\"ticker\":{\"id\":\"2445\"}},\"id\":\"2444\",\"type\":\"LinearAxis\"},{\"attributes\":{\"label\":{\"value\":\"Average Medicare Payments\"},\"renderers\":[{\"id\":\"2495\"}]},\"id\":\"2509\",\"type\":\"LegendItem\"},{\"attributes\":{},\"id\":\"2462\",\"type\":\"AllLabels\"},{\"attributes\":{\"label\":{\"value\":\"Average Total Payments\"},\"renderers\":[{\"id\":\"2474\"}]},\"id\":\"2487\",\"type\":\"LegendItem\"},{\"attributes\":{\"bottom\":{\"value\":0},\"fill_alpha\":{\"value\":1.0},\"fill_color\":{\"value\":\"#fc4f30\"},\"hatch_alpha\":{\"value\":1.0},\"hatch_color\":{\"value\":\"black\"},\"hatch_scale\":{\"value\":12.0},\"hatch_weight\":{\"value\":1.0},\"line_alpha\":{\"value\":1.0},\"line_cap\":{\"value\":\"butt\"},\"line_color\":{\"value\":\"black\"},\"line_dash\":{\"value\":[]},\"line_dash_offset\":{\"value\":0},\"line_join\":{\"value\":\"bevel\"},\"line_width\":{\"value\":1},\"top\":{\"field\":\"Average_Medicare_Payments\"},\"width\":{\"value\":0.8},\"x\":{\"field\":\"Provider_State\"}},\"id\":\"2510\",\"type\":\"VBar\"},{\"attributes\":{},\"id\":\"2484\",\"type\":\"UnionRenderers\"},{\"attributes\":{\"fill_alpha\":{\"value\":0.1},\"fill_color\":{\"value\":\"#30a2da\"},\"line_alpha\":{\"value\":0.1},\"top\":{\"field\":\"Average_Total_Payments\"},\"width\":{\"value\":0.8},\"x\":{\"field\":\"Provider_State_Sorted\"}},\"id\":\"2472\",\"type\":\"VBar\"},{\"attributes\":{\"fill_alpha\":{\"value\":0.2},\"fill_color\":{\"value\":\"#30a2da\"},\"line_alpha\":{\"value\":0.2},\"top\":{\"field\":\"Average_Total_Payments\"},\"width\":{\"value\":0.8},\"x\":{\"field\":\"Provider_State_Sorted\"}},\"id\":\"2473\",\"type\":\"VBar\"},{\"attributes\":{\"children\":[{\"id\":\"2427\"},{\"id\":\"2432\"},{\"id\":\"2619\"}],\"margin\":[0,0,0,0],\"name\":\"Row03490\",\"tags\":[\"embedded\"]},\"id\":\"2426\",\"type\":\"Row\"},{\"attributes\":{\"fill_color\":{\"value\":\"#30a2da\"},\"top\":{\"field\":\"Average_Total_Payments\"},\"width\":{\"value\":0.8},\"x\":{\"field\":\"Provider_State_Sorted\"}},\"id\":\"2471\",\"type\":\"VBar\"},{\"attributes\":{\"bottom_units\":\"screen\",\"fill_alpha\":0.5,\"fill_color\":\"lightgrey\",\"left_units\":\"screen\",\"level\":\"overlay\",\"line_alpha\":1.0,\"line_color\":\"black\",\"line_dash\":[4,4],\"line_width\":2,\"right_units\":\"screen\",\"syncable\":false,\"top_units\":\"screen\"},\"id\":\"2453\",\"type\":\"BoxAnnotation\"},{\"attributes\":{},\"id\":\"2463\",\"type\":\"CategoricalTickFormatter\"},{\"attributes\":{\"factors\":[\"AK\",\"VT\",\"ND\",\"DE\",\"WY\",\"ID\",\"MT\",\"RI\",\"SD\",\"HI\",\"DC\",\"UT\",\"NM\",\"NH\",\"ME\",\"OR\",\"NV\",\"KS\",\"NE\",\"WV\",\"MS\",\"IA\",\"OK\",\"LA\",\"AR\",\"CT\",\"CO\",\"SC\",\"AL\",\"AZ\",\"KY\",\"TN\",\"MN\",\"WI\",\"WA\",\"GA\",\"VA\",\"MO\",\"IN\",\"NC\",\"MD\",\"MA\",\"MI\",\"NJ\",\"OH\",\"PA\",\"IL\",\"TX\",\"FL\",\"NY\",\"CA\"],\"tags\":[[[\"Provider State Sorted\",\"Provider State Sorted\",null]]]},\"id\":\"2428\",\"type\":\"FactorRange\"},{\"attributes\":{\"callback\":null,\"renderers\":[{\"id\":\"2495\"}],\"tags\":[\"hv_created\"],\"tooltips\":[[\"Provider State\",\"@{Provider_State}\"],[\"Average Medicare Payments\",\"@{Average_Medicare_Payments}\"]]},\"id\":\"2431\",\"type\":\"HoverTool\"},{\"attributes\":{\"margin\":[5,5,5,5],\"name\":\"HSpacer03494\",\"sizing_mode\":\"stretch_width\"},\"id\":\"2427\",\"type\":\"Spacer\"},{\"attributes\":{\"active_multi\":null,\"tools\":[{\"id\":\"2430\"},{\"id\":\"2431\"},{\"id\":\"2448\"},{\"id\":\"2449\"},{\"id\":\"2450\"},{\"id\":\"2451\"},{\"id\":\"2452\"}]},\"id\":\"2454\",\"type\":\"Toolbar\"},{\"attributes\":{\"click_policy\":\"mute\",\"items\":[{\"id\":\"2487\"},{\"id\":\"2509\"}],\"location\":[0,0]},\"id\":\"2486\",\"type\":\"Legend\"},{\"attributes\":{\"data\":{\"Average_Total_Payments\":{\"__ndarray__\":\"ZmZmZmbeu0DsUbgeRbrSQHE9CtfjFNVAUrgehUtq1kCkcD0Kd5vYQJqZmZkZ395AehSuR+FH30A+CtejaIzgQOF6FK737+JA9ihcjxIH40AK16Nw1eTlQD0K16OwiOZAzszMzMys6kBI4XoUhgLsQK5H4XqgGfJAmpmZmdmD8kCvR+F6tEj0QF2PwvWUU/RAKFyPwnV09ED1KFyP3v71QKVwPQo/fPlAm5mZmcEA+0CF61G4+jn7QKRwPQr/UvxANDMzMz9b/EAAAAAA8rEAQa5H4Xqk7ABBKVyPwsUDAkEehetRakMCQQrXo3DjiQJBwvUoXFlhA0EM16NwGbYDQR6F61GKAgRBFK5H4Z4LB0EBAAAAPhQHQXwUrkfjKgtBaWZmZiiGDEGQwvUoNK0MQXE9CtdhvwxBexSuRwyXEEE+CtejKIgRQRSuR+GWVxJBwvUoXCN1FEHsUbge57sXQV+PwvVHthtBoJmZmTwXH0E0MzMz5XshQQIAAAC8eyJB43oULmPMJUEpXI/CW24nQShcj0JyTDBB\",\"dtype\":\"float64\",\"order\":\"little\",\"shape\":[51]},\"Provider_State_Sorted\":[\"AK\",\"VT\",\"ND\",\"DE\",\"WY\",\"ID\",\"MT\",\"RI\",\"SD\",\"HI\",\"DC\",\"UT\",\"NM\",\"NH\",\"ME\",\"OR\",\"NV\",\"KS\",\"NE\",\"WV\",\"MS\",\"IA\",\"OK\",\"LA\",\"AR\",\"CT\",\"CO\",\"SC\",\"AL\",\"AZ\",\"KY\",\"TN\",\"MN\",\"WI\",\"WA\",\"GA\",\"VA\",\"MO\",\"IN\",\"NC\",\"MD\",\"MA\",\"MI\",\"NJ\",\"OH\",\"PA\",\"IL\",\"TX\",\"FL\",\"NY\",\"CA\"]},\"selected\":{\"id\":\"2469\"},\"selection_policy\":{\"id\":\"2484\"}},\"id\":\"2468\",\"type\":\"ColumnDataSource\"},{\"attributes\":{\"below\":[{\"id\":\"2441\"}],\"center\":[{\"id\":\"2443\"},{\"id\":\"2447\"}],\"height\":300,\"left\":[{\"id\":\"2444\"}],\"margin\":[5,5,5,5],\"min_border_bottom\":10,\"min_border_left\":10,\"min_border_right\":10,\"min_border_top\":10,\"renderers\":[{\"id\":\"2474\"},{\"id\":\"2495\"}],\"right\":[{\"id\":\"2486\"}],\"sizing_mode\":\"fixed\",\"title\":{\"id\":\"2433\"},\"toolbar\":{\"id\":\"2454\"},\"width\":700,\"x_range\":{\"id\":\"2428\"},\"x_scale\":{\"id\":\"2437\"},\"y_range\":{\"id\":\"2429\"},\"y_scale\":{\"id\":\"2439\"}},\"id\":\"2432\",\"subtype\":\"Figure\",\"type\":\"Plot\"},{\"attributes\":{},\"id\":\"2448\",\"type\":\"SaveTool\"},{\"attributes\":{},\"id\":\"2449\",\"type\":\"PanTool\"},{\"attributes\":{\"data_source\":{\"id\":\"2489\"},\"glyph\":{\"id\":\"2492\"},\"hover_glyph\":null,\"muted_glyph\":{\"id\":\"2494\"},\"nonselection_glyph\":{\"id\":\"2493\"},\"selection_glyph\":{\"id\":\"2510\"},\"view\":{\"id\":\"2496\"}},\"id\":\"2495\",\"type\":\"GlyphRenderer\"},{\"attributes\":{\"end\":1174360.0059999998,\"reset_end\":1174360.0059999998,\"reset_start\":0.0,\"tags\":[[[\"Average Total Payments\",\"Average Total Payments\",null]]]},\"id\":\"2429\",\"type\":\"Range1d\"},{\"attributes\":{},\"id\":\"2442\",\"type\":\"CategoricalTicker\"},{\"attributes\":{\"source\":{\"id\":\"2489\"}},\"id\":\"2496\",\"type\":\"CDSView\"},{\"attributes\":{},\"id\":\"2450\",\"type\":\"WheelZoomTool\"},{\"attributes\":{\"axis\":{\"id\":\"2444\"},\"dimension\":1,\"grid_line_color\":null,\"ticker\":null},\"id\":\"2447\",\"type\":\"Grid\"},{\"attributes\":{},\"id\":\"2437\",\"type\":\"CategoricalScale\"},{\"attributes\":{},\"id\":\"2452\",\"type\":\"ResetTool\"},{\"attributes\":{},\"id\":\"2469\",\"type\":\"Selection\"},{\"attributes\":{\"source\":{\"id\":\"2468\"}},\"id\":\"2475\",\"type\":\"CDSView\"},{\"attributes\":{\"callback\":null,\"renderers\":[{\"id\":\"2474\"}],\"tags\":[\"hv_created\"],\"tooltips\":[[\"Provider State Sorted\",\"@{Provider_State_Sorted}\"],[\"Average Total Payments\",\"@{Average_Total_Payments}\"]]},\"id\":\"2430\",\"type\":\"HoverTool\"},{\"attributes\":{\"data_source\":{\"id\":\"2468\"},\"glyph\":{\"id\":\"2471\"},\"hover_glyph\":null,\"muted_glyph\":{\"id\":\"2473\"},\"nonselection_glyph\":{\"id\":\"2472\"},\"selection_glyph\":{\"id\":\"2488\"},\"view\":{\"id\":\"2475\"}},\"id\":\"2474\",\"type\":\"GlyphRenderer\"},{\"attributes\":{\"overlay\":{\"id\":\"2453\"}},\"id\":\"2451\",\"type\":\"BoxZoomTool\"},{\"attributes\":{\"data\":{\"Average_Medicare_Payments\":{\"__ndarray__\":\"zczMzMx4t0A9CtejICXQQHA9CtcjLNBAHoXrUVji0EAUrkfhGmLVQAAAAACgwddAmZmZmemr2EA9CtejkNTaQB+F61EoaN5AuB6F66ES30DsUbge5VPhQEjhehQOvOJAxPUoXG895EApXI/CFYXmQEjhehRmyetAcT0K16vM7EBcj8L1iGnuQIXrUbhO+u9AUrgehXcj8EDhehSu9x/xQHA9Ctdnt/NAfBSuR63z9ECtR+F6aKb1QD0K16OcwvVAkML1KAQE9kApXI/CaRb6QNajcD2mYftAH4XrUZz4+0AqXI/Ckdr8QLgehetVaP1AuB6F6+GF/UDMzMzM2Oz9QMP1KFzTf/9AFa5H4T5PAUGkcD0KL7UBQdijcD3IbgVBZ2ZmZnzgBUEUrkfhEA4GQdijcD2KvwZBehSuRynkCkFTuB6Fx/kNQZmZmZnLnA5B16NwPbx/EEFTuB6FbnkSQf////9oFxZB9Shcj9TfGEGbmZmZZFYbQbkehesh1RxBpnA9iirGIEG4HoXrt8IjQT8K16MkhStB\",\"dtype\":\"float64\",\"order\":\"little\",\"shape\":[51]},\"Provider_State\":[\"AK\",\"DE\",\"VT\",\"ND\",\"WY\",\"ID\",\"MT\",\"RI\",\"SD\",\"HI\",\"UT\",\"DC\",\"NM\",\"NH\",\"OR\",\"ME\",\"NE\",\"KS\",\"NV\",\"WV\",\"MS\",\"IA\",\"LA\",\"OK\",\"AR\",\"CO\",\"AL\",\"CT\",\"SC\",\"TN\",\"AZ\",\"KY\",\"MN\",\"WI\",\"WA\",\"GA\",\"VA\",\"IN\",\"MO\",\"NC\",\"MD\",\"MA\",\"MI\",\"NJ\",\"OH\",\"PA\",\"IL\",\"TX\",\"FL\",\"NY\",\"CA\"]},\"selected\":{\"id\":\"2490\"},\"selection_policy\":{\"id\":\"2507\"}},\"id\":\"2489\",\"type\":\"ColumnDataSource\"},{\"attributes\":{\"margin\":[5,5,5,5],\"name\":\"HSpacer03495\",\"sizing_mode\":\"stretch_width\"},\"id\":\"2619\",\"type\":\"Spacer\"},{\"attributes\":{},\"id\":\"2445\",\"type\":\"BasicTicker\"},{\"attributes\":{},\"id\":\"2465\",\"type\":\"AllLabels\"},{\"attributes\":{\"fill_color\":{\"value\":\"#fc4f30\"},\"top\":{\"field\":\"Average_Medicare_Payments\"},\"width\":{\"value\":0.8},\"x\":{\"field\":\"Provider_State\"}},\"id\":\"2492\",\"type\":\"VBar\"},{\"attributes\":{},\"id\":\"2507\",\"type\":\"UnionRenderers\"},{\"attributes\":{},\"id\":\"2439\",\"type\":\"LinearScale\"},{\"attributes\":{\"fill_alpha\":{\"value\":0.1},\"fill_color\":{\"value\":\"#fc4f30\"},\"line_alpha\":{\"value\":0.1},\"top\":{\"field\":\"Average_Medicare_Payments\"},\"width\":{\"value\":0.8},\"x\":{\"field\":\"Provider_State\"}},\"id\":\"2493\",\"type\":\"VBar\"},{\"attributes\":{\"text_color\":\"black\",\"text_font_size\":\"12pt\"},\"id\":\"2433\",\"type\":\"Title\"},{\"attributes\":{\"bottom\":{\"value\":0},\"fill_alpha\":{\"value\":1.0},\"fill_color\":{\"value\":\"#30a2da\"},\"hatch_alpha\":{\"value\":1.0},\"hatch_color\":{\"value\":\"black\"},\"hatch_scale\":{\"value\":12.0},\"hatch_weight\":{\"value\":1.0},\"line_alpha\":{\"value\":1.0},\"line_cap\":{\"value\":\"butt\"},\"line_color\":{\"value\":\"black\"},\"line_dash\":{\"value\":[]},\"line_dash_offset\":{\"value\":0},\"line_join\":{\"value\":\"bevel\"},\"line_width\":{\"value\":1},\"top\":{\"field\":\"Average_Total_Payments\"},\"width\":{\"value\":0.8},\"x\":{\"field\":\"Provider_State_Sorted\"}},\"id\":\"2488\",\"type\":\"VBar\"},{\"attributes\":{},\"id\":\"2490\",\"type\":\"Selection\"},{\"attributes\":{\"axis_label\":\"Provider State Sorted\",\"formatter\":{\"id\":\"2463\"},\"major_label_policy\":{\"id\":\"2462\"},\"ticker\":{\"id\":\"2442\"}},\"id\":\"2441\",\"type\":\"CategoricalAxis\"},{\"attributes\":{\"fill_alpha\":{\"value\":0.2},\"fill_color\":{\"value\":\"#fc4f30\"},\"line_alpha\":{\"value\":0.2},\"top\":{\"field\":\"Average_Medicare_Payments\"},\"width\":{\"value\":0.8},\"x\":{\"field\":\"Provider_State\"}},\"id\":\"2494\",\"type\":\"VBar\"},{\"attributes\":{},\"id\":\"2466\",\"type\":\"BasicTickFormatter\"}],\"root_ids\":[\"2426\"]},\"title\":\"Bokeh Application\",\"version\":\"2.3.2\"}};\n",
       "    var render_items = [{\"docid\":\"dae61c85-a95b-442c-a44c-c0cf68a867e7\",\"root_ids\":[\"2426\"],\"roots\":{\"2426\":\"ebf0b604-52a6-402f-a699-93175f9ba77b\"}}];\n",
       "    root.Bokeh.embed.embed_items_notebook(docs_json, render_items);\n",
       "  }\n",
       "  if (root.Bokeh !== undefined && root.Bokeh.Panel !== undefined) {\n",
       "    embed_document(root);\n",
       "  } else {\n",
       "    var attempts = 0;\n",
       "    var timer = setInterval(function(root) {\n",
       "      if (root.Bokeh !== undefined && root.Bokeh.Panel !== undefined) {\n",
       "        clearInterval(timer);\n",
       "        embed_document(root);\n",
       "      } else if (document.readyState == \"complete\") {\n",
       "        attempts++;\n",
       "        if (attempts > 100) {\n",
       "          clearInterval(timer);\n",
       "          console.log(\"Bokeh: ERROR: Unable to run BokehJS code because BokehJS library is missing\");\n",
       "        }\n",
       "      }\n",
       "    }, 10, root)\n",
       "  }\n",
       "})(window);</script>"
      ],
      "text/plain": [
       ":Overlay\n",
       "   .Bars.Average_Total_Payments    :Bars   [Provider State Sorted]   (Average Total Payments)\n",
       "   .Bars.Average_Medicare_Payments :Bars   [Provider State]   (Average Medicare Payments)"
      ]
     },
     "execution_count": 12,
     "metadata": {
      "application/vnd.holoviews_exec.v0+json": {
       "id": "2426"
      }
     },
     "output_type": "execute_result"
    }
   ],
   "source": [
    "# Overlay plots of the same type using * operator\n",
    "sorted_total_payments_by_state.hvplot.bar(label=\"Average Total Payments\") * sorted_total_medicare_by_state.hvplot.bar(label=\"Average Medicare Payments\")"
   ]
  },
  {
   "cell_type": "code",
   "execution_count": null,
   "metadata": {},
   "outputs": [],
   "source": []
  }
 ],
 "metadata": {
  "kernel_info": {
   "name": "python3"
  },
  "kernelspec": {
   "display_name": "Python 3 (ipykernel)",
   "language": "python",
   "name": "python3"
  },
  "language_info": {
   "codemirror_mode": {
    "name": "ipython",
    "version": 3
   },
   "file_extension": ".py",
   "mimetype": "text/x-python",
   "name": "python",
   "nbconvert_exporter": "python",
   "pygments_lexer": "ipython3",
   "version": "3.7.11"
  },
  "nteract": {
   "version": "0.12.3"
  }
 },
 "nbformat": 4,
 "nbformat_minor": 4
}
