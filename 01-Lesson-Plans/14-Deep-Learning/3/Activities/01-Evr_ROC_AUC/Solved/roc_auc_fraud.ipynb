{
 "cells": [
  {
   "cell_type": "markdown",
   "metadata": {},
   "source": [
    "# Instructor Do: Intro to the ROC Curve and AUC\n",
    "\n",
    "In this activity, students will learn how to measure the performance of a binary classification model by fetching metrics from Keras, as well as plotting and interpreting the ROC curve and AUC."
   ]
  },
  {
   "cell_type": "code",
   "execution_count": 1,
   "metadata": {},
   "outputs": [],
   "source": [
    "# Initial imports\n",
    "import pandas as pd\n",
    "import numpy as np\n",
    "import matplotlib.pyplot as plt\n",
    "import tensorflow as tf\n",
    "from pathlib import Path\n",
    "\n",
    "%matplotlib inline"
   ]
  },
  {
   "cell_type": "markdown",
   "metadata": {},
   "source": [
    "## The Dataset\n",
    "\n",
    "The data provided for this demo contains anonymous information about `284807` credit card transactions made by European credit cardholders in September 2013.\n",
    "\n",
    "The dataset is going to be used to create a binary classification model using a deep neural network to detect fraudulent transactions. It contains nine numerical variables, which are the result of PCA transformation to protect the confidentiality of credit cardholders. Only the transaction amount can be seen as is.\n",
    "\n",
    "This dataset is an abstract of the file shared by the [Machine Learning Group](http://mlg.ulb.ac.be) of the Université Libre de Bruxelles (ULB)."
   ]
  },
  {
   "cell_type": "code",
   "execution_count": 2,
   "metadata": {},
   "outputs": [
    {
     "data": {
      "text/html": [
       "<div>\n",
       "<style scoped>\n",
       "    .dataframe tbody tr th:only-of-type {\n",
       "        vertical-align: middle;\n",
       "    }\n",
       "\n",
       "    .dataframe tbody tr th {\n",
       "        vertical-align: top;\n",
       "    }\n",
       "\n",
       "    .dataframe thead th {\n",
       "        text-align: right;\n",
       "    }\n",
       "</style>\n",
       "<table border=\"1\" class=\"dataframe\">\n",
       "  <thead>\n",
       "    <tr style=\"text-align: right;\">\n",
       "      <th></th>\n",
       "      <th>V1</th>\n",
       "      <th>V2</th>\n",
       "      <th>V3</th>\n",
       "      <th>V4</th>\n",
       "      <th>V5</th>\n",
       "      <th>V6</th>\n",
       "      <th>V7</th>\n",
       "      <th>V8</th>\n",
       "      <th>V9</th>\n",
       "      <th>Amount</th>\n",
       "      <th>Class</th>\n",
       "    </tr>\n",
       "  </thead>\n",
       "  <tbody>\n",
       "    <tr>\n",
       "      <th>0</th>\n",
       "      <td>-1.359807</td>\n",
       "      <td>-0.072781</td>\n",
       "      <td>2.536347</td>\n",
       "      <td>1.378155</td>\n",
       "      <td>-0.338321</td>\n",
       "      <td>0.462388</td>\n",
       "      <td>0.239599</td>\n",
       "      <td>0.098698</td>\n",
       "      <td>0.363787</td>\n",
       "      <td>149.62</td>\n",
       "      <td>0</td>\n",
       "    </tr>\n",
       "    <tr>\n",
       "      <th>1</th>\n",
       "      <td>1.191857</td>\n",
       "      <td>0.266151</td>\n",
       "      <td>0.166480</td>\n",
       "      <td>0.448154</td>\n",
       "      <td>0.060018</td>\n",
       "      <td>-0.082361</td>\n",
       "      <td>-0.078803</td>\n",
       "      <td>0.085102</td>\n",
       "      <td>-0.255425</td>\n",
       "      <td>2.69</td>\n",
       "      <td>0</td>\n",
       "    </tr>\n",
       "    <tr>\n",
       "      <th>2</th>\n",
       "      <td>-1.358354</td>\n",
       "      <td>-1.340163</td>\n",
       "      <td>1.773209</td>\n",
       "      <td>0.379780</td>\n",
       "      <td>-0.503198</td>\n",
       "      <td>1.800499</td>\n",
       "      <td>0.791461</td>\n",
       "      <td>0.247676</td>\n",
       "      <td>-1.514654</td>\n",
       "      <td>378.66</td>\n",
       "      <td>0</td>\n",
       "    </tr>\n",
       "    <tr>\n",
       "      <th>3</th>\n",
       "      <td>-0.966272</td>\n",
       "      <td>-0.185226</td>\n",
       "      <td>1.792993</td>\n",
       "      <td>-0.863291</td>\n",
       "      <td>-0.010309</td>\n",
       "      <td>1.247203</td>\n",
       "      <td>0.237609</td>\n",
       "      <td>0.377436</td>\n",
       "      <td>-1.387024</td>\n",
       "      <td>123.50</td>\n",
       "      <td>0</td>\n",
       "    </tr>\n",
       "    <tr>\n",
       "      <th>4</th>\n",
       "      <td>-1.158233</td>\n",
       "      <td>0.877737</td>\n",
       "      <td>1.548718</td>\n",
       "      <td>0.403034</td>\n",
       "      <td>-0.407193</td>\n",
       "      <td>0.095921</td>\n",
       "      <td>0.592941</td>\n",
       "      <td>-0.270533</td>\n",
       "      <td>0.817739</td>\n",
       "      <td>69.99</td>\n",
       "      <td>0</td>\n",
       "    </tr>\n",
       "  </tbody>\n",
       "</table>\n",
       "</div>"
      ],
      "text/plain": [
       "         V1        V2        V3        V4        V5        V6        V7  \\\n",
       "0 -1.359807 -0.072781  2.536347  1.378155 -0.338321  0.462388  0.239599   \n",
       "1  1.191857  0.266151  0.166480  0.448154  0.060018 -0.082361 -0.078803   \n",
       "2 -1.358354 -1.340163  1.773209  0.379780 -0.503198  1.800499  0.791461   \n",
       "3 -0.966272 -0.185226  1.792993 -0.863291 -0.010309  1.247203  0.237609   \n",
       "4 -1.158233  0.877737  1.548718  0.403034 -0.407193  0.095921  0.592941   \n",
       "\n",
       "         V8        V9  Amount  Class  \n",
       "0  0.098698  0.363787  149.62      0  \n",
       "1  0.085102 -0.255425    2.69      0  \n",
       "2  0.247676 -1.514654  378.66      0  \n",
       "3  0.377436 -1.387024  123.50      0  \n",
       "4 -0.270533  0.817739   69.99      0  "
      ]
     },
     "execution_count": 2,
     "metadata": {},
     "output_type": "execute_result"
    }
   ],
   "source": [
    "# Import the dataset\n",
    "file_path = Path(\"../Resources/transactions.csv\")\n",
    "transactions_df = pd.read_csv(file_path)\n",
    "transactions_df.head()"
   ]
  },
  {
   "cell_type": "markdown",
   "metadata": {},
   "source": [
    "## Data Preprocessing"
   ]
  },
  {
   "cell_type": "code",
   "execution_count": 3,
   "metadata": {},
   "outputs": [],
   "source": [
    "# Creating the X and y sets\n",
    "X = transactions_df.iloc[:, 0:10].values\n",
    "y = transactions_df[\"Class\"].values"
   ]
  },
  {
   "cell_type": "code",
   "execution_count": 4,
   "metadata": {},
   "outputs": [],
   "source": [
    "# Creating training, validation, and testing sets\n",
    "from sklearn.model_selection import train_test_split\n",
    "\n",
    "X_train, X_test, y_train, y_test = train_test_split(X, y, random_state=78)\n",
    "\n",
    "X_train, X_val, y_train, y_val = train_test_split(X_train, y_train, random_state=78)"
   ]
  },
  {
   "cell_type": "code",
   "execution_count": 5,
   "metadata": {},
   "outputs": [],
   "source": [
    "# Import the StandardScaler from sklearn\n",
    "from sklearn.preprocessing import StandardScaler\n",
    "\n",
    "# Scale the data\n",
    "scaler = StandardScaler().fit(X_train)\n",
    "X_train = scaler.transform(X_train)"
   ]
  },
  {
   "cell_type": "markdown",
   "metadata": {},
   "source": [
    "## Build and Train the Deep Learning Model"
   ]
  },
  {
   "cell_type": "markdown",
   "metadata": {},
   "source": [
    " ### Importing the Keras Modules"
   ]
  },
  {
   "cell_type": "code",
   "execution_count": 6,
   "metadata": {},
   "outputs": [],
   "source": [
    "# Import Keras modules for model creation\n",
    "from tensorflow.keras.models import Sequential\n",
    "from tensorflow.keras.layers import Dense"
   ]
  },
  {
   "cell_type": "markdown",
   "metadata": {},
   "source": [
    " ### Setting Up the Model"
   ]
  },
  {
   "cell_type": "code",
   "execution_count": 7,
   "metadata": {},
   "outputs": [],
   "source": [
    "# Model set-up\n",
    "number_input_features = 10\n",
    "hidden_nodes_layer1 = 15\n",
    "hidden_nodes_layer2 = 5"
   ]
  },
  {
   "cell_type": "markdown",
   "metadata": {},
   "source": [
    " ### Defining the Model's Structure"
   ]
  },
  {
   "cell_type": "code",
   "execution_count": 8,
   "metadata": {},
   "outputs": [
    {
     "name": "stderr",
     "output_type": "stream",
     "text": [
      "2022-06-15 18:51:43.939426: I tensorflow/core/platform/cpu_feature_guard.cc:193] This TensorFlow binary is optimized with oneAPI Deep Neural Network Library (oneDNN) to use the following CPU instructions in performance-critical operations:  AVX2 AVX512F AVX512_VNNI FMA\n",
      "To enable them in other operations, rebuild TensorFlow with the appropriate compiler flags.\n"
     ]
    }
   ],
   "source": [
    "# Define the LSTM RNN model\n",
    "model = Sequential()\n",
    "\n",
    "# Layer 1\n",
    "model.add(\n",
    "    Dense(units=hidden_nodes_layer1, input_dim=number_input_features, activation=\"relu\")\n",
    ")\n",
    "\n",
    "# Layer 2\n",
    "model.add(Dense(units=hidden_nodes_layer2, activation=\"relu\"))\n",
    "\n",
    "# Output layer\n",
    "model.add(Dense(1, activation=\"sigmoid\"))"
   ]
  },
  {
   "cell_type": "markdown",
   "metadata": {},
   "source": [
    " ### Compiling the Model"
   ]
  },
  {
   "cell_type": "code",
   "execution_count": 9,
   "metadata": {},
   "outputs": [],
   "source": [
    "# Compile the model\n",
    "model.compile(\n",
    "    loss=\"binary_crossentropy\",\n",
    "    optimizer=\"adam\",\n",
    "    metrics=[\n",
    "        \"accuracy\",\n",
    "        tf.keras.metrics.TruePositives(name=\"tp\"),\n",
    "        tf.keras.metrics.TrueNegatives(name=\"tn\"),\n",
    "        tf.keras.metrics.FalsePositives(name=\"fp\"),\n",
    "        tf.keras.metrics.FalseNegatives(name=\"fn\"),\n",
    "        tf.keras.metrics.Precision(name=\"precision\"),\n",
    "        tf.keras.metrics.Recall(name=\"recall\"),\n",
    "        tf.keras.metrics.AUC(name=\"auc\"),\n",
    "    ],\n",
    ")"
   ]
  },
  {
   "cell_type": "code",
   "execution_count": 10,
   "metadata": {},
   "outputs": [
    {
     "name": "stdout",
     "output_type": "stream",
     "text": [
      "Model: \"sequential\"\n",
      "_________________________________________________________________\n",
      " Layer (type)                Output Shape              Param #   \n",
      "=================================================================\n",
      " dense (Dense)               (None, 15)                165       \n",
      "                                                                 \n",
      " dense_1 (Dense)             (None, 5)                 80        \n",
      "                                                                 \n",
      " dense_2 (Dense)             (None, 1)                 6         \n",
      "                                                                 \n",
      "=================================================================\n",
      "Total params: 251\n",
      "Trainable params: 251\n",
      "Non-trainable params: 0\n",
      "_________________________________________________________________\n"
     ]
    }
   ],
   "source": [
    "# Summarize the model\n",
    "model.summary()"
   ]
  },
  {
   "cell_type": "markdown",
   "metadata": {},
   "source": [
    " ### Training the Model"
   ]
  },
  {
   "cell_type": "code",
   "execution_count": 11,
   "metadata": {},
   "outputs": [
    {
     "name": "stdout",
     "output_type": "stream",
     "text": [
      "Epoch 1/50\n",
      "161/161 [==============================] - 4s 10ms/step - loss: 0.1708 - accuracy: 0.9981 - tp: 0.0000e+00 - tn: 159892.0000 - fp: 54.0000 - fn: 257.0000 - precision: 0.0000e+00 - recall: 0.0000e+00 - auc: 0.1393 - val_loss: 0.1971 - val_accuracy: 0.9980 - val_tp: 0.0000e+00 - val_tn: 53297.0000 - val_fp: 0.0000e+00 - val_fn: 105.0000 - val_precision: 0.0000e+00 - val_recall: 0.0000e+00 - val_auc: 0.4384\n",
      "Epoch 2/50\n",
      "161/161 [==============================] - 1s 4ms/step - loss: 0.0304 - accuracy: 0.9984 - tp: 0.0000e+00 - tn: 159946.0000 - fp: 0.0000e+00 - fn: 257.0000 - precision: 0.0000e+00 - recall: 0.0000e+00 - auc: 0.3322 - val_loss: 0.2417 - val_accuracy: 0.9980 - val_tp: 0.0000e+00 - val_tn: 53297.0000 - val_fp: 0.0000e+00 - val_fn: 105.0000 - val_precision: 0.0000e+00 - val_recall: 0.0000e+00 - val_auc: 0.5500\n",
      "Epoch 3/50\n",
      "161/161 [==============================] - 1s 4ms/step - loss: 0.0134 - accuracy: 0.9984 - tp: 3.0000 - tn: 159945.0000 - fp: 1.0000 - fn: 254.0000 - precision: 0.7500 - recall: 0.0117 - auc: 0.7402 - val_loss: 0.2675 - val_accuracy: 0.9982 - val_tp: 12.0000 - val_tn: 53296.0000 - val_fp: 1.0000 - val_fn: 93.0000 - val_precision: 0.9231 - val_recall: 0.1143 - val_auc: 0.6624\n",
      "Epoch 4/50\n",
      "161/161 [==============================] - 1s 4ms/step - loss: 0.0082 - accuracy: 0.9989 - tp: 93.0000 - tn: 159926.0000 - fp: 20.0000 - fn: 164.0000 - precision: 0.8230 - recall: 0.3619 - auc: 0.8518 - val_loss: 0.2808 - val_accuracy: 0.9984 - val_tp: 24.0000 - val_tn: 53294.0000 - val_fp: 3.0000 - val_fn: 81.0000 - val_precision: 0.8889 - val_recall: 0.2286 - val_auc: 0.6878\n",
      "Epoch 5/50\n",
      "161/161 [==============================] - 1s 4ms/step - loss: 0.0064 - accuracy: 0.9990 - tp: 125.0000 - tn: 159920.0000 - fp: 26.0000 - fn: 132.0000 - precision: 0.8278 - recall: 0.4864 - auc: 0.8823 - val_loss: 0.2888 - val_accuracy: 0.9986 - val_tp: 32.0000 - val_tn: 53294.0000 - val_fp: 3.0000 - val_fn: 73.0000 - val_precision: 0.9143 - val_recall: 0.3048 - val_auc: 0.6953\n",
      "Epoch 6/50\n",
      "161/161 [==============================] - 1s 4ms/step - loss: 0.0055 - accuracy: 0.9990 - tp: 130.0000 - tn: 159920.0000 - fp: 26.0000 - fn: 127.0000 - precision: 0.8333 - recall: 0.5058 - auc: 0.8943 - val_loss: 0.2838 - val_accuracy: 0.9986 - val_tp: 35.0000 - val_tn: 53290.0000 - val_fp: 7.0000 - val_fn: 70.0000 - val_precision: 0.8333 - val_recall: 0.3333 - val_auc: 0.7195\n",
      "Epoch 7/50\n",
      "161/161 [==============================] - 1s 4ms/step - loss: 0.0051 - accuracy: 0.9991 - tp: 144.0000 - tn: 159919.0000 - fp: 27.0000 - fn: 113.0000 - precision: 0.8421 - recall: 0.5603 - auc: 0.8962 - val_loss: 0.2775 - val_accuracy: 0.9986 - val_tp: 38.0000 - val_tn: 53290.0000 - val_fp: 7.0000 - val_fn: 67.0000 - val_precision: 0.8444 - val_recall: 0.3619 - val_auc: 0.7197\n",
      "Epoch 8/50\n",
      "161/161 [==============================] - 1s 4ms/step - loss: 0.0047 - accuracy: 0.9991 - tp: 150.0000 - tn: 159915.0000 - fp: 31.0000 - fn: 107.0000 - precision: 0.8287 - recall: 0.5837 - auc: 0.9065 - val_loss: 0.2772 - val_accuracy: 0.9986 - val_tp: 38.0000 - val_tn: 53289.0000 - val_fp: 8.0000 - val_fn: 67.0000 - val_precision: 0.8261 - val_recall: 0.3619 - val_auc: 0.7200\n",
      "Epoch 9/50\n",
      "161/161 [==============================] - 1s 4ms/step - loss: 0.0045 - accuracy: 0.9992 - tp: 152.0000 - tn: 159923.0000 - fp: 23.0000 - fn: 105.0000 - precision: 0.8686 - recall: 0.5914 - auc: 0.9113 - val_loss: 0.2637 - val_accuracy: 0.9985 - val_tp: 38.0000 - val_tn: 53284.0000 - val_fp: 13.0000 - val_fn: 67.0000 - val_precision: 0.7451 - val_recall: 0.3619 - val_auc: 0.7242\n",
      "Epoch 10/50\n",
      "161/161 [==============================] - 1s 4ms/step - loss: 0.0043 - accuracy: 0.9992 - tp: 154.0000 - tn: 159925.0000 - fp: 21.0000 - fn: 103.0000 - precision: 0.8800 - recall: 0.5992 - auc: 0.9135 - val_loss: 0.2618 - val_accuracy: 0.9984 - val_tp: 38.0000 - val_tn: 53281.0000 - val_fp: 16.0000 - val_fn: 67.0000 - val_precision: 0.7037 - val_recall: 0.3619 - val_auc: 0.7290\n",
      "Epoch 11/50\n",
      "161/161 [==============================] - 1s 4ms/step - loss: 0.0042 - accuracy: 0.9992 - tp: 156.0000 - tn: 159922.0000 - fp: 24.0000 - fn: 101.0000 - precision: 0.8667 - recall: 0.6070 - auc: 0.9158 - val_loss: 0.2580 - val_accuracy: 0.9985 - val_tp: 38.0000 - val_tn: 53284.0000 - val_fp: 13.0000 - val_fn: 67.0000 - val_precision: 0.7451 - val_recall: 0.3619 - val_auc: 0.7294\n",
      "Epoch 12/50\n",
      "161/161 [==============================] - 1s 4ms/step - loss: 0.0041 - accuracy: 0.9992 - tp: 156.0000 - tn: 159919.0000 - fp: 27.0000 - fn: 101.0000 - precision: 0.8525 - recall: 0.6070 - auc: 0.9179 - val_loss: 0.2545 - val_accuracy: 0.9985 - val_tp: 38.0000 - val_tn: 53282.0000 - val_fp: 15.0000 - val_fn: 67.0000 - val_precision: 0.7170 - val_recall: 0.3619 - val_auc: 0.7295\n",
      "Epoch 13/50\n",
      "161/161 [==============================] - 1s 4ms/step - loss: 0.0040 - accuracy: 0.9992 - tp: 154.0000 - tn: 159923.0000 - fp: 23.0000 - fn: 103.0000 - precision: 0.8701 - recall: 0.5992 - auc: 0.9201 - val_loss: 0.2467 - val_accuracy: 0.9984 - val_tp: 38.0000 - val_tn: 53280.0000 - val_fp: 17.0000 - val_fn: 67.0000 - val_precision: 0.6909 - val_recall: 0.3619 - val_auc: 0.7387\n",
      "Epoch 14/50\n",
      "161/161 [==============================] - 1s 4ms/step - loss: 0.0039 - accuracy: 0.9992 - tp: 157.0000 - tn: 159922.0000 - fp: 24.0000 - fn: 100.0000 - precision: 0.8674 - recall: 0.6109 - auc: 0.9279 - val_loss: 0.2418 - val_accuracy: 0.9984 - val_tp: 41.0000 - val_tn: 53274.0000 - val_fp: 23.0000 - val_fn: 64.0000 - val_precision: 0.6406 - val_recall: 0.3905 - val_auc: 0.7387\n",
      "Epoch 15/50\n",
      "161/161 [==============================] - 1s 4ms/step - loss: 0.0038 - accuracy: 0.9992 - tp: 156.0000 - tn: 159924.0000 - fp: 22.0000 - fn: 101.0000 - precision: 0.8764 - recall: 0.6070 - auc: 0.9243 - val_loss: 0.2415 - val_accuracy: 0.9984 - val_tp: 41.0000 - val_tn: 53273.0000 - val_fp: 24.0000 - val_fn: 64.0000 - val_precision: 0.6308 - val_recall: 0.3905 - val_auc: 0.7386\n",
      "Epoch 16/50\n",
      "161/161 [==============================] - 1s 4ms/step - loss: 0.0038 - accuracy: 0.9992 - tp: 156.0000 - tn: 159922.0000 - fp: 24.0000 - fn: 101.0000 - precision: 0.8667 - recall: 0.6070 - auc: 0.9281 - val_loss: 0.2283 - val_accuracy: 0.9984 - val_tp: 41.0000 - val_tn: 53274.0000 - val_fp: 23.0000 - val_fn: 64.0000 - val_precision: 0.6406 - val_recall: 0.3905 - val_auc: 0.7433\n",
      "Epoch 17/50\n",
      "161/161 [==============================] - 1s 4ms/step - loss: 0.0037 - accuracy: 0.9992 - tp: 158.0000 - tn: 159924.0000 - fp: 22.0000 - fn: 99.0000 - precision: 0.8778 - recall: 0.6148 - auc: 0.9263 - val_loss: 0.2230 - val_accuracy: 0.9984 - val_tp: 41.0000 - val_tn: 53273.0000 - val_fp: 24.0000 - val_fn: 64.0000 - val_precision: 0.6308 - val_recall: 0.3905 - val_auc: 0.7526\n",
      "Epoch 18/50\n",
      "161/161 [==============================] - 1s 4ms/step - loss: 0.0037 - accuracy: 0.9993 - tp: 160.0000 - tn: 159925.0000 - fp: 21.0000 - fn: 97.0000 - precision: 0.8840 - recall: 0.6226 - auc: 0.9301 - val_loss: 0.2220 - val_accuracy: 0.9984 - val_tp: 41.0000 - val_tn: 53274.0000 - val_fp: 23.0000 - val_fn: 64.0000 - val_precision: 0.6406 - val_recall: 0.3905 - val_auc: 0.7530\n",
      "Epoch 19/50\n",
      "161/161 [==============================] - 1s 4ms/step - loss: 0.0037 - accuracy: 0.9993 - tp: 158.0000 - tn: 159925.0000 - fp: 21.0000 - fn: 99.0000 - precision: 0.8827 - recall: 0.6148 - auc: 0.9322 - val_loss: 0.2190 - val_accuracy: 0.9983 - val_tp: 41.0000 - val_tn: 53272.0000 - val_fp: 25.0000 - val_fn: 64.0000 - val_precision: 0.6212 - val_recall: 0.3905 - val_auc: 0.7528\n",
      "Epoch 20/50\n",
      "161/161 [==============================] - 1s 4ms/step - loss: 0.0036 - accuracy: 0.9993 - tp: 163.0000 - tn: 159924.0000 - fp: 22.0000 - fn: 94.0000 - precision: 0.8811 - recall: 0.6342 - auc: 0.9284 - val_loss: 0.2130 - val_accuracy: 0.9983 - val_tp: 41.0000 - val_tn: 53269.0000 - val_fp: 28.0000 - val_fn: 64.0000 - val_precision: 0.5942 - val_recall: 0.3905 - val_auc: 0.7572\n",
      "Epoch 21/50\n",
      "161/161 [==============================] - 1s 4ms/step - loss: 0.0036 - accuracy: 0.9993 - tp: 160.0000 - tn: 159924.0000 - fp: 22.0000 - fn: 97.0000 - precision: 0.8791 - recall: 0.6226 - auc: 0.9322 - val_loss: 0.2081 - val_accuracy: 0.9983 - val_tp: 42.0000 - val_tn: 53269.0000 - val_fp: 28.0000 - val_fn: 63.0000 - val_precision: 0.6000 - val_recall: 0.4000 - val_auc: 0.7573\n",
      "Epoch 22/50\n",
      "161/161 [==============================] - 1s 4ms/step - loss: 0.0036 - accuracy: 0.9993 - tp: 164.0000 - tn: 159924.0000 - fp: 22.0000 - fn: 93.0000 - precision: 0.8817 - recall: 0.6381 - auc: 0.9361 - val_loss: 0.2028 - val_accuracy: 0.9983 - val_tp: 42.0000 - val_tn: 53269.0000 - val_fp: 28.0000 - val_fn: 63.0000 - val_precision: 0.6000 - val_recall: 0.4000 - val_auc: 0.7572\n",
      "Epoch 23/50\n",
      "161/161 [==============================] - 1s 4ms/step - loss: 0.0035 - accuracy: 0.9993 - tp: 166.0000 - tn: 159924.0000 - fp: 22.0000 - fn: 91.0000 - precision: 0.8830 - recall: 0.6459 - auc: 0.9285 - val_loss: 0.1952 - val_accuracy: 0.9983 - val_tp: 43.0000 - val_tn: 53267.0000 - val_fp: 30.0000 - val_fn: 62.0000 - val_precision: 0.5890 - val_recall: 0.4095 - val_auc: 0.7570\n",
      "Epoch 24/50\n",
      "161/161 [==============================] - 1s 4ms/step - loss: 0.0035 - accuracy: 0.9993 - tp: 162.0000 - tn: 159925.0000 - fp: 21.0000 - fn: 95.0000 - precision: 0.8852 - recall: 0.6304 - auc: 0.9342 - val_loss: 0.1961 - val_accuracy: 0.9983 - val_tp: 44.0000 - val_tn: 53268.0000 - val_fp: 29.0000 - val_fn: 61.0000 - val_precision: 0.6027 - val_recall: 0.4190 - val_auc: 0.7573\n",
      "Epoch 25/50\n",
      "161/161 [==============================] - 1s 4ms/step - loss: 0.0035 - accuracy: 0.9993 - tp: 166.0000 - tn: 159924.0000 - fp: 22.0000 - fn: 91.0000 - precision: 0.8830 - recall: 0.6459 - auc: 0.9324 - val_loss: 0.1907 - val_accuracy: 0.9982 - val_tp: 44.0000 - val_tn: 53264.0000 - val_fp: 33.0000 - val_fn: 61.0000 - val_precision: 0.5714 - val_recall: 0.4190 - val_auc: 0.7616\n",
      "Epoch 26/50\n",
      "161/161 [==============================] - 1s 4ms/step - loss: 0.0035 - accuracy: 0.9993 - tp: 165.0000 - tn: 159925.0000 - fp: 21.0000 - fn: 92.0000 - precision: 0.8871 - recall: 0.6420 - auc: 0.9323 - val_loss: 0.1870 - val_accuracy: 0.9983 - val_tp: 44.0000 - val_tn: 53269.0000 - val_fp: 28.0000 - val_fn: 61.0000 - val_precision: 0.6111 - val_recall: 0.4190 - val_auc: 0.7619\n",
      "Epoch 27/50\n",
      "161/161 [==============================] - 1s 4ms/step - loss: 0.0034 - accuracy: 0.9993 - tp: 166.0000 - tn: 159924.0000 - fp: 22.0000 - fn: 91.0000 - precision: 0.8830 - recall: 0.6459 - auc: 0.9324 - val_loss: 0.1827 - val_accuracy: 0.9983 - val_tp: 44.0000 - val_tn: 53267.0000 - val_fp: 30.0000 - val_fn: 61.0000 - val_precision: 0.5946 - val_recall: 0.4190 - val_auc: 0.7616\n",
      "Epoch 28/50\n",
      "161/161 [==============================] - 1s 5ms/step - loss: 0.0034 - accuracy: 0.9993 - tp: 166.0000 - tn: 159924.0000 - fp: 22.0000 - fn: 91.0000 - precision: 0.8830 - recall: 0.6459 - auc: 0.9363 - val_loss: 0.1856 - val_accuracy: 0.9983 - val_tp: 44.0000 - val_tn: 53266.0000 - val_fp: 31.0000 - val_fn: 61.0000 - val_precision: 0.5867 - val_recall: 0.4190 - val_auc: 0.7616\n",
      "Epoch 29/50\n",
      "161/161 [==============================] - 1s 4ms/step - loss: 0.0034 - accuracy: 0.9993 - tp: 167.0000 - tn: 159923.0000 - fp: 23.0000 - fn: 90.0000 - precision: 0.8789 - recall: 0.6498 - auc: 0.9343 - val_loss: 0.1816 - val_accuracy: 0.9983 - val_tp: 44.0000 - val_tn: 53265.0000 - val_fp: 32.0000 - val_fn: 61.0000 - val_precision: 0.5789 - val_recall: 0.4190 - val_auc: 0.7662\n",
      "Epoch 30/50\n",
      "161/161 [==============================] - 1s 4ms/step - loss: 0.0034 - accuracy: 0.9993 - tp: 167.0000 - tn: 159925.0000 - fp: 21.0000 - fn: 90.0000 - precision: 0.8883 - recall: 0.6498 - auc: 0.9382 - val_loss: 0.1805 - val_accuracy: 0.9983 - val_tp: 44.0000 - val_tn: 53266.0000 - val_fp: 31.0000 - val_fn: 61.0000 - val_precision: 0.5867 - val_recall: 0.4190 - val_auc: 0.7661\n",
      "Epoch 31/50\n",
      "161/161 [==============================] - 1s 4ms/step - loss: 0.0034 - accuracy: 0.9993 - tp: 172.0000 - tn: 159925.0000 - fp: 21.0000 - fn: 85.0000 - precision: 0.8912 - recall: 0.6693 - auc: 0.9363 - val_loss: 0.1742 - val_accuracy: 0.9982 - val_tp: 45.0000 - val_tn: 53261.0000 - val_fp: 36.0000 - val_fn: 60.0000 - val_precision: 0.5556 - val_recall: 0.4286 - val_auc: 0.7705\n",
      "Epoch 32/50\n",
      "161/161 [==============================] - 1s 4ms/step - loss: 0.0033 - accuracy: 0.9993 - tp: 169.0000 - tn: 159924.0000 - fp: 22.0000 - fn: 88.0000 - precision: 0.8848 - recall: 0.6576 - auc: 0.9364 - val_loss: 0.1706 - val_accuracy: 0.9982 - val_tp: 45.0000 - val_tn: 53260.0000 - val_fp: 37.0000 - val_fn: 60.0000 - val_precision: 0.5488 - val_recall: 0.4286 - val_auc: 0.7703\n",
      "Epoch 33/50\n",
      "161/161 [==============================] - 1s 4ms/step - loss: 0.0033 - accuracy: 0.9993 - tp: 174.0000 - tn: 159924.0000 - fp: 22.0000 - fn: 83.0000 - precision: 0.8878 - recall: 0.6770 - auc: 0.9383 - val_loss: 0.1668 - val_accuracy: 0.9982 - val_tp: 45.0000 - val_tn: 53259.0000 - val_fp: 38.0000 - val_fn: 60.0000 - val_precision: 0.5422 - val_recall: 0.4286 - val_auc: 0.7701\n",
      "Epoch 34/50\n",
      "161/161 [==============================] - 1s 4ms/step - loss: 0.0033 - accuracy: 0.9993 - tp: 170.0000 - tn: 159921.0000 - fp: 25.0000 - fn: 87.0000 - precision: 0.8718 - recall: 0.6615 - auc: 0.9364 - val_loss: 0.1597 - val_accuracy: 0.9981 - val_tp: 45.0000 - val_tn: 53255.0000 - val_fp: 42.0000 - val_fn: 60.0000 - val_precision: 0.5172 - val_recall: 0.4286 - val_auc: 0.7744\n",
      "Epoch 35/50\n",
      "161/161 [==============================] - 1s 5ms/step - loss: 0.0033 - accuracy: 0.9993 - tp: 176.0000 - tn: 159922.0000 - fp: 24.0000 - fn: 81.0000 - precision: 0.8800 - recall: 0.6848 - auc: 0.9364 - val_loss: 0.1617 - val_accuracy: 0.9982 - val_tp: 45.0000 - val_tn: 53261.0000 - val_fp: 36.0000 - val_fn: 60.0000 - val_precision: 0.5556 - val_recall: 0.4286 - val_auc: 0.7746\n",
      "Epoch 36/50\n",
      "161/161 [==============================] - 1s 4ms/step - loss: 0.0033 - accuracy: 0.9993 - tp: 170.0000 - tn: 159926.0000 - fp: 20.0000 - fn: 87.0000 - precision: 0.8947 - recall: 0.6615 - auc: 0.9384 - val_loss: 0.1587 - val_accuracy: 0.9981 - val_tp: 45.0000 - val_tn: 53257.0000 - val_fp: 40.0000 - val_fn: 60.0000 - val_precision: 0.5294 - val_recall: 0.4286 - val_auc: 0.7743\n",
      "Epoch 37/50\n",
      "161/161 [==============================] - 1s 4ms/step - loss: 0.0033 - accuracy: 0.9993 - tp: 174.0000 - tn: 159923.0000 - fp: 23.0000 - fn: 83.0000 - precision: 0.8832 - recall: 0.6770 - auc: 0.9384 - val_loss: 0.1515 - val_accuracy: 0.9980 - val_tp: 45.0000 - val_tn: 53250.0000 - val_fp: 47.0000 - val_fn: 60.0000 - val_precision: 0.4891 - val_recall: 0.4286 - val_auc: 0.7738\n",
      "Epoch 38/50\n",
      "161/161 [==============================] - 1s 4ms/step - loss: 0.0033 - accuracy: 0.9994 - tp: 176.0000 - tn: 159924.0000 - fp: 22.0000 - fn: 81.0000 - precision: 0.8889 - recall: 0.6848 - auc: 0.9383 - val_loss: 0.1572 - val_accuracy: 0.9981 - val_tp: 45.0000 - val_tn: 53257.0000 - val_fp: 40.0000 - val_fn: 60.0000 - val_precision: 0.5294 - val_recall: 0.4286 - val_auc: 0.7744\n",
      "Epoch 39/50\n",
      "161/161 [==============================] - 1s 4ms/step - loss: 0.0033 - accuracy: 0.9993 - tp: 176.0000 - tn: 159922.0000 - fp: 24.0000 - fn: 81.0000 - precision: 0.8800 - recall: 0.6848 - auc: 0.9404 - val_loss: 0.1507 - val_accuracy: 0.9981 - val_tp: 46.0000 - val_tn: 53256.0000 - val_fp: 41.0000 - val_fn: 59.0000 - val_precision: 0.5287 - val_recall: 0.4381 - val_auc: 0.7738\n",
      "Epoch 40/50\n",
      "161/161 [==============================] - 1s 5ms/step - loss: 0.0032 - accuracy: 0.9993 - tp: 177.0000 - tn: 159921.0000 - fp: 25.0000 - fn: 80.0000 - precision: 0.8762 - recall: 0.6887 - auc: 0.9384 - val_loss: 0.1462 - val_accuracy: 0.9981 - val_tp: 45.0000 - val_tn: 53254.0000 - val_fp: 43.0000 - val_fn: 60.0000 - val_precision: 0.5114 - val_recall: 0.4286 - val_auc: 0.7737\n",
      "Epoch 41/50\n",
      "161/161 [==============================] - 1s 4ms/step - loss: 0.0032 - accuracy: 0.9994 - tp: 178.0000 - tn: 159923.0000 - fp: 23.0000 - fn: 79.0000 - precision: 0.8856 - recall: 0.6926 - auc: 0.9383 - val_loss: 0.1437 - val_accuracy: 0.9981 - val_tp: 45.0000 - val_tn: 53256.0000 - val_fp: 41.0000 - val_fn: 60.0000 - val_precision: 0.5233 - val_recall: 0.4286 - val_auc: 0.7689\n",
      "Epoch 42/50\n",
      "161/161 [==============================] - 1s 4ms/step - loss: 0.0032 - accuracy: 0.9994 - tp: 177.0000 - tn: 159924.0000 - fp: 22.0000 - fn: 80.0000 - precision: 0.8894 - recall: 0.6887 - auc: 0.9385 - val_loss: 0.1432 - val_accuracy: 0.9978 - val_tp: 46.0000 - val_tn: 53241.0000 - val_fp: 56.0000 - val_fn: 59.0000 - val_precision: 0.4510 - val_recall: 0.4381 - val_auc: 0.7730\n",
      "Epoch 43/50\n",
      "161/161 [==============================] - 1s 4ms/step - loss: 0.0032 - accuracy: 0.9994 - tp: 177.0000 - tn: 159922.0000 - fp: 24.0000 - fn: 80.0000 - precision: 0.8806 - recall: 0.6887 - auc: 0.9423 - val_loss: 0.1373 - val_accuracy: 0.9979 - val_tp: 46.0000 - val_tn: 53243.0000 - val_fp: 54.0000 - val_fn: 59.0000 - val_precision: 0.4600 - val_recall: 0.4381 - val_auc: 0.7816\n",
      "Epoch 44/50\n",
      "161/161 [==============================] - 1s 4ms/step - loss: 0.0032 - accuracy: 0.9994 - tp: 174.0000 - tn: 159925.0000 - fp: 21.0000 - fn: 83.0000 - precision: 0.8923 - recall: 0.6770 - auc: 0.9442 - val_loss: 0.1401 - val_accuracy: 0.9981 - val_tp: 46.0000 - val_tn: 53254.0000 - val_fp: 43.0000 - val_fn: 59.0000 - val_precision: 0.5169 - val_recall: 0.4381 - val_auc: 0.7731\n",
      "Epoch 45/50\n",
      "161/161 [==============================] - 1s 4ms/step - loss: 0.0032 - accuracy: 0.9994 - tp: 179.0000 - tn: 159925.0000 - fp: 21.0000 - fn: 78.0000 - precision: 0.8950 - recall: 0.6965 - auc: 0.9385 - val_loss: 0.1409 - val_accuracy: 0.9981 - val_tp: 45.0000 - val_tn: 53254.0000 - val_fp: 43.0000 - val_fn: 60.0000 - val_precision: 0.5114 - val_recall: 0.4286 - val_auc: 0.7777\n",
      "Epoch 46/50\n",
      "161/161 [==============================] - 1s 4ms/step - loss: 0.0032 - accuracy: 0.9994 - tp: 177.0000 - tn: 159925.0000 - fp: 21.0000 - fn: 80.0000 - precision: 0.8939 - recall: 0.6887 - auc: 0.9422 - val_loss: 0.1380 - val_accuracy: 0.9981 - val_tp: 45.0000 - val_tn: 53255.0000 - val_fp: 42.0000 - val_fn: 60.0000 - val_precision: 0.5172 - val_recall: 0.4286 - val_auc: 0.7823\n",
      "Epoch 47/50\n",
      "161/161 [==============================] - 1s 4ms/step - loss: 0.0032 - accuracy: 0.9994 - tp: 179.0000 - tn: 159924.0000 - fp: 22.0000 - fn: 78.0000 - precision: 0.8905 - recall: 0.6965 - auc: 0.9404 - val_loss: 0.1350 - val_accuracy: 0.9982 - val_tp: 45.0000 - val_tn: 53260.0000 - val_fp: 37.0000 - val_fn: 60.0000 - val_precision: 0.5488 - val_recall: 0.4286 - val_auc: 0.7731\n",
      "Epoch 48/50\n",
      "161/161 [==============================] - 1s 4ms/step - loss: 0.0031 - accuracy: 0.9994 - tp: 177.0000 - tn: 159924.0000 - fp: 22.0000 - fn: 80.0000 - precision: 0.8894 - recall: 0.6887 - auc: 0.9403 - val_loss: 0.1364 - val_accuracy: 0.9981 - val_tp: 45.0000 - val_tn: 53258.0000 - val_fp: 39.0000 - val_fn: 60.0000 - val_precision: 0.5357 - val_recall: 0.4286 - val_auc: 0.7776\n",
      "Epoch 49/50\n",
      "161/161 [==============================] - 1s 4ms/step - loss: 0.0031 - accuracy: 0.9994 - tp: 178.0000 - tn: 159927.0000 - fp: 19.0000 - fn: 79.0000 - precision: 0.9036 - recall: 0.6926 - auc: 0.9424 - val_loss: 0.1259 - val_accuracy: 0.9980 - val_tp: 46.0000 - val_tn: 53247.0000 - val_fp: 50.0000 - val_fn: 59.0000 - val_precision: 0.4792 - val_recall: 0.4381 - val_auc: 0.7809\n",
      "Epoch 50/50\n",
      "161/161 [==============================] - 1s 5ms/step - loss: 0.0031 - accuracy: 0.9994 - tp: 179.0000 - tn: 159924.0000 - fp: 22.0000 - fn: 78.0000 - precision: 0.8905 - recall: 0.6965 - auc: 0.9461 - val_loss: 0.1251 - val_accuracy: 0.9980 - val_tp: 46.0000 - val_tn: 53249.0000 - val_fp: 48.0000 - val_fn: 59.0000 - val_precision: 0.4894 - val_recall: 0.4381 - val_auc: 0.7815\n"
     ]
    }
   ],
   "source": [
    "# Training the model\n",
    "batch_size = 1000\n",
    "epochs = 50\n",
    "training_history = model.fit(\n",
    "    X_train,\n",
    "    y_train,\n",
    "    validation_data=(X_val, y_val),\n",
    "    epochs=epochs,\n",
    "    batch_size=batch_size,\n",
    "    verbose=1,\n",
    ")"
   ]
  },
  {
   "cell_type": "markdown",
   "metadata": {},
   "source": [
    "### Model Performance"
   ]
  },
  {
   "cell_type": "markdown",
   "metadata": {},
   "source": [
    "#### Checking Training History"
   ]
  },
  {
   "cell_type": "code",
   "execution_count": 12,
   "metadata": {},
   "outputs": [
    {
     "data": {
      "text/plain": [
       "<AxesSubplot:title={'center':'Loss'}, xlabel='Epoch'>"
      ]
     },
     "execution_count": 12,
     "metadata": {},
     "output_type": "execute_result"
    },
    {
     "data": {
      "image/png": "[encoded data removed]",
      "text/plain": [
       "<Figure size 432x288 with 1 Axes>"
      ]
     },
     "metadata": {
      "needs_background": "light"
     },
     "output_type": "display_data"
    }
   ],
   "source": [
    "# Plotting loss\n",
    "loss_df = pd.DataFrame(\n",
    "    {\n",
    "        \"Epoch\": range(1, epochs + 1),\n",
    "        \"Train\": training_history.history[\"loss\"],\n",
    "        \"Val\": training_history.history[\"val_loss\"],\n",
    "    }\n",
    ")\n",
    "loss_df.set_index(\"Epoch\", inplace=True)\n",
    "loss_df.plot(title=\"Loss\")"
   ]
  },
  {
   "cell_type": "code",
   "execution_count": 13,
   "metadata": {},
   "outputs": [
    {
     "data": {
      "text/plain": [
       "<AxesSubplot:title={'center':'Accuracy'}, xlabel='Epoch'>"
      ]
     },
     "execution_count": 13,
     "metadata": {},
     "output_type": "execute_result"
    },
    {
     "data": {
      "image/png": "[encoded data removed]",
      "text/plain": [
       "<Figure size 432x288 with 1 Axes>"
      ]
     },
     "metadata": {
      "needs_background": "light"
     },
     "output_type": "display_data"
    }
   ],
   "source": [
    "# Plotting accuracy\n",
    "accuracy_df = pd.DataFrame(\n",
    "    {\n",
    "        \"Epoch\": range(1, epochs + 1),\n",
    "        \"Train\": training_history.history[\"accuracy\"],\n",
    "        \"Val\": training_history.history[\"val_accuracy\"],\n",
    "    }\n",
    ")\n",
    "accuracy_df.set_index(\"Epoch\", inplace=True)\n",
    "accuracy_df.plot(title=\"Accuracy\")"
   ]
  },
  {
   "cell_type": "code",
   "execution_count": 14,
   "metadata": {},
   "outputs": [
    {
     "data": {
      "text/plain": [
       "<AxesSubplot:title={'center':'AUC'}, xlabel='Epoch'>"
      ]
     },
     "execution_count": 14,
     "metadata": {},
     "output_type": "execute_result"
    },
    {
     "data": {
      "image/png": "[encoded data removed]",
      "text/plain": [
       "<Figure size 432x288 with 1 Axes>"
      ]
     },
     "metadata": {
      "needs_background": "light"
     },
     "output_type": "display_data"
    }
   ],
   "source": [
    "# Plotting AUC\n",
    "auc_df = pd.DataFrame(\n",
    "    {\n",
    "        \"Epoch\": range(1, epochs + 1),\n",
    "        \"Train\": training_history.history[\"auc\"],\n",
    "        \"Val\": training_history.history[\"val_auc\"],\n",
    "    }\n",
    ")\n",
    "auc_df.set_index(\"Epoch\", inplace=True)\n",
    "auc_df.plot(title=\"AUC\")"
   ]
  },
  {
   "cell_type": "markdown",
   "metadata": {},
   "source": [
    "#### Plotting the ROC Curve"
   ]
  },
  {
   "cell_type": "code",
   "execution_count": 15,
   "metadata": {},
   "outputs": [],
   "source": [
    "# Import the roc_curve and auc metrics from sklearn\n",
    "from sklearn.metrics import roc_curve, auc"
   ]
  },
  {
   "cell_type": "code",
   "execution_count": 16,
   "metadata": {},
   "outputs": [
    {
     "name": "stdout",
     "output_type": "stream",
     "text": [
      "161/161 [==============================] - 0s 2ms/step\n",
      "72/72 [==============================] - 0s 2ms/step\n"
     ]
    }
   ],
   "source": [
    "# Making predictions to feed the roc_curve module\n",
    "train_predictions = model.predict(X_train, batch_size=1000)\n",
    "test_predictions = model.predict(X_test, batch_size=1000)"
   ]
  },
  {
   "cell_type": "code",
   "execution_count": 17,
   "metadata": {},
   "outputs": [],
   "source": [
    "# Calculate the ROC curve and AUC for the training set\n",
    "fpr_train, tpr_train, thresholds_train = roc_curve(y_train, train_predictions)\n",
    "auc_train = auc(fpr_train, tpr_train)\n",
    "auc_train = round(auc_train, 4)\n",
    "\n",
    "# Calculate the ROC curve and AUC for the testing set\n",
    "fpr_test, tpr_test, thresholds_test = roc_curve(y_test, test_predictions)\n",
    "auc_test = auc(fpr_test, tpr_test)\n",
    "auc_test = round(auc_test, 4)"
   ]
  },
  {
   "cell_type": "code",
   "execution_count": 18,
   "metadata": {},
   "outputs": [],
   "source": [
    "# Create a DataFrame with the fpr and tpr results\n",
    "roc_df_train = pd.DataFrame({\"FPR Train\": fpr_train, \"TPR Train\": tpr_train,})\n",
    "\n",
    "roc_df_test = pd.DataFrame({\"FPR Test\": fpr_test, \"TPR Test\": tpr_test,})"
   ]
  },
  {
   "cell_type": "code",
   "execution_count": 19,
   "metadata": {},
   "outputs": [
    {
     "data": {
      "text/plain": [
       "<AxesSubplot:title={'center':'Test ROC Curve (AUC=0.7218)'}, xlabel='FPR Test'>"
      ]
     },
     "execution_count": 19,
     "metadata": {},
     "output_type": "execute_result"
    },
    {
     "data": {
      "image/png": "[encoded data removed]",
      "text/plain": [
       "<Figure size 432x288 with 1 Axes>"
      ]
     },
     "metadata": {
      "needs_background": "light"
     },
     "output_type": "display_data"
    },
    {
     "data": {
      "image/png": "[encoded data removed]",
      "text/plain": [
       "<Figure size 432x288 with 1 Axes>"
      ]
     },
     "metadata": {
      "needs_background": "light"
     },
     "output_type": "display_data"
    }
   ],
   "source": [
    "# Plotting the ROC Curves\n",
    "roc_df_train.plot(\n",
    "    x=\"FPR Train\",\n",
    "    y=\"TPR Train\",\n",
    "    xlim=([-0.05, 1.05]),\n",
    "    title=f\"Train ROC Curve (AUC={auc_train})\",\n",
    ")\n",
    "\n",
    "roc_df_test.plot(\n",
    "    x=\"FPR Test\",\n",
    "    y=\"TPR Test\",\n",
    "    color=\"red\",\n",
    "    style=\"--\",\n",
    "    xlim=([-0.05, 1.05]),\n",
    "    title=f\"Test ROC Curve (AUC={auc_test})\",\n",
    ")"
   ]
  },
  {
   "cell_type": "markdown",
   "metadata": {},
   "source": [
    "#### Evaluate the Model"
   ]
  },
  {
   "cell_type": "code",
   "execution_count": 20,
   "metadata": {},
   "outputs": [
    {
     "data": {
      "text/plain": [
       "{'loss': 0.13354092836380005,\n",
       " 'accuracy': 0.9980337619781494,\n",
       " 'tp': 55.0,\n",
       " 'tn': 71007.0,\n",
       " 'fp': 65.0,\n",
       " 'fn': 75.0,\n",
       " 'precision': 0.4583333432674408,\n",
       " 'recall': 0.42307692766189575,\n",
       " 'auc': 0.7673406600952148}"
      ]
     },
     "metadata": {},
     "output_type": "display_data"
    }
   ],
   "source": [
    "# Evaluate the model\n",
    "scores = model.evaluate(X_test, y_test, verbose=0)\n",
    "\n",
    "# Define metrics dictionary\n",
    "metrics = {k: v for k, v in zip(model.metrics_names, scores)}\n",
    "\n",
    "# Display evaluation metrics results\n",
    "display(metrics)"
   ]
  },
  {
   "cell_type": "markdown",
   "metadata": {},
   "source": [
    "#### Confusion Matrix"
   ]
  },
  {
   "cell_type": "code",
   "execution_count": 21,
   "metadata": {},
   "outputs": [
    {
     "data": {
      "text/html": [
       "<div>\n",
       "<style scoped>\n",
       "    .dataframe tbody tr th:only-of-type {\n",
       "        vertical-align: middle;\n",
       "    }\n",
       "\n",
       "    .dataframe tbody tr th {\n",
       "        vertical-align: top;\n",
       "    }\n",
       "\n",
       "    .dataframe thead th {\n",
       "        text-align: right;\n",
       "    }\n",
       "</style>\n",
       "<table border=\"1\" class=\"dataframe\">\n",
       "  <thead>\n",
       "    <tr style=\"text-align: right;\">\n",
       "      <th>Predicted</th>\n",
       "      <th>Positive (1)</th>\n",
       "      <th>Negative (0)</th>\n",
       "    </tr>\n",
       "    <tr>\n",
       "      <th>Actual</th>\n",
       "      <th></th>\n",
       "      <th></th>\n",
       "    </tr>\n",
       "  </thead>\n",
       "  <tbody>\n",
       "    <tr>\n",
       "      <th>Positive(1)</th>\n",
       "      <td>TP=55.0</td>\n",
       "      <td>FN=65.0</td>\n",
       "    </tr>\n",
       "    <tr>\n",
       "      <th>Negative(0)</th>\n",
       "      <td>FP=75.0</td>\n",
       "      <td>TN=71007.0</td>\n",
       "    </tr>\n",
       "  </tbody>\n",
       "</table>\n",
       "</div>"
      ],
      "text/plain": [
       "Predicted   Positive (1) Negative (0)\n",
       "Actual                               \n",
       "Positive(1)      TP=55.0      FN=65.0\n",
       "Negative(0)      FP=75.0   TN=71007.0"
      ]
     },
     "execution_count": 21,
     "metadata": {},
     "output_type": "execute_result"
    }
   ],
   "source": [
    "# Define the confusion matrix data\n",
    "cm_df = pd.DataFrame(\n",
    "    {\n",
    "        \"Positive (1)\": [f\"TP={metrics['tp']}\", f\"FP={metrics['fn']}\"],\n",
    "        \"Negative (0)\": [f\"FN={metrics['fp']}\", f\"TN={metrics['tn']}\"],\n",
    "    },\n",
    "    index=[\"Positive(1)\", \"Negative(0)\"],\n",
    ")\n",
    "cm_df.index.name = \"Actual\"\n",
    "cm_df.columns.name = \"Predicted\"\n",
    "\n",
    "# Show the confusion matrix\n",
    "cm_df"
   ]
  },
  {
   "cell_type": "markdown",
   "metadata": {},
   "source": [
    "#### Classification Report"
   ]
  },
  {
   "cell_type": "code",
   "execution_count": 22,
   "metadata": {},
   "outputs": [
    {
     "name": "stdout",
     "output_type": "stream",
     "text": [
      "2226/2226 [==============================] - 3s 1ms/step\n",
      "              precision    recall  f1-score   support\n",
      "\n",
      "           0       1.00      1.00      1.00     71082\n",
      "           1       0.42      0.46      0.44       120\n",
      "\n",
      "    accuracy                           1.00     71202\n",
      "   macro avg       0.71      0.73      0.72     71202\n",
      "weighted avg       1.00      1.00      1.00     71202\n",
      "\n"
     ]
    }
   ],
   "source": [
    "# Import the classification_report method from sklearn\n",
    "from sklearn.metrics import classification_report\n",
    "\n",
    "# Predict classes using testing data\n",
    "y_predict_classes = (model.predict(X_test) > 0.5).astype(\"int32\")\n",
    "\n",
    "# Display classification report\n",
    "print(classification_report(y_predict_classes, y_test))"
   ]
  },
  {
   "cell_type": "code",
   "execution_count": null,
   "metadata": {},
   "outputs": [],
   "source": []
  }
 ],
 "metadata": {
  "file_extension": ".py",
  "kernelspec": {
   "display_name": "Python 3",
   "language": "python",
   "name": "python3"
  },
  "language_info": {
   "codemirror_mode": {
    "name": "ipython",
    "version": 3
   },
   "file_extension": ".py",
   "mimetype": "text/x-python",
   "name": "python",
   "nbconvert_exporter": "python",
   "pygments_lexer": "ipython3",
   "version": "3.7.7"
  },
  "mimetype": "text/x-python",
  "name": "python",
  "npconvert_exporter": "python",
  "pygments_lexer": "ipython3",
  "version": 3
 },
 "nbformat": 4,
 "nbformat_minor": 4
}
