{
 "cells": [
  {
   "cell_type": "markdown",
   "metadata": {},
   "source": [
    "# Activating Your First Artificial Neuron"
   ]
  },
  {
   "cell_type": "code",
   "execution_count": 10,
   "metadata": {},
   "outputs": [],
   "source": [
    "# Initial imports\n",
    "import pandas as pd\n",
    "import numpy as np\n",
    "from sklearn.datasets import make_blobs, make_moons\n",
    "from sklearn.model_selection import train_test_split\n",
    "from sklearn.preprocessing import StandardScaler\n",
    "from tensorflow.keras.models import Sequential\n",
    "from tensorflow.keras.layers import Dense\n",
    "\n",
    "%matplotlib inline"
   ]
  },
  {
   "cell_type": "markdown",
   "metadata": {},
   "source": [
    "## Using a Single Neuron for Binary Classification\n",
    "\n",
    "### Creating Dummy Data"
   ]
  },
  {
   "cell_type": "code",
   "execution_count": 11,
   "metadata": {},
   "outputs": [],
   "source": [
    "# Generate 1000 demo data samples with 2 features and two centers\n",
    "X, y = make_blobs(n_samples=1000, centers=2, n_features=2, random_state=78)"
   ]
  },
  {
   "cell_type": "code",
   "execution_count": 12,
   "metadata": {},
   "outputs": [
    {
     "data": {
      "text/plain": [
       "(1000, 1)"
      ]
     },
     "execution_count": 12,
     "metadata": {},
     "output_type": "execute_result"
    }
   ],
   "source": [
    "# Transforming y to a vertical vector\n",
    "y = y.reshape(-1, 1)\n",
    "y.shape"
   ]
  },
  {
   "cell_type": "code",
   "execution_count": 13,
   "metadata": {},
   "outputs": [
    {
     "data": {
      "text/html": [
       "<div>\n",
       "<style scoped>\n",
       "    .dataframe tbody tr th:only-of-type {\n",
       "        vertical-align: middle;\n",
       "    }\n",
       "\n",
       "    .dataframe tbody tr th {\n",
       "        vertical-align: top;\n",
       "    }\n",
       "\n",
       "    .dataframe thead th {\n",
       "        text-align: right;\n",
       "    }\n",
       "</style>\n",
       "<table border=\"1\" class=\"dataframe\">\n",
       "  <thead>\n",
       "    <tr style=\"text-align: right;\">\n",
       "      <th></th>\n",
       "      <th>Feature 1</th>\n",
       "      <th>Feature 2</th>\n",
       "      <th>Target</th>\n",
       "    </tr>\n",
       "  </thead>\n",
       "  <tbody>\n",
       "    <tr>\n",
       "      <th>0</th>\n",
       "      <td>5.478098</td>\n",
       "      <td>7.203714</td>\n",
       "      <td>1</td>\n",
       "    </tr>\n",
       "    <tr>\n",
       "      <th>1</th>\n",
       "      <td>-8.428483</td>\n",
       "      <td>4.121889</td>\n",
       "      <td>0</td>\n",
       "    </tr>\n",
       "    <tr>\n",
       "      <th>2</th>\n",
       "      <td>-7.905447</td>\n",
       "      <td>3.323639</td>\n",
       "      <td>0</td>\n",
       "    </tr>\n",
       "    <tr>\n",
       "      <th>3</th>\n",
       "      <td>6.411041</td>\n",
       "      <td>5.523013</td>\n",
       "      <td>1</td>\n",
       "    </tr>\n",
       "    <tr>\n",
       "      <th>4</th>\n",
       "      <td>7.288599</td>\n",
       "      <td>6.171226</td>\n",
       "      <td>1</td>\n",
       "    </tr>\n",
       "  </tbody>\n",
       "</table>\n",
       "</div>"
      ],
      "text/plain": [
       "   Feature 1  Feature 2  Target\n",
       "0   5.478098   7.203714       1\n",
       "1  -8.428483   4.121889       0\n",
       "2  -7.905447   3.323639       0\n",
       "3   6.411041   5.523013       1\n",
       "4   7.288599   6.171226       1"
      ]
     },
     "execution_count": 13,
     "metadata": {},
     "output_type": "execute_result"
    }
   ],
   "source": [
    "# Creating a DataFrame with the dummy data\n",
    "df = pd.DataFrame(X, columns=[\"Feature 1\", \"Feature 2\"])\n",
    "df[\"Target\"] = y\n",
    "df.head()"
   ]
  },
  {
   "cell_type": "code",
   "execution_count": 14,
   "metadata": {},
   "outputs": [
    {
     "data": {
      "text/plain": [
       "<AxesSubplot:xlabel='Feature 1', ylabel='Feature 2'>"
      ]
     },
     "execution_count": 14,
     "metadata": {},
     "output_type": "execute_result"
    },
    {
     "data": {
      "image/png": "[encoded data removed]",
      "text/plain": [
       "<Figure size 432x288 with 2 Axes>"
      ]
     },
     "metadata": {
      "needs_background": "light"
     },
     "output_type": "display_data"
    }
   ],
   "source": [
    "# Plotting the dummy data\n",
    "df.plot.scatter(x=\"Feature 1\", y=\"Feature 2\", c=\"Target\", colormap=\"winter\")"
   ]
  },
  {
   "cell_type": "markdown",
   "metadata": {},
   "source": [
    " ### Data Preprocessing\n",
    "\n",
    " Use `train_test_split` to create training and testing data."
   ]
  },
  {
   "cell_type": "code",
   "execution_count": 15,
   "metadata": {},
   "outputs": [],
   "source": [
    "# Create training and testing datasets\n",
    "X_train, X_test, y_train, y_test = train_test_split(X, y, random_state=78)"
   ]
  },
  {
   "cell_type": "markdown",
   "metadata": {},
   "source": [
    " Scale the data using the `StandarScaler`."
   ]
  },
  {
   "cell_type": "code",
   "execution_count": 16,
   "metadata": {},
   "outputs": [],
   "source": [
    "# Create scaler instance\n",
    "X_scaler = StandardScaler()"
   ]
  },
  {
   "cell_type": "code",
   "execution_count": 17,
   "metadata": {},
   "outputs": [
    {
     "data": {
      "text/plain": [
       "StandardScaler()"
      ]
     },
     "execution_count": 17,
     "metadata": {},
     "output_type": "execute_result"
    }
   ],
   "source": [
    "# Fit the scaler\n",
    "X_scaler.fit(X_train)"
   ]
  },
  {
   "cell_type": "code",
   "execution_count": 18,
   "metadata": {},
   "outputs": [],
   "source": [
    "# Scale the data\n",
    "X_train_scaled = X_scaler.transform(X_train)\n",
    "X_test_scaled = X_scaler.transform(X_test)"
   ]
  },
  {
   "cell_type": "markdown",
   "metadata": {},
   "source": [
    " ### Neural Network Model Creation"
   ]
  },
  {
   "cell_type": "code",
   "execution_count": 19,
   "metadata": {},
   "outputs": [
    {
     "name": "stderr",
     "output_type": "stream",
     "text": [
      "2022-06-11 11:06:08.093124: I tensorflow/core/platform/cpu_feature_guard.cc:193] This TensorFlow binary is optimized with oneAPI Deep Neural Network Library (oneDNN) to use the following CPU instructions in performance-critical operations:  AVX2 AVX512F AVX512_VNNI FMA\n",
      "To enable them in other operations, rebuild TensorFlow with the appropriate compiler flags.\n"
     ]
    }
   ],
   "source": [
    "# Create a sequential model\n",
    "neuron = Sequential()"
   ]
  },
  {
   "cell_type": "markdown",
   "metadata": {},
   "source": [
    "The initial step is to add the first layer of our neural network.\n",
    "\n",
    "![First Layer](../Images/tensorflow-neuron-layer-1.png)"
   ]
  },
  {
   "cell_type": "code",
   "execution_count": 20,
   "metadata": {},
   "outputs": [],
   "source": [
    "# First layer\n",
    "number_inputs = 2\n",
    "number_hidden_nodes = 1\n",
    "\n",
    "neuron.add(Dense(units=number_hidden_nodes, activation=\"relu\", input_dim=number_inputs))"
   ]
  },
  {
   "cell_type": "markdown",
   "metadata": {},
   "source": [
    "We finish creating our neural network by adding the output layer.\n",
    "\n",
    "![Output layer](../Images/tensorflow-neuron-output-layer.png)"
   ]
  },
  {
   "cell_type": "code",
   "execution_count": 21,
   "metadata": {},
   "outputs": [],
   "source": [
    "# Output layer\n",
    "number_classes = 1\n",
    "\n",
    "neuron.add(Dense(units=number_classes, activation=\"sigmoid\"))"
   ]
  },
  {
   "cell_type": "code",
   "execution_count": 22,
   "metadata": {},
   "outputs": [
    {
     "name": "stdout",
     "output_type": "stream",
     "text": [
      "Model: \"sequential\"\n",
      "_________________________________________________________________\n",
      " Layer (type)                Output Shape              Param #   \n",
      "=================================================================\n",
      " dense (Dense)               (None, 1)                 3         \n",
      "                                                                 \n",
      " dense_1 (Dense)             (None, 1)                 2         \n",
      "                                                                 \n",
      "=================================================================\n",
      "Total params: 5\n",
      "Trainable params: 5\n",
      "Non-trainable params: 0\n",
      "_________________________________________________________________\n"
     ]
    }
   ],
   "source": [
    "# Model summary\n",
    "neuron.summary()"
   ]
  },
  {
   "cell_type": "markdown",
   "metadata": {},
   "source": [
    " ### Compile the Model"
   ]
  },
  {
   "cell_type": "code",
   "execution_count": 23,
   "metadata": {},
   "outputs": [],
   "source": [
    "# Compile model\n",
    "neuron.compile(loss=\"binary_crossentropy\", optimizer=\"adam\", metrics=[\"accuracy\"])"
   ]
  },
  {
   "cell_type": "markdown",
   "metadata": {},
   "source": [
    " ### Fit the Model"
   ]
  },
  {
   "cell_type": "code",
   "execution_count": 24,
   "metadata": {},
   "outputs": [
    {
     "name": "stdout",
     "output_type": "stream",
     "text": [
      "Epoch 1/100\n",
      "24/24 [==============================] - 2s 4ms/step - loss: 0.9130 - accuracy: 0.1280\n",
      "Epoch 2/100\n",
      "24/24 [==============================] - 0s 8ms/step - loss: 0.8875 - accuracy: 0.1480\n",
      "Epoch 3/100\n",
      "24/24 [==============================] - 0s 7ms/step - loss: 0.8647 - accuracy: 0.1693\n",
      "Epoch 4/100\n",
      "24/24 [==============================] - 0s 9ms/step - loss: 0.8448 - accuracy: 0.1933\n",
      "Epoch 5/100\n",
      "24/24 [==============================] - 0s 5ms/step - loss: 0.8269 - accuracy: 0.2320\n",
      "Epoch 6/100\n",
      "24/24 [==============================] - 0s 5ms/step - loss: 0.8115 - accuracy: 0.2547\n",
      "Epoch 7/100\n",
      "24/24 [==============================] - 0s 4ms/step - loss: 0.7982 - accuracy: 0.2680\n",
      "Epoch 8/100\n",
      "24/24 [==============================] - 0s 5ms/step - loss: 0.7866 - accuracy: 0.2893\n",
      "Epoch 9/100\n",
      "24/24 [==============================] - 0s 4ms/step - loss: 0.7759 - accuracy: 0.3160\n",
      "Epoch 10/100\n",
      "24/24 [==============================] - 0s 4ms/step - loss: 0.7665 - accuracy: 0.3347\n",
      "Epoch 11/100\n",
      "24/24 [==============================] - 0s 4ms/step - loss: 0.7579 - accuracy: 0.3520\n",
      "Epoch 12/100\n",
      "24/24 [==============================] - 0s 4ms/step - loss: 0.7507 - accuracy: 0.3693\n",
      "Epoch 13/100\n",
      "24/24 [==============================] - 0s 4ms/step - loss: 0.7440 - accuracy: 0.3813\n",
      "Epoch 14/100\n",
      "24/24 [==============================] - 0s 5ms/step - loss: 0.7381 - accuracy: 0.3947\n",
      "Epoch 15/100\n",
      "24/24 [==============================] - 0s 5ms/step - loss: 0.7327 - accuracy: 0.4053\n",
      "Epoch 16/100\n",
      "24/24 [==============================] - 0s 13ms/step - loss: 0.7276 - accuracy: 0.4200\n",
      "Epoch 17/100\n",
      "24/24 [==============================] - 0s 10ms/step - loss: 0.7228 - accuracy: 0.4333\n",
      "Epoch 18/100\n",
      "24/24 [==============================] - 0s 9ms/step - loss: 0.7183 - accuracy: 0.4453\n",
      "Epoch 19/100\n",
      "24/24 [==============================] - 0s 9ms/step - loss: 0.7139 - accuracy: 0.4560\n",
      "Epoch 20/100\n",
      "24/24 [==============================] - 0s 11ms/step - loss: 0.7098 - accuracy: 0.4707\n",
      "Epoch 21/100\n",
      "24/24 [==============================] - 0s 5ms/step - loss: 0.7057 - accuracy: 0.4747\n",
      "Epoch 22/100\n",
      "24/24 [==============================] - 0s 5ms/step - loss: 0.7020 - accuracy: 0.4813\n",
      "Epoch 23/100\n",
      "24/24 [==============================] - 0s 4ms/step - loss: 0.6985 - accuracy: 0.4920\n",
      "Epoch 24/100\n",
      "24/24 [==============================] - 0s 6ms/step - loss: 0.6950 - accuracy: 0.5067\n",
      "Epoch 25/100\n",
      "24/24 [==============================] - 0s 10ms/step - loss: 0.6914 - accuracy: 0.5200\n",
      "Epoch 26/100\n",
      "24/24 [==============================] - 0s 12ms/step - loss: 0.6878 - accuracy: 0.5360\n",
      "Epoch 27/100\n",
      "24/24 [==============================] - 0s 9ms/step - loss: 0.6841 - accuracy: 0.5440\n",
      "Epoch 28/100\n",
      "24/24 [==============================] - 0s 12ms/step - loss: 0.6805 - accuracy: 0.5507\n",
      "Epoch 29/100\n",
      "24/24 [==============================] - 0s 8ms/step - loss: 0.6768 - accuracy: 0.5573\n",
      "Epoch 30/100\n",
      "24/24 [==============================] - 0s 8ms/step - loss: 0.6731 - accuracy: 0.5733\n",
      "Epoch 31/100\n",
      "24/24 [==============================] - 0s 11ms/step - loss: 0.6693 - accuracy: 0.5933\n",
      "Epoch 32/100\n",
      "24/24 [==============================] - 0s 9ms/step - loss: 0.6653 - accuracy: 0.6107\n",
      "Epoch 33/100\n",
      "24/24 [==============================] - 0s 10ms/step - loss: 0.6613 - accuracy: 0.6187\n",
      "Epoch 34/100\n",
      "24/24 [==============================] - 0s 9ms/step - loss: 0.6570 - accuracy: 0.6280\n",
      "Epoch 35/100\n",
      "24/24 [==============================] - 0s 8ms/step - loss: 0.6527 - accuracy: 0.6347\n",
      "Epoch 36/100\n",
      "24/24 [==============================] - 0s 11ms/step - loss: 0.6482 - accuracy: 0.6467\n",
      "Epoch 37/100\n",
      "24/24 [==============================] - 0s 8ms/step - loss: 0.6434 - accuracy: 0.6627\n",
      "Epoch 38/100\n",
      "24/24 [==============================] - 0s 9ms/step - loss: 0.6385 - accuracy: 0.6653\n",
      "Epoch 39/100\n",
      "24/24 [==============================] - 0s 9ms/step - loss: 0.6335 - accuracy: 0.6827\n",
      "Epoch 40/100\n",
      "24/24 [==============================] - 0s 9ms/step - loss: 0.6282 - accuracy: 0.6893\n",
      "Epoch 41/100\n",
      "24/24 [==============================] - 0s 4ms/step - loss: 0.6228 - accuracy: 0.6973\n",
      "Epoch 42/100\n",
      "24/24 [==============================] - 0s 5ms/step - loss: 0.6172 - accuracy: 0.7040\n",
      "Epoch 43/100\n",
      "24/24 [==============================] - 0s 8ms/step - loss: 0.6113 - accuracy: 0.7133\n",
      "Epoch 44/100\n",
      "24/24 [==============================] - 0s 8ms/step - loss: 0.6054 - accuracy: 0.7213\n",
      "Epoch 45/100\n",
      "24/24 [==============================] - 0s 8ms/step - loss: 0.5992 - accuracy: 0.7293\n",
      "Epoch 46/100\n",
      "24/24 [==============================] - 0s 7ms/step - loss: 0.5928 - accuracy: 0.7320\n",
      "Epoch 47/100\n",
      "24/24 [==============================] - 0s 8ms/step - loss: 0.5863 - accuracy: 0.7373\n",
      "Epoch 48/100\n",
      "24/24 [==============================] - 0s 6ms/step - loss: 0.5795 - accuracy: 0.7453\n",
      "Epoch 49/100\n",
      "24/24 [==============================] - 0s 7ms/step - loss: 0.5728 - accuracy: 0.7560\n",
      "Epoch 50/100\n",
      "24/24 [==============================] - 0s 7ms/step - loss: 0.5657 - accuracy: 0.7600\n",
      "Epoch 51/100\n",
      "24/24 [==============================] - 0s 5ms/step - loss: 0.5584 - accuracy: 0.7667\n",
      "Epoch 52/100\n",
      "24/24 [==============================] - 0s 9ms/step - loss: 0.5510 - accuracy: 0.7720\n",
      "Epoch 53/100\n",
      "24/24 [==============================] - 0s 6ms/step - loss: 0.5433 - accuracy: 0.7827\n",
      "Epoch 54/100\n",
      "24/24 [==============================] - 0s 7ms/step - loss: 0.5357 - accuracy: 0.7867\n",
      "Epoch 55/100\n",
      "24/24 [==============================] - 0s 6ms/step - loss: 0.5280 - accuracy: 0.7933\n",
      "Epoch 56/100\n",
      "24/24 [==============================] - 0s 3ms/step - loss: 0.5202 - accuracy: 0.7960\n",
      "Epoch 57/100\n",
      "24/24 [==============================] - 0s 3ms/step - loss: 0.5122 - accuracy: 0.8053\n",
      "Epoch 58/100\n",
      "24/24 [==============================] - 0s 4ms/step - loss: 0.5043 - accuracy: 0.8120\n",
      "Epoch 59/100\n",
      "24/24 [==============================] - 0s 7ms/step - loss: 0.4964 - accuracy: 0.8187\n",
      "Epoch 60/100\n",
      "24/24 [==============================] - 0s 8ms/step - loss: 0.4886 - accuracy: 0.8253\n",
      "Epoch 61/100\n",
      "24/24 [==============================] - 0s 9ms/step - loss: 0.4809 - accuracy: 0.8293\n",
      "Epoch 62/100\n",
      "24/24 [==============================] - 0s 8ms/step - loss: 0.4732 - accuracy: 0.8320\n",
      "Epoch 63/100\n",
      "24/24 [==============================] - 0s 7ms/step - loss: 0.4655 - accuracy: 0.8373\n",
      "Epoch 64/100\n",
      "24/24 [==============================] - 0s 8ms/step - loss: 0.4577 - accuracy: 0.8427\n",
      "Epoch 65/100\n",
      "24/24 [==============================] - 0s 9ms/step - loss: 0.4500 - accuracy: 0.8480\n",
      "Epoch 66/100\n",
      "24/24 [==============================] - 0s 7ms/step - loss: 0.4424 - accuracy: 0.8507\n",
      "Epoch 67/100\n",
      "24/24 [==============================] - 0s 4ms/step - loss: 0.4348 - accuracy: 0.8560\n",
      "Epoch 68/100\n",
      "24/24 [==============================] - 0s 3ms/step - loss: 0.4273 - accuracy: 0.8627\n",
      "Epoch 69/100\n",
      "24/24 [==============================] - 0s 7ms/step - loss: 0.4198 - accuracy: 0.8627\n",
      "Epoch 70/100\n",
      "24/24 [==============================] - 0s 8ms/step - loss: 0.4126 - accuracy: 0.8653\n",
      "Epoch 71/100\n",
      "24/24 [==============================] - 0s 6ms/step - loss: 0.4054 - accuracy: 0.8720\n",
      "Epoch 72/100\n",
      "24/24 [==============================] - 0s 3ms/step - loss: 0.3986 - accuracy: 0.8747\n",
      "Epoch 73/100\n",
      "24/24 [==============================] - 0s 3ms/step - loss: 0.3917 - accuracy: 0.8760\n",
      "Epoch 74/100\n",
      "24/24 [==============================] - 0s 7ms/step - loss: 0.3848 - accuracy: 0.8813\n",
      "Epoch 75/100\n",
      "24/24 [==============================] - 0s 6ms/step - loss: 0.3779 - accuracy: 0.8867\n",
      "Epoch 76/100\n",
      "24/24 [==============================] - 0s 4ms/step - loss: 0.3712 - accuracy: 0.8933\n",
      "Epoch 77/100\n",
      "24/24 [==============================] - 0s 3ms/step - loss: 0.3646 - accuracy: 0.8987\n",
      "Epoch 78/100\n",
      "24/24 [==============================] - 0s 2ms/step - loss: 0.3580 - accuracy: 0.9013\n",
      "Epoch 79/100\n",
      "24/24 [==============================] - 0s 3ms/step - loss: 0.3514 - accuracy: 0.9027\n",
      "Epoch 80/100\n",
      "24/24 [==============================] - 0s 2ms/step - loss: 0.3448 - accuracy: 0.9040\n",
      "Epoch 81/100\n",
      "24/24 [==============================] - 0s 3ms/step - loss: 0.3384 - accuracy: 0.9080\n",
      "Epoch 82/100\n",
      "24/24 [==============================] - 0s 3ms/step - loss: 0.3322 - accuracy: 0.9107\n",
      "Epoch 83/100\n",
      "24/24 [==============================] - 0s 4ms/step - loss: 0.3261 - accuracy: 0.9160\n",
      "Epoch 84/100\n",
      "24/24 [==============================] - 0s 4ms/step - loss: 0.3200 - accuracy: 0.9160\n",
      "Epoch 85/100\n",
      "24/24 [==============================] - 0s 3ms/step - loss: 0.3141 - accuracy: 0.9160\n",
      "Epoch 86/100\n",
      "24/24 [==============================] - 0s 3ms/step - loss: 0.3083 - accuracy: 0.9173\n",
      "Epoch 87/100\n",
      "24/24 [==============================] - 0s 5ms/step - loss: 0.3027 - accuracy: 0.9227\n",
      "Epoch 88/100\n",
      "24/24 [==============================] - 0s 8ms/step - loss: 0.2971 - accuracy: 0.9267\n",
      "Epoch 89/100\n",
      "24/24 [==============================] - 0s 6ms/step - loss: 0.2916 - accuracy: 0.9280\n",
      "Epoch 90/100\n",
      "24/24 [==============================] - 0s 9ms/step - loss: 0.2863 - accuracy: 0.9280\n",
      "Epoch 91/100\n",
      "24/24 [==============================] - 0s 7ms/step - loss: 0.2810 - accuracy: 0.9293\n",
      "Epoch 92/100\n",
      "24/24 [==============================] - 0s 6ms/step - loss: 0.2757 - accuracy: 0.9333\n",
      "Epoch 93/100\n",
      "24/24 [==============================] - 0s 4ms/step - loss: 0.2704 - accuracy: 0.9360\n",
      "Epoch 94/100\n",
      "24/24 [==============================] - 0s 3ms/step - loss: 0.2652 - accuracy: 0.9387\n",
      "Epoch 95/100\n",
      "24/24 [==============================] - 0s 5ms/step - loss: 0.2601 - accuracy: 0.9427\n",
      "Epoch 96/100\n",
      "24/24 [==============================] - 0s 9ms/step - loss: 0.2551 - accuracy: 0.9440\n",
      "Epoch 97/100\n",
      "24/24 [==============================] - 0s 8ms/step - loss: 0.2502 - accuracy: 0.9453\n",
      "Epoch 98/100\n",
      "24/24 [==============================] - 0s 8ms/step - loss: 0.2450 - accuracy: 0.9453\n",
      "Epoch 99/100\n",
      "24/24 [==============================] - 0s 6ms/step - loss: 0.2401 - accuracy: 0.9480\n",
      "Epoch 100/100\n",
      "24/24 [==============================] - 0s 7ms/step - loss: 0.2350 - accuracy: 0.9507\n"
     ]
    }
   ],
   "source": [
    "# Fitting the model with linear dummy data\n",
    "model = neuron.fit(X_train_scaled, y_train, epochs=100)"
   ]
  },
  {
   "cell_type": "markdown",
   "metadata": {},
   "source": [
    " ### Evaluate the Model\n",
    "\n",
    " #### Plotting the Loss Function and Accuracy"
   ]
  },
  {
   "cell_type": "code",
   "execution_count": 25,
   "metadata": {},
   "outputs": [
    {
     "data": {
      "text/plain": [
       "<AxesSubplot:>"
      ]
     },
     "execution_count": 25,
     "metadata": {},
     "output_type": "execute_result"
    },
    {
     "data": {
      "image/png": "[encoded data removed]",
      "text/plain": [
       "<Figure size 432x288 with 1 Axes>"
      ]
     },
     "metadata": {
      "needs_background": "light"
     },
     "output_type": "display_data"
    }
   ],
   "source": [
    "# Create a DataFrame with the history dictionary\n",
    "df = pd.DataFrame(model.history, index=range(1, len(model.history[\"loss\"]) + 1))\n",
    "\n",
    "# Plot the loss\n",
    "df.plot(y=\"loss\")"
   ]
  },
  {
   "cell_type": "code",
   "execution_count": 26,
   "metadata": {},
   "outputs": [
    {
     "data": {
      "text/plain": [
       "<AxesSubplot:>"
      ]
     },
     "execution_count": 26,
     "metadata": {},
     "output_type": "execute_result"
    },
    {
     "data": {
      "image/png": "[encoded data removed]",
      "text/plain": [
       "<Figure size 432x288 with 1 Axes>"
      ]
     },
     "metadata": {
      "needs_background": "light"
     },
     "output_type": "display_data"
    }
   ],
   "source": [
    "# Plot the accuracy\n",
    "df.plot(y=\"accuracy\")"
   ]
  },
  {
   "cell_type": "markdown",
   "metadata": {},
   "source": [
    " #### Evaluating the Model Using Testing Data"
   ]
  },
  {
   "cell_type": "code",
   "execution_count": 27,
   "metadata": {},
   "outputs": [
    {
     "name": "stdout",
     "output_type": "stream",
     "text": [
      "8/8 - 1s - loss: 0.2139 - accuracy: 0.9520 - 759ms/epoch - 95ms/step\n",
      "Loss: 0.21385851502418518, Accuracy: 0.9520000219345093\n"
     ]
    }
   ],
   "source": [
    "# Evaluate the model fit with linear dummy data\n",
    "model_loss, model_accuracy = neuron.evaluate(X_test_scaled, y_test, verbose=2)\n",
    "print(f\"Loss: {model_loss}, Accuracy: {model_accuracy}\")"
   ]
  },
  {
   "cell_type": "markdown",
   "metadata": {},
   "source": [
    " ### Making Predictions with New Data"
   ]
  },
  {
   "cell_type": "code",
   "execution_count": 28,
   "metadata": {},
   "outputs": [],
   "source": [
    "# Create 10 new samples of dummy data\n",
    "new_X, new_y = make_blobs(n_samples=10, centers=2, n_features=2, random_state=78)"
   ]
  },
  {
   "cell_type": "code",
   "execution_count": 29,
   "metadata": {},
   "outputs": [
    {
     "name": "stdout",
     "output_type": "stream",
     "text": [
      "1/1 [==============================] - 0s 353ms/step\n"
     ]
    },
    {
     "data": {
      "text/html": [
       "<div>\n",
       "<style scoped>\n",
       "    .dataframe tbody tr th:only-of-type {\n",
       "        vertical-align: middle;\n",
       "    }\n",
       "\n",
       "    .dataframe tbody tr th {\n",
       "        vertical-align: top;\n",
       "    }\n",
       "\n",
       "    .dataframe thead th {\n",
       "        text-align: right;\n",
       "    }\n",
       "</style>\n",
       "<table border=\"1\" class=\"dataframe\">\n",
       "  <thead>\n",
       "    <tr style=\"text-align: right;\">\n",
       "      <th></th>\n",
       "      <th>predictions</th>\n",
       "      <th>actual</th>\n",
       "    </tr>\n",
       "  </thead>\n",
       "  <tbody>\n",
       "    <tr>\n",
       "      <th>0</th>\n",
       "      <td>1</td>\n",
       "      <td>0</td>\n",
       "    </tr>\n",
       "    <tr>\n",
       "      <th>1</th>\n",
       "      <td>1</td>\n",
       "      <td>1</td>\n",
       "    </tr>\n",
       "    <tr>\n",
       "      <th>2</th>\n",
       "      <td>1</td>\n",
       "      <td>0</td>\n",
       "    </tr>\n",
       "    <tr>\n",
       "      <th>3</th>\n",
       "      <td>1</td>\n",
       "      <td>1</td>\n",
       "    </tr>\n",
       "    <tr>\n",
       "      <th>4</th>\n",
       "      <td>1</td>\n",
       "      <td>0</td>\n",
       "    </tr>\n",
       "    <tr>\n",
       "      <th>5</th>\n",
       "      <td>1</td>\n",
       "      <td>0</td>\n",
       "    </tr>\n",
       "    <tr>\n",
       "      <th>6</th>\n",
       "      <td>1</td>\n",
       "      <td>1</td>\n",
       "    </tr>\n",
       "    <tr>\n",
       "      <th>7</th>\n",
       "      <td>1</td>\n",
       "      <td>1</td>\n",
       "    </tr>\n",
       "    <tr>\n",
       "      <th>8</th>\n",
       "      <td>1</td>\n",
       "      <td>1</td>\n",
       "    </tr>\n",
       "    <tr>\n",
       "      <th>9</th>\n",
       "      <td>1</td>\n",
       "      <td>0</td>\n",
       "    </tr>\n",
       "  </tbody>\n",
       "</table>\n",
       "</div>"
      ],
      "text/plain": [
       "   predictions  actual\n",
       "0            1       0\n",
       "1            1       1\n",
       "2            1       0\n",
       "3            1       1\n",
       "4            1       0\n",
       "5            1       0\n",
       "6            1       1\n",
       "7            1       1\n",
       "8            1       1\n",
       "9            1       0"
      ]
     },
     "execution_count": 29,
     "metadata": {},
     "output_type": "execute_result"
    }
   ],
   "source": [
    "# Making predictions\n",
    "predictions = (neuron.predict(new_X) > 0.5).astype(\"int32\")\n",
    "results = pd.DataFrame({\"predictions\": predictions.ravel(), \"actual\": new_y})\n",
    "results.head(10)"
   ]
  },
  {
   "cell_type": "markdown",
   "metadata": {},
   "source": [
    "---"
   ]
  },
  {
   "cell_type": "markdown",
   "metadata": {},
   "source": [
    "# Using a Single Neuron for Non-Linear Data\n",
    "\n",
    "### Creating Demo Data:"
   ]
  },
  {
   "cell_type": "code",
   "execution_count": 30,
   "metadata": {},
   "outputs": [],
   "source": [
    "# Creating dummy non-linear data\n",
    "X_moons, y_moons = make_moons(n_samples=1000, noise=0.08, random_state=78)"
   ]
  },
  {
   "cell_type": "code",
   "execution_count": 31,
   "metadata": {},
   "outputs": [],
   "source": [
    "# Transforming y_moons to a vertical vector\n",
    "y_moons = y_moons.reshape(-1, 1)"
   ]
  },
  {
   "cell_type": "code",
   "execution_count": 32,
   "metadata": {},
   "outputs": [
    {
     "data": {
      "text/html": [
       "<div>\n",
       "<style scoped>\n",
       "    .dataframe tbody tr th:only-of-type {\n",
       "        vertical-align: middle;\n",
       "    }\n",
       "\n",
       "    .dataframe tbody tr th {\n",
       "        vertical-align: top;\n",
       "    }\n",
       "\n",
       "    .dataframe thead th {\n",
       "        text-align: right;\n",
       "    }\n",
       "</style>\n",
       "<table border=\"1\" class=\"dataframe\">\n",
       "  <thead>\n",
       "    <tr style=\"text-align: right;\">\n",
       "      <th></th>\n",
       "      <th>Feature 1</th>\n",
       "      <th>Feature 2</th>\n",
       "      <th>Target</th>\n",
       "    </tr>\n",
       "  </thead>\n",
       "  <tbody>\n",
       "    <tr>\n",
       "      <th>0</th>\n",
       "      <td>0.676217</td>\n",
       "      <td>0.815220</td>\n",
       "      <td>0</td>\n",
       "    </tr>\n",
       "    <tr>\n",
       "      <th>1</th>\n",
       "      <td>1.487143</td>\n",
       "      <td>-0.210519</td>\n",
       "      <td>1</td>\n",
       "    </tr>\n",
       "    <tr>\n",
       "      <th>2</th>\n",
       "      <td>-1.027709</td>\n",
       "      <td>0.354966</td>\n",
       "      <td>0</td>\n",
       "    </tr>\n",
       "    <tr>\n",
       "      <th>3</th>\n",
       "      <td>0.236012</td>\n",
       "      <td>1.025531</td>\n",
       "      <td>0</td>\n",
       "    </tr>\n",
       "    <tr>\n",
       "      <th>4</th>\n",
       "      <td>1.856695</td>\n",
       "      <td>-0.042783</td>\n",
       "      <td>1</td>\n",
       "    </tr>\n",
       "  </tbody>\n",
       "</table>\n",
       "</div>"
      ],
      "text/plain": [
       "   Feature 1  Feature 2  Target\n",
       "0   0.676217   0.815220       0\n",
       "1   1.487143  -0.210519       1\n",
       "2  -1.027709   0.354966       0\n",
       "3   0.236012   1.025531       0\n",
       "4   1.856695  -0.042783       1"
      ]
     },
     "execution_count": 32,
     "metadata": {},
     "output_type": "execute_result"
    }
   ],
   "source": [
    "# Creating a DataFrame to plot the non-linear dummy data\n",
    "df_moons = pd.DataFrame(X_moons, columns=[\"Feature 1\", \"Feature 2\"])\n",
    "df_moons[\"Target\"] = y_moons\n",
    "df_moons.head()"
   ]
  },
  {
   "cell_type": "code",
   "execution_count": 33,
   "metadata": {},
   "outputs": [
    {
     "data": {
      "text/plain": [
       "<AxesSubplot:xlabel='Feature 1', ylabel='Feature 2'>"
      ]
     },
     "execution_count": 33,
     "metadata": {},
     "output_type": "execute_result"
    },
    {
     "data": {
      "image/png": "[encoded data removed]",
      "text/plain": [
       "<Figure size 432x288 with 2 Axes>"
      ]
     },
     "metadata": {
      "needs_background": "light"
     },
     "output_type": "display_data"
    }
   ],
   "source": [
    "# Plotting the non-linear dummy data\n",
    "df_moons.plot.scatter(x=\"Feature 1\", y=\"Feature 2\", c=\"Target\", colormap=\"winter\")"
   ]
  },
  {
   "cell_type": "markdown",
   "metadata": {},
   "source": [
    "### Data Preprocessing\n",
    "\n",
    "Use `train_test_split` to create training and testing data."
   ]
  },
  {
   "cell_type": "code",
   "execution_count": 34,
   "metadata": {},
   "outputs": [],
   "source": [
    "# Create training and testing sets\n",
    "X_moon_train, X_moon_test, y_moon_train, y_moon_test = train_test_split(\n",
    "    X_moons, y_moons, random_state=78\n",
    ")"
   ]
  },
  {
   "cell_type": "markdown",
   "metadata": {},
   "source": [
    " Scale the data"
   ]
  },
  {
   "cell_type": "code",
   "execution_count": 35,
   "metadata": {},
   "outputs": [],
   "source": [
    "# Create the scaler instance\n",
    "X_moon_scaler = StandardScaler()"
   ]
  },
  {
   "cell_type": "code",
   "execution_count": 36,
   "metadata": {},
   "outputs": [
    {
     "data": {
      "text/plain": [
       "StandardScaler()"
      ]
     },
     "execution_count": 36,
     "metadata": {},
     "output_type": "execute_result"
    }
   ],
   "source": [
    "# Fit the scaler\n",
    "X_moon_scaler.fit(X_moon_train)"
   ]
  },
  {
   "cell_type": "code",
   "execution_count": 37,
   "metadata": {},
   "outputs": [],
   "source": [
    "# Scale the data\n",
    "X_moon_train_scaled = X_moon_scaler.transform(X_moon_train)\n",
    "X_moon_test_scaled = X_moon_scaler.transform(X_moon_test)"
   ]
  },
  {
   "cell_type": "markdown",
   "metadata": {},
   "source": [
    " ### Fit the Model"
   ]
  },
  {
   "cell_type": "code",
   "execution_count": 38,
   "metadata": {},
   "outputs": [
    {
     "name": "stdout",
     "output_type": "stream",
     "text": [
      "Epoch 1/100\n",
      "24/24 [==============================] - 0s 5ms/step - loss: 1.7575 - accuracy: 0.2413\n",
      "Epoch 2/100\n",
      "24/24 [==============================] - 0s 4ms/step - loss: 1.5431 - accuracy: 0.2613\n",
      "Epoch 3/100\n",
      "24/24 [==============================] - 0s 3ms/step - loss: 1.3896 - accuracy: 0.2640\n",
      "Epoch 4/100\n",
      "24/24 [==============================] - 0s 3ms/step - loss: 1.2809 - accuracy: 0.2760\n",
      "Epoch 5/100\n",
      "24/24 [==============================] - 0s 4ms/step - loss: 1.2025 - accuracy: 0.2867\n",
      "Epoch 6/100\n",
      "24/24 [==============================] - 0s 9ms/step - loss: 1.1394 - accuracy: 0.3000\n",
      "Epoch 7/100\n",
      "24/24 [==============================] - 0s 15ms/step - loss: 1.0900 - accuracy: 0.3080\n",
      "Epoch 8/100\n",
      "24/24 [==============================] - 0s 9ms/step - loss: 1.0497 - accuracy: 0.3253\n",
      "Epoch 9/100\n",
      "24/24 [==============================] - 0s 11ms/step - loss: 1.0157 - accuracy: 0.3347\n",
      "Epoch 10/100\n",
      "24/24 [==============================] - 0s 12ms/step - loss: 0.9867 - accuracy: 0.3387\n",
      "Epoch 11/100\n",
      "24/24 [==============================] - 0s 11ms/step - loss: 0.9610 - accuracy: 0.3507\n",
      "Epoch 12/100\n",
      "24/24 [==============================] - 0s 12ms/step - loss: 0.9387 - accuracy: 0.3627\n",
      "Epoch 13/100\n",
      "24/24 [==============================] - 0s 12ms/step - loss: 0.9188 - accuracy: 0.3733\n",
      "Epoch 14/100\n",
      "24/24 [==============================] - 0s 10ms/step - loss: 0.9008 - accuracy: 0.3813\n",
      "Epoch 15/100\n",
      "24/24 [==============================] - 0s 6ms/step - loss: 0.8847 - accuracy: 0.3893\n",
      "Epoch 16/100\n",
      "24/24 [==============================] - 0s 11ms/step - loss: 0.8695 - accuracy: 0.3987\n",
      "Epoch 17/100\n",
      "24/24 [==============================] - 0s 11ms/step - loss: 0.8554 - accuracy: 0.4093\n",
      "Epoch 18/100\n",
      "24/24 [==============================] - 0s 10ms/step - loss: 0.8424 - accuracy: 0.4200\n",
      "Epoch 19/100\n",
      "24/24 [==============================] - 0s 5ms/step - loss: 0.8302 - accuracy: 0.4253\n",
      "Epoch 20/100\n",
      "24/24 [==============================] - 0s 4ms/step - loss: 0.8189 - accuracy: 0.4373\n",
      "Epoch 21/100\n",
      "24/24 [==============================] - 0s 10ms/step - loss: 0.8083 - accuracy: 0.4453\n",
      "Epoch 22/100\n",
      "24/24 [==============================] - 0s 6ms/step - loss: 0.7985 - accuracy: 0.4520\n",
      "Epoch 23/100\n",
      "24/24 [==============================] - 0s 16ms/step - loss: 0.7889 - accuracy: 0.4693\n",
      "Epoch 24/100\n",
      "24/24 [==============================] - 0s 16ms/step - loss: 0.7799 - accuracy: 0.4813\n",
      "Epoch 25/100\n",
      "24/24 [==============================] - 0s 21ms/step - loss: 0.7714 - accuracy: 0.4893\n",
      "Epoch 26/100\n",
      "24/24 [==============================] - 0s 10ms/step - loss: 0.7633 - accuracy: 0.5000\n",
      "Epoch 27/100\n",
      "24/24 [==============================] - 0s 8ms/step - loss: 0.7558 - accuracy: 0.5173\n",
      "Epoch 28/100\n",
      "24/24 [==============================] - 0s 13ms/step - loss: 0.7484 - accuracy: 0.5333\n",
      "Epoch 29/100\n",
      "24/24 [==============================] - 0s 8ms/step - loss: 0.7414 - accuracy: 0.5360\n",
      "Epoch 30/100\n",
      "24/24 [==============================] - 0s 12ms/step - loss: 0.7349 - accuracy: 0.5427\n",
      "Epoch 31/100\n",
      "24/24 [==============================] - 0s 10ms/step - loss: 0.7287 - accuracy: 0.5507\n",
      "Epoch 32/100\n",
      "24/24 [==============================] - 0s 12ms/step - loss: 0.7225 - accuracy: 0.5560\n",
      "Epoch 33/100\n",
      "24/24 [==============================] - 0s 9ms/step - loss: 0.7167 - accuracy: 0.5600\n",
      "Epoch 34/100\n",
      "24/24 [==============================] - 0s 4ms/step - loss: 0.7111 - accuracy: 0.5680\n",
      "Epoch 35/100\n",
      "24/24 [==============================] - 0s 10ms/step - loss: 0.7059 - accuracy: 0.5707\n",
      "Epoch 36/100\n",
      "24/24 [==============================] - 0s 5ms/step - loss: 0.7006 - accuracy: 0.5760\n",
      "Epoch 37/100\n",
      "24/24 [==============================] - 0s 6ms/step - loss: 0.6957 - accuracy: 0.5840\n",
      "Epoch 38/100\n",
      "24/24 [==============================] - 0s 4ms/step - loss: 0.6908 - accuracy: 0.5907\n",
      "Epoch 39/100\n",
      "24/24 [==============================] - 0s 3ms/step - loss: 0.6862 - accuracy: 0.5920\n",
      "Epoch 40/100\n",
      "24/24 [==============================] - 0s 3ms/step - loss: 0.6817 - accuracy: 0.5973\n",
      "Epoch 41/100\n",
      "24/24 [==============================] - 0s 3ms/step - loss: 0.6776 - accuracy: 0.6013\n",
      "Epoch 42/100\n",
      "24/24 [==============================] - 0s 4ms/step - loss: 0.6733 - accuracy: 0.6027\n",
      "Epoch 43/100\n",
      "24/24 [==============================] - 0s 4ms/step - loss: 0.6696 - accuracy: 0.6080\n",
      "Epoch 44/100\n",
      "24/24 [==============================] - 0s 4ms/step - loss: 0.6657 - accuracy: 0.6120\n",
      "Epoch 45/100\n",
      "24/24 [==============================] - 0s 5ms/step - loss: 0.6620 - accuracy: 0.6160\n",
      "Epoch 46/100\n",
      "24/24 [==============================] - 0s 4ms/step - loss: 0.6584 - accuracy: 0.6213\n",
      "Epoch 47/100\n",
      "24/24 [==============================] - 0s 4ms/step - loss: 0.6550 - accuracy: 0.6227\n",
      "Epoch 48/100\n",
      "24/24 [==============================] - 0s 4ms/step - loss: 0.6516 - accuracy: 0.6253\n",
      "Epoch 49/100\n",
      "24/24 [==============================] - 0s 4ms/step - loss: 0.6482 - accuracy: 0.6333\n",
      "Epoch 50/100\n",
      "24/24 [==============================] - 0s 5ms/step - loss: 0.6450 - accuracy: 0.6387\n",
      "Epoch 51/100\n",
      "24/24 [==============================] - 0s 4ms/step - loss: 0.6416 - accuracy: 0.6427\n",
      "Epoch 52/100\n",
      "24/24 [==============================] - 0s 4ms/step - loss: 0.6385 - accuracy: 0.6467\n",
      "Epoch 53/100\n",
      "24/24 [==============================] - 0s 5ms/step - loss: 0.6354 - accuracy: 0.6453\n",
      "Epoch 54/100\n",
      "24/24 [==============================] - 0s 5ms/step - loss: 0.6325 - accuracy: 0.6493\n",
      "Epoch 55/100\n",
      "24/24 [==============================] - 0s 4ms/step - loss: 0.6297 - accuracy: 0.6507\n",
      "Epoch 56/100\n",
      "24/24 [==============================] - 0s 4ms/step - loss: 0.6268 - accuracy: 0.6533\n",
      "Epoch 57/100\n",
      "24/24 [==============================] - 0s 3ms/step - loss: 0.6241 - accuracy: 0.6600\n",
      "Epoch 58/100\n",
      "24/24 [==============================] - 0s 3ms/step - loss: 0.6215 - accuracy: 0.6613\n",
      "Epoch 59/100\n",
      "24/24 [==============================] - 0s 2ms/step - loss: 0.6188 - accuracy: 0.6640\n",
      "Epoch 60/100\n",
      "24/24 [==============================] - 0s 2ms/step - loss: 0.6162 - accuracy: 0.6693\n",
      "Epoch 61/100\n",
      "24/24 [==============================] - 0s 5ms/step - loss: 0.6136 - accuracy: 0.6760\n",
      "Epoch 62/100\n",
      "24/24 [==============================] - 0s 8ms/step - loss: 0.6110 - accuracy: 0.6773\n",
      "Epoch 63/100\n",
      "24/24 [==============================] - 0s 17ms/step - loss: 0.6085 - accuracy: 0.6760\n",
      "Epoch 64/100\n",
      "24/24 [==============================] - 0s 11ms/step - loss: 0.6060 - accuracy: 0.6813\n",
      "Epoch 65/100\n",
      "24/24 [==============================] - 0s 10ms/step - loss: 0.6037 - accuracy: 0.6840\n",
      "Epoch 66/100\n",
      "24/24 [==============================] - 0s 10ms/step - loss: 0.6012 - accuracy: 0.6853\n",
      "Epoch 67/100\n",
      "24/24 [==============================] - 0s 11ms/step - loss: 0.5987 - accuracy: 0.6827\n",
      "Epoch 68/100\n",
      "24/24 [==============================] - 0s 15ms/step - loss: 0.5963 - accuracy: 0.6867\n",
      "Epoch 69/100\n",
      "24/24 [==============================] - 0s 8ms/step - loss: 0.5938 - accuracy: 0.6893\n",
      "Epoch 70/100\n",
      "24/24 [==============================] - 0s 8ms/step - loss: 0.5913 - accuracy: 0.6907\n",
      "Epoch 71/100\n",
      "24/24 [==============================] - 0s 4ms/step - loss: 0.5888 - accuracy: 0.6933\n",
      "Epoch 72/100\n",
      "24/24 [==============================] - 0s 3ms/step - loss: 0.5865 - accuracy: 0.6893\n",
      "Epoch 73/100\n",
      "24/24 [==============================] - 0s 3ms/step - loss: 0.5839 - accuracy: 0.6867\n",
      "Epoch 74/100\n",
      "24/24 [==============================] - 0s 11ms/step - loss: 0.5814 - accuracy: 0.6867\n",
      "Epoch 75/100\n",
      "24/24 [==============================] - 0s 10ms/step - loss: 0.5792 - accuracy: 0.6853\n",
      "Epoch 76/100\n",
      "24/24 [==============================] - 0s 10ms/step - loss: 0.5767 - accuracy: 0.6920\n",
      "Epoch 77/100\n",
      "24/24 [==============================] - 0s 6ms/step - loss: 0.5743 - accuracy: 0.6960\n",
      "Epoch 78/100\n",
      "24/24 [==============================] - 0s 4ms/step - loss: 0.5721 - accuracy: 0.6973\n",
      "Epoch 79/100\n",
      "24/24 [==============================] - 0s 14ms/step - loss: 0.5699 - accuracy: 0.6960\n",
      "Epoch 80/100\n",
      "24/24 [==============================] - 0s 3ms/step - loss: 0.5677 - accuracy: 0.6973\n",
      "Epoch 81/100\n",
      "24/24 [==============================] - 0s 2ms/step - loss: 0.5654 - accuracy: 0.6987\n",
      "Epoch 82/100\n",
      "24/24 [==============================] - 0s 2ms/step - loss: 0.5633 - accuracy: 0.7000\n",
      "Epoch 83/100\n",
      "24/24 [==============================] - 0s 2ms/step - loss: 0.5612 - accuracy: 0.7027\n",
      "Epoch 84/100\n",
      "24/24 [==============================] - 0s 2ms/step - loss: 0.5591 - accuracy: 0.7053\n",
      "Epoch 85/100\n",
      "24/24 [==============================] - 0s 2ms/step - loss: 0.5571 - accuracy: 0.7080\n",
      "Epoch 86/100\n",
      "24/24 [==============================] - 0s 2ms/step - loss: 0.5550 - accuracy: 0.7093\n",
      "Epoch 87/100\n",
      "24/24 [==============================] - 0s 2ms/step - loss: 0.5530 - accuracy: 0.7080\n",
      "Epoch 88/100\n",
      "24/24 [==============================] - 0s 2ms/step - loss: 0.5509 - accuracy: 0.7107\n",
      "Epoch 89/100\n",
      "24/24 [==============================] - 0s 2ms/step - loss: 0.5489 - accuracy: 0.7160\n",
      "Epoch 90/100\n",
      "24/24 [==============================] - 0s 2ms/step - loss: 0.5468 - accuracy: 0.7213\n",
      "Epoch 91/100\n",
      "24/24 [==============================] - 0s 2ms/step - loss: 0.5447 - accuracy: 0.7200\n",
      "Epoch 92/100\n",
      "24/24 [==============================] - 0s 3ms/step - loss: 0.5426 - accuracy: 0.7200\n",
      "Epoch 93/100\n",
      "24/24 [==============================] - 0s 3ms/step - loss: 0.5405 - accuracy: 0.7213\n",
      "Epoch 94/100\n",
      "24/24 [==============================] - 0s 2ms/step - loss: 0.5383 - accuracy: 0.7253\n",
      "Epoch 95/100\n",
      "24/24 [==============================] - 0s 2ms/step - loss: 0.5362 - accuracy: 0.7293\n",
      "Epoch 96/100\n",
      "24/24 [==============================] - 0s 3ms/step - loss: 0.5342 - accuracy: 0.7280\n",
      "Epoch 97/100\n",
      "24/24 [==============================] - 0s 2ms/step - loss: 0.5320 - accuracy: 0.7320\n",
      "Epoch 98/100\n",
      "24/24 [==============================] - 0s 3ms/step - loss: 0.5299 - accuracy: 0.7320\n",
      "Epoch 99/100\n",
      "24/24 [==============================] - 0s 3ms/step - loss: 0.5277 - accuracy: 0.7333\n",
      "Epoch 100/100\n",
      "24/24 [==============================] - 0s 3ms/step - loss: 0.5254 - accuracy: 0.7333\n"
     ]
    }
   ],
   "source": [
    "# Training the model with the non-linear data\n",
    "model_moon = neuron.fit(X_moon_train_scaled, y_moon_train, epochs=100)"
   ]
  },
  {
   "cell_type": "markdown",
   "metadata": {},
   "source": [
    " ### Evaluate the Model\n",
    "\n",
    " #### Plotting the Loss Function and Accuracy"
   ]
  },
  {
   "cell_type": "code",
   "execution_count": 39,
   "metadata": {},
   "outputs": [
    {
     "data": {
      "text/plain": [
       "<AxesSubplot:>"
      ]
     },
     "execution_count": 39,
     "metadata": {},
     "output_type": "execute_result"
    },
    {
     "data": {
      "image/png": "[encoded data removed]",
      "text/plain": [
       "<Figure size 432x288 with 1 Axes>"
      ]
     },
     "metadata": {
      "needs_background": "light"
     },
     "output_type": "display_data"
    }
   ],
   "source": [
    "# Create a DataFrame with the history dictionary\n",
    "df_moon = pd.DataFrame(\n",
    "    model_moon.history, index=range(1, len(model_moon.history[\"loss\"]) + 1)\n",
    ")\n",
    "\n",
    "# Plot the loss\n",
    "df_moon.plot(y=\"loss\")"
   ]
  },
  {
   "cell_type": "code",
   "execution_count": 40,
   "metadata": {},
   "outputs": [
    {
     "data": {
      "text/plain": [
       "<AxesSubplot:>"
      ]
     },
     "execution_count": 40,
     "metadata": {},
     "output_type": "execute_result"
    },
    {
     "data": {
      "image/png": "[encoded data removed]",
      "text/plain": [
       "<Figure size 432x288 with 1 Axes>"
      ]
     },
     "metadata": {
      "needs_background": "light"
     },
     "output_type": "display_data"
    }
   ],
   "source": [
    "# Plot the accuracy\n",
    "df_moon.plot(y=\"accuracy\")"
   ]
  },
  {
   "cell_type": "markdown",
   "metadata": {},
   "source": [
    " #### Evaluating the Model Using Testing Data"
   ]
  },
  {
   "cell_type": "code",
   "execution_count": 41,
   "metadata": {},
   "outputs": [
    {
     "name": "stdout",
     "output_type": "stream",
     "text": [
      "8/8 - 0s - loss: 0.5520 - accuracy: 0.6760 - 154ms/epoch - 19ms/step\n",
      "Loss: 0.5520163774490356, Accuracy: 0.6759999990463257\n"
     ]
    }
   ],
   "source": [
    "# Evaluate the model using non-linear data\n",
    "model_moon_loss, model_moon_accuracy = neuron.evaluate(\n",
    "    X_moon_test_scaled, y_moon_test, verbose=2\n",
    ")\n",
    "print(f\"Loss: {model_moon_loss}, Accuracy: {model_moon_accuracy}\")"
   ]
  },
  {
   "cell_type": "markdown",
   "metadata": {},
   "source": [
    " ### Making Predictions"
   ]
  },
  {
   "cell_type": "code",
   "execution_count": 42,
   "metadata": {},
   "outputs": [],
   "source": [
    "# Create demo data\n",
    "X_new_moons, y_new_moons = make_moons(n_samples=10, noise=0.08, random_state=78)"
   ]
  },
  {
   "cell_type": "code",
   "execution_count": 43,
   "metadata": {},
   "outputs": [
    {
     "name": "stdout",
     "output_type": "stream",
     "text": [
      "1/1 [==============================] - 0s 41ms/step\n"
     ]
    },
    {
     "data": {
      "text/html": [
       "<div>\n",
       "<style scoped>\n",
       "    .dataframe tbody tr th:only-of-type {\n",
       "        vertical-align: middle;\n",
       "    }\n",
       "\n",
       "    .dataframe tbody tr th {\n",
       "        vertical-align: top;\n",
       "    }\n",
       "\n",
       "    .dataframe thead th {\n",
       "        text-align: right;\n",
       "    }\n",
       "</style>\n",
       "<table border=\"1\" class=\"dataframe\">\n",
       "  <thead>\n",
       "    <tr style=\"text-align: right;\">\n",
       "      <th></th>\n",
       "      <th>predictions</th>\n",
       "      <th>actual</th>\n",
       "    </tr>\n",
       "  </thead>\n",
       "  <tbody>\n",
       "    <tr>\n",
       "      <th>0</th>\n",
       "      <td>0</td>\n",
       "      <td>0</td>\n",
       "    </tr>\n",
       "    <tr>\n",
       "      <th>1</th>\n",
       "      <td>0</td>\n",
       "      <td>0</td>\n",
       "    </tr>\n",
       "    <tr>\n",
       "      <th>2</th>\n",
       "      <td>0</td>\n",
       "      <td>0</td>\n",
       "    </tr>\n",
       "    <tr>\n",
       "      <th>3</th>\n",
       "      <td>1</td>\n",
       "      <td>1</td>\n",
       "    </tr>\n",
       "    <tr>\n",
       "      <th>4</th>\n",
       "      <td>1</td>\n",
       "      <td>1</td>\n",
       "    </tr>\n",
       "    <tr>\n",
       "      <th>5</th>\n",
       "      <td>1</td>\n",
       "      <td>0</td>\n",
       "    </tr>\n",
       "    <tr>\n",
       "      <th>6</th>\n",
       "      <td>1</td>\n",
       "      <td>0</td>\n",
       "    </tr>\n",
       "    <tr>\n",
       "      <th>7</th>\n",
       "      <td>1</td>\n",
       "      <td>1</td>\n",
       "    </tr>\n",
       "    <tr>\n",
       "      <th>8</th>\n",
       "      <td>0</td>\n",
       "      <td>1</td>\n",
       "    </tr>\n",
       "    <tr>\n",
       "      <th>9</th>\n",
       "      <td>0</td>\n",
       "      <td>1</td>\n",
       "    </tr>\n",
       "  </tbody>\n",
       "</table>\n",
       "</div>"
      ],
      "text/plain": [
       "   predictions  actual\n",
       "0            0       0\n",
       "1            0       0\n",
       "2            0       0\n",
       "3            1       1\n",
       "4            1       1\n",
       "5            1       0\n",
       "6            1       0\n",
       "7            1       1\n",
       "8            0       1\n",
       "9            0       1"
      ]
     },
     "execution_count": 43,
     "metadata": {},
     "output_type": "execute_result"
    }
   ],
   "source": [
    "# Making predictions\n",
    "predictions_moon = (neuron.predict(X_new_moons) > 0.5).astype(\"int32\")\n",
    "\n",
    "results = pd.DataFrame({\"predictions\": predictions_moon.ravel(), \"actual\": y_new_moons})\n",
    "results.head(10)"
   ]
  },
  {
   "cell_type": "code",
   "execution_count": null,
   "metadata": {},
   "outputs": [],
   "source": []
  }
 ],
 "metadata": {
  "file_extension": ".py",
  "kernelspec": {
   "display_name": "Python 3",
   "language": "python",
   "name": "python3"
  },
  "language_info": {
   "codemirror_mode": {
    "name": "ipython",
    "version": 3
   },
   "file_extension": ".py",
   "mimetype": "text/x-python",
   "name": "python",
   "nbconvert_exporter": "python",
   "pygments_lexer": "ipython3",
   "version": "3.7.7"
  },
  "mimetype": "text/x-python",
  "name": "python",
  "npconvert_exporter": "python",
  "pygments_lexer": "ipython3",
  "version": 3
 },
 "nbformat": 4,
 "nbformat_minor": 4
}
