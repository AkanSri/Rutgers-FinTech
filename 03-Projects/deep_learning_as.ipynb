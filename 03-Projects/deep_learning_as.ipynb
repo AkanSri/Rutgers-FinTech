{
 "cells": [
  {
   "cell_type": "markdown",
   "metadata": {},
   "source": [
    "# Deep Learning code (Akanksha)"
   ]
  },
  {
   "cell_type": "code",
   "execution_count": 21,
   "metadata": {},
   "outputs": [],
   "source": [
    "import pandas as pd\n",
    "import seaborn as sns\n",
    "import tensorflow as tf\n",
    "import numpy as np\n",
    "import matplotlib.pyplot as plt\n",
    "from pathlib import Path\n",
    "from tensorflow.keras.layers import LSTM, Dense, Dropout\n",
    "from tensorflow.keras.models import Sequential\n",
    "\n",
    "%matplotlib inline"
   ]
  },
  {
   "cell_type": "code",
   "execution_count": 22,
   "metadata": {},
   "outputs": [],
   "source": [
    "data = pd.read_csv(Path(\"Resources/combined_data.csv\"), thousands=',', index_col='Year')\n",
    "data.drop(columns=\"Quarter\", inplace=True)\n",
    "data.dropna(inplace = True)"
   ]
  },
  {
   "cell_type": "code",
   "execution_count": 23,
   "metadata": {},
   "outputs": [
    {
     "data": {
      "text/html": [
       "<div>\n",
       "<style scoped>\n",
       "    .dataframe tbody tr th:only-of-type {\n",
       "        vertical-align: middle;\n",
       "    }\n",
       "\n",
       "    .dataframe tbody tr th {\n",
       "        vertical-align: top;\n",
       "    }\n",
       "\n",
       "    .dataframe thead th {\n",
       "        text-align: right;\n",
       "    }\n",
       "</style>\n",
       "<table border=\"1\" class=\"dataframe\">\n",
       "  <thead>\n",
       "    <tr style=\"text-align: right;\">\n",
       "      <th></th>\n",
       "      <th>Fraud Reporting Count</th>\n",
       "      <th>Net Operating Income(Billions)</th>\n",
       "      <th>Lagged Fraud Reporting Count</th>\n",
       "      <th>Lagged Net Operating Income(Billions)</th>\n",
       "    </tr>\n",
       "    <tr>\n",
       "      <th>Year</th>\n",
       "      <th></th>\n",
       "      <th></th>\n",
       "      <th></th>\n",
       "      <th></th>\n",
       "    </tr>\n",
       "  </thead>\n",
       "  <tbody>\n",
       "    <tr>\n",
       "      <th>2014</th>\n",
       "      <td>95516</td>\n",
       "      <td>39.8</td>\n",
       "      <td>82364.0</td>\n",
       "      <td>36.8</td>\n",
       "    </tr>\n",
       "    <tr>\n",
       "      <th>2014</th>\n",
       "      <td>94084</td>\n",
       "      <td>38.1</td>\n",
       "      <td>95516.0</td>\n",
       "      <td>39.8</td>\n",
       "    </tr>\n",
       "    <tr>\n",
       "      <th>2014</th>\n",
       "      <td>90868</td>\n",
       "      <td>36.0</td>\n",
       "      <td>94084.0</td>\n",
       "      <td>38.1</td>\n",
       "    </tr>\n",
       "    <tr>\n",
       "      <th>2015</th>\n",
       "      <td>90566</td>\n",
       "      <td>39.0</td>\n",
       "      <td>90868.0</td>\n",
       "      <td>36.0</td>\n",
       "    </tr>\n",
       "    <tr>\n",
       "      <th>2015</th>\n",
       "      <td>96365</td>\n",
       "      <td>42.6</td>\n",
       "      <td>90566.0</td>\n",
       "      <td>39.0</td>\n",
       "    </tr>\n",
       "  </tbody>\n",
       "</table>\n",
       "</div>"
      ],
      "text/plain": [
       "      Fraud Reporting Count  Net Operating Income(Billions)  \\\n",
       "Year                                                          \n",
       "2014                  95516                            39.8   \n",
       "2014                  94084                            38.1   \n",
       "2014                  90868                            36.0   \n",
       "2015                  90566                            39.0   \n",
       "2015                  96365                            42.6   \n",
       "\n",
       "      Lagged Fraud Reporting Count  Lagged Net Operating Income(Billions)  \n",
       "Year                                                                       \n",
       "2014                       82364.0                                   36.8  \n",
       "2014                       95516.0                                   39.8  \n",
       "2014                       94084.0                                   38.1  \n",
       "2015                       90868.0                                   36.0  \n",
       "2015                       90566.0                                   39.0  "
      ]
     },
     "execution_count": 23,
     "metadata": {},
     "output_type": "execute_result"
    }
   ],
   "source": [
    "data.head()"
   ]
  },
  {
   "cell_type": "code",
   "execution_count": 54,
   "metadata": {},
   "outputs": [
    {
     "name": "stdout",
     "output_type": "stream",
     "text": [
      "\u001b[0;31mSignature:\u001b[0m \u001b[0mplt\u001b[0m\u001b[0;34m.\u001b[0m\u001b[0msavefig\u001b[0m\u001b[0;34m(\u001b[0m\u001b[0;34m*\u001b[0m\u001b[0margs\u001b[0m\u001b[0;34m,\u001b[0m \u001b[0;34m**\u001b[0m\u001b[0mkwargs\u001b[0m\u001b[0;34m)\u001b[0m\u001b[0;34m\u001b[0m\u001b[0;34m\u001b[0m\u001b[0m\n",
      "\u001b[0;31mDocstring:\u001b[0m\n",
      "Save the current figure.\n",
      "\n",
      "Call signature::\n",
      "\n",
      "  savefig(fname, *, dpi='figure', format=None, metadata=None,\n",
      "          bbox_inches=None, pad_inches=0.1,\n",
      "          facecolor='auto', edgecolor='auto',\n",
      "          backend=None, **kwargs\n",
      "         )\n",
      "\n",
      "The available output formats depend on the backend being used.\n",
      "\n",
      "Parameters\n",
      "----------\n",
      "fname : str or path-like or binary file-like\n",
      "    A path, or a Python file-like object, or\n",
      "    possibly some backend-dependent object such as\n",
      "    `matplotlib.backends.backend_pdf.PdfPages`.\n",
      "\n",
      "    If *format* is set, it determines the output format, and the file\n",
      "    is saved as *fname*.  Note that *fname* is used verbatim, and there\n",
      "    is no attempt to make the extension, if any, of *fname* match\n",
      "    *format*, and no extension is appended.\n",
      "\n",
      "    If *format* is not set, then the format is inferred from the\n",
      "    extension of *fname*, if there is one.  If *format* is not\n",
      "    set and *fname* has no extension, then the file is saved with\n",
      "    :rc:`savefig.format` and the appropriate extension is appended to\n",
      "    *fname*.\n",
      "\n",
      "Other Parameters\n",
      "----------------\n",
      "dpi : float or 'figure', default: :rc:`savefig.dpi`\n",
      "    The resolution in dots per inch.  If 'figure', use the figure's\n",
      "    dpi value.\n",
      "\n",
      "format : str\n",
      "    The file format, e.g. 'png', 'pdf', 'svg', ... The behavior when\n",
      "    this is unset is documented under *fname*.\n",
      "\n",
      "metadata : dict, optional\n",
      "    Key/value pairs to store in the image metadata. The supported keys\n",
      "    and defaults depend on the image format and backend:\n",
      "\n",
      "    - 'png' with Agg backend: See the parameter ``metadata`` of\n",
      "      `~.FigureCanvasAgg.print_png`.\n",
      "    - 'pdf' with pdf backend: See the parameter ``metadata`` of\n",
      "      `~.backend_pdf.PdfPages`.\n",
      "    - 'svg' with svg backend: See the parameter ``metadata`` of\n",
      "      `~.FigureCanvasSVG.print_svg`.\n",
      "    - 'eps' and 'ps' with PS backend: Only 'Creator' is supported.\n",
      "\n",
      "bbox_inches : str or `.Bbox`, default: :rc:`savefig.bbox`\n",
      "    Bounding box in inches: only the given portion of the figure is\n",
      "    saved.  If 'tight', try to figure out the tight bbox of the figure.\n",
      "\n",
      "pad_inches : float, default: :rc:`savefig.pad_inches`\n",
      "    Amount of padding around the figure when bbox_inches is 'tight'.\n",
      "\n",
      "facecolor : color or 'auto', default: :rc:`savefig.facecolor`\n",
      "    The facecolor of the figure.  If 'auto', use the current figure\n",
      "    facecolor.\n",
      "\n",
      "edgecolor : color or 'auto', default: :rc:`savefig.edgecolor`\n",
      "    The edgecolor of the figure.  If 'auto', use the current figure\n",
      "    edgecolor.\n",
      "\n",
      "backend : str, optional\n",
      "    Use a non-default backend to render the file, e.g. to render a\n",
      "    png file with the \"cairo\" backend rather than the default \"agg\",\n",
      "    or a pdf file with the \"pgf\" backend rather than the default\n",
      "    \"pdf\".  Note that the default backend is normally sufficient.  See\n",
      "    :ref:`the-builtin-backends` for a list of valid backends for each\n",
      "    file format.  Custom backends can be referenced as \"module://...\".\n",
      "\n",
      "orientation : {'landscape', 'portrait'}\n",
      "    Currently only supported by the postscript backend.\n",
      "\n",
      "papertype : str\n",
      "    One of 'letter', 'legal', 'executive', 'ledger', 'a0' through\n",
      "    'a10', 'b0' through 'b10'. Only supported for postscript\n",
      "    output.\n",
      "\n",
      "transparent : bool\n",
      "    If *True*, the Axes patches will all be transparent; the\n",
      "    Figure patch will also be transparent unless *facecolor*\n",
      "    and/or *edgecolor* are specified via kwargs.\n",
      "\n",
      "    If *False* has no effect and the color of the Axes and\n",
      "    Figure patches are unchanged (unless the Figure patch\n",
      "    is specified via the *facecolor* and/or *edgecolor* keyword\n",
      "    arguments in which case those colors are used).\n",
      "\n",
      "    The transparency of these patches will be restored to their\n",
      "    original values upon exit of this function.\n",
      "\n",
      "    This is useful, for example, for displaying\n",
      "    a plot on top of a colored background on a web page.\n",
      "\n",
      "bbox_extra_artists : list of `~matplotlib.artist.Artist`, optional\n",
      "    A list of extra artists that will be considered when the\n",
      "    tight bbox is calculated.\n",
      "\n",
      "pil_kwargs : dict, optional\n",
      "    Additional keyword arguments that are passed to\n",
      "    `PIL.Image.Image.save` when saving the figure.\n",
      "\u001b[0;31mFile:\u001b[0m      ~/opt/anaconda3/envs/mlenv/lib/python3.7/site-packages/matplotlib/pyplot.py\n",
      "\u001b[0;31mType:\u001b[0m      function\n"
     ]
    }
   ],
   "source": [
    "plt.savefig?"
   ]
  },
  {
   "cell_type": "code",
   "execution_count": 57,
   "metadata": {},
   "outputs": [
    {
     "data": {
      "image/png": "[encoded data removed]",
      "text/plain": [
       "<Figure size 1440x360 with 2 Axes>"
      ]
     },
     "metadata": {
      "needs_background": "light"
     },
     "output_type": "display_data"
    }
   ],
   "source": [
    "fig, axes = plt.subplots(nrows=1, ncols=2, figsize=(20,5))\n",
    "data['Fraud Reporting Count'].plot(ax=axes[0]); axes[0].set_title('Fraud Reporting Count')\n",
    "data['Net Operating Income(Billions)'].plot(ax=axes[1]); axes[1].set_title('Net Operating Income(Billions)')\n",
    "plt.show()\n",
    "fig.savefig('Resources/Images/plots.png',format='png')\n"
   ]
  },
  {
   "cell_type": "markdown",
   "metadata": {},
   "source": [
    "## Random reproducibility used for protyping to run multiple experiments to evaluate the model. "
   ]
  },
  {
   "cell_type": "code",
   "execution_count": 24,
   "metadata": {},
   "outputs": [],
   "source": [
    "from numpy.random import seed\n",
    "\n",
    "seed(1)\n",
    "from tensorflow import random\n",
    "\n",
    "random.set_seed(2)"
   ]
  },
  {
   "cell_type": "markdown",
   "metadata": {},
   "source": [
    "#### Feature `X` and Target `y` Data\n",
    "\n",
    "Identified quarterly timeframe through the use of `window_data()` function, to create the features set `X` and the target vector `y`. We defined the window size '4' to represent the quarter timeframe and use the column of the Fraud Reporting Count for feature and target column; to allow the model to predict the Quartertly Number Fraud Instances and Net Income. "
   ]
  },
  {
   "cell_type": "code",
   "execution_count": 25,
   "metadata": {},
   "outputs": [],
   "source": [
    "def window_data(df, window, feature_col_number, target_col_number):\n",
    "   \n",
    "    X = []\n",
    "    y = []\n",
    "    for i in range(len(df) - window):\n",
    "        features = df.iloc[i : (i + window), feature_col_number]\n",
    "        target = df.iloc[(i + window), target_col_number]\n",
    "        X.append(features)\n",
    "        y.append(target)\n",
    "    return np.array(X), np.array(y).reshape(-1, 1)"
   ]
  },
  {
   "cell_type": "code",
   "execution_count": 26,
   "metadata": {},
   "outputs": [
    {
     "name": "stdout",
     "output_type": "stream",
     "text": [
      "X sample values:\n",
      "[[[9.55160e+04 3.98000e+01]\n",
      "  [9.40840e+04 3.81000e+01]\n",
      "  [9.08680e+04 3.60000e+01]\n",
      "  [9.05660e+04 3.90000e+01]]\n",
      "\n",
      " [[9.40840e+04 3.81000e+01]\n",
      "  [9.08680e+04 3.60000e+01]\n",
      "  [9.05660e+04 3.90000e+01]\n",
      "  [9.63650e+04 4.26000e+01]]\n",
      "\n",
      " [[9.08680e+04 3.60000e+01]\n",
      "  [9.05660e+04 3.90000e+01]\n",
      "  [9.63650e+04 4.26000e+01]\n",
      "  [1.01745e+05 4.00000e+01]]] \n",
      "\n",
      "y sample values:\n",
      "[[ 96365]\n",
      " [101745]\n",
      " [105491]]\n"
     ]
    }
   ],
   "source": [
    "# Define the window size\n",
    "window_size = 4\n",
    "\n",
    "# Set the index of the feature and target columns\n",
    "feature_column = [0, 1]\n",
    "target_column = 0\n",
    "\n",
    "# Create the features (X) and target (y) data using the window_data() function.\n",
    "X, y = window_data(data, window_size, feature_column, target_column)\n",
    "\n",
    "# Print a few sample values from X and y\n",
    "print (f\"X sample values:\\n{X[:3]} \\n\")\n",
    "print (f\"y sample values:\\n{y[:3]}\")"
   ]
  },
  {
   "cell_type": "markdown",
   "metadata": {},
   "source": [
    "# Split the Data Between Training and Testing Sets "
   ]
  },
  {
   "cell_type": "code",
   "execution_count": 27,
   "metadata": {},
   "outputs": [],
   "source": [
    "split = int(0.7 * len(X))\n",
    "\n",
    "X_train = X[: split]\n",
    "\n",
    "X_test = X[split:]\n",
    "\n",
    "y_train = y[: split]\n",
    "y_test = y[split:]"
   ]
  },
  {
   "cell_type": "code",
   "execution_count": 28,
   "metadata": {},
   "outputs": [
    {
     "data": {
      "text/plain": [
       "(18, 4, 2)"
      ]
     },
     "metadata": {},
     "output_type": "display_data"
    },
    {
     "data": {
      "text/plain": [
       "(18, 1)"
      ]
     },
     "metadata": {},
     "output_type": "display_data"
    }
   ],
   "source": [
    "display(X_train.shape)\n",
    "display(y_train.shape)"
   ]
  },
  {
   "cell_type": "code",
   "execution_count": 29,
   "metadata": {},
   "outputs": [],
   "source": [
    "from sklearn.preprocessing import MinMaxScaler\n",
    "scaler = MinMaxScaler()\n",
    "\n",
    "#Fit scaler to reshaped X_Train\n",
    "num_instances, num_time_steps, num_features = X_train.shape\n",
    "X_train_reshaped = np.reshape(X_train, newshape=(-1, num_features))\n",
    "X_scaler = scaler.fit(X_train_reshaped)\n",
    "\n",
    "#Scale and reshape X_train to original shape\n",
    "X_train_scaled = X_scaler.transform(X_train_reshaped)\n",
    "X_train_scaled = np.reshape(X_train_scaled, newshape=(num_instances, num_time_steps, num_features))\n",
    "\n",
    "#Scale and reshape X_test to original shape\n",
    "num_instances, num_time_steps, num_features = X_test.shape\n",
    "X_test_reshaped = np.reshape(X_test, newshape=(-1, num_features))\n",
    "X_test_scaled = X_scaler.transform(X_test_reshaped)\n",
    "X_test_scaled = np.reshape(X_test_scaled, newshape=(num_instances, num_time_steps, num_features))\n",
    "\n",
    "#Fit scaler to y_train\n",
    "y_scaler= scaler.fit(y_train)\n",
    "\n",
    "#Scale y_train\n",
    "y_train_scaled = y_scaler.transform(y_train)\n",
    "#Scale y_test\n",
    "y_test_scaled = y_scaler.transform(y_test)"
   ]
  },
  {
   "cell_type": "code",
   "execution_count": 30,
   "metadata": {},
   "outputs": [
    {
     "data": {
      "text/plain": [
       "(18, 4, 2)"
      ]
     },
     "metadata": {},
     "output_type": "display_data"
    },
    {
     "data": {
      "text/plain": [
       "(18, 1)"
      ]
     },
     "metadata": {},
     "output_type": "display_data"
    }
   ],
   "source": [
    "display(X_train_scaled.shape)\n",
    "display(y_train_scaled.shape)"
   ]
  },
  {
   "cell_type": "markdown",
   "metadata": {},
   "source": [
    "## Build and Train the LSTM RNN"
   ]
  },
  {
   "cell_type": "code",
   "execution_count": 31,
   "metadata": {},
   "outputs": [],
   "source": [
    "# Build the LSTM model. \n",
    "# The return sequences need to be set to True if you are adding additional LSTM layers, but \n",
    "# You don't have to do this for the final layer. \n",
    "# Note: The dropouts help prevent overfitting\n",
    "# Note: The input shape is the number of time steps and the number of indicators\n",
    "# Note: Batching inputs has a different input shape of Samples/TimeSteps/Features\n",
    "model = Sequential()\n",
    "\n",
    "number_units = 20\n",
    "dropout_fraction = 0.02\n",
    "\n",
    "# Layer 1\n",
    "model.add(LSTM(\n",
    "    units=number_units*4,\n",
    "    return_sequences=True,\n",
    "    input_shape=(X_train_scaled.shape[1], X_train_scaled.shape[2]))\n",
    "    )\n",
    "#model.add(Dropout(dropout_fraction))\n",
    "# Layer 2\n",
    "model.add(LSTM(units=number_units*2, return_sequences=True))\n",
    "#model.add(Dropout(dropout_fraction))\n",
    "# Layer 3\n",
    "model.add(LSTM(units=number_units))\n",
    "#model.add(Dropout(dropout_fraction))\n",
    "# Output layer\n",
    "model.add(Dense(1))"
   ]
  },
  {
   "cell_type": "code",
   "execution_count": 32,
   "metadata": {},
   "outputs": [],
   "source": [
    "# Compile the model\n",
    "\n",
    "model.compile(optimizer=tf.keras.optimizers.Adam(learning_rate=0.001,beta_1=0.5,beta_2=0.799), loss=\"mean_squared_error\")"
   ]
  },
  {
   "cell_type": "code",
   "execution_count": 33,
   "metadata": {},
   "outputs": [
    {
     "name": "stdout",
     "output_type": "stream",
     "text": [
      "Model: \"sequential_1\"\n",
      "_________________________________________________________________\n",
      " Layer (type)                Output Shape              Param #   \n",
      "=================================================================\n",
      " lstm_3 (LSTM)               (None, 4, 80)             26560     \n",
      "                                                                 \n",
      " lstm_4 (LSTM)               (None, 4, 40)             19360     \n",
      "                                                                 \n",
      " lstm_5 (LSTM)               (None, 20)                4880      \n",
      "                                                                 \n",
      " dense_1 (Dense)             (None, 1)                 21        \n",
      "                                                                 \n",
      "=================================================================\n",
      "Total params: 50,821\n",
      "Trainable params: 50,821\n",
      "Non-trainable params: 0\n",
      "_________________________________________________________________\n"
     ]
    }
   ],
   "source": [
    "# Summarize the model\n",
    "model.summary()"
   ]
  },
  {
   "cell_type": "code",
   "execution_count": 34,
   "metadata": {},
   "outputs": [],
   "source": [
    "model_history = model.fit(X_train_scaled, y_train_scaled, epochs=50, shuffle=False, batch_size=6, verbose=0) "
   ]
  },
  {
   "cell_type": "code",
   "execution_count": 35,
   "metadata": {},
   "outputs": [
    {
     "name": "stdout",
     "output_type": "stream",
     "text": [
      "1/1 [==============================] - 2s 2s/step - loss: 0.1083\n"
     ]
    },
    {
     "data": {
      "text/plain": [
       "0.10826417058706284"
      ]
     },
     "execution_count": 35,
     "metadata": {},
     "output_type": "execute_result"
    }
   ],
   "source": [
    "# Evaluate the model\n",
    "model.evaluate(X_test_scaled, y_test_scaled)"
   ]
  },
  {
   "cell_type": "code",
   "execution_count": 36,
   "metadata": {},
   "outputs": [
    {
     "name": "stdout",
     "output_type": "stream",
     "text": [
      "1/1 [==============================] - 2s 2s/step\n",
      "1/1 [==============================] - 0s 28ms/step\n"
     ]
    },
    {
     "data": {
      "text/plain": [
       "array([[0.13724804],\n",
       "       [0.12392248],\n",
       "       [0.12707163],\n",
       "       [0.16320153],\n",
       "       [0.20556141],\n",
       "       [0.23623385],\n",
       "       [0.28987157],\n",
       "       [0.35561746],\n",
       "       [0.4394124 ],\n",
       "       [0.41485745],\n",
       "       [0.38444397],\n",
       "       [0.40159518],\n",
       "       [0.4330848 ],\n",
       "       [0.4634508 ],\n",
       "       [0.53114545],\n",
       "       [0.80937505],\n",
       "       [0.9478236 ],\n",
       "       [1.0703896 ],\n",
       "       [1.1553694 ],\n",
       "       [1.2075807 ],\n",
       "       [1.0925907 ],\n",
       "       [0.98579556],\n",
       "       [0.8771554 ],\n",
       "       [0.83086205],\n",
       "       [1.0823277 ],\n",
       "       [1.5071979 ],\n",
       "       [1.5853592 ]], dtype=float32)"
      ]
     },
     "execution_count": 36,
     "metadata": {},
     "output_type": "execute_result"
    }
   ],
   "source": [
    "# Make some predictions\n",
    "predicted = model.predict(X_train_scaled)\n",
    "predicted = np.concatenate((predicted, model.predict(X_test_scaled)))\n",
    "predicted"
   ]
  },
  {
   "cell_type": "code",
   "execution_count": 37,
   "metadata": {},
   "outputs": [],
   "source": [
    "# Recover the original prices instead of the scaled version\n",
    "predicted_count = y_scaler.inverse_transform(predicted)"
   ]
  },
  {
   "cell_type": "code",
   "execution_count": 38,
   "metadata": {},
   "outputs": [
    {
     "name": "stdout",
     "output_type": "stream",
     "text": [
      "r2_score: 0.839697950645499\n",
      "explained_variance_score: 0.8514241358726875\n",
      "mean_squared_error: 377314693.03289115\n"
     ]
    }
   ],
   "source": [
    "from sklearn.metrics import r2_score, explained_variance_score\n",
    "\n",
    "print(f\"r2_score: {r2_score(data['Fraud Reporting Count'].iloc[4:].values, predicted_count)}\" ) #1 is best\n",
    "print(f\"explained_variance_score: {explained_variance_score(data['Fraud Reporting Count'].iloc[4:].values, predicted_count)}\") #1 is best\n"
   ]
  },
  {
   "cell_type": "code",
   "execution_count": 39,
   "metadata": {},
   "outputs": [
    {
     "data": {
      "text/html": [
       "<div>\n",
       "<style scoped>\n",
       "    .dataframe tbody tr th:only-of-type {\n",
       "        vertical-align: middle;\n",
       "    }\n",
       "\n",
       "    .dataframe tbody tr th {\n",
       "        vertical-align: top;\n",
       "    }\n",
       "\n",
       "    .dataframe thead th {\n",
       "        text-align: right;\n",
       "    }\n",
       "</style>\n",
       "<table border=\"1\" class=\"dataframe\">\n",
       "  <thead>\n",
       "    <tr style=\"text-align: right;\">\n",
       "      <th></th>\n",
       "      <th>Real</th>\n",
       "      <th>Predicted</th>\n",
       "    </tr>\n",
       "    <tr>\n",
       "      <th>Year</th>\n",
       "      <th></th>\n",
       "      <th></th>\n",
       "    </tr>\n",
       "  </thead>\n",
       "  <tbody>\n",
       "    <tr>\n",
       "      <th>2015</th>\n",
       "      <td>96365</td>\n",
       "      <td>108710.875000</td>\n",
       "    </tr>\n",
       "    <tr>\n",
       "      <th>2015</th>\n",
       "      <td>101745</td>\n",
       "      <td>107512.195312</td>\n",
       "    </tr>\n",
       "    <tr>\n",
       "      <th>2015</th>\n",
       "      <td>105491</td>\n",
       "      <td>107795.476562</td>\n",
       "    </tr>\n",
       "    <tr>\n",
       "      <th>2016</th>\n",
       "      <td>108801</td>\n",
       "      <td>111045.468750</td>\n",
       "    </tr>\n",
       "    <tr>\n",
       "      <th>2016</th>\n",
       "      <td>128668</td>\n",
       "      <td>114855.867188</td>\n",
       "    </tr>\n",
       "  </tbody>\n",
       "</table>\n",
       "</div>"
      ],
      "text/plain": [
       "        Real      Predicted\n",
       "Year                       \n",
       "2015   96365  108710.875000\n",
       "2015  101745  107512.195312\n",
       "2015  105491  107795.476562\n",
       "2016  108801  111045.468750\n",
       "2016  128668  114855.867188"
      ]
     },
     "execution_count": 39,
     "metadata": {},
     "output_type": "execute_result"
    }
   ],
   "source": [
    "# Create a DataFrame of Real and Predicted values\n",
    "results = pd.DataFrame({\n",
    "    \"Real\": data[\"Fraud Reporting Count\"].iloc[4:],\n",
    "    \"Predicted\": predicted_count.ravel()\n",
    "}, index = data.iloc[4:].index) \n",
    "results.head()"
   ]
  },
  {
   "cell_type": "code",
   "execution_count": 61,
   "metadata": {},
   "outputs": [
    {
     "data": {
      "image/png": "[encoded data removed]",
      "text/plain": [
       "<Figure size 720x360 with 1 Axes>"
      ]
     },
     "metadata": {
      "needs_background": "light"
     },
     "output_type": "display_data"
    }
   ],
   "source": [
    "results_plot = results.plot(rot = 75,figsize=(10,5))\n",
    "fig = results_plot.get_figure()\n",
    "fig.savefig('Resources/Images/AkankshaModelOutputPlot.png',format='png')\n"
   ]
  },
  {
   "cell_type": "code",
   "execution_count": null,
   "metadata": {},
   "outputs": [],
   "source": []
  }
 ],
 "metadata": {
  "kernelspec": {
   "display_name": "Python 3.7.11 ('dev')",
   "language": "python",
   "name": "python3"
  },
  "language_info": {
   "codemirror_mode": {
    "name": "ipython",
    "version": 3
   },
   "file_extension": ".py",
   "mimetype": "text/x-python",
   "name": "python",
   "nbconvert_exporter": "python",
   "pygments_lexer": "ipython3",
   "version": "3.7.7"
  },
  "orig_nbformat": 4,
  "vscode": {
   "interpreter": {
    "hash": "84823099e314c3f86caf21052ad9be025dc5c0efa0e9447fea07a785397463e8"
   }
  }
 },
 "nbformat": 4,
 "nbformat_minor": 2
}
